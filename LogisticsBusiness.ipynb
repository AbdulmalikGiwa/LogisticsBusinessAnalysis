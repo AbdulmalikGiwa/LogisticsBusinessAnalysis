{
  "nbformat": 4,
  "nbformat_minor": 0,
  "metadata": {
    "colab": {
      "name": "LogisticsBusiness.ipynb",
      "provenance": [],
      "collapsed_sections": [],
      "authorship_tag": "ABX9TyN8tp/blAEg+mhXXlugvNnJ",
      "include_colab_link": true
    },
    "kernelspec": {
      "name": "python3",
      "display_name": "Python 3"
    }
  },
  "cells": [
    {
      "cell_type": "markdown",
      "metadata": {
        "id": "view-in-github",
        "colab_type": "text"
      },
      "source": [
        "<a href=\"https://colab.research.google.com/github/AbdulmalikGiwa/LogisticsBusinessAnalysis/blob/master/LogisticsBusiness.ipynb\" target=\"_parent\"><img src=\"https://colab.research.google.com/assets/colab-badge.svg\" alt=\"Open In Colab\"/></a>"
      ]
    },
    {
      "cell_type": "markdown",
      "metadata": {
        "id": "loVurC8aL9L4",
        "colab_type": "text"
      },
      "source": [
        "# Capstone project - Logistics business"
      ]
    },
    {
      "cell_type": "markdown",
      "metadata": {
        "id": "ppYKnqtUMVBI",
        "colab_type": "text"
      },
      "source": [
        "## Table of contents\n",
        "\n",
        "*   [Background/Problem Description](#introduction)\n",
        "*   [Data Section](#data)\n",
        "*   [Methodology](#methodology)\n",
        "\n",
        "*   [Conclusion](conclusion)\n",
        "\n"
      ]
    },
    {
      "cell_type": "markdown",
      "metadata": {
        "id": "EtYw47VDUA9p",
        "colab_type": "text"
      },
      "source": [
        "##Background/Problem Description <a name=\"introduction\"></a>"
      ]
    },
    {
      "cell_type": "markdown",
      "metadata": {
        "id": "xX9deIDyRZOU",
        "colab_type": "text"
      },
      "source": [
        "A logistics company focused on meal delivery from restaurants within a location is looking to expand to Canada and plans on starting the expansion with a few neighborhoods in Toronto, the company's main business model/strategy is setting up small outlets in neighborhoods and providing delivery services for restaurants within that neighborhood. The company needs to get an insight and understand the individual prospect of each neighborhood within a region in order to know which of these neighborhoods would be the best fit for their business as regards the types of outlets within each neighborhood and the potential demand for the type of service that is offered by the company. The main question to be answered is : \n",
        "\n",
        "\n",
        "*   Which neighborhood has the highest density of restaurants hence the best fit for such business?\n",
        "\n"
      ]
    },
    {
      "cell_type": "markdown",
      "metadata": {
        "id": "UIr_ghDeTiZ3",
        "colab_type": "text"
      },
      "source": [
        "## Data Section <a name=\"data\"></a>\n",
        "This is a breakdown of the data to be used in this analysis and how the data would be used. Foursquare API is a location data provider and can be used to get data on every venue/outlet within a given geolocation and the category to which the venue belongs to. The location in question for this analysis is Toronto which is the provincial capital of Ontario and the most populous city in canada. The following is a more detailed explanation:\n",
        "\n",
        "\n",
        "\n",
        "\n",
        "\n",
        "*   Neighborhoods in Toronto: A list of every neighborhood in Toronto will be obtained, either by scraping a wikipedia page or from the google dataset search.\n",
        "*   Neighborhood geographic coordinate: A list of the corresponding longitude and latitude values of each neighborhood\n",
        "*   Venues: The Foursquare API returns a list of venues within a specified radius of a given location( All neighborhoods in Toronto,Ontario in this case). A data column on every venue within 500m of each neighborhood is obtained\n",
        "*   Venues Category: The category for each venue returned is also returned from the Foursquare API.\n",
        "\n",
        "The following section here consists of importing all the necessary libraries and dataset needed for the analysis"
      ]
    },
    {
      "cell_type": "code",
      "metadata": {
        "id": "5dfpIBdAJVpB",
        "colab_type": "code",
        "colab": {}
      },
      "source": [
        "import pandas as pd\n",
        "import numpy as np\n",
        "import requests\n",
        "from bs4 import BeautifulSoup"
      ],
      "execution_count": 0,
      "outputs": []
    },
    {
      "cell_type": "markdown",
      "metadata": {
        "id": "xguCdgxYovcj",
        "colab_type": "text"
      },
      "source": [
        "After importing all necesary libraries I'll move on to collecting the required dataset, from a wikipedia page"
      ]
    },
    {
      "cell_type": "code",
      "metadata": {
        "id": "1rv1oV_NOx0V",
        "colab_type": "code",
        "outputId": "cc916a14-6837-4abd-c211-4db1998644ec",
        "colab": {
          "base_uri": "https://localhost:8080/",
          "height": 204
        }
      },
      "source": [
        "#Using BeautifulSoup,pandas and requests to read a table from the web into a dataframe\n",
        "Table_source = requests.get('https://en.wikipedia.org/wiki/List_of_postal_codes_of_Canada:_M').text\n",
        "Bs = BeautifulSoup(Table_source, 'lxml')\n",
        "Table = Bs.find('table')\n",
        "df = pd.read_html(str(Table))[0]\n",
        "df.head()"
      ],
      "execution_count": 2,
      "outputs": [
        {
          "output_type": "execute_result",
          "data": {
            "text/html": [
              "<div>\n",
              "<style scoped>\n",
              "    .dataframe tbody tr th:only-of-type {\n",
              "        vertical-align: middle;\n",
              "    }\n",
              "\n",
              "    .dataframe tbody tr th {\n",
              "        vertical-align: top;\n",
              "    }\n",
              "\n",
              "    .dataframe thead th {\n",
              "        text-align: right;\n",
              "    }\n",
              "</style>\n",
              "<table border=\"1\" class=\"dataframe\">\n",
              "  <thead>\n",
              "    <tr style=\"text-align: right;\">\n",
              "      <th></th>\n",
              "      <th>Postal Code</th>\n",
              "      <th>Borough</th>\n",
              "      <th>Neighborhood</th>\n",
              "    </tr>\n",
              "  </thead>\n",
              "  <tbody>\n",
              "    <tr>\n",
              "      <th>0</th>\n",
              "      <td>M1A</td>\n",
              "      <td>Not assigned</td>\n",
              "      <td>NaN</td>\n",
              "    </tr>\n",
              "    <tr>\n",
              "      <th>1</th>\n",
              "      <td>M2A</td>\n",
              "      <td>Not assigned</td>\n",
              "      <td>NaN</td>\n",
              "    </tr>\n",
              "    <tr>\n",
              "      <th>2</th>\n",
              "      <td>M3A</td>\n",
              "      <td>North York</td>\n",
              "      <td>Parkwoods</td>\n",
              "    </tr>\n",
              "    <tr>\n",
              "      <th>3</th>\n",
              "      <td>M4A</td>\n",
              "      <td>North York</td>\n",
              "      <td>Victoria Village</td>\n",
              "    </tr>\n",
              "    <tr>\n",
              "      <th>4</th>\n",
              "      <td>M5A</td>\n",
              "      <td>Downtown Toronto</td>\n",
              "      <td>Regent Park, Harbourfront</td>\n",
              "    </tr>\n",
              "  </tbody>\n",
              "</table>\n",
              "</div>"
            ],
            "text/plain": [
              "  Postal Code           Borough               Neighborhood\n",
              "0         M1A      Not assigned                        NaN\n",
              "1         M2A      Not assigned                        NaN\n",
              "2         M3A        North York                  Parkwoods\n",
              "3         M4A        North York           Victoria Village\n",
              "4         M5A  Downtown Toronto  Regent Park, Harbourfront"
            ]
          },
          "metadata": {
            "tags": []
          },
          "execution_count": 2
        }
      ]
    },
    {
      "cell_type": "code",
      "metadata": {
        "id": "oW8RZG21rss8",
        "colab_type": "code",
        "outputId": "09222888-506c-4555-e1d0-bcee4cde119c",
        "colab": {
          "base_uri": "https://localhost:8080/",
          "height": 204
        }
      },
      "source": [
        "#using an existing dataset consisting of latitude and longitude values for each postal code\n",
        "!wget -q -O 'lat_lng.csv'  https://cocl.us/Geospatial_data\n",
        "lat_lng = pd.read_csv('lat_lng.csv')\n",
        "lat_lng.head()"
      ],
      "execution_count": 3,
      "outputs": [
        {
          "output_type": "execute_result",
          "data": {
            "text/html": [
              "<div>\n",
              "<style scoped>\n",
              "    .dataframe tbody tr th:only-of-type {\n",
              "        vertical-align: middle;\n",
              "    }\n",
              "\n",
              "    .dataframe tbody tr th {\n",
              "        vertical-align: top;\n",
              "    }\n",
              "\n",
              "    .dataframe thead th {\n",
              "        text-align: right;\n",
              "    }\n",
              "</style>\n",
              "<table border=\"1\" class=\"dataframe\">\n",
              "  <thead>\n",
              "    <tr style=\"text-align: right;\">\n",
              "      <th></th>\n",
              "      <th>Postal Code</th>\n",
              "      <th>Latitude</th>\n",
              "      <th>Longitude</th>\n",
              "    </tr>\n",
              "  </thead>\n",
              "  <tbody>\n",
              "    <tr>\n",
              "      <th>0</th>\n",
              "      <td>M1B</td>\n",
              "      <td>43.806686</td>\n",
              "      <td>-79.194353</td>\n",
              "    </tr>\n",
              "    <tr>\n",
              "      <th>1</th>\n",
              "      <td>M1C</td>\n",
              "      <td>43.784535</td>\n",
              "      <td>-79.160497</td>\n",
              "    </tr>\n",
              "    <tr>\n",
              "      <th>2</th>\n",
              "      <td>M1E</td>\n",
              "      <td>43.763573</td>\n",
              "      <td>-79.188711</td>\n",
              "    </tr>\n",
              "    <tr>\n",
              "      <th>3</th>\n",
              "      <td>M1G</td>\n",
              "      <td>43.770992</td>\n",
              "      <td>-79.216917</td>\n",
              "    </tr>\n",
              "    <tr>\n",
              "      <th>4</th>\n",
              "      <td>M1H</td>\n",
              "      <td>43.773136</td>\n",
              "      <td>-79.239476</td>\n",
              "    </tr>\n",
              "  </tbody>\n",
              "</table>\n",
              "</div>"
            ],
            "text/plain": [
              "  Postal Code   Latitude  Longitude\n",
              "0         M1B  43.806686 -79.194353\n",
              "1         M1C  43.784535 -79.160497\n",
              "2         M1E  43.763573 -79.188711\n",
              "3         M1G  43.770992 -79.216917\n",
              "4         M1H  43.773136 -79.239476"
            ]
          },
          "metadata": {
            "tags": []
          },
          "execution_count": 3
        }
      ]
    },
    {
      "cell_type": "markdown",
      "metadata": {
        "id": "0EHJccu5UTo_",
        "colab_type": "text"
      },
      "source": [
        "###Data Cleaning"
      ]
    },
    {
      "cell_type": "markdown",
      "metadata": {
        "id": "PdBusmukUaTq",
        "colab_type": "text"
      },
      "source": [
        "There were a few missing values in the dataset scraped online, values were missing in a few rows in the neighborhood and borough columns together, these rows were dropped. Furthermore, the dataframes are merged to create a new column for the latitude and longitude values for each postal code"
      ]
    },
    {
      "cell_type": "code",
      "metadata": {
        "id": "xxx1xcA8qKW_",
        "colab_type": "code",
        "outputId": "251486a3-e0a2-4023-9206-f89821cd969e",
        "colab": {
          "base_uri": "https://localhost:8080/",
          "height": 204
        }
      },
      "source": [
        "#Dropping rows without an assigned value for the borough column\n",
        "drop_condition = df.loc[df['Borough']=='Not assigned']\n",
        "df.drop(drop_condition.index, axis=0, inplace=True)\n",
        "df = df.reset_index(drop= True)\n",
        "\n",
        "df.head()"
      ],
      "execution_count": 4,
      "outputs": [
        {
          "output_type": "execute_result",
          "data": {
            "text/html": [
              "<div>\n",
              "<style scoped>\n",
              "    .dataframe tbody tr th:only-of-type {\n",
              "        vertical-align: middle;\n",
              "    }\n",
              "\n",
              "    .dataframe tbody tr th {\n",
              "        vertical-align: top;\n",
              "    }\n",
              "\n",
              "    .dataframe thead th {\n",
              "        text-align: right;\n",
              "    }\n",
              "</style>\n",
              "<table border=\"1\" class=\"dataframe\">\n",
              "  <thead>\n",
              "    <tr style=\"text-align: right;\">\n",
              "      <th></th>\n",
              "      <th>Postal Code</th>\n",
              "      <th>Borough</th>\n",
              "      <th>Neighborhood</th>\n",
              "    </tr>\n",
              "  </thead>\n",
              "  <tbody>\n",
              "    <tr>\n",
              "      <th>0</th>\n",
              "      <td>M3A</td>\n",
              "      <td>North York</td>\n",
              "      <td>Parkwoods</td>\n",
              "    </tr>\n",
              "    <tr>\n",
              "      <th>1</th>\n",
              "      <td>M4A</td>\n",
              "      <td>North York</td>\n",
              "      <td>Victoria Village</td>\n",
              "    </tr>\n",
              "    <tr>\n",
              "      <th>2</th>\n",
              "      <td>M5A</td>\n",
              "      <td>Downtown Toronto</td>\n",
              "      <td>Regent Park, Harbourfront</td>\n",
              "    </tr>\n",
              "    <tr>\n",
              "      <th>3</th>\n",
              "      <td>M6A</td>\n",
              "      <td>North York</td>\n",
              "      <td>Lawrence Manor, Lawrence Heights</td>\n",
              "    </tr>\n",
              "    <tr>\n",
              "      <th>4</th>\n",
              "      <td>M7A</td>\n",
              "      <td>Downtown Toronto</td>\n",
              "      <td>Queen's Park, Ontario Provincial Government</td>\n",
              "    </tr>\n",
              "  </tbody>\n",
              "</table>\n",
              "</div>"
            ],
            "text/plain": [
              "  Postal Code           Borough                                 Neighborhood\n",
              "0         M3A        North York                                    Parkwoods\n",
              "1         M4A        North York                             Victoria Village\n",
              "2         M5A  Downtown Toronto                    Regent Park, Harbourfront\n",
              "3         M6A        North York             Lawrence Manor, Lawrence Heights\n",
              "4         M7A  Downtown Toronto  Queen's Park, Ontario Provincial Government"
            ]
          },
          "metadata": {
            "tags": []
          },
          "execution_count": 4
        }
      ]
    },
    {
      "cell_type": "code",
      "metadata": {
        "id": "456Ewd3HrCKD",
        "colab_type": "code",
        "outputId": "0dd0a05e-e135-405d-e0e5-f9ec72dea6a4",
        "colab": {
          "base_uri": "https://localhost:8080/",
          "height": 85
        }
      },
      "source": [
        "df.isna().sum()"
      ],
      "execution_count": 5,
      "outputs": [
        {
          "output_type": "execute_result",
          "data": {
            "text/plain": [
              "Postal Code     0\n",
              "Borough         0\n",
              "Neighborhood    0\n",
              "dtype: int64"
            ]
          },
          "metadata": {
            "tags": []
          },
          "execution_count": 5
        }
      ]
    },
    {
      "cell_type": "code",
      "metadata": {
        "id": "zMdx4p4zu_9S",
        "colab_type": "code",
        "outputId": "a651f2c1-3f77-4d7b-e177-e94a752ebb81",
        "colab": {
          "base_uri": "https://localhost:8080/",
          "height": 204
        }
      },
      "source": [
        "#Merging corresponding values in lat_lng with df\n",
        "lat_map = lat_lng.set_index('Postal Code')['Latitude'].to_dict()\n",
        "lng_map = lat_lng.set_index('Postal Code')['Longitude'].to_dict()\n",
        "df['Latitude'] = df['Postal Code'].map(lat_map)\n",
        "df['Longitude'] = df['Postal Code'].map(lng_map)\n",
        "df.head()"
      ],
      "execution_count": 6,
      "outputs": [
        {
          "output_type": "execute_result",
          "data": {
            "text/html": [
              "<div>\n",
              "<style scoped>\n",
              "    .dataframe tbody tr th:only-of-type {\n",
              "        vertical-align: middle;\n",
              "    }\n",
              "\n",
              "    .dataframe tbody tr th {\n",
              "        vertical-align: top;\n",
              "    }\n",
              "\n",
              "    .dataframe thead th {\n",
              "        text-align: right;\n",
              "    }\n",
              "</style>\n",
              "<table border=\"1\" class=\"dataframe\">\n",
              "  <thead>\n",
              "    <tr style=\"text-align: right;\">\n",
              "      <th></th>\n",
              "      <th>Postal Code</th>\n",
              "      <th>Borough</th>\n",
              "      <th>Neighborhood</th>\n",
              "      <th>Latitude</th>\n",
              "      <th>Longitude</th>\n",
              "    </tr>\n",
              "  </thead>\n",
              "  <tbody>\n",
              "    <tr>\n",
              "      <th>0</th>\n",
              "      <td>M3A</td>\n",
              "      <td>North York</td>\n",
              "      <td>Parkwoods</td>\n",
              "      <td>43.753259</td>\n",
              "      <td>-79.329656</td>\n",
              "    </tr>\n",
              "    <tr>\n",
              "      <th>1</th>\n",
              "      <td>M4A</td>\n",
              "      <td>North York</td>\n",
              "      <td>Victoria Village</td>\n",
              "      <td>43.725882</td>\n",
              "      <td>-79.315572</td>\n",
              "    </tr>\n",
              "    <tr>\n",
              "      <th>2</th>\n",
              "      <td>M5A</td>\n",
              "      <td>Downtown Toronto</td>\n",
              "      <td>Regent Park, Harbourfront</td>\n",
              "      <td>43.654260</td>\n",
              "      <td>-79.360636</td>\n",
              "    </tr>\n",
              "    <tr>\n",
              "      <th>3</th>\n",
              "      <td>M6A</td>\n",
              "      <td>North York</td>\n",
              "      <td>Lawrence Manor, Lawrence Heights</td>\n",
              "      <td>43.718518</td>\n",
              "      <td>-79.464763</td>\n",
              "    </tr>\n",
              "    <tr>\n",
              "      <th>4</th>\n",
              "      <td>M7A</td>\n",
              "      <td>Downtown Toronto</td>\n",
              "      <td>Queen's Park, Ontario Provincial Government</td>\n",
              "      <td>43.662301</td>\n",
              "      <td>-79.389494</td>\n",
              "    </tr>\n",
              "  </tbody>\n",
              "</table>\n",
              "</div>"
            ],
            "text/plain": [
              "  Postal Code           Borough  ...   Latitude  Longitude\n",
              "0         M3A        North York  ...  43.753259 -79.329656\n",
              "1         M4A        North York  ...  43.725882 -79.315572\n",
              "2         M5A  Downtown Toronto  ...  43.654260 -79.360636\n",
              "3         M6A        North York  ...  43.718518 -79.464763\n",
              "4         M7A  Downtown Toronto  ...  43.662301 -79.389494\n",
              "\n",
              "[5 rows x 5 columns]"
            ]
          },
          "metadata": {
            "tags": []
          },
          "execution_count": 6
        }
      ]
    },
    {
      "cell_type": "code",
      "metadata": {
        "id": "dF3g6CVmveTR",
        "colab_type": "code",
        "outputId": "e2041e44-7e1e-4f24-dd34-7c6773a252f1",
        "colab": {
          "base_uri": "https://localhost:8080/",
          "height": 204
        }
      },
      "source": [
        "df2 = df.loc[df['Borough'].str.contains('Toronto')]\n",
        "df2 = df2.reset_index(drop=True)\n",
        "df2.head()"
      ],
      "execution_count": 7,
      "outputs": [
        {
          "output_type": "execute_result",
          "data": {
            "text/html": [
              "<div>\n",
              "<style scoped>\n",
              "    .dataframe tbody tr th:only-of-type {\n",
              "        vertical-align: middle;\n",
              "    }\n",
              "\n",
              "    .dataframe tbody tr th {\n",
              "        vertical-align: top;\n",
              "    }\n",
              "\n",
              "    .dataframe thead th {\n",
              "        text-align: right;\n",
              "    }\n",
              "</style>\n",
              "<table border=\"1\" class=\"dataframe\">\n",
              "  <thead>\n",
              "    <tr style=\"text-align: right;\">\n",
              "      <th></th>\n",
              "      <th>Postal Code</th>\n",
              "      <th>Borough</th>\n",
              "      <th>Neighborhood</th>\n",
              "      <th>Latitude</th>\n",
              "      <th>Longitude</th>\n",
              "    </tr>\n",
              "  </thead>\n",
              "  <tbody>\n",
              "    <tr>\n",
              "      <th>0</th>\n",
              "      <td>M5A</td>\n",
              "      <td>Downtown Toronto</td>\n",
              "      <td>Regent Park, Harbourfront</td>\n",
              "      <td>43.654260</td>\n",
              "      <td>-79.360636</td>\n",
              "    </tr>\n",
              "    <tr>\n",
              "      <th>1</th>\n",
              "      <td>M7A</td>\n",
              "      <td>Downtown Toronto</td>\n",
              "      <td>Queen's Park, Ontario Provincial Government</td>\n",
              "      <td>43.662301</td>\n",
              "      <td>-79.389494</td>\n",
              "    </tr>\n",
              "    <tr>\n",
              "      <th>2</th>\n",
              "      <td>M5B</td>\n",
              "      <td>Downtown Toronto</td>\n",
              "      <td>Garden District, Ryerson</td>\n",
              "      <td>43.657162</td>\n",
              "      <td>-79.378937</td>\n",
              "    </tr>\n",
              "    <tr>\n",
              "      <th>3</th>\n",
              "      <td>M5C</td>\n",
              "      <td>Downtown Toronto</td>\n",
              "      <td>St. James Town</td>\n",
              "      <td>43.651494</td>\n",
              "      <td>-79.375418</td>\n",
              "    </tr>\n",
              "    <tr>\n",
              "      <th>4</th>\n",
              "      <td>M4E</td>\n",
              "      <td>East Toronto</td>\n",
              "      <td>The Beaches</td>\n",
              "      <td>43.676357</td>\n",
              "      <td>-79.293031</td>\n",
              "    </tr>\n",
              "  </tbody>\n",
              "</table>\n",
              "</div>"
            ],
            "text/plain": [
              "  Postal Code           Borough  ...   Latitude  Longitude\n",
              "0         M5A  Downtown Toronto  ...  43.654260 -79.360636\n",
              "1         M7A  Downtown Toronto  ...  43.662301 -79.389494\n",
              "2         M5B  Downtown Toronto  ...  43.657162 -79.378937\n",
              "3         M5C  Downtown Toronto  ...  43.651494 -79.375418\n",
              "4         M4E      East Toronto  ...  43.676357 -79.293031\n",
              "\n",
              "[5 rows x 5 columns]"
            ]
          },
          "metadata": {
            "tags": []
          },
          "execution_count": 7
        }
      ]
    },
    {
      "cell_type": "markdown",
      "metadata": {
        "id": "rbXuWQhIVoBh",
        "colab_type": "text"
      },
      "source": [
        "##Methodology <a name=\"methodology\"></a>"
      ]
    },
    {
      "cell_type": "markdown",
      "metadata": {
        "id": "TCpcPoG7WJ7F",
        "colab_type": "text"
      },
      "source": [
        "The Foursquare API was used in getting all the venues around each postal code and the category each venue belongs to. The request made to the Foursquare API wasn’t straightforward since the API returns a json file comprising of other features asides the required ones, a few tweaks were made to filter the results from the request leaving only the needed features in merged with other existing features to form a new dataframe."
      ]
    },
    {
      "cell_type": "code",
      "metadata": {
        "id": "5KeFUQ2ywDUb",
        "colab_type": "code",
        "outputId": "576a8d52-d101-4d20-a5c3-cc8c83057102",
        "colab": {
          "base_uri": "https://localhost:8080/",
          "height": 34
        }
      },
      "source": [
        "# This is to get the latitide and longitude values of toronta\n",
        "from geopy.geocoders import Nominatim\n",
        "address= 'Toronto, Ontario'\n",
        "geolocator = Nominatim(user_agent='toronto_explorer')\n",
        "Location = geolocator.geocode(address)\n",
        "Latitude = Location.latitude\n",
        "Longitude= Location.longitude \n",
        "print('The coordinates of toronto are {},{}'.format(Latitude,Longitude))"
      ],
      "execution_count": 8,
      "outputs": [
        {
          "output_type": "stream",
          "text": [
            "The coordinates of toronto are 43.6534817,-79.3839347\n"
          ],
          "name": "stdout"
        }
      ]
    },
    {
      "cell_type": "code",
      "metadata": {
        "id": "T_8dhKdzk_QG",
        "colab_type": "code",
        "colab": {
          "base_uri": "https://localhost:8080/",
          "height": 763
        },
        "outputId": "ab4969d5-7801-4aba-b177-295d19710bf2"
      },
      "source": [
        "import folium\n",
        "Neighborhoods_map = folium.Map(location=[Latitude,Longitude], zoom_start=11)\n",
        "for  neigh_lat, neigh_lng, neigh_name in zip(df2['Latitude'],df2['Longitude'],df2['Neighborhood']) :\n",
        "  Label = folium.Popup(neigh_name, parse_html=True)\n",
        "  folium.CircleMarker([neigh_lat,neigh_lng],\n",
        "                radius=4,\n",
        "                popup=Label,\n",
        "                color='blue',\n",
        "                fill=True,\n",
        "                fill_color='#3186cc',\n",
        "                fill_opacity=0.7).add_to(Neighborhoods_map)\n",
        "\n",
        "Neighborhoods_map"
      ],
      "execution_count": 9,
      "outputs": [
        {
          "output_type": "execute_result",
          "data": {
            "text/html": [
              "<div style=\"width:100%;\"><div style=\"position:relative;width:100%;height:0;padding-bottom:60%;\"><span style=\"color:#565656\">Make this Notebook Trusted to load map: File -> Trust Notebook</span><iframe src=\"about:blank\" style=\"position:absolute;width:100%;height:100%;left:0;top:0;border:none !important;\" data-html=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 onload=\"this.contentDocument.open();this.contentDocument.write(atob(this.getAttribute('data-html')));this.contentDocument.close();\" allowfullscreen webkitallowfullscreen mozallowfullscreen></iframe></div></div>"
            ],
            "text/plain": [
              "<folium.folium.Map at 0x7f9c4b9848d0>"
            ]
          },
          "metadata": {
            "tags": []
          },
          "execution_count": 9
        }
      ]
    },
    {
      "cell_type": "code",
      "metadata": {
        "id": "HoC-O9G1FkeX",
        "colab_type": "code",
        "colab": {
          "base_uri": "https://localhost:8080/",
          "height": 763
        },
        "outputId": "5c101c88-46ac-4bb8-c64d-b41519bb0c78"
      },
      "source": [
        "import folium\n",
        "Neighborhoods_map_total = folium.Map(location=[Latitude,Longitude], zoom_start=11)\n",
        "for  allneigh_lat, allneigh_lng, allneigh_name in zip(df['Latitude'],df['Longitude'],df['Neighborhood']) :\n",
        "  Label = folium.Popup(allneigh_name, parse_html=True)\n",
        "  folium.CircleMarker([allneigh_lat,allneigh_lng],\n",
        "                radius=4,\n",
        "                popup=Label,\n",
        "                color='blue',\n",
        "                fill=True,\n",
        "                fill_color='#3186cc',\n",
        "                fill_opacity=0.7).add_to(Neighborhoods_map_total)\n",
        "\n",
        "Neighborhoods_map_total"
      ],
      "execution_count": 10,
      "outputs": [
        {
          "output_type": "execute_result",
          "data": {
            "text/html": [
              "<div style=\"width:100%;\"><div style=\"position:relative;width:100%;height:0;padding-bottom:60%;\"><span style=\"color:#565656\">Make this Notebook Trusted to load map: File -> Trust Notebook</span><iframe src=\"about:blank\" style=\"position:absolute;width:100%;height:100%;left:0;top:0;border:none !important;\" data-html=PCFET0NUWVBFIGh0bWw+CjxoZWFkPiAgICAKICAgIDxtZXRhIGh0dHAtZXF1aXY9ImNvbnRlbnQtdHlwZSIgY29udGVudD0idGV4dC9odG1sOyBjaGFyc2V0PVVURi04IiAvPgogICAgPHNjcmlwdD5MX1BSRUZFUl9DQU5WQVM9ZmFsc2U7IExfTk9fVE9VQ0g9ZmFsc2U7IExfRElTQUJMRV8zRD1mYWxzZTs8L3NjcmlwdD4KICAgIDxzY3JpcHQgc3JjPSJodHRwczovL2Nkbi5qc2RlbGl2ci5uZXQvbnBtL2xlYWZsZXRAMS40LjAvZGlzdC9sZWFmbGV0LmpzIj48L3NjcmlwdD4KICAgIDxzY3JpcHQgc3JjPSJodHRwczovL2NvZGUuanF1ZXJ5LmNvbS9qcXVlcnktMS4xMi40Lm1pbi5qcyI+PC9zY3JpcHQ+CiAgICA8c2NyaXB0IHNyYz0iaHR0cHM6Ly9tYXhjZG4uYm9vdHN0cmFwY2RuLmNvbS9ib290c3RyYXAvMy4yLjAvanMvYm9vdHN0cmFwLm1pbi5qcyI+PC9zY3JpcHQ+CiAgICA8c2NyaXB0IHNyYz0iaHR0cHM6Ly9jZG5qcy5jbG91ZGZsYXJlLmNvbS9hamF4L2xpYnMvTGVhZmxldC5hd2Vzb21lLW1hcmtlcnMvMi4wLjIvbGVhZmxldC5hd2Vzb21lLW1hcmtlcnMuanMiPjwvc2NyaXB0PgogICAgPGxpbmsgcmVsPSJzdHlsZXNoZWV0IiBocmVmPSJodHRwczovL2Nkbi5qc2RlbGl2ci5uZXQvbnBtL2xlYWZsZXRAMS40LjAvZGlzdC9sZWFmbGV0LmNzcyIvPgogICAgPGxpbmsgcmVsPSJzdHlsZXNoZWV0IiBocmVmPSJodHRwczovL21heGNkbi5ib290c3RyYXBjZG4uY29tL2Jvb3RzdHJhcC8zLjIuMC9jc3MvYm9vdHN0cmFwLm1pbi5jc3MiLz4KICAgIDxsaW5rIHJlbD0ic3R5bGVzaGVldCIgaHJlZj0iaHR0cHM6Ly9tYXhjZG4uYm9vdHN0cmFwY2RuLmNvbS9ib290c3RyYXAvMy4yLjAvY3NzL2Jvb3RzdHJhcC10aGVtZS5taW4uY3NzIi8+CiAgICA8bGluayByZWw9InN0eWxlc2hlZXQiIGhyZWY9Imh0dHBzOi8vbWF4Y2RuLmJvb3RzdHJhcGNkbi5jb20vZm9udC1hd2Vzb21lLzQuNi4zL2Nzcy9mb250LWF3ZXNvbWUubWluLmNzcyIvPgogICAgPGxpbmsgcmVsPSJzdHlsZXNoZWV0IiBocmVmPSJodHRwczovL2NkbmpzLmNsb3VkZmxhcmUuY29tL2FqYXgvbGlicy9MZWFmbGV0LmF3ZXNvbWUtbWFya2Vycy8yLjAuMi9sZWFmbGV0LmF3ZXNvbWUtbWFya2Vycy5jc3MiLz4KICAgIDxsaW5rIHJlbD0ic3R5bGVzaGVldCIgaHJlZj0iaHR0cHM6Ly9yYXdjZG4uZ2l0aGFjay5jb20vcHl0aG9uLXZpc3VhbGl6YXRpb24vZm9saXVtL21hc3Rlci9mb2xpdW0vdGVtcGxhdGVzL2xlYWZsZXQuYXdlc29tZS5yb3RhdGUuY3NzIi8+CiAgICA8c3R5bGU+aHRtbCwgYm9keSB7d2lkdGg6IDEwMCU7aGVpZ2h0OiAxMDAlO21hcmdpbjogMDtwYWRkaW5nOiAwO308L3N0eWxlPgogICAgPHN0eWxlPiNtYXAge3Bvc2l0aW9uOmFic29sdXRlO3RvcDowO2JvdHRvbTowO3JpZ2h0OjA7bGVmdDowO308L3N0eWxlPgogICAgCiAgICA8bWV0YSBuYW1lPSJ2aWV3cG9ydCIgY29udGVudD0id2lkdGg9ZGV2aWNlLXdpZHRoLAogICAgICAgIGluaXRpYWwtc2NhbGU9MS4wLCBtYXhpbXVtLXNjYWxlPTEuMCwgdXNlci1zY2FsYWJsZT1ubyIgLz4KICAgIDxzdHlsZT4jbWFwX2IwZjgxMzNhNDZhMTQ4N2FhZDBjMTkxZWU0ZmYxZTMzIHsKICAgICAgICBwb3NpdGlvbjogcmVsYXRpdmU7CiAgICAgICAgd2lkdGg6IDEwMC4wJTsKICAgICAgICBoZWlnaHQ6IDEwMC4wJTsKICAgICAgICBsZWZ0OiAwLjAlOwogICAgICAgIHRvcDogMC4wJTsKICAgICAgICB9CiAgICA8L3N0eWxlPgo8L2hlYWQ+Cjxib2R5PiAgICAKICAgIAogICAgPGRpdiBjbGFzcz0iZm9saXVtLW1hcCIgaWQ9Im1hcF9iMGY4MTMzYTQ2YTE0ODdhYWQwYzE5MWVlNGZmMWUzMyIgPjwvZGl2Pgo8L2JvZHk+CjxzY3JpcHQ+ICAgIAogICAgCiAgICAKICAgICAgICB2YXIgYm91bmRzID0gbnVsbDsKICAgIAoKICAgIHZhciBtYXBfYjBmODEzM2E0NmExNDg3YWFkMGMxOTFlZTRmZjFlMzMgPSBMLm1hcCgKICAgICAgICAnbWFwX2IwZjgxMzNhNDZhMTQ4N2FhZDBjMTkxZWU0ZmYxZTMzJywgewogICAgICAgIGNlbnRlcjogWzQzLjY1MzQ4MTcsIC03OS4zODM5MzQ3XSwKICAgICAgICB6b29tOiAxMSwKICAgICAgICBtYXhCb3VuZHM6IGJvdW5kcywKICAgICAgICBsYXllcnM6IFtdLAogICAgICAgIHdvcmxkQ29weUp1bXA6IGZhbHNlLAogICAgICAgIGNyczogTC5DUlMuRVBTRzM4NTcsCiAgICAgICAgem9vbUNvbnRyb2w6IHRydWUsCiAgICAgICAgfSk7CgoKICAgIAogICAgdmFyIHRpbGVfbGF5ZXJfNmZhZDc3YmMwODY2NGY4ZGJmYmY3OThhNTA5ODNmZGMgPSBMLnRpbGVMYXllcigKICAgICAgICAnaHR0cHM6Ly97c30udGlsZS5vcGVuc3RyZWV0bWFwLm9yZy97en0ve3h9L3t5fS5wbmcnLAogICAgICAgIHsKICAgICAgICAiYXR0cmlidXRpb24iOiBudWxsLAogICAgICAgICJkZXRlY3RSZXRpbmEiOiBmYWxzZSwKICAgICAgICAibWF4TmF0aXZlWm9vbSI6IDE4LAogICAgICAgICJtYXhab29tIjogMTgsCiAgICAgICAgIm1pblpvb20iOiAwLAogICAgICAgICJub1dyYXAiOiBmYWxzZSwKICAgICAgICAib3BhY2l0eSI6IDEsCiAgICAgICAgInN1YmRvbWFpbnMiOiAiYWJjIiwKICAgICAgICAidG1zIjogZmFsc2UKfSkuYWRkVG8obWFwX2IwZjgxMzNhNDZhMTQ4N2FhZDBjMTkxZWU0ZmYxZTMzKTsKICAgIAogICAgICAgICAgICB2YXIgY2lyY2xlX21hcmtlcl82YjQyODA5Y2IyMTc0MmE4ODhiNjVhNDlkNzI1NmNlMyA9IEwuY2lyY2xlTWFya2VyKAogICAgICAgICAgICAgICAgWzQzLjc1MzI1ODYsIC03OS4zMjk2NTY1XSwKICAgICAgICAgICAgICAgIHsKICAiYnViYmxpbmdNb3VzZUV2ZW50cyI6IHRydWUsCiAgImNvbG9yIjogImJsdWUiLAogICJkYXNoQXJyYXkiOiBudWxsLAogICJkYXNoT2Zmc2V0IjogbnVsbCwKICAiZmlsbCI6IHRydWUsCiAgImZpbGxDb2xvciI6ICIjMzE4NmNjIiwKICAiZmlsbE9wYWNpdHkiOiAwLjcsCiAgImZpbGxSdWxlIjogImV2ZW5vZGQiLAogICJsaW5lQ2FwIjogInJvdW5kIiwKICAibGluZUpvaW4iOiAicm91bmQiLAogICJvcGFjaXR5IjogMS4wLAogICJyYWRpdXMiOiA0LAogICJzdHJva2UiOiB0cnVlLAogICJ3ZWlnaHQiOiAzCn0KICAgICAgICAgICAgICAgICkKICAgICAgICAgICAgICAgIC5hZGRUbyhtYXBfYjBmODEzM2E0NmExNDg3YWFkMGMxOTFlZTRmZjFlMzMpOwogICAgICAgICAgICAKICAgIAogICAgICAgICAgICB2YXIgcG9wdXBfZDU1YzY4NDljN2NiNGZiNmE1ZTlhY2M4NDhjNzIyM2YgPSBMLnBvcHVwKHttYXhXaWR0aDogJzEwMCUnCiAgICAgICAgICAgIAogICAgICAgICAgICB9KTsKCiAgICAgICAgICAgIAogICAgICAgICAgICAgICAgdmFyIGh0bWxfNzJiNDlkMWMxNWNkNGQ5NWFhM2Y3MzgxNjljODQxMTIgPSAkKGA8ZGl2IGlkPSJodG1sXzcyYjQ5ZDFjMTVjZDRkOTVhYTNmNzM4MTY5Yzg0MTEyIiBzdHlsZT0id2lkdGg6IDEwMC4wJTsgaGVpZ2h0OiAxMDAuMCU7Ij5QYXJrd29vZHM8L2Rpdj5gKVswXTsKICAgICAgICAgICAgICAgIHBvcHVwX2Q1NWM2ODQ5YzdjYjRmYjZhNWU5YWNjODQ4YzcyMjNmLnNldENvbnRlbnQoaHRtbF83MmI0OWQxYzE1Y2Q0ZDk1YWEzZjczODE2OWM4NDExMik7CiAgICAgICAgICAgIAoKICAgICAgICAgICAgY2lyY2xlX21hcmtlcl82YjQyODA5Y2IyMTc0MmE4ODhiNjVhNDlkNzI1NmNlMy5iaW5kUG9wdXAocG9wdXBfZDU1YzY4NDljN2NiNGZiNmE1ZTlhY2M4NDhjNzIyM2YpCiAgICAgICAgICAgIDsKCiAgICAgICAgICAgIAogICAgICAgIAogICAgCiAgICAgICAgICAgIHZhciBjaXJjbGVfbWFya2VyXzI5NTczZTcwZmQxMzQyODY4YjBmNjQ3YTE4N2FkZTM0ID0gTC5jaXJjbGVNYXJrZXIoCiAgICAgICAgICAgICAgICBbNDMuNzI1ODgyMjk5OTk5OTk1LCAtNzkuMzE1NTcxNTk5OTk5OThdLAogICAgICAgICAgICAgICAgewogICJidWJibGluZ01vdXNlRXZlbnRzIjogdHJ1ZSwKICAiY29sb3IiOiAiYmx1ZSIsCiAgImRhc2hBcnJheSI6IG51bGwsCiAgImRhc2hPZmZzZXQiOiBudWxsLAogICJmaWxsIjogdHJ1ZSwKICAiZmlsbENvbG9yIjogIiMzMTg2Y2MiLAogICJmaWxsT3BhY2l0eSI6IDAuNywKICAiZmlsbFJ1bGUiOiAiZXZlbm9kZCIsCiAgImxpbmVDYXAiOiAicm91bmQiLAogICJsaW5lSm9pbiI6ICJyb3VuZCIsCiAgIm9wYWNpdHkiOiAxLjAsCiAgInJhZGl1cyI6IDQsCiAgInN0cm9rZSI6IHRydWUsCiAgIndlaWdodCI6IDMKfQogICAgICAgICAgICAgICAgKQogICAgICAgICAgICAgICAgLmFkZFRvKG1hcF9iMGY4MTMzYTQ2YTE0ODdhYWQwYzE5MWVlNGZmMWUzMyk7CiAgICAgICAgICAgIAogICAgCiAgICAgICAgICAgIHZhciBwb3B1cF9jMTk3OWZjNjgxNDY0NGEzYWZmMDZhYWFiOWI0MzViYiA9IEwucG9wdXAoe21heFdpZHRoOiAnMTAwJScKICAgICAgICAgICAgCiAgICAgICAgICAgIH0pOwoKICAgICAgICAgICAgCiAgICAgICAgICAgICAgICB2YXIgaHRtbF81NDJiMjQ0MTEyMjg0MDA1YjMzMWZlN2JhMmIxZDgyNyA9ICQoYDxkaXYgaWQ9Imh0bWxfNTQyYjI0NDExMjI4NDAwNWIzMzFmZTdiYTJiMWQ4MjciIHN0eWxlPSJ3aWR0aDogMTAwLjAlOyBoZWlnaHQ6IDEwMC4wJTsiPlZpY3RvcmlhIFZpbGxhZ2U8L2Rpdj5gKVswXTsKICAgICAgICAgICAgICAgIHBvcHVwX2MxOTc5ZmM2ODE0NjQ0YTNhZmYwNmFhYWI5YjQzNWJiLnNldENvbnRlbnQoaHRtbF81NDJiMjQ0MTEyMjg0MDA1YjMzMWZlN2JhMmIxZDgyNyk7CiAgICAgICAgICAgIAoKICAgICAgICAgICAgY2lyY2xlX21hcmtlcl8yOTU3M2U3MGZkMTM0Mjg2OGIwZjY0N2ExODdhZGUzNC5iaW5kUG9wdXAocG9wdXBfYzE5NzlmYzY4MTQ2NDRhM2FmZjA2YWFhYjliNDM1YmIpCiAgICAgICAgICAgIDsKCiAgICAgICAgICAgIAogICAgICAgIAogICAgCiAgICAgICAgICAgIHZhciBjaXJjbGVfbWFya2VyXzgwNDg1MWY3MmNkZDQxOWZhNjAyNWJlNjNiNGM2MDZkID0gTC5jaXJjbGVNYXJrZXIoCiAgICAgICAgICAgICAgICBbNDMuNjU0MjU5OSwgLTc5LjM2MDYzNTldLAogICAgICAgICAgICAgICAgewogICJidWJibGluZ01vdXNlRXZlbnRzIjogdHJ1ZSwKICAiY29sb3IiOiAiYmx1ZSIsCiAgImRhc2hBcnJheSI6IG51bGwsCiAgImRhc2hPZmZzZXQiOiBudWxsLAogICJmaWxsIjogdHJ1ZSwKICAiZmlsbENvbG9yIjogIiMzMTg2Y2MiLAogICJmaWxsT3BhY2l0eSI6IDAuNywKICAiZmlsbFJ1bGUiOiAiZXZlbm9kZCIsCiAgImxpbmVDYXAiOiAicm91bmQiLAogICJsaW5lSm9pbiI6ICJyb3VuZCIsCiAgIm9wYWNpdHkiOiAxLjAsCiAgInJhZGl1cyI6IDQsCiAgInN0cm9rZSI6IHRydWUsCiAgIndlaWdodCI6IDMKfQogICAgICAgICAgICAgICAgKQogICAgICAgICAgICAgICAgLmFkZFRvKG1hcF9iMGY4MTMzYTQ2YTE0ODdhYWQwYzE5MWVlNGZmMWUzMyk7CiAgICAgICAgICAgIAogICAgCiAgICAgICAgICAgIHZhciBwb3B1cF8xZmZmZjJiNjkwMmM0MTg1YmNlZDJjOTI0OTA2ZmExNiA9IEwucG9wdXAoe21heFdpZHRoOiAnMTAwJScKICAgICAgICAgICAgCiAgICAgICAgICAgIH0pOwoKICAgICAgICAgICAgCiAgICAgICAgICAgICAgICB2YXIgaHRtbF9lNDc2MmM2NWI0M2Q0NjgwYmQ0ZDA3YzdmODBjOWNhNSA9ICQoYDxkaXYgaWQ9Imh0bWxfZTQ3NjJjNjViNDNkNDY4MGJkNGQwN2M3ZjgwYzljYTUiIHN0eWxlPSJ3aWR0aDogMTAwLjAlOyBoZWlnaHQ6IDEwMC4wJTsiPlJlZ2VudCBQYXJrLCBIYXJib3VyZnJvbnQ8L2Rpdj5gKVswXTsKICAgICAgICAgICAgICAgIHBvcHVwXzFmZmZmMmI2OTAyYzQxODViY2VkMmM5MjQ5MDZmYTE2LnNldENvbnRlbnQoaHRtbF9lNDc2MmM2NWI0M2Q0NjgwYmQ0ZDA3YzdmODBjOWNhNSk7CiAgICAgICAgICAgIAoKICAgICAgICAgICAgY2lyY2xlX21hcmtlcl84MDQ4NTFmNzJjZGQ0MTlmYTYwMjViZTYzYjRjNjA2ZC5iaW5kUG9wdXAocG9wdXBfMWZmZmYyYjY5MDJjNDE4NWJjZWQyYzkyNDkwNmZhMTYpCiAgICAgICAgICAgIDsKCiAgICAgICAgICAgIAogICAgICAgIAogICAgCiAgICAgICAgICAgIHZhciBjaXJjbGVfbWFya2VyXzdhNTU4MGQ1MmExZjQ4N2M5MmJmMmFiMjhkMGYzYzllID0gTC5jaXJjbGVNYXJrZXIoCiAgICAgICAgICAgICAgICBbNDMuNzE4NTE3OTk5OTk5OTk2LCAtNzkuNDY0NzYzMjk5OTk5OTldLAogICAgICAgICAgICAgICAgewogICJidWJibGluZ01vdXNlRXZlbnRzIjogdHJ1ZSwKICAiY29sb3IiOiAiYmx1ZSIsCiAgImRhc2hBcnJheSI6IG51bGwsCiAgImRhc2hPZmZzZXQiOiBudWxsLAogICJmaWxsIjogdHJ1ZSwKICAiZmlsbENvbG9yIjogIiMzMTg2Y2MiLAogICJmaWxsT3BhY2l0eSI6IDAuNywKICAiZmlsbFJ1bGUiOiAiZXZlbm9kZCIsCiAgImxpbmVDYXAiOiAicm91bmQiLAogICJsaW5lSm9pbiI6ICJyb3VuZCIsCiAgIm9wYWNpdHkiOiAxLjAsCiAgInJhZGl1cyI6IDQsCiAgInN0cm9rZSI6IHRydWUsCiAgIndlaWdodCI6IDMKfQogICAgICAgICAgICAgICAgKQogICAgICAgICAgICAgICAgLmFkZFRvKG1hcF9iMGY4MTMzYTQ2YTE0ODdhYWQwYzE5MWVlNGZmMWUzMyk7CiAgICAgICAgICAgIAogICAgCiAgICAgICAgICAgIHZhciBwb3B1cF8xOTUyNTU2Y2ZiN2Y0ZDhiYjhhZDIxNjYxODMwNmVlMiA9IEwucG9wdXAoe21heFdpZHRoOiAnMTAwJScKICAgICAgICAgICAgCiAgICAgICAgICAgIH0pOwoKICAgICAgICAgICAgCiAgICAgICAgICAgICAgICB2YXIgaHRtbF82OWNkMjY3YzE2OTQ0N2ZkYjhhODlkNDc2NTNkZTgyYyA9ICQoYDxkaXYgaWQ9Imh0bWxfNjljZDI2N2MxNjk0NDdmZGI4YTg5ZDQ3NjUzZGU4MmMiIHN0eWxlPSJ3aWR0aDogMTAwLjAlOyBoZWlnaHQ6IDEwMC4wJTsiPkxhd3JlbmNlIE1hbm9yLCBMYXdyZW5jZSBIZWlnaHRzPC9kaXY+YClbMF07CiAgICAgICAgICAgICAgICBwb3B1cF8xOTUyNTU2Y2ZiN2Y0ZDhiYjhhZDIxNjYxODMwNmVlMi5zZXRDb250ZW50KGh0bWxfNjljZDI2N2MxNjk0NDdmZGI4YTg5ZDQ3NjUzZGU4MmMpOwogICAgICAgICAgICAKCiAgICAgICAgICAgIGNpcmNsZV9tYXJrZXJfN2E1NTgwZDUyYTFmNDg3YzkyYmYyYWIyOGQwZjNjOWUuYmluZFBvcHVwKHBvcHVwXzE5NTI1NTZjZmI3ZjRkOGJiOGFkMjE2NjE4MzA2ZWUyKQogICAgICAgICAgICA7CgogICAgICAgICAgICAKICAgICAgICAKICAgIAogICAgICAgICAgICB2YXIgY2lyY2xlX21hcmtlcl8zMzVjMGQ4Yzg0ZGQ0NzdjYTEzNTM0NDU5Yzc0YzM3MCA9IEwuY2lyY2xlTWFya2VyKAogICAgICAgICAgICAgICAgWzQzLjY2MjMwMTUsIC03OS4zODk0OTM4XSwKICAgICAgICAgICAgICAgIHsKICAiYnViYmxpbmdNb3VzZUV2ZW50cyI6IHRydWUsCiAgImNvbG9yIjogImJsdWUiLAogICJkYXNoQXJyYXkiOiBudWxsLAogICJkYXNoT2Zmc2V0IjogbnVsbCwKICAiZmlsbCI6IHRydWUsCiAgImZpbGxDb2xvciI6ICIjMzE4NmNjIiwKICAiZmlsbE9wYWNpdHkiOiAwLjcsCiAgImZpbGxSdWxlIjogImV2ZW5vZGQiLAogICJsaW5lQ2FwIjogInJvdW5kIiwKICAibGluZUpvaW4iOiAicm91bmQiLAogICJvcGFjaXR5IjogMS4wLAogICJyYWRpdXMiOiA0LAogICJzdHJva2UiOiB0cnVlLAogICJ3ZWlnaHQiOiAzCn0KICAgICAgICAgICAgICAgICkKICAgICAgICAgICAgICAgIC5hZGRUbyhtYXBfYjBmODEzM2E0NmExNDg3YWFkMGMxOTFlZTRmZjFlMzMpOwogICAgICAgICAgICAKICAgIAogICAgICAgICAgICB2YXIgcG9wdXBfZDllOWQyY2RmYzMzNDVkNjkxNGYyNjYzNDU2ODIwMDIgPSBMLnBvcHVwKHttYXhXaWR0aDogJzEwMCUnCiAgICAgICAgICAgIAogICAgICAgICAgICB9KTsKCiAgICAgICAgICAgIAogICAgICAgICAgICAgICAgdmFyIGh0bWxfY2ZiY2YwNTFkZmVlNDlhMzk4NGNmOTI5NWRjYTlhNzggPSAkKGA8ZGl2IGlkPSJodG1sX2NmYmNmMDUxZGZlZTQ5YTM5ODRjZjkyOTVkY2E5YTc4IiBzdHlsZT0id2lkdGg6IDEwMC4wJTsgaGVpZ2h0OiAxMDAuMCU7Ij5RdWVlbiYjMzk7cyBQYXJrLCBPbnRhcmlvIFByb3ZpbmNpYWwgR292ZXJubWVudDwvZGl2PmApWzBdOwogICAgICAgICAgICAgICAgcG9wdXBfZDllOWQyY2RmYzMzNDVkNjkxNGYyNjYzNDU2ODIwMDIuc2V0Q29udGVudChodG1sX2NmYmNmMDUxZGZlZTQ5YTM5ODRjZjkyOTVkY2E5YTc4KTsKICAgICAgICAgICAgCgogICAgICAgICAgICBjaXJjbGVfbWFya2VyXzMzNWMwZDhjODRkZDQ3N2NhMTM1MzQ0NTljNzRjMzcwLmJpbmRQb3B1cChwb3B1cF9kOWU5ZDJjZGZjMzM0NWQ2OTE0ZjI2NjM0NTY4MjAwMikKICAgICAgICAgICAgOwoKICAgICAgICAgICAgCiAgICAgICAgCiAgICAKICAgICAgICAgICAgdmFyIGNpcmNsZV9tYXJrZXJfMmViYzM1YmNmNTk2NDc0ZThlZDhjNTY2ZjFkNjY2MjggPSBMLmNpcmNsZU1hcmtlcigKICAgICAgICAgICAgICAgIFs0My42Njc4NTU2LCAtNzkuNTMyMjQyNDAwMDAwMDJdLAogICAgICAgICAgICAgICAgewogICJidWJibGluZ01vdXNlRXZlbnRzIjogdHJ1ZSwKICAiY29sb3IiOiAiYmx1ZSIsCiAgImRhc2hBcnJheSI6IG51bGwsCiAgImRhc2hPZmZzZXQiOiBudWxsLAogICJmaWxsIjogdHJ1ZSwKICAiZmlsbENvbG9yIjogIiMzMTg2Y2MiLAogICJmaWxsT3BhY2l0eSI6IDAuNywKICAiZmlsbFJ1bGUiOiAiZXZlbm9kZCIsCiAgImxpbmVDYXAiOiAicm91bmQiLAogICJsaW5lSm9pbiI6ICJyb3VuZCIsCiAgIm9wYWNpdHkiOiAxLjAsCiAgInJhZGl1cyI6IDQsCiAgInN0cm9rZSI6IHRydWUsCiAgIndlaWdodCI6IDMKfQogICAgICAgICAgICAgICAgKQogICAgICAgICAgICAgICAgLmFkZFRvKG1hcF9iMGY4MTMzYTQ2YTE0ODdhYWQwYzE5MWVlNGZmMWUzMyk7CiAgICAgICAgICAgIAogICAgCiAgICAgICAgICAgIHZhciBwb3B1cF9jNjE0ZGNlZTkwMDg0ZWI5OWMxMWM5OGZhNzU4ZmJkNiA9IEwucG9wdXAoe21heFdpZHRoOiAnMTAwJScKICAgICAgICAgICAgCiAgICAgICAgICAgIH0pOwoKICAgICAgICAgICAgCiAgICAgICAgICAgICAgICB2YXIgaHRtbF9jYjI0YWIzMmM5YjQ0OWM3OTMxZWYwOTRkMWUwN2ZlMyA9ICQoYDxkaXYgaWQ9Imh0bWxfY2IyNGFiMzJjOWI0NDljNzkzMWVmMDk0ZDFlMDdmZTMiIHN0eWxlPSJ3aWR0aDogMTAwLjAlOyBoZWlnaHQ6IDEwMC4wJTsiPklzbGluZ3RvbiBBdmVudWU8L2Rpdj5gKVswXTsKICAgICAgICAgICAgICAgIHBvcHVwX2M2MTRkY2VlOTAwODRlYjk5YzExYzk4ZmE3NThmYmQ2LnNldENvbnRlbnQoaHRtbF9jYjI0YWIzMmM5YjQ0OWM3OTMxZWYwOTRkMWUwN2ZlMyk7CiAgICAgICAgICAgIAoKICAgICAgICAgICAgY2lyY2xlX21hcmtlcl8yZWJjMzViY2Y1OTY0NzRlOGVkOGM1NjZmMWQ2NjYyOC5iaW5kUG9wdXAocG9wdXBfYzYxNGRjZWU5MDA4NGViOTljMTFjOThmYTc1OGZiZDYpCiAgICAgICAgICAgIDsKCiAgICAgICAgICAgIAogICAgICAgIAogICAgCiAgICAgICAgICAgIHZhciBjaXJjbGVfbWFya2VyXzcxOWI0OGU3MzcyMTQ4YzZhZGQyNTczY2E5NjZiNTA0ID0gTC5jaXJjbGVNYXJrZXIoCiAgICAgICAgICAgICAgICBbNDMuODA2Njg2Mjk5OTk5OTk2LCAtNzkuMTk0MzUzNDAwMDAwMDFdLAogICAgICAgICAgICAgICAgewogICJidWJibGluZ01vdXNlRXZlbnRzIjogdHJ1ZSwKICAiY29sb3IiOiAiYmx1ZSIsCiAgImRhc2hBcnJheSI6IG51bGwsCiAgImRhc2hPZmZzZXQiOiBudWxsLAogICJmaWxsIjogdHJ1ZSwKICAiZmlsbENvbG9yIjogIiMzMTg2Y2MiLAogICJmaWxsT3BhY2l0eSI6IDAuNywKICAiZmlsbFJ1bGUiOiAiZXZlbm9kZCIsCiAgImxpbmVDYXAiOiAicm91bmQiLAogICJsaW5lSm9pbiI6ICJyb3VuZCIsCiAgIm9wYWNpdHkiOiAxLjAsCiAgInJhZGl1cyI6IDQsCiAgInN0cm9rZSI6IHRydWUsCiAgIndlaWdodCI6IDMKfQogICAgICAgICAgICAgICAgKQogICAgICAgICAgICAgICAgLmFkZFRvKG1hcF9iMGY4MTMzYTQ2YTE0ODdhYWQwYzE5MWVlNGZmMWUzMyk7CiAgICAgICAgICAgIAogICAgCiAgICAgICAgICAgIHZhciBwb3B1cF83YTlkZDA1YjhkNmI0MDkyYWFhMzE1M2YxZTA4MTBlZSA9IEwucG9wdXAoe21heFdpZHRoOiAnMTAwJScKICAgICAgICAgICAgCiAgICAgICAgICAgIH0pOwoKICAgICAgICAgICAgCiAgICAgICAgICAgICAgICB2YXIgaHRtbF9kOWY3ZWY2YmRmMDE0NDljYjAwOGVlOTBmY2JkNDE2MSA9ICQoYDxkaXYgaWQ9Imh0bWxfZDlmN2VmNmJkZjAxNDQ5Y2IwMDhlZTkwZmNiZDQxNjEiIHN0eWxlPSJ3aWR0aDogMTAwLjAlOyBoZWlnaHQ6IDEwMC4wJTsiPk1hbHZlcm4sIFJvdWdlPC9kaXY+YClbMF07CiAgICAgICAgICAgICAgICBwb3B1cF83YTlkZDA1YjhkNmI0MDkyYWFhMzE1M2YxZTA4MTBlZS5zZXRDb250ZW50KGh0bWxfZDlmN2VmNmJkZjAxNDQ5Y2IwMDhlZTkwZmNiZDQxNjEpOwogICAgICAgICAgICAKCiAgICAgICAgICAgIGNpcmNsZV9tYXJrZXJfNzE5YjQ4ZTczNzIxNDhjNmFkZDI1NzNjYTk2NmI1MDQuYmluZFBvcHVwKHBvcHVwXzdhOWRkMDViOGQ2YjQwOTJhYWEzMTUzZjFlMDgxMGVlKQogICAgICAgICAgICA7CgogICAgICAgICAgICAKICAgICAgICAKICAgIAogICAgICAgICAgICB2YXIgY2lyY2xlX21hcmtlcl9mMTY2MjM4ZGNlMDE0YjA4YjBjYjExOGU5NGZlNmVjMCA9IEwuY2lyY2xlTWFya2VyKAogICAgICAgICAgICAgICAgWzQzLjc0NTkwNTc5OTk5OTk5NiwgLTc5LjM1MjE4OF0sCiAgICAgICAgICAgICAgICB7CiAgImJ1YmJsaW5nTW91c2VFdmVudHMiOiB0cnVlLAogICJjb2xvciI6ICJibHVlIiwKICAiZGFzaEFycmF5IjogbnVsbCwKICAiZGFzaE9mZnNldCI6IG51bGwsCiAgImZpbGwiOiB0cnVlLAogICJmaWxsQ29sb3IiOiAiIzMxODZjYyIsCiAgImZpbGxPcGFjaXR5IjogMC43LAogICJmaWxsUnVsZSI6ICJldmVub2RkIiwKICAibGluZUNhcCI6ICJyb3VuZCIsCiAgImxpbmVKb2luIjogInJvdW5kIiwKICAib3BhY2l0eSI6IDEuMCwKICAicmFkaXVzIjogNCwKICAic3Ryb2tlIjogdHJ1ZSwKICAid2VpZ2h0IjogMwp9CiAgICAgICAgICAgICAgICApCiAgICAgICAgICAgICAgICAuYWRkVG8obWFwX2IwZjgxMzNhNDZhMTQ4N2FhZDBjMTkxZWU0ZmYxZTMzKTsKICAgICAgICAgICAgCiAgICAKICAgICAgICAgICAgdmFyIHBvcHVwXzA0MjFkOTMyY2UxODRiMGY4M2EwNGJmZjcyNWIwZDc4ID0gTC5wb3B1cCh7bWF4V2lkdGg6ICcxMDAlJwogICAgICAgICAgICAKICAgICAgICAgICAgfSk7CgogICAgICAgICAgICAKICAgICAgICAgICAgICAgIHZhciBodG1sXzRjMTAzMDI3MGZiZDQyYmNiMmFmMjgwYWJhYjljOTc1ID0gJChgPGRpdiBpZD0iaHRtbF80YzEwMzAyNzBmYmQ0MmJjYjJhZjI4MGFiYWI5Yzk3NSIgc3R5bGU9IndpZHRoOiAxMDAuMCU7IGhlaWdodDogMTAwLjAlOyI+RG9uIE1pbGxzPC9kaXY+YClbMF07CiAgICAgICAgICAgICAgICBwb3B1cF8wNDIxZDkzMmNlMTg0YjBmODNhMDRiZmY3MjViMGQ3OC5zZXRDb250ZW50KGh0bWxfNGMxMDMwMjcwZmJkNDJiY2IyYWYyODBhYmFiOWM5NzUpOwogICAgICAgICAgICAKCiAgICAgICAgICAgIGNpcmNsZV9tYXJrZXJfZjE2NjIzOGRjZTAxNGIwOGIwY2IxMThlOTRmZTZlYzAuYmluZFBvcHVwKHBvcHVwXzA0MjFkOTMyY2UxODRiMGY4M2EwNGJmZjcyNWIwZDc4KQogICAgICAgICAgICA7CgogICAgICAgICAgICAKICAgICAgICAKICAgIAogICAgICAgICAgICB2YXIgY2lyY2xlX21hcmtlcl84OTBlMmE1NTI3ZWM0ZTJmODQ3MWI3Y2VhYzlmYTY5MyA9IEwuY2lyY2xlTWFya2VyKAogICAgICAgICAgICAgICAgWzQzLjcwNjM5NzIsIC03OS4zMDk5MzddLAogICAgICAgICAgICAgICAgewogICJidWJibGluZ01vdXNlRXZlbnRzIjogdHJ1ZSwKICAiY29sb3IiOiAiYmx1ZSIsCiAgImRhc2hBcnJheSI6IG51bGwsCiAgImRhc2hPZmZzZXQiOiBudWxsLAogICJmaWxsIjogdHJ1ZSwKICAiZmlsbENvbG9yIjogIiMzMTg2Y2MiLAogICJmaWxsT3BhY2l0eSI6IDAuNywKICAiZmlsbFJ1bGUiOiAiZXZlbm9kZCIsCiAgImxpbmVDYXAiOiAicm91bmQiLAogICJsaW5lSm9pbiI6ICJyb3VuZCIsCiAgIm9wYWNpdHkiOiAxLjAsCiAgInJhZGl1cyI6IDQsCiAgInN0cm9rZSI6IHRydWUsCiAgIndlaWdodCI6IDMKfQogICAgICAgICAgICAgICAgKQogICAgICAgICAgICAgICAgLmFkZFRvKG1hcF9iMGY4MTMzYTQ2YTE0ODdhYWQwYzE5MWVlNGZmMWUzMyk7CiAgICAgICAgICAgIAogICAgCiAgICAgICAgICAgIHZhciBwb3B1cF8yMTJjZWZiNDQ1NjQ0ZTRjYTllNjc0ODlhMDBhNWZiNyA9IEwucG9wdXAoe21heFdpZHRoOiAnMTAwJScKICAgICAgICAgICAgCiAgICAgICAgICAgIH0pOwoKICAgICAgICAgICAgCiAgICAgICAgICAgICAgICB2YXIgaHRtbF9iMWI3ZDVjZmZlMmY0YTUyODViMWY2ZGJiOTM2MGY3MSA9ICQoYDxkaXYgaWQ9Imh0bWxfYjFiN2Q1Y2ZmZTJmNGE1Mjg1YjFmNmRiYjkzNjBmNzEiIHN0eWxlPSJ3aWR0aDogMTAwLjAlOyBoZWlnaHQ6IDEwMC4wJTsiPlBhcmt2aWV3IEhpbGwsIFdvb2RiaW5lIEdhcmRlbnM8L2Rpdj5gKVswXTsKICAgICAgICAgICAgICAgIHBvcHVwXzIxMmNlZmI0NDU2NDRlNGNhOWU2NzQ4OWEwMGE1ZmI3LnNldENvbnRlbnQoaHRtbF9iMWI3ZDVjZmZlMmY0YTUyODViMWY2ZGJiOTM2MGY3MSk7CiAgICAgICAgICAgIAoKICAgICAgICAgICAgY2lyY2xlX21hcmtlcl84OTBlMmE1NTI3ZWM0ZTJmODQ3MWI3Y2VhYzlmYTY5My5iaW5kUG9wdXAocG9wdXBfMjEyY2VmYjQ0NTY0NGU0Y2E5ZTY3NDg5YTAwYTVmYjcpCiAgICAgICAgICAgIDsKCiAgICAgICAgICAgIAogICAgICAgIAogICAgCiAgICAgICAgICAgIHZhciBjaXJjbGVfbWFya2VyXzA1NGRhZjY1ZTNmYzRiMmQ4Nzc3NjIxZTBiYzNhZWJmID0gTC5jaXJjbGVNYXJrZXIoCiAgICAgICAgICAgICAgICBbNDMuNjU3MTYxOCwgLTc5LjM3ODkzNzA5OTk5OTk5XSwKICAgICAgICAgICAgICAgIHsKICAiYnViYmxpbmdNb3VzZUV2ZW50cyI6IHRydWUsCiAgImNvbG9yIjogImJsdWUiLAogICJkYXNoQXJyYXkiOiBudWxsLAogICJkYXNoT2Zmc2V0IjogbnVsbCwKICAiZmlsbCI6IHRydWUsCiAgImZpbGxDb2xvciI6ICIjMzE4NmNjIiwKICAiZmlsbE9wYWNpdHkiOiAwLjcsCiAgImZpbGxSdWxlIjogImV2ZW5vZGQiLAogICJsaW5lQ2FwIjogInJvdW5kIiwKICAibGluZUpvaW4iOiAicm91bmQiLAogICJvcGFjaXR5IjogMS4wLAogICJyYWRpdXMiOiA0LAogICJzdHJva2UiOiB0cnVlLAogICJ3ZWlnaHQiOiAzCn0KICAgICAgICAgICAgICAgICkKICAgICAgICAgICAgICAgIC5hZGRUbyhtYXBfYjBmODEzM2E0NmExNDg3YWFkMGMxOTFlZTRmZjFlMzMpOwogICAgICAgICAgICAKICAgIAogICAgICAgICAgICB2YXIgcG9wdXBfYWI2N2NhMDFkODRmNDJkMmFiYTVmMzJhMTBlYTNhZWUgPSBMLnBvcHVwKHttYXhXaWR0aDogJzEwMCUnCiAgICAgICAgICAgIAogICAgICAgICAgICB9KTsKCiAgICAgICAgICAgIAogICAgICAgICAgICAgICAgdmFyIGh0bWxfNGQyOWExNzBhODc3NDNkYjg2YjdlZmM4YTY4MTAxNzEgPSAkKGA8ZGl2IGlkPSJodG1sXzRkMjlhMTcwYTg3NzQzZGI4NmI3ZWZjOGE2ODEwMTcxIiBzdHlsZT0id2lkdGg6IDEwMC4wJTsgaGVpZ2h0OiAxMDAuMCU7Ij5HYXJkZW4gRGlzdHJpY3QsIFJ5ZXJzb248L2Rpdj5gKVswXTsKICAgICAgICAgICAgICAgIHBvcHVwX2FiNjdjYTAxZDg0ZjQyZDJhYmE1ZjMyYTEwZWEzYWVlLnNldENvbnRlbnQoaHRtbF80ZDI5YTE3MGE4Nzc0M2RiODZiN2VmYzhhNjgxMDE3MSk7CiAgICAgICAgICAgIAoKICAgICAgICAgICAgY2lyY2xlX21hcmtlcl8wNTRkYWY2NWUzZmM0YjJkODc3NzYyMWUwYmMzYWViZi5iaW5kUG9wdXAocG9wdXBfYWI2N2NhMDFkODRmNDJkMmFiYTVmMzJhMTBlYTNhZWUpCiAgICAgICAgICAgIDsKCiAgICAgICAgICAgIAogICAgICAgIAogICAgCiAgICAgICAgICAgIHZhciBjaXJjbGVfbWFya2VyXzJlZGJjZDczZWNjMTQ1NDE4YTk2MTBlMjIyZmEzOGQzID0gTC5jaXJjbGVNYXJrZXIoCiAgICAgICAgICAgICAgICBbNDMuNzA5NTc3LCAtNzkuNDQ1MDcyNTk5OTk5OTldLAogICAgICAgICAgICAgICAgewogICJidWJibGluZ01vdXNlRXZlbnRzIjogdHJ1ZSwKICAiY29sb3IiOiAiYmx1ZSIsCiAgImRhc2hBcnJheSI6IG51bGwsCiAgImRhc2hPZmZzZXQiOiBudWxsLAogICJmaWxsIjogdHJ1ZSwKICAiZmlsbENvbG9yIjogIiMzMTg2Y2MiLAogICJmaWxsT3BhY2l0eSI6IDAuNywKICAiZmlsbFJ1bGUiOiAiZXZlbm9kZCIsCiAgImxpbmVDYXAiOiAicm91bmQiLAogICJsaW5lSm9pbiI6ICJyb3VuZCIsCiAgIm9wYWNpdHkiOiAxLjAsCiAgInJhZGl1cyI6IDQsCiAgInN0cm9rZSI6IHRydWUsCiAgIndlaWdodCI6IDMKfQogICAgICAgICAgICAgICAgKQogICAgICAgICAgICAgICAgLmFkZFRvKG1hcF9iMGY4MTMzYTQ2YTE0ODdhYWQwYzE5MWVlNGZmMWUzMyk7CiAgICAgICAgICAgIAogICAgCiAgICAgICAgICAgIHZhciBwb3B1cF9kOTNkOTVhMzFmOGE0ODY0ODgxMjA5OTI2ODRmN2MzMCA9IEwucG9wdXAoe21heFdpZHRoOiAnMTAwJScKICAgICAgICAgICAgCiAgICAgICAgICAgIH0pOwoKICAgICAgICAgICAgCiAgICAgICAgICAgICAgICB2YXIgaHRtbF80ZTZlMjFhNzk2MzI0OWI3OTJmZDc5OGMyNWJhMDA3MCA9ICQoYDxkaXYgaWQ9Imh0bWxfNGU2ZTIxYTc5NjMyNDliNzkyZmQ3OThjMjViYTAwNzAiIHN0eWxlPSJ3aWR0aDogMTAwLjAlOyBoZWlnaHQ6IDEwMC4wJTsiPkdsZW5jYWlybjwvZGl2PmApWzBdOwogICAgICAgICAgICAgICAgcG9wdXBfZDkzZDk1YTMxZjhhNDg2NDg4MTIwOTkyNjg0ZjdjMzAuc2V0Q29udGVudChodG1sXzRlNmUyMWE3OTYzMjQ5Yjc5MmZkNzk4YzI1YmEwMDcwKTsKICAgICAgICAgICAgCgogICAgICAgICAgICBjaXJjbGVfbWFya2VyXzJlZGJjZDczZWNjMTQ1NDE4YTk2MTBlMjIyZmEzOGQzLmJpbmRQb3B1cChwb3B1cF9kOTNkOTVhMzFmOGE0ODY0ODgxMjA5OTI2ODRmN2MzMCkKICAgICAgICAgICAgOwoKICAgICAgICAgICAgCiAgICAgICAgCiAgICAKICAgICAgICAgICAgdmFyIGNpcmNsZV9tYXJrZXJfY2M3OGY4NTYwNTBiNDcwNDljYmMyMWEyMTYzMTYzYmEgPSBMLmNpcmNsZU1hcmtlcigKICAgICAgICAgICAgICAgIFs0My42NTA5NDMyLCAtNzkuNTU0NzI0NDAwMDAwMDFdLAogICAgICAgICAgICAgICAgewogICJidWJibGluZ01vdXNlRXZlbnRzIjogdHJ1ZSwKICAiY29sb3IiOiAiYmx1ZSIsCiAgImRhc2hBcnJheSI6IG51bGwsCiAgImRhc2hPZmZzZXQiOiBudWxsLAogICJmaWxsIjogdHJ1ZSwKICAiZmlsbENvbG9yIjogIiMzMTg2Y2MiLAogICJmaWxsT3BhY2l0eSI6IDAuNywKICAiZmlsbFJ1bGUiOiAiZXZlbm9kZCIsCiAgImxpbmVDYXAiOiAicm91bmQiLAogICJsaW5lSm9pbiI6ICJyb3VuZCIsCiAgIm9wYWNpdHkiOiAxLjAsCiAgInJhZGl1cyI6IDQsCiAgInN0cm9rZSI6IHRydWUsCiAgIndlaWdodCI6IDMKfQogICAgICAgICAgICAgICAgKQogICAgICAgICAgICAgICAgLmFkZFRvKG1hcF9iMGY4MTMzYTQ2YTE0ODdhYWQwYzE5MWVlNGZmMWUzMyk7CiAgICAgICAgICAgIAogICAgCiAgICAgICAgICAgIHZhciBwb3B1cF9hMGMwYTBhMjg4MTE0Y2M2YTgyYTNiODc3YjJlMDhjNSA9IEwucG9wdXAoe21heFdpZHRoOiAnMTAwJScKICAgICAgICAgICAgCiAgICAgICAgICAgIH0pOwoKICAgICAgICAgICAgCiAgICAgICAgICAgICAgICB2YXIgaHRtbF8yN2JhMzcyZmNiMjY0YmZjOTBhZmZjYTZlMmU1YWI5MyA9ICQoYDxkaXYgaWQ9Imh0bWxfMjdiYTM3MmZjYjI2NGJmYzkwYWZmY2E2ZTJlNWFiOTMiIHN0eWxlPSJ3aWR0aDogMTAwLjAlOyBoZWlnaHQ6IDEwMC4wJTsiPldlc3QgRGVhbmUgUGFyaywgUHJpbmNlc3MgR2FyZGVucywgTWFydGluIEdyb3ZlLCBJc2xpbmd0b24sIENsb3ZlcmRhbGU8L2Rpdj5gKVswXTsKICAgICAgICAgICAgICAgIHBvcHVwX2EwYzBhMGEyODgxMTRjYzZhODJhM2I4NzdiMmUwOGM1LnNldENvbnRlbnQoaHRtbF8yN2JhMzcyZmNiMjY0YmZjOTBhZmZjYTZlMmU1YWI5Myk7CiAgICAgICAgICAgIAoKICAgICAgICAgICAgY2lyY2xlX21hcmtlcl9jYzc4Zjg1NjA1MGI0NzA0OWNiYzIxYTIxNjMxNjNiYS5iaW5kUG9wdXAocG9wdXBfYTBjMGEwYTI4ODExNGNjNmE4MmEzYjg3N2IyZTA4YzUpCiAgICAgICAgICAgIDsKCiAgICAgICAgICAgIAogICAgICAgIAogICAgCiAgICAgICAgICAgIHZhciBjaXJjbGVfbWFya2VyX2IzYjc4ZmRiNTUzYzQxYTc4YjllMmM0MWM1NDZjZDE2ID0gTC5jaXJjbGVNYXJrZXIoCiAgICAgICAgICAgICAgICBbNDMuNzg0NTM1MSwgLTc5LjE2MDQ5NzA5OTk5OTk5XSwKICAgICAgICAgICAgICAgIHsKICAiYnViYmxpbmdNb3VzZUV2ZW50cyI6IHRydWUsCiAgImNvbG9yIjogImJsdWUiLAogICJkYXNoQXJyYXkiOiBudWxsLAogICJkYXNoT2Zmc2V0IjogbnVsbCwKICAiZmlsbCI6IHRydWUsCiAgImZpbGxDb2xvciI6ICIjMzE4NmNjIiwKICAiZmlsbE9wYWNpdHkiOiAwLjcsCiAgImZpbGxSdWxlIjogImV2ZW5vZGQiLAogICJsaW5lQ2FwIjogInJvdW5kIiwKICAibGluZUpvaW4iOiAicm91bmQiLAogICJvcGFjaXR5IjogMS4wLAogICJyYWRpdXMiOiA0LAogICJzdHJva2UiOiB0cnVlLAogICJ3ZWlnaHQiOiAzCn0KICAgICAgICAgICAgICAgICkKICAgICAgICAgICAgICAgIC5hZGRUbyhtYXBfYjBmODEzM2E0NmExNDg3YWFkMGMxOTFlZTRmZjFlMzMpOwogICAgICAgICAgICAKICAgIAogICAgICAgICAgICB2YXIgcG9wdXBfM2Q4M2VkYzMwZTA3NDVkZjgwNGRjMjg5NjNhNzU1ZTkgPSBMLnBvcHVwKHttYXhXaWR0aDogJzEwMCUnCiAgICAgICAgICAgIAogICAgICAgICAgICB9KTsKCiAgICAgICAgICAgIAogICAgICAgICAgICAgICAgdmFyIGh0bWxfNjUyM2Q2YmVjMWRiNGExNjhhYmE1OWQ1NTVkZDY5YmYgPSAkKGA8ZGl2IGlkPSJodG1sXzY1MjNkNmJlYzFkYjRhMTY4YWJhNTlkNTU1ZGQ2OWJmIiBzdHlsZT0id2lkdGg6IDEwMC4wJTsgaGVpZ2h0OiAxMDAuMCU7Ij5Sb3VnZSBIaWxsLCBQb3J0IFVuaW9uLCBIaWdobGFuZCBDcmVlazwvZGl2PmApWzBdOwogICAgICAgICAgICAgICAgcG9wdXBfM2Q4M2VkYzMwZTA3NDVkZjgwNGRjMjg5NjNhNzU1ZTkuc2V0Q29udGVudChodG1sXzY1MjNkNmJlYzFkYjRhMTY4YWJhNTlkNTU1ZGQ2OWJmKTsKICAgICAgICAgICAgCgogICAgICAgICAgICBjaXJjbGVfbWFya2VyX2IzYjc4ZmRiNTUzYzQxYTc4YjllMmM0MWM1NDZjZDE2LmJpbmRQb3B1cChwb3B1cF8zZDgzZWRjMzBlMDc0NWRmODA0ZGMyODk2M2E3NTVlOSkKICAgICAgICAgICAgOwoKICAgICAgICAgICAgCiAgICAgICAgCiAgICAKICAgICAgICAgICAgdmFyIGNpcmNsZV9tYXJrZXJfY2FjOGVkZjRhNTEyNDdjZThmOWUwY2IwNzVmNTllOGYgPSBMLmNpcmNsZU1hcmtlcigKICAgICAgICAgICAgICAgIFs0My43MjU4OTk3MDAwMDAwMSwgLTc5LjM0MDkyM10sCiAgICAgICAgICAgICAgICB7CiAgImJ1YmJsaW5nTW91c2VFdmVudHMiOiB0cnVlLAogICJjb2xvciI6ICJibHVlIiwKICAiZGFzaEFycmF5IjogbnVsbCwKICAiZGFzaE9mZnNldCI6IG51bGwsCiAgImZpbGwiOiB0cnVlLAogICJmaWxsQ29sb3IiOiAiIzMxODZjYyIsCiAgImZpbGxPcGFjaXR5IjogMC43LAogICJmaWxsUnVsZSI6ICJldmVub2RkIiwKICAibGluZUNhcCI6ICJyb3VuZCIsCiAgImxpbmVKb2luIjogInJvdW5kIiwKICAib3BhY2l0eSI6IDEuMCwKICAicmFkaXVzIjogNCwKICAic3Ryb2tlIjogdHJ1ZSwKICAid2VpZ2h0IjogMwp9CiAgICAgICAgICAgICAgICApCiAgICAgICAgICAgICAgICAuYWRkVG8obWFwX2IwZjgxMzNhNDZhMTQ4N2FhZDBjMTkxZWU0ZmYxZTMzKTsKICAgICAgICAgICAgCiAgICAKICAgICAgICAgICAgdmFyIHBvcHVwXzBjM2IxMDlmOTliMjQyZjVhMzk2NzA5MWI5NjllZTI0ID0gTC5wb3B1cCh7bWF4V2lkdGg6ICcxMDAlJwogICAgICAgICAgICAKICAgICAgICAgICAgfSk7CgogICAgICAgICAgICAKICAgICAgICAgICAgICAgIHZhciBodG1sXzlhZmFkZGVkN2YwNDRlMTBhMWQ3ZTc1MjBkY2M5YzhjID0gJChgPGRpdiBpZD0iaHRtbF85YWZhZGRlZDdmMDQ0ZTEwYTFkN2U3NTIwZGNjOWM4YyIgc3R5bGU9IndpZHRoOiAxMDAuMCU7IGhlaWdodDogMTAwLjAlOyI+RG9uIE1pbGxzPC9kaXY+YClbMF07CiAgICAgICAgICAgICAgICBwb3B1cF8wYzNiMTA5Zjk5YjI0MmY1YTM5NjcwOTFiOTY5ZWUyNC5zZXRDb250ZW50KGh0bWxfOWFmYWRkZWQ3ZjA0NGUxMGExZDdlNzUyMGRjYzljOGMpOwogICAgICAgICAgICAKCiAgICAgICAgICAgIGNpcmNsZV9tYXJrZXJfY2FjOGVkZjRhNTEyNDdjZThmOWUwY2IwNzVmNTllOGYuYmluZFBvcHVwKHBvcHVwXzBjM2IxMDlmOTliMjQyZjVhMzk2NzA5MWI5NjllZTI0KQogICAgICAgICAgICA7CgogICAgICAgICAgICAKICAgICAgICAKICAgIAogICAgICAgICAgICB2YXIgY2lyY2xlX21hcmtlcl80YTE5ZDYwYmMyNTI0N2ZmOGY1MjcxZTNmNWE0ZmI2YiA9IEwuY2lyY2xlTWFya2VyKAogICAgICAgICAgICAgICAgWzQzLjY5NTM0MzkwMDAwMDAwNSwgLTc5LjMxODM4ODddLAogICAgICAgICAgICAgICAgewogICJidWJibGluZ01vdXNlRXZlbnRzIjogdHJ1ZSwKICAiY29sb3IiOiAiYmx1ZSIsCiAgImRhc2hBcnJheSI6IG51bGwsCiAgImRhc2hPZmZzZXQiOiBudWxsLAogICJmaWxsIjogdHJ1ZSwKICAiZmlsbENvbG9yIjogIiMzMTg2Y2MiLAogICJmaWxsT3BhY2l0eSI6IDAuNywKICAiZmlsbFJ1bGUiOiAiZXZlbm9kZCIsCiAgImxpbmVDYXAiOiAicm91bmQiLAogICJsaW5lSm9pbiI6ICJyb3VuZCIsCiAgIm9wYWNpdHkiOiAxLjAsCiAgInJhZGl1cyI6IDQsCiAgInN0cm9rZSI6IHRydWUsCiAgIndlaWdodCI6IDMKfQogICAgICAgICAgICAgICAgKQogICAgICAgICAgICAgICAgLmFkZFRvKG1hcF9iMGY4MTMzYTQ2YTE0ODdhYWQwYzE5MWVlNGZmMWUzMyk7CiAgICAgICAgICAgIAogICAgCiAgICAgICAgICAgIHZhciBwb3B1cF84Yjg3MDFjM2RmMWE0MTdmOTQyM2UyYjRkNzZlZmQ3NCA9IEwucG9wdXAoe21heFdpZHRoOiAnMTAwJScKICAgICAgICAgICAgCiAgICAgICAgICAgIH0pOwoKICAgICAgICAgICAgCiAgICAgICAgICAgICAgICB2YXIgaHRtbF8yMTI3MjRlZDFhMDg0NTZiODljMGI1MDFjNDMwMDg5MiA9ICQoYDxkaXYgaWQ9Imh0bWxfMjEyNzI0ZWQxYTA4NDU2Yjg5YzBiNTAxYzQzMDA4OTIiIHN0eWxlPSJ3aWR0aDogMTAwLjAlOyBoZWlnaHQ6IDEwMC4wJTsiPldvb2RiaW5lIEhlaWdodHM8L2Rpdj5gKVswXTsKICAgICAgICAgICAgICAgIHBvcHVwXzhiODcwMWMzZGYxYTQxN2Y5NDIzZTJiNGQ3NmVmZDc0LnNldENvbnRlbnQoaHRtbF8yMTI3MjRlZDFhMDg0NTZiODljMGI1MDFjNDMwMDg5Mik7CiAgICAgICAgICAgIAoKICAgICAgICAgICAgY2lyY2xlX21hcmtlcl80YTE5ZDYwYmMyNTI0N2ZmOGY1MjcxZTNmNWE0ZmI2Yi5iaW5kUG9wdXAocG9wdXBfOGI4NzAxYzNkZjFhNDE3Zjk0MjNlMmI0ZDc2ZWZkNzQpCiAgICAgICAgICAgIDsKCiAgICAgICAgICAgIAogICAgICAgIAogICAgCiAgICAgICAgICAgIHZhciBjaXJjbGVfbWFya2VyXzM5MDg3OGQxYmVlMDQxN2E5ZmFlMDQ4ZDNjNzRmZWRhID0gTC5jaXJjbGVNYXJrZXIoCiAgICAgICAgICAgICAgICBbNDMuNjUxNDkzOSwgLTc5LjM3NTQxNzldLAogICAgICAgICAgICAgICAgewogICJidWJibGluZ01vdXNlRXZlbnRzIjogdHJ1ZSwKICAiY29sb3IiOiAiYmx1ZSIsCiAgImRhc2hBcnJheSI6IG51bGwsCiAgImRhc2hPZmZzZXQiOiBudWxsLAogICJmaWxsIjogdHJ1ZSwKICAiZmlsbENvbG9yIjogIiMzMTg2Y2MiLAogICJmaWxsT3BhY2l0eSI6IDAuNywKICAiZmlsbFJ1bGUiOiAiZXZlbm9kZCIsCiAgImxpbmVDYXAiOiAicm91bmQiLAogICJsaW5lSm9pbiI6ICJyb3VuZCIsCiAgIm9wYWNpdHkiOiAxLjAsCiAgInJhZGl1cyI6IDQsCiAgInN0cm9rZSI6IHRydWUsCiAgIndlaWdodCI6IDMKfQogICAgICAgICAgICAgICAgKQogICAgICAgICAgICAgICAgLmFkZFRvKG1hcF9iMGY4MTMzYTQ2YTE0ODdhYWQwYzE5MWVlNGZmMWUzMyk7CiAgICAgICAgICAgIAogICAgCiAgICAgICAgICAgIHZhciBwb3B1cF81OGE5MjgzYjFjMTg0MDQxOWE3NTBiOTdiMTc5Yjk0NCA9IEwucG9wdXAoe21heFdpZHRoOiAnMTAwJScKICAgICAgICAgICAgCiAgICAgICAgICAgIH0pOwoKICAgICAgICAgICAgCiAgICAgICAgICAgICAgICB2YXIgaHRtbF81MzEyNzAyZWQ1NDU0NjZkYTk4ZTIxMmJhMzk5YmQzMSA9ICQoYDxkaXYgaWQ9Imh0bWxfNTMxMjcwMmVkNTQ1NDY2ZGE5OGUyMTJiYTM5OWJkMzEiIHN0eWxlPSJ3aWR0aDogMTAwLjAlOyBoZWlnaHQ6IDEwMC4wJTsiPlN0LiBKYW1lcyBUb3duPC9kaXY+YClbMF07CiAgICAgICAgICAgICAgICBwb3B1cF81OGE5MjgzYjFjMTg0MDQxOWE3NTBiOTdiMTc5Yjk0NC5zZXRDb250ZW50KGh0bWxfNTMxMjcwMmVkNTQ1NDY2ZGE5OGUyMTJiYTM5OWJkMzEpOwogICAgICAgICAgICAKCiAgICAgICAgICAgIGNpcmNsZV9tYXJrZXJfMzkwODc4ZDFiZWUwNDE3YTlmYWUwNDhkM2M3NGZlZGEuYmluZFBvcHVwKHBvcHVwXzU4YTkyODNiMWMxODQwNDE5YTc1MGI5N2IxNzliOTQ0KQogICAgICAgICAgICA7CgogICAgICAgICAgICAKICAgICAgICAKICAgIAogICAgICAgICAgICB2YXIgY2lyY2xlX21hcmtlcl82OGI3YTdlNGNlMjQ0YjNiYmM0NmIxYTVjNzE1MGI4MCA9IEwuY2lyY2xlTWFya2VyKAogICAgICAgICAgICAgICAgWzQzLjY5Mzc4MTMsIC03OS40MjgxOTE0MDAwMDAwMl0sCiAgICAgICAgICAgICAgICB7CiAgImJ1YmJsaW5nTW91c2VFdmVudHMiOiB0cnVlLAogICJjb2xvciI6ICJibHVlIiwKICAiZGFzaEFycmF5IjogbnVsbCwKICAiZGFzaE9mZnNldCI6IG51bGwsCiAgImZpbGwiOiB0cnVlLAogICJmaWxsQ29sb3IiOiAiIzMxODZjYyIsCiAgImZpbGxPcGFjaXR5IjogMC43LAogICJmaWxsUnVsZSI6ICJldmVub2RkIiwKICAibGluZUNhcCI6ICJyb3VuZCIsCiAgImxpbmVKb2luIjogInJvdW5kIiwKICAib3BhY2l0eSI6IDEuMCwKICAicmFkaXVzIjogNCwKICAic3Ryb2tlIjogdHJ1ZSwKICAid2VpZ2h0IjogMwp9CiAgICAgICAgICAgICAgICApCiAgICAgICAgICAgICAgICAuYWRkVG8obWFwX2IwZjgxMzNhNDZhMTQ4N2FhZDBjMTkxZWU0ZmYxZTMzKTsKICAgICAgICAgICAgCiAgICAKICAgICAgICAgICAgdmFyIHBvcHVwX2IwNjhjYTY5NTkxOTQ2MDlhYmFlMTJhOWE1NDViYmRhID0gTC5wb3B1cCh7bWF4V2lkdGg6ICcxMDAlJwogICAgICAgICAgICAKICAgICAgICAgICAgfSk7CgogICAgICAgICAgICAKICAgICAgICAgICAgICAgIHZhciBodG1sX2Q3YmJiNmI3YjE1YTQyZTM4MjYzMGYzYjMzYjI4MGI4ID0gJChgPGRpdiBpZD0iaHRtbF9kN2JiYjZiN2IxNWE0MmUzODI2MzBmM2IzM2IyODBiOCIgc3R5bGU9IndpZHRoOiAxMDAuMCU7IGhlaWdodDogMTAwLjAlOyI+SHVtZXdvb2QtQ2VkYXJ2YWxlPC9kaXY+YClbMF07CiAgICAgICAgICAgICAgICBwb3B1cF9iMDY4Y2E2OTU5MTk0NjA5YWJhZTEyYTlhNTQ1YmJkYS5zZXRDb250ZW50KGh0bWxfZDdiYmI2YjdiMTVhNDJlMzgyNjMwZjNiMzNiMjgwYjgpOwogICAgICAgICAgICAKCiAgICAgICAgICAgIGNpcmNsZV9tYXJrZXJfNjhiN2E3ZTRjZTI0NGIzYmJjNDZiMWE1YzcxNTBiODAuYmluZFBvcHVwKHBvcHVwX2IwNjhjYTY5NTkxOTQ2MDlhYmFlMTJhOWE1NDViYmRhKQogICAgICAgICAgICA7CgogICAgICAgICAgICAKICAgICAgICAKICAgIAogICAgICAgICAgICB2YXIgY2lyY2xlX21hcmtlcl9hZDhmYjYwZTc3N2I0MzA4YmU4MDhkMzRlMzYwNGMzZCA9IEwuY2lyY2xlTWFya2VyKAogICAgICAgICAgICAgICAgWzQzLjY0MzUxNTIsIC03OS41NzcyMDA3OTk5OTk5OV0sCiAgICAgICAgICAgICAgICB7CiAgImJ1YmJsaW5nTW91c2VFdmVudHMiOiB0cnVlLAogICJjb2xvciI6ICJibHVlIiwKICAiZGFzaEFycmF5IjogbnVsbCwKICAiZGFzaE9mZnNldCI6IG51bGwsCiAgImZpbGwiOiB0cnVlLAogICJmaWxsQ29sb3IiOiAiIzMxODZjYyIsCiAgImZpbGxPcGFjaXR5IjogMC43LAogICJmaWxsUnVsZSI6ICJldmVub2RkIiwKICAibGluZUNhcCI6ICJyb3VuZCIsCiAgImxpbmVKb2luIjogInJvdW5kIiwKICAib3BhY2l0eSI6IDEuMCwKICAicmFkaXVzIjogNCwKICAic3Ryb2tlIjogdHJ1ZSwKICAid2VpZ2h0IjogMwp9CiAgICAgICAgICAgICAgICApCiAgICAgICAgICAgICAgICAuYWRkVG8obWFwX2IwZjgxMzNhNDZhMTQ4N2FhZDBjMTkxZWU0ZmYxZTMzKTsKICAgICAgICAgICAgCiAgICAKICAgICAgICAgICAgdmFyIHBvcHVwXzgzNGY0MzIyNGRiMDRiZTc5NWNlNmYzYjA0M2EwZDRiID0gTC5wb3B1cCh7bWF4V2lkdGg6ICcxMDAlJwogICAgICAgICAgICAKICAgICAgICAgICAgfSk7CgogICAgICAgICAgICAKICAgICAgICAgICAgICAgIHZhciBodG1sXzY5N2VjMGMwYzExNDRiM2ZiZWE2MzMyOWNiZTA3ODQwID0gJChgPGRpdiBpZD0iaHRtbF82OTdlYzBjMGMxMTQ0YjNmYmVhNjMzMjljYmUwNzg0MCIgc3R5bGU9IndpZHRoOiAxMDAuMCU7IGhlaWdodDogMTAwLjAlOyI+RXJpbmdhdGUsIEJsb29yZGFsZSBHYXJkZW5zLCBPbGQgQnVybmhhbXRob3JwZSwgTWFya2xhbmQgV29vZDwvZGl2PmApWzBdOwogICAgICAgICAgICAgICAgcG9wdXBfODM0ZjQzMjI0ZGIwNGJlNzk1Y2U2ZjNiMDQzYTBkNGIuc2V0Q29udGVudChodG1sXzY5N2VjMGMwYzExNDRiM2ZiZWE2MzMyOWNiZTA3ODQwKTsKICAgICAgICAgICAgCgogICAgICAgICAgICBjaXJjbGVfbWFya2VyX2FkOGZiNjBlNzc3YjQzMDhiZTgwOGQzNGUzNjA0YzNkLmJpbmRQb3B1cChwb3B1cF84MzRmNDMyMjRkYjA0YmU3OTVjZTZmM2IwNDNhMGQ0YikKICAgICAgICAgICAgOwoKICAgICAgICAgICAgCiAgICAgICAgCiAgICAKICAgICAgICAgICAgdmFyIGNpcmNsZV9tYXJrZXJfZGY5NjljMmRjYjlkNGU3ZWEyYmEwNWZlOTVkNTk5M2MgPSBMLmNpcmNsZU1hcmtlcigKICAgICAgICAgICAgICAgIFs0My43NjM1NzI2LCAtNzkuMTg4NzExNV0sCiAgICAgICAgICAgICAgICB7CiAgImJ1YmJsaW5nTW91c2VFdmVudHMiOiB0cnVlLAogICJjb2xvciI6ICJibHVlIiwKICAiZGFzaEFycmF5IjogbnVsbCwKICAiZGFzaE9mZnNldCI6IG51bGwsCiAgImZpbGwiOiB0cnVlLAogICJmaWxsQ29sb3IiOiAiIzMxODZjYyIsCiAgImZpbGxPcGFjaXR5IjogMC43LAogICJmaWxsUnVsZSI6ICJldmVub2RkIiwKICAibGluZUNhcCI6ICJyb3VuZCIsCiAgImxpbmVKb2luIjogInJvdW5kIiwKICAib3BhY2l0eSI6IDEuMCwKICAicmFkaXVzIjogNCwKICAic3Ryb2tlIjogdHJ1ZSwKICAid2VpZ2h0IjogMwp9CiAgICAgICAgICAgICAgICApCiAgICAgICAgICAgICAgICAuYWRkVG8obWFwX2IwZjgxMzNhNDZhMTQ4N2FhZDBjMTkxZWU0ZmYxZTMzKTsKICAgICAgICAgICAgCiAgICAKICAgICAgICAgICAgdmFyIHBvcHVwX2IwODJhZDZhNGZhMzQyODFhZWQyYjJlODZmNzYyOTU5ID0gTC5wb3B1cCh7bWF4V2lkdGg6ICcxMDAlJwogICAgICAgICAgICAKICAgICAgICAgICAgfSk7CgogICAgICAgICAgICAKICAgICAgICAgICAgICAgIHZhciBodG1sXzllOGFhNDc0NzIxMzQzZjZiZTYxNzQ0YzdkNjQ5OTA4ID0gJChgPGRpdiBpZD0iaHRtbF85ZThhYTQ3NDcyMTM0M2Y2YmU2MTc0NGM3ZDY0OTkwOCIgc3R5bGU9IndpZHRoOiAxMDAuMCU7IGhlaWdodDogMTAwLjAlOyI+R3VpbGR3b29kLCBNb3JuaW5nc2lkZSwgV2VzdCBIaWxsPC9kaXY+YClbMF07CiAgICAgICAgICAgICAgICBwb3B1cF9iMDgyYWQ2YTRmYTM0MjgxYWVkMmIyZTg2Zjc2Mjk1OS5zZXRDb250ZW50KGh0bWxfOWU4YWE0NzQ3MjEzNDNmNmJlNjE3NDRjN2Q2NDk5MDgpOwogICAgICAgICAgICAKCiAgICAgICAgICAgIGNpcmNsZV9tYXJrZXJfZGY5NjljMmRjYjlkNGU3ZWEyYmEwNWZlOTVkNTk5M2MuYmluZFBvcHVwKHBvcHVwX2IwODJhZDZhNGZhMzQyODFhZWQyYjJlODZmNzYyOTU5KQogICAgICAgICAgICA7CgogICAgICAgICAgICAKICAgICAgICAKICAgIAogICAgICAgICAgICB2YXIgY2lyY2xlX21hcmtlcl80N2Y3YjU5MGUxYjk0MWEyYjcxM2UxNTAwY2IxZTQ4NSA9IEwuY2lyY2xlTWFya2VyKAogICAgICAgICAgICAgICAgWzQzLjY3NjM1NzM5OTk5OTk5LCAtNzkuMjkzMDMxMl0sCiAgICAgICAgICAgICAgICB7CiAgImJ1YmJsaW5nTW91c2VFdmVudHMiOiB0cnVlLAogICJjb2xvciI6ICJibHVlIiwKICAiZGFzaEFycmF5IjogbnVsbCwKICAiZGFzaE9mZnNldCI6IG51bGwsCiAgImZpbGwiOiB0cnVlLAogICJmaWxsQ29sb3IiOiAiIzMxODZjYyIsCiAgImZpbGxPcGFjaXR5IjogMC43LAogICJmaWxsUnVsZSI6ICJldmVub2RkIiwKICAibGluZUNhcCI6ICJyb3VuZCIsCiAgImxpbmVKb2luIjogInJvdW5kIiwKICAib3BhY2l0eSI6IDEuMCwKICAicmFkaXVzIjogNCwKICAic3Ryb2tlIjogdHJ1ZSwKICAid2VpZ2h0IjogMwp9CiAgICAgICAgICAgICAgICApCiAgICAgICAgICAgICAgICAuYWRkVG8obWFwX2IwZjgxMzNhNDZhMTQ4N2FhZDBjMTkxZWU0ZmYxZTMzKTsKICAgICAgICAgICAgCiAgICAKICAgICAgICAgICAgdmFyIHBvcHVwXzc1ZDA3YzcxNWQ2ODRiODhiNDgzOTJhMDlkYmRmMzgyID0gTC5wb3B1cCh7bWF4V2lkdGg6ICcxMDAlJwogICAgICAgICAgICAKICAgICAgICAgICAgfSk7CgogICAgICAgICAgICAKICAgICAgICAgICAgICAgIHZhciBodG1sX2ZhMzA0ZmE1NTI2NzQ0NWU4NTI0MzVmZTcwNDRhZmM1ID0gJChgPGRpdiBpZD0iaHRtbF9mYTMwNGZhNTUyNjc0NDVlODUyNDM1ZmU3MDQ0YWZjNSIgc3R5bGU9IndpZHRoOiAxMDAuMCU7IGhlaWdodDogMTAwLjAlOyI+VGhlIEJlYWNoZXM8L2Rpdj5gKVswXTsKICAgICAgICAgICAgICAgIHBvcHVwXzc1ZDA3YzcxNWQ2ODRiODhiNDgzOTJhMDlkYmRmMzgyLnNldENvbnRlbnQoaHRtbF9mYTMwNGZhNTUyNjc0NDVlODUyNDM1ZmU3MDQ0YWZjNSk7CiAgICAgICAgICAgIAoKICAgICAgICAgICAgY2lyY2xlX21hcmtlcl80N2Y3YjU5MGUxYjk0MWEyYjcxM2UxNTAwY2IxZTQ4NS5iaW5kUG9wdXAocG9wdXBfNzVkMDdjNzE1ZDY4NGI4OGI0ODM5MmEwOWRiZGYzODIpCiAgICAgICAgICAgIDsKCiAgICAgICAgICAgIAogICAgICAgIAogICAgCiAgICAgICAgICAgIHZhciBjaXJjbGVfbWFya2VyXzQ5YmM4ZTVjOTc4MDQyMmI5YmI5MDdiNmQ3ZmQzNWU0ID0gTC5jaXJjbGVNYXJrZXIoCiAgICAgICAgICAgICAgICBbNDMuNjQ0NzcwNzk5OTk5OTk2LCAtNzkuMzczMzA2NF0sCiAgICAgICAgICAgICAgICB7CiAgImJ1YmJsaW5nTW91c2VFdmVudHMiOiB0cnVlLAogICJjb2xvciI6ICJibHVlIiwKICAiZGFzaEFycmF5IjogbnVsbCwKICAiZGFzaE9mZnNldCI6IG51bGwsCiAgImZpbGwiOiB0cnVlLAogICJmaWxsQ29sb3IiOiAiIzMxODZjYyIsCiAgImZpbGxPcGFjaXR5IjogMC43LAogICJmaWxsUnVsZSI6ICJldmVub2RkIiwKICAibGluZUNhcCI6ICJyb3VuZCIsCiAgImxpbmVKb2luIjogInJvdW5kIiwKICAib3BhY2l0eSI6IDEuMCwKICAicmFkaXVzIjogNCwKICAic3Ryb2tlIjogdHJ1ZSwKICAid2VpZ2h0IjogMwp9CiAgICAgICAgICAgICAgICApCiAgICAgICAgICAgICAgICAuYWRkVG8obWFwX2IwZjgxMzNhNDZhMTQ4N2FhZDBjMTkxZWU0ZmYxZTMzKTsKICAgICAgICAgICAgCiAgICAKICAgICAgICAgICAgdmFyIHBvcHVwXzdkMDVkNzQwMmU4NDRkMWJiOGRkYTEzZTFiMGRmYjdiID0gTC5wb3B1cCh7bWF4V2lkdGg6ICcxMDAlJwogICAgICAgICAgICAKICAgICAgICAgICAgfSk7CgogICAgICAgICAgICAKICAgICAgICAgICAgICAgIHZhciBodG1sXzM4MjlkYmU2OGE1MDQ2OGM5ZTE5MTliNDc2NTNlNjg2ID0gJChgPGRpdiBpZD0iaHRtbF8zODI5ZGJlNjhhNTA0NjhjOWUxOTE5YjQ3NjUzZTY4NiIgc3R5bGU9IndpZHRoOiAxMDAuMCU7IGhlaWdodDogMTAwLjAlOyI+QmVyY3p5IFBhcms8L2Rpdj5gKVswXTsKICAgICAgICAgICAgICAgIHBvcHVwXzdkMDVkNzQwMmU4NDRkMWJiOGRkYTEzZTFiMGRmYjdiLnNldENvbnRlbnQoaHRtbF8zODI5ZGJlNjhhNTA0NjhjOWUxOTE5YjQ3NjUzZTY4Nik7CiAgICAgICAgICAgIAoKICAgICAgICAgICAgY2lyY2xlX21hcmtlcl80OWJjOGU1Yzk3ODA0MjJiOWJiOTA3YjZkN2ZkMzVlNC5iaW5kUG9wdXAocG9wdXBfN2QwNWQ3NDAyZTg0NGQxYmI4ZGRhMTNlMWIwZGZiN2IpCiAgICAgICAgICAgIDsKCiAgICAgICAgICAgIAogICAgICAgIAogICAgCiAgICAgICAgICAgIHZhciBjaXJjbGVfbWFya2VyX2IxNzFjYTViZTAzYzRlZmI5OTZjMmE2ZjZkN2M2ZDhkID0gTC5jaXJjbGVNYXJrZXIoCiAgICAgICAgICAgICAgICBbNDMuNjg5MDI1NiwgLTc5LjQ1MzUxMl0sCiAgICAgICAgICAgICAgICB7CiAgImJ1YmJsaW5nTW91c2VFdmVudHMiOiB0cnVlLAogICJjb2xvciI6ICJibHVlIiwKICAiZGFzaEFycmF5IjogbnVsbCwKICAiZGFzaE9mZnNldCI6IG51bGwsCiAgImZpbGwiOiB0cnVlLAogICJmaWxsQ29sb3IiOiAiIzMxODZjYyIsCiAgImZpbGxPcGFjaXR5IjogMC43LAogICJmaWxsUnVsZSI6ICJldmVub2RkIiwKICAibGluZUNhcCI6ICJyb3VuZCIsCiAgImxpbmVKb2luIjogInJvdW5kIiwKICAib3BhY2l0eSI6IDEuMCwKICAicmFkaXVzIjogNCwKICAic3Ryb2tlIjogdHJ1ZSwKICAid2VpZ2h0IjogMwp9CiAgICAgICAgICAgICAgICApCiAgICAgICAgICAgICAgICAuYWRkVG8obWFwX2IwZjgxMzNhNDZhMTQ4N2FhZDBjMTkxZWU0ZmYxZTMzKTsKICAgICAgICAgICAgCiAgICAKICAgICAgICAgICAgdmFyIHBvcHVwXzQ4ZWVjNjhmOTg4ZTRiMmE5MGQ1NTdmOTRkN2E5NjI5ID0gTC5wb3B1cCh7bWF4V2lkdGg6ICcxMDAlJwogICAgICAgICAgICAKICAgICAgICAgICAgfSk7CgogICAgICAgICAgICAKICAgICAgICAgICAgICAgIHZhciBodG1sX2ExMDE3OThkY2MxODRkZDViYWI5N2U0MGJiYmU2ZGFjID0gJChgPGRpdiBpZD0iaHRtbF9hMTAxNzk4ZGNjMTg0ZGQ1YmFiOTdlNDBiYmJlNmRhYyIgc3R5bGU9IndpZHRoOiAxMDAuMCU7IGhlaWdodDogMTAwLjAlOyI+Q2FsZWRvbmlhLUZhaXJiYW5rczwvZGl2PmApWzBdOwogICAgICAgICAgICAgICAgcG9wdXBfNDhlZWM2OGY5ODhlNGIyYTkwZDU1N2Y5NGQ3YTk2Mjkuc2V0Q29udGVudChodG1sX2ExMDE3OThkY2MxODRkZDViYWI5N2U0MGJiYmU2ZGFjKTsKICAgICAgICAgICAgCgogICAgICAgICAgICBjaXJjbGVfbWFya2VyX2IxNzFjYTViZTAzYzRlZmI5OTZjMmE2ZjZkN2M2ZDhkLmJpbmRQb3B1cChwb3B1cF80OGVlYzY4Zjk4OGU0YjJhOTBkNTU3Zjk0ZDdhOTYyOSkKICAgICAgICAgICAgOwoKICAgICAgICAgICAgCiAgICAgICAgCiAgICAKICAgICAgICAgICAgdmFyIGNpcmNsZV9tYXJrZXJfNTU5Nzk4MDQ5OGRmNDcwMWEyYmFiNWRhMDBhMjA5ZTQgPSBMLmNpcmNsZU1hcmtlcigKICAgICAgICAgICAgICAgIFs0My43NzA5OTIxLCAtNzkuMjE2OTE3NDAwMDAwMDFdLAogICAgICAgICAgICAgICAgewogICJidWJibGluZ01vdXNlRXZlbnRzIjogdHJ1ZSwKICAiY29sb3IiOiAiYmx1ZSIsCiAgImRhc2hBcnJheSI6IG51bGwsCiAgImRhc2hPZmZzZXQiOiBudWxsLAogICJmaWxsIjogdHJ1ZSwKICAiZmlsbENvbG9yIjogIiMzMTg2Y2MiLAogICJmaWxsT3BhY2l0eSI6IDAuNywKICAiZmlsbFJ1bGUiOiAiZXZlbm9kZCIsCiAgImxpbmVDYXAiOiAicm91bmQiLAogICJsaW5lSm9pbiI6ICJyb3VuZCIsCiAgIm9wYWNpdHkiOiAxLjAsCiAgInJhZGl1cyI6IDQsCiAgInN0cm9rZSI6IHRydWUsCiAgIndlaWdodCI6IDMKfQogICAgICAgICAgICAgICAgKQogICAgICAgICAgICAgICAgLmFkZFRvKG1hcF9iMGY4MTMzYTQ2YTE0ODdhYWQwYzE5MWVlNGZmMWUzMyk7CiAgICAgICAgICAgIAogICAgCiAgICAgICAgICAgIHZhciBwb3B1cF9kZTI2NjVjZTdjZWE0NmY1YmI4NTA1MmIwZjQ0MmM1ZiA9IEwucG9wdXAoe21heFdpZHRoOiAnMTAwJScKICAgICAgICAgICAgCiAgICAgICAgICAgIH0pOwoKICAgICAgICAgICAgCiAgICAgICAgICAgICAgICB2YXIgaHRtbF80MjFiNzc0OWYwM2M0NTA4ODYwNTBkNzQzMzg2MTQ2NyA9ICQoYDxkaXYgaWQ9Imh0bWxfNDIxYjc3NDlmMDNjNDUwODg2MDUwZDc0MzM4NjE0NjciIHN0eWxlPSJ3aWR0aDogMTAwLjAlOyBoZWlnaHQ6IDEwMC4wJTsiPldvYnVybjwvZGl2PmApWzBdOwogICAgICAgICAgICAgICAgcG9wdXBfZGUyNjY1Y2U3Y2VhNDZmNWJiODUwNTJiMGY0NDJjNWYuc2V0Q29udGVudChodG1sXzQyMWI3NzQ5ZjAzYzQ1MDg4NjA1MGQ3NDMzODYxNDY3KTsKICAgICAgICAgICAgCgogICAgICAgICAgICBjaXJjbGVfbWFya2VyXzU1OTc5ODA0OThkZjQ3MDFhMmJhYjVkYTAwYTIwOWU0LmJpbmRQb3B1cChwb3B1cF9kZTI2NjVjZTdjZWE0NmY1YmI4NTA1MmIwZjQ0MmM1ZikKICAgICAgICAgICAgOwoKICAgICAgICAgICAgCiAgICAgICAgCiAgICAKICAgICAgICAgICAgdmFyIGNpcmNsZV9tYXJrZXJfNjM4ZGQxZjI5M2Y4NDkwYmI1NGJmNjhhOWQ0NjY0YWMgPSBMLmNpcmNsZU1hcmtlcigKICAgICAgICAgICAgICAgIFs0My43MDkwNjA0LCAtNzkuMzYzNDUxN10sCiAgICAgICAgICAgICAgICB7CiAgImJ1YmJsaW5nTW91c2VFdmVudHMiOiB0cnVlLAogICJjb2xvciI6ICJibHVlIiwKICAiZGFzaEFycmF5IjogbnVsbCwKICAiZGFzaE9mZnNldCI6IG51bGwsCiAgImZpbGwiOiB0cnVlLAogICJmaWxsQ29sb3IiOiAiIzMxODZjYyIsCiAgImZpbGxPcGFjaXR5IjogMC43LAogICJmaWxsUnVsZSI6ICJldmVub2RkIiwKICAibGluZUNhcCI6ICJyb3VuZCIsCiAgImxpbmVKb2luIjogInJvdW5kIiwKICAib3BhY2l0eSI6IDEuMCwKICAicmFkaXVzIjogNCwKICAic3Ryb2tlIjogdHJ1ZSwKICAid2VpZ2h0IjogMwp9CiAgICAgICAgICAgICAgICApCiAgICAgICAgICAgICAgICAuYWRkVG8obWFwX2IwZjgxMzNhNDZhMTQ4N2FhZDBjMTkxZWU0ZmYxZTMzKTsKICAgICAgICAgICAgCiAgICAKICAgICAgICAgICAgdmFyIHBvcHVwXzVhNGViYTZjMDMwMDQwZWY4ZWM2YWU1NDc1ZWY2YmI4ID0gTC5wb3B1cCh7bWF4V2lkdGg6ICcxMDAlJwogICAgICAgICAgICAKICAgICAgICAgICAgfSk7CgogICAgICAgICAgICAKICAgICAgICAgICAgICAgIHZhciBodG1sXzI0M2IyOTI1ODhmNzQ2MjBhOWQ0OTU4ZGY4MGMyZjdlID0gJChgPGRpdiBpZD0iaHRtbF8yNDNiMjkyNTg4Zjc0NjIwYTlkNDk1OGRmODBjMmY3ZSIgc3R5bGU9IndpZHRoOiAxMDAuMCU7IGhlaWdodDogMTAwLjAlOyI+TGVhc2lkZTwvZGl2PmApWzBdOwogICAgICAgICAgICAgICAgcG9wdXBfNWE0ZWJhNmMwMzAwNDBlZjhlYzZhZTU0NzVlZjZiYjguc2V0Q29udGVudChodG1sXzI0M2IyOTI1ODhmNzQ2MjBhOWQ0OTU4ZGY4MGMyZjdlKTsKICAgICAgICAgICAgCgogICAgICAgICAgICBjaXJjbGVfbWFya2VyXzYzOGRkMWYyOTNmODQ5MGJiNTRiZjY4YTlkNDY2NGFjLmJpbmRQb3B1cChwb3B1cF81YTRlYmE2YzAzMDA0MGVmOGVjNmFlNTQ3NWVmNmJiOCkKICAgICAgICAgICAgOwoKICAgICAgICAgICAgCiAgICAgICAgCiAgICAKICAgICAgICAgICAgdmFyIGNpcmNsZV9tYXJrZXJfNjY1YmVjNGZhM2YwNGUwYjhkMGQzNmZjNDlhYTM5YTkgPSBMLmNpcmNsZU1hcmtlcigKICAgICAgICAgICAgICAgIFs0My42NTc5NTI0LCAtNzkuMzg3MzgyNl0sCiAgICAgICAgICAgICAgICB7CiAgImJ1YmJsaW5nTW91c2VFdmVudHMiOiB0cnVlLAogICJjb2xvciI6ICJibHVlIiwKICAiZGFzaEFycmF5IjogbnVsbCwKICAiZGFzaE9mZnNldCI6IG51bGwsCiAgImZpbGwiOiB0cnVlLAogICJmaWxsQ29sb3IiOiAiIzMxODZjYyIsCiAgImZpbGxPcGFjaXR5IjogMC43LAogICJmaWxsUnVsZSI6ICJldmVub2RkIiwKICAibGluZUNhcCI6ICJyb3VuZCIsCiAgImxpbmVKb2luIjogInJvdW5kIiwKICAib3BhY2l0eSI6IDEuMCwKICAicmFkaXVzIjogNCwKICAic3Ryb2tlIjogdHJ1ZSwKICAid2VpZ2h0IjogMwp9CiAgICAgICAgICAgICAgICApCiAgICAgICAgICAgICAgICAuYWRkVG8obWFwX2IwZjgxMzNhNDZhMTQ4N2FhZDBjMTkxZWU0ZmYxZTMzKTsKICAgICAgICAgICAgCiAgICAKICAgICAgICAgICAgdmFyIHBvcHVwXzZlMzBkOWNkYjU0YTQzYjFhODZmMDZmYzg3MTAwODZhID0gTC5wb3B1cCh7bWF4V2lkdGg6ICcxMDAlJwogICAgICAgICAgICAKICAgICAgICAgICAgfSk7CgogICAgICAgICAgICAKICAgICAgICAgICAgICAgIHZhciBodG1sXzU2OTdjNDUxMzU1YTRiMTBhMzM4YzA5ZGQxNjIzODlkID0gJChgPGRpdiBpZD0iaHRtbF81Njk3YzQ1MTM1NWE0YjEwYTMzOGMwOWRkMTYyMzg5ZCIgc3R5bGU9IndpZHRoOiAxMDAuMCU7IGhlaWdodDogMTAwLjAlOyI+Q2VudHJhbCBCYXkgU3RyZWV0PC9kaXY+YClbMF07CiAgICAgICAgICAgICAgICBwb3B1cF82ZTMwZDljZGI1NGE0M2IxYTg2ZjA2ZmM4NzEwMDg2YS5zZXRDb250ZW50KGh0bWxfNTY5N2M0NTEzNTVhNGIxMGEzMzhjMDlkZDE2MjM4OWQpOwogICAgICAgICAgICAKCiAgICAgICAgICAgIGNpcmNsZV9tYXJrZXJfNjY1YmVjNGZhM2YwNGUwYjhkMGQzNmZjNDlhYTM5YTkuYmluZFBvcHVwKHBvcHVwXzZlMzBkOWNkYjU0YTQzYjFhODZmMDZmYzg3MTAwODZhKQogICAgICAgICAgICA7CgogICAgICAgICAgICAKICAgICAgICAKICAgIAogICAgICAgICAgICB2YXIgY2lyY2xlX21hcmtlcl9kM2JlNDU3ZTQxNWM0ZGZiYjZlMDVhZDc4MTljNzllNSA9IEwuY2lyY2xlTWFya2VyKAogICAgICAgICAgICAgICAgWzQzLjY2OTU0MiwgLTc5LjQyMjU2MzddLAogICAgICAgICAgICAgICAgewogICJidWJibGluZ01vdXNlRXZlbnRzIjogdHJ1ZSwKICAiY29sb3IiOiAiYmx1ZSIsCiAgImRhc2hBcnJheSI6IG51bGwsCiAgImRhc2hPZmZzZXQiOiBudWxsLAogICJmaWxsIjogdHJ1ZSwKICAiZmlsbENvbG9yIjogIiMzMTg2Y2MiLAogICJmaWxsT3BhY2l0eSI6IDAuNywKICAiZmlsbFJ1bGUiOiAiZXZlbm9kZCIsCiAgImxpbmVDYXAiOiAicm91bmQiLAogICJsaW5lSm9pbiI6ICJyb3VuZCIsCiAgIm9wYWNpdHkiOiAxLjAsCiAgInJhZGl1cyI6IDQsCiAgInN0cm9rZSI6IHRydWUsCiAgIndlaWdodCI6IDMKfQogICAgICAgICAgICAgICAgKQogICAgICAgICAgICAgICAgLmFkZFRvKG1hcF9iMGY4MTMzYTQ2YTE0ODdhYWQwYzE5MWVlNGZmMWUzMyk7CiAgICAgICAgICAgIAogICAgCiAgICAgICAgICAgIHZhciBwb3B1cF84Mzk1ZGQxMTczNDg0MjkzOGZiNzQwMmMyODYwMjRkOCA9IEwucG9wdXAoe21heFdpZHRoOiAnMTAwJScKICAgICAgICAgICAgCiAgICAgICAgICAgIH0pOwoKICAgICAgICAgICAgCiAgICAgICAgICAgICAgICB2YXIgaHRtbF84ZmUyODA5ZTc5NmU0MGU4OTE4YWNjNWQwZmYwZTg5ZSA9ICQoYDxkaXYgaWQ9Imh0bWxfOGZlMjgwOWU3OTZlNDBlODkxOGFjYzVkMGZmMGU4OWUiIHN0eWxlPSJ3aWR0aDogMTAwLjAlOyBoZWlnaHQ6IDEwMC4wJTsiPkNocmlzdGllPC9kaXY+YClbMF07CiAgICAgICAgICAgICAgICBwb3B1cF84Mzk1ZGQxMTczNDg0MjkzOGZiNzQwMmMyODYwMjRkOC5zZXRDb250ZW50KGh0bWxfOGZlMjgwOWU3OTZlNDBlODkxOGFjYzVkMGZmMGU4OWUpOwogICAgICAgICAgICAKCiAgICAgICAgICAgIGNpcmNsZV9tYXJrZXJfZDNiZTQ1N2U0MTVjNGRmYmI2ZTA1YWQ3ODE5Yzc5ZTUuYmluZFBvcHVwKHBvcHVwXzgzOTVkZDExNzM0ODQyOTM4ZmI3NDAyYzI4NjAyNGQ4KQogICAgICAgICAgICA7CgogICAgICAgICAgICAKICAgICAgICAKICAgIAogICAgICAgICAgICB2YXIgY2lyY2xlX21hcmtlcl9hMjA4NjYzNjIyMTE0Zjc2YmM4OWIzOTdhZGVlNjExOCA9IEwuY2lyY2xlTWFya2VyKAogICAgICAgICAgICAgICAgWzQzLjc3MzEzNiwgLTc5LjIzOTQ3NjA5OTk5OTk5XSwKICAgICAgICAgICAgICAgIHsKICAiYnViYmxpbmdNb3VzZUV2ZW50cyI6IHRydWUsCiAgImNvbG9yIjogImJsdWUiLAogICJkYXNoQXJyYXkiOiBudWxsLAogICJkYXNoT2Zmc2V0IjogbnVsbCwKICAiZmlsbCI6IHRydWUsCiAgImZpbGxDb2xvciI6ICIjMzE4NmNjIiwKICAiZmlsbE9wYWNpdHkiOiAwLjcsCiAgImZpbGxSdWxlIjogImV2ZW5vZGQiLAogICJsaW5lQ2FwIjogInJvdW5kIiwKICAibGluZUpvaW4iOiAicm91bmQiLAogICJvcGFjaXR5IjogMS4wLAogICJyYWRpdXMiOiA0LAogICJzdHJva2UiOiB0cnVlLAogICJ3ZWlnaHQiOiAzCn0KICAgICAgICAgICAgICAgICkKICAgICAgICAgICAgICAgIC5hZGRUbyhtYXBfYjBmODEzM2E0NmExNDg3YWFkMGMxOTFlZTRmZjFlMzMpOwogICAgICAgICAgICAKICAgIAogICAgICAgICAgICB2YXIgcG9wdXBfYWVmMzAzOTE4NmFmNGMxMzg2YTE5YjkyYzM5YzdlYjYgPSBMLnBvcHVwKHttYXhXaWR0aDogJzEwMCUnCiAgICAgICAgICAgIAogICAgICAgICAgICB9KTsKCiAgICAgICAgICAgIAogICAgICAgICAgICAgICAgdmFyIGh0bWxfNTA4ODE1Mzg4Zjk3NGNkNmJmNWY5NzUxZjkyZTJlN2EgPSAkKGA8ZGl2IGlkPSJodG1sXzUwODgxNTM4OGY5NzRjZDZiZjVmOTc1MWY5MmUyZTdhIiBzdHlsZT0id2lkdGg6IDEwMC4wJTsgaGVpZ2h0OiAxMDAuMCU7Ij5DZWRhcmJyYWU8L2Rpdj5gKVswXTsKICAgICAgICAgICAgICAgIHBvcHVwX2FlZjMwMzkxODZhZjRjMTM4NmExOWI5MmMzOWM3ZWI2LnNldENvbnRlbnQoaHRtbF81MDg4MTUzODhmOTc0Y2Q2YmY1Zjk3NTFmOTJlMmU3YSk7CiAgICAgICAgICAgIAoKICAgICAgICAgICAgY2lyY2xlX21hcmtlcl9hMjA4NjYzNjIyMTE0Zjc2YmM4OWIzOTdhZGVlNjExOC5iaW5kUG9wdXAocG9wdXBfYWVmMzAzOTE4NmFmNGMxMzg2YTE5YjkyYzM5YzdlYjYpCiAgICAgICAgICAgIDsKCiAgICAgICAgICAgIAogICAgICAgIAogICAgCiAgICAgICAgICAgIHZhciBjaXJjbGVfbWFya2VyXzNiNGNiNjljZWMyNTRmNmVhNjZmNWQ1ODkyMjczM2E2ID0gTC5jaXJjbGVNYXJrZXIoCiAgICAgICAgICAgICAgICBbNDMuODAzNzYyMiwgLTc5LjM2MzQ1MTddLAogICAgICAgICAgICAgICAgewogICJidWJibGluZ01vdXNlRXZlbnRzIjogdHJ1ZSwKICAiY29sb3IiOiAiYmx1ZSIsCiAgImRhc2hBcnJheSI6IG51bGwsCiAgImRhc2hPZmZzZXQiOiBudWxsLAogICJmaWxsIjogdHJ1ZSwKICAiZmlsbENvbG9yIjogIiMzMTg2Y2MiLAogICJmaWxsT3BhY2l0eSI6IDAuNywKICAiZmlsbFJ1bGUiOiAiZXZlbm9kZCIsCiAgImxpbmVDYXAiOiAicm91bmQiLAogICJsaW5lSm9pbiI6ICJyb3VuZCIsCiAgIm9wYWNpdHkiOiAxLjAsCiAgInJhZGl1cyI6IDQsCiAgInN0cm9rZSI6IHRydWUsCiAgIndlaWdodCI6IDMKfQogICAgICAgICAgICAgICAgKQogICAgICAgICAgICAgICAgLmFkZFRvKG1hcF9iMGY4MTMzYTQ2YTE0ODdhYWQwYzE5MWVlNGZmMWUzMyk7CiAgICAgICAgICAgIAogICAgCiAgICAgICAgICAgIHZhciBwb3B1cF8yNTgwMjA2YzBlMTg0YWZiOTZlOGQzN2IxMTJkZTI3NyA9IEwucG9wdXAoe21heFdpZHRoOiAnMTAwJScKICAgICAgICAgICAgCiAgICAgICAgICAgIH0pOwoKICAgICAgICAgICAgCiAgICAgICAgICAgICAgICB2YXIgaHRtbF9kMDI4YjM1ZmFhMTA0YjIwYTg3NGViODQyMTJkZTdjOSA9ICQoYDxkaXYgaWQ9Imh0bWxfZDAyOGIzNWZhYTEwNGIyMGE4NzRlYjg0MjEyZGU3YzkiIHN0eWxlPSJ3aWR0aDogMTAwLjAlOyBoZWlnaHQ6IDEwMC4wJTsiPkhpbGxjcmVzdCBWaWxsYWdlPC9kaXY+YClbMF07CiAgICAgICAgICAgICAgICBwb3B1cF8yNTgwMjA2YzBlMTg0YWZiOTZlOGQzN2IxMTJkZTI3Ny5zZXRDb250ZW50KGh0bWxfZDAyOGIzNWZhYTEwNGIyMGE4NzRlYjg0MjEyZGU3YzkpOwogICAgICAgICAgICAKCiAgICAgICAgICAgIGNpcmNsZV9tYXJrZXJfM2I0Y2I2OWNlYzI1NGY2ZWE2NmY1ZDU4OTIyNzMzYTYuYmluZFBvcHVwKHBvcHVwXzI1ODAyMDZjMGUxODRhZmI5NmU4ZDM3YjExMmRlMjc3KQogICAgICAgICAgICA7CgogICAgICAgICAgICAKICAgICAgICAKICAgIAogICAgICAgICAgICB2YXIgY2lyY2xlX21hcmtlcl9mYTExNWI1YjcxYWE0NWQ4OGE5ZjJhNTM5MDVkMGQ2MiA9IEwuY2lyY2xlTWFya2VyKAogICAgICAgICAgICAgICAgWzQzLjc1NDMyODMsIC03OS40NDIyNTkzXSwKICAgICAgICAgICAgICAgIHsKICAiYnViYmxpbmdNb3VzZUV2ZW50cyI6IHRydWUsCiAgImNvbG9yIjogImJsdWUiLAogICJkYXNoQXJyYXkiOiBudWxsLAogICJkYXNoT2Zmc2V0IjogbnVsbCwKICAiZmlsbCI6IHRydWUsCiAgImZpbGxDb2xvciI6ICIjMzE4NmNjIiwKICAiZmlsbE9wYWNpdHkiOiAwLjcsCiAgImZpbGxSdWxlIjogImV2ZW5vZGQiLAogICJsaW5lQ2FwIjogInJvdW5kIiwKICAibGluZUpvaW4iOiAicm91bmQiLAogICJvcGFjaXR5IjogMS4wLAogICJyYWRpdXMiOiA0LAogICJzdHJva2UiOiB0cnVlLAogICJ3ZWlnaHQiOiAzCn0KICAgICAgICAgICAgICAgICkKICAgICAgICAgICAgICAgIC5hZGRUbyhtYXBfYjBmODEzM2E0NmExNDg3YWFkMGMxOTFlZTRmZjFlMzMpOwogICAgICAgICAgICAKICAgIAogICAgICAgICAgICB2YXIgcG9wdXBfOGVkZjFmNjQwYTFkNDJhNjljODFjNmYwYzVlNDQ4YTEgPSBMLnBvcHVwKHttYXhXaWR0aDogJzEwMCUnCiAgICAgICAgICAgIAogICAgICAgICAgICB9KTsKCiAgICAgICAgICAgIAogICAgICAgICAgICAgICAgdmFyIGh0bWxfMzBhYzIyM2Q4ODM2NGY2Njk2YmQ0NzJjMWM2MDZlMTAgPSAkKGA8ZGl2IGlkPSJodG1sXzMwYWMyMjNkODgzNjRmNjY5NmJkNDcyYzFjNjA2ZTEwIiBzdHlsZT0id2lkdGg6IDEwMC4wJTsgaGVpZ2h0OiAxMDAuMCU7Ij5CYXRodXJzdCBNYW5vciwgV2lsc29uIEhlaWdodHMsIERvd25zdmlldyBOb3J0aDwvZGl2PmApWzBdOwogICAgICAgICAgICAgICAgcG9wdXBfOGVkZjFmNjQwYTFkNDJhNjljODFjNmYwYzVlNDQ4YTEuc2V0Q29udGVudChodG1sXzMwYWMyMjNkODgzNjRmNjY5NmJkNDcyYzFjNjA2ZTEwKTsKICAgICAgICAgICAgCgogICAgICAgICAgICBjaXJjbGVfbWFya2VyX2ZhMTE1YjViNzFhYTQ1ZDg4YTlmMmE1MzkwNWQwZDYyLmJpbmRQb3B1cChwb3B1cF84ZWRmMWY2NDBhMWQ0MmE2OWM4MWM2ZjBjNWU0NDhhMSkKICAgICAgICAgICAgOwoKICAgICAgICAgICAgCiAgICAgICAgCiAgICAKICAgICAgICAgICAgdmFyIGNpcmNsZV9tYXJrZXJfNWFhNTk5ZjJjZDE3NDlmMWI0ZDBmZTY1OTc0ODUyMmQgPSBMLmNpcmNsZU1hcmtlcigKICAgICAgICAgICAgICAgIFs0My43MDUzNjg5LCAtNzkuMzQ5MzcxOTAwMDAwMDFdLAogICAgICAgICAgICAgICAgewogICJidWJibGluZ01vdXNlRXZlbnRzIjogdHJ1ZSwKICAiY29sb3IiOiAiYmx1ZSIsCiAgImRhc2hBcnJheSI6IG51bGwsCiAgImRhc2hPZmZzZXQiOiBudWxsLAogICJmaWxsIjogdHJ1ZSwKICAiZmlsbENvbG9yIjogIiMzMTg2Y2MiLAogICJmaWxsT3BhY2l0eSI6IDAuNywKICAiZmlsbFJ1bGUiOiAiZXZlbm9kZCIsCiAgImxpbmVDYXAiOiAicm91bmQiLAogICJsaW5lSm9pbiI6ICJyb3VuZCIsCiAgIm9wYWNpdHkiOiAxLjAsCiAgInJhZGl1cyI6IDQsCiAgInN0cm9rZSI6IHRydWUsCiAgIndlaWdodCI6IDMKfQogICAgICAgICAgICAgICAgKQogICAgICAgICAgICAgICAgLmFkZFRvKG1hcF9iMGY4MTMzYTQ2YTE0ODdhYWQwYzE5MWVlNGZmMWUzMyk7CiAgICAgICAgICAgIAogICAgCiAgICAgICAgICAgIHZhciBwb3B1cF9mMDU4ZGY0NTUzMDQ0NmQ0YTdmZGY3MDU3MGY2MjUyZCA9IEwucG9wdXAoe21heFdpZHRoOiAnMTAwJScKICAgICAgICAgICAgCiAgICAgICAgICAgIH0pOwoKICAgICAgICAgICAgCiAgICAgICAgICAgICAgICB2YXIgaHRtbF8yZDc5YjA3ZmJhZjY0ODg4OGQ1MzhkNWI2ODM1YjRlYyA9ICQoYDxkaXYgaWQ9Imh0bWxfMmQ3OWIwN2ZiYWY2NDg4ODhkNTM4ZDViNjgzNWI0ZWMiIHN0eWxlPSJ3aWR0aDogMTAwLjAlOyBoZWlnaHQ6IDEwMC4wJTsiPlRob3JuY2xpZmZlIFBhcms8L2Rpdj5gKVswXTsKICAgICAgICAgICAgICAgIHBvcHVwX2YwNThkZjQ1NTMwNDQ2ZDRhN2ZkZjcwNTcwZjYyNTJkLnNldENvbnRlbnQoaHRtbF8yZDc5YjA3ZmJhZjY0ODg4OGQ1MzhkNWI2ODM1YjRlYyk7CiAgICAgICAgICAgIAoKICAgICAgICAgICAgY2lyY2xlX21hcmtlcl81YWE1OTlmMmNkMTc0OWYxYjRkMGZlNjU5NzQ4NTIyZC5iaW5kUG9wdXAocG9wdXBfZjA1OGRmNDU1MzA0NDZkNGE3ZmRmNzA1NzBmNjI1MmQpCiAgICAgICAgICAgIDsKCiAgICAgICAgICAgIAogICAgICAgIAogICAgCiAgICAgICAgICAgIHZhciBjaXJjbGVfbWFya2VyXzA0YWU4MTBmZDIwMzRiNzdiNWY2YmNiZDc5ZGJmZTNhID0gTC5jaXJjbGVNYXJrZXIoCiAgICAgICAgICAgICAgICBbNDMuNjUwNTcxMjAwMDAwMDEsIC03OS4zODQ1Njc1XSwKICAgICAgICAgICAgICAgIHsKICAiYnViYmxpbmdNb3VzZUV2ZW50cyI6IHRydWUsCiAgImNvbG9yIjogImJsdWUiLAogICJkYXNoQXJyYXkiOiBudWxsLAogICJkYXNoT2Zmc2V0IjogbnVsbCwKICAiZmlsbCI6IHRydWUsCiAgImZpbGxDb2xvciI6ICIjMzE4NmNjIiwKICAiZmlsbE9wYWNpdHkiOiAwLjcsCiAgImZpbGxSdWxlIjogImV2ZW5vZGQiLAogICJsaW5lQ2FwIjogInJvdW5kIiwKICAibGluZUpvaW4iOiAicm91bmQiLAogICJvcGFjaXR5IjogMS4wLAogICJyYWRpdXMiOiA0LAogICJzdHJva2UiOiB0cnVlLAogICJ3ZWlnaHQiOiAzCn0KICAgICAgICAgICAgICAgICkKICAgICAgICAgICAgICAgIC5hZGRUbyhtYXBfYjBmODEzM2E0NmExNDg3YWFkMGMxOTFlZTRmZjFlMzMpOwogICAgICAgICAgICAKICAgIAogICAgICAgICAgICB2YXIgcG9wdXBfMjA2NWExYjM0ZjFmNGQ3NmFmYWViNTA1NDZmZWQyYTggPSBMLnBvcHVwKHttYXhXaWR0aDogJzEwMCUnCiAgICAgICAgICAgIAogICAgICAgICAgICB9KTsKCiAgICAgICAgICAgIAogICAgICAgICAgICAgICAgdmFyIGh0bWxfNWRjN2I1NmQzYjkxNGU2M2JkNTZhYzI3NDk0YzNkYmMgPSAkKGA8ZGl2IGlkPSJodG1sXzVkYzdiNTZkM2I5MTRlNjNiZDU2YWMyNzQ5NGMzZGJjIiBzdHlsZT0id2lkdGg6IDEwMC4wJTsgaGVpZ2h0OiAxMDAuMCU7Ij5SaWNobW9uZCwgQWRlbGFpZGUsIEtpbmc8L2Rpdj5gKVswXTsKICAgICAgICAgICAgICAgIHBvcHVwXzIwNjVhMWIzNGYxZjRkNzZhZmFlYjUwNTQ2ZmVkMmE4LnNldENvbnRlbnQoaHRtbF81ZGM3YjU2ZDNiOTE0ZTYzYmQ1NmFjMjc0OTRjM2RiYyk7CiAgICAgICAgICAgIAoKICAgICAgICAgICAgY2lyY2xlX21hcmtlcl8wNGFlODEwZmQyMDM0Yjc3YjVmNmJjYmQ3OWRiZmUzYS5iaW5kUG9wdXAocG9wdXBfMjA2NWExYjM0ZjFmNGQ3NmFmYWViNTA1NDZmZWQyYTgpCiAgICAgICAgICAgIDsKCiAgICAgICAgICAgIAogICAgICAgIAogICAgCiAgICAgICAgICAgIHZhciBjaXJjbGVfbWFya2VyX2Y4Mzk2MTYyMjQ3NjRmNmE5NjhhZDhiYjU4NTQ3ZjFlID0gTC5jaXJjbGVNYXJrZXIoCiAgICAgICAgICAgICAgICBbNDMuNjY5MDA1MTAwMDAwMDEsIC03OS40NDIyNTkzXSwKICAgICAgICAgICAgICAgIHsKICAiYnViYmxpbmdNb3VzZUV2ZW50cyI6IHRydWUsCiAgImNvbG9yIjogImJsdWUiLAogICJkYXNoQXJyYXkiOiBudWxsLAogICJkYXNoT2Zmc2V0IjogbnVsbCwKICAiZmlsbCI6IHRydWUsCiAgImZpbGxDb2xvciI6ICIjMzE4NmNjIiwKICAiZmlsbE9wYWNpdHkiOiAwLjcsCiAgImZpbGxSdWxlIjogImV2ZW5vZGQiLAogICJsaW5lQ2FwIjogInJvdW5kIiwKICAibGluZUpvaW4iOiAicm91bmQiLAogICJvcGFjaXR5IjogMS4wLAogICJyYWRpdXMiOiA0LAogICJzdHJva2UiOiB0cnVlLAogICJ3ZWlnaHQiOiAzCn0KICAgICAgICAgICAgICAgICkKICAgICAgICAgICAgICAgIC5hZGRUbyhtYXBfYjBmODEzM2E0NmExNDg3YWFkMGMxOTFlZTRmZjFlMzMpOwogICAgICAgICAgICAKICAgIAogICAgICAgICAgICB2YXIgcG9wdXBfMzhiNDIwZDE1MTVjNDE3YWJjYmFlYmEyYTdiNzIxYjUgPSBMLnBvcHVwKHttYXhXaWR0aDogJzEwMCUnCiAgICAgICAgICAgIAogICAgICAgICAgICB9KTsKCiAgICAgICAgICAgIAogICAgICAgICAgICAgICAgdmFyIGh0bWxfZTZmMjMzNTQxZjlmNGFjOTlkYWJhYjk4YzI1M2VhMWYgPSAkKGA8ZGl2IGlkPSJodG1sX2U2ZjIzMzU0MWY5ZjRhYzk5ZGFiYWI5OGMyNTNlYTFmIiBzdHlsZT0id2lkdGg6IDEwMC4wJTsgaGVpZ2h0OiAxMDAuMCU7Ij5EdWZmZXJpbiwgRG92ZXJjb3VydCBWaWxsYWdlPC9kaXY+YClbMF07CiAgICAgICAgICAgICAgICBwb3B1cF8zOGI0MjBkMTUxNWM0MTdhYmNiYWViYTJhN2I3MjFiNS5zZXRDb250ZW50KGh0bWxfZTZmMjMzNTQxZjlmNGFjOTlkYWJhYjk4YzI1M2VhMWYpOwogICAgICAgICAgICAKCiAgICAgICAgICAgIGNpcmNsZV9tYXJrZXJfZjgzOTYxNjIyNDc2NGY2YTk2OGFkOGJiNTg1NDdmMWUuYmluZFBvcHVwKHBvcHVwXzM4YjQyMGQxNTE1YzQxN2FiY2JhZWJhMmE3YjcyMWI1KQogICAgICAgICAgICA7CgogICAgICAgICAgICAKICAgICAgICAKICAgIAogICAgICAgICAgICB2YXIgY2lyY2xlX21hcmtlcl8wYzQ1YTI1MTRhNWQ0MjM2YTI5YzQzZTk1OGZkMzYxOSA9IEwuY2lyY2xlTWFya2VyKAogICAgICAgICAgICAgICAgWzQzLjc0NDczNDIsIC03OS4yMzk0NzYwOTk5OTk5OV0sCiAgICAgICAgICAgICAgICB7CiAgImJ1YmJsaW5nTW91c2VFdmVudHMiOiB0cnVlLAogICJjb2xvciI6ICJibHVlIiwKICAiZGFzaEFycmF5IjogbnVsbCwKICAiZGFzaE9mZnNldCI6IG51bGwsCiAgImZpbGwiOiB0cnVlLAogICJmaWxsQ29sb3IiOiAiIzMxODZjYyIsCiAgImZpbGxPcGFjaXR5IjogMC43LAogICJmaWxsUnVsZSI6ICJldmVub2RkIiwKICAibGluZUNhcCI6ICJyb3VuZCIsCiAgImxpbmVKb2luIjogInJvdW5kIiwKICAib3BhY2l0eSI6IDEuMCwKICAicmFkaXVzIjogNCwKICAic3Ryb2tlIjogdHJ1ZSwKICAid2VpZ2h0IjogMwp9CiAgICAgICAgICAgICAgICApCiAgICAgICAgICAgICAgICAuYWRkVG8obWFwX2IwZjgxMzNhNDZhMTQ4N2FhZDBjMTkxZWU0ZmYxZTMzKTsKICAgICAgICAgICAgCiAgICAKICAgICAgICAgICAgdmFyIHBvcHVwX2JkNmU4N2YzYWUxYzQ4ZDU4NjYzMTMzNTk3M2M1MjJjID0gTC5wb3B1cCh7bWF4V2lkdGg6ICcxMDAlJwogICAgICAgICAgICAKICAgICAgICAgICAgfSk7CgogICAgICAgICAgICAKICAgICAgICAgICAgICAgIHZhciBodG1sXzA2MjBlNWEzMDFkODQ4N2Y4NzY5ZjM5ZTU1YzUxOTg1ID0gJChgPGRpdiBpZD0iaHRtbF8wNjIwZTVhMzAxZDg0ODdmODc2OWYzOWU1NWM1MTk4NSIgc3R5bGU9IndpZHRoOiAxMDAuMCU7IGhlaWdodDogMTAwLjAlOyI+U2NhcmJvcm91Z2ggVmlsbGFnZTwvZGl2PmApWzBdOwogICAgICAgICAgICAgICAgcG9wdXBfYmQ2ZTg3ZjNhZTFjNDhkNTg2NjMxMzM1OTczYzUyMmMuc2V0Q29udGVudChodG1sXzA2MjBlNWEzMDFkODQ4N2Y4NzY5ZjM5ZTU1YzUxOTg1KTsKICAgICAgICAgICAgCgogICAgICAgICAgICBjaXJjbGVfbWFya2VyXzBjNDVhMjUxNGE1ZDQyMzZhMjljNDNlOTU4ZmQzNjE5LmJpbmRQb3B1cChwb3B1cF9iZDZlODdmM2FlMWM0OGQ1ODY2MzEzMzU5NzNjNTIyYykKICAgICAgICAgICAgOwoKICAgICAgICAgICAgCiAgICAgICAgCiAgICAKICAgICAgICAgICAgdmFyIGNpcmNsZV9tYXJrZXJfOTU1N2ZkYmFhMjQyNGIxYzg1YWU1NTc1NmU0YTQxNDMgPSBMLmNpcmNsZU1hcmtlcigKICAgICAgICAgICAgICAgIFs0My43Nzg1MTc1LCAtNzkuMzQ2NTU1N10sCiAgICAgICAgICAgICAgICB7CiAgImJ1YmJsaW5nTW91c2VFdmVudHMiOiB0cnVlLAogICJjb2xvciI6ICJibHVlIiwKICAiZGFzaEFycmF5IjogbnVsbCwKICAiZGFzaE9mZnNldCI6IG51bGwsCiAgImZpbGwiOiB0cnVlLAogICJmaWxsQ29sb3IiOiAiIzMxODZjYyIsCiAgImZpbGxPcGFjaXR5IjogMC43LAogICJmaWxsUnVsZSI6ICJldmVub2RkIiwKICAibGluZUNhcCI6ICJyb3VuZCIsCiAgImxpbmVKb2luIjogInJvdW5kIiwKICAib3BhY2l0eSI6IDEuMCwKICAicmFkaXVzIjogNCwKICAic3Ryb2tlIjogdHJ1ZSwKICAid2VpZ2h0IjogMwp9CiAgICAgICAgICAgICAgICApCiAgICAgICAgICAgICAgICAuYWRkVG8obWFwX2IwZjgxMzNhNDZhMTQ4N2FhZDBjMTkxZWU0ZmYxZTMzKTsKICAgICAgICAgICAgCiAgICAKICAgICAgICAgICAgdmFyIHBvcHVwX2QwMTI5MWMwNWFlOTQ2YmQ4NjkxYThmNDU5MDI4MzAxID0gTC5wb3B1cCh7bWF4V2lkdGg6ICcxMDAlJwogICAgICAgICAgICAKICAgICAgICAgICAgfSk7CgogICAgICAgICAgICAKICAgICAgICAgICAgICAgIHZhciBodG1sX2U1NDhiMjdjMDVlNTQzYjRiYWFmODkyOTIyNDhhNGMwID0gJChgPGRpdiBpZD0iaHRtbF9lNTQ4YjI3YzA1ZTU0M2I0YmFhZjg5MjkyMjQ4YTRjMCIgc3R5bGU9IndpZHRoOiAxMDAuMCU7IGhlaWdodDogMTAwLjAlOyI+RmFpcnZpZXcsIEhlbnJ5IEZhcm0sIE9yaW9sZTwvZGl2PmApWzBdOwogICAgICAgICAgICAgICAgcG9wdXBfZDAxMjkxYzA1YWU5NDZiZDg2OTFhOGY0NTkwMjgzMDEuc2V0Q29udGVudChodG1sX2U1NDhiMjdjMDVlNTQzYjRiYWFmODkyOTIyNDhhNGMwKTsKICAgICAgICAgICAgCgogICAgICAgICAgICBjaXJjbGVfbWFya2VyXzk1NTdmZGJhYTI0MjRiMWM4NWFlNTU3NTZlNGE0MTQzLmJpbmRQb3B1cChwb3B1cF9kMDEyOTFjMDVhZTk0NmJkODY5MWE4ZjQ1OTAyODMwMSkKICAgICAgICAgICAgOwoKICAgICAgICAgICAgCiAgICAgICAgCiAgICAKICAgICAgICAgICAgdmFyIGNpcmNsZV9tYXJrZXJfNWNmNjg1YzJmZDIwNGU1Y2IwNDVjMzljNTUxMmQ3YTggPSBMLmNpcmNsZU1hcmtlcigKICAgICAgICAgICAgICAgIFs0My43Njc5ODAzLCAtNzkuNDg3MjYxOTAwMDAwMDFdLAogICAgICAgICAgICAgICAgewogICJidWJibGluZ01vdXNlRXZlbnRzIjogdHJ1ZSwKICAiY29sb3IiOiAiYmx1ZSIsCiAgImRhc2hBcnJheSI6IG51bGwsCiAgImRhc2hPZmZzZXQiOiBudWxsLAogICJmaWxsIjogdHJ1ZSwKICAiZmlsbENvbG9yIjogIiMzMTg2Y2MiLAogICJmaWxsT3BhY2l0eSI6IDAuNywKICAiZmlsbFJ1bGUiOiAiZXZlbm9kZCIsCiAgImxpbmVDYXAiOiAicm91bmQiLAogICJsaW5lSm9pbiI6ICJyb3VuZCIsCiAgIm9wYWNpdHkiOiAxLjAsCiAgInJhZGl1cyI6IDQsCiAgInN0cm9rZSI6IHRydWUsCiAgIndlaWdodCI6IDMKfQogICAgICAgICAgICAgICAgKQogICAgICAgICAgICAgICAgLmFkZFRvKG1hcF9iMGY4MTMzYTQ2YTE0ODdhYWQwYzE5MWVlNGZmMWUzMyk7CiAgICAgICAgICAgIAogICAgCiAgICAgICAgICAgIHZhciBwb3B1cF9jZTkyMmRjZTJjZWE0OTYzOGExZGU0Y2YyNTJkMTg4OSA9IEwucG9wdXAoe21heFdpZHRoOiAnMTAwJScKICAgICAgICAgICAgCiAgICAgICAgICAgIH0pOwoKICAgICAgICAgICAgCiAgICAgICAgICAgICAgICB2YXIgaHRtbF8yMTc2MDg0NGM0Yzc0NWE4OTljYThhOGIxNmZlZmMwYiA9ICQoYDxkaXYgaWQ9Imh0bWxfMjE3NjA4NDRjNGM3NDVhODk5Y2E4YThiMTZmZWZjMGIiIHN0eWxlPSJ3aWR0aDogMTAwLjAlOyBoZWlnaHQ6IDEwMC4wJTsiPk5vcnRod29vZCBQYXJrLCBZb3JrIFVuaXZlcnNpdHk8L2Rpdj5gKVswXTsKICAgICAgICAgICAgICAgIHBvcHVwX2NlOTIyZGNlMmNlYTQ5NjM4YTFkZTRjZjI1MmQxODg5LnNldENvbnRlbnQoaHRtbF8yMTc2MDg0NGM0Yzc0NWE4OTljYThhOGIxNmZlZmMwYik7CiAgICAgICAgICAgIAoKICAgICAgICAgICAgY2lyY2xlX21hcmtlcl81Y2Y2ODVjMmZkMjA0ZTVjYjA0NWMzOWM1NTEyZDdhOC5iaW5kUG9wdXAocG9wdXBfY2U5MjJkY2UyY2VhNDk2MzhhMWRlNGNmMjUyZDE4ODkpCiAgICAgICAgICAgIDsKCiAgICAgICAgICAgIAogICAgICAgIAogICAgCiAgICAgICAgICAgIHZhciBjaXJjbGVfbWFya2VyXzkzYzE0OGU5ZWJmNjQ5ZmM4Y2M3N2QyNzgyYmM2OTk3ID0gTC5jaXJjbGVNYXJrZXIoCiAgICAgICAgICAgICAgICBbNDMuNjg1MzQ3LCAtNzkuMzM4MTA2NV0sCiAgICAgICAgICAgICAgICB7CiAgImJ1YmJsaW5nTW91c2VFdmVudHMiOiB0cnVlLAogICJjb2xvciI6ICJibHVlIiwKICAiZGFzaEFycmF5IjogbnVsbCwKICAiZGFzaE9mZnNldCI6IG51bGwsCiAgImZpbGwiOiB0cnVlLAogICJmaWxsQ29sb3IiOiAiIzMxODZjYyIsCiAgImZpbGxPcGFjaXR5IjogMC43LAogICJmaWxsUnVsZSI6ICJldmVub2RkIiwKICAibGluZUNhcCI6ICJyb3VuZCIsCiAgImxpbmVKb2luIjogInJvdW5kIiwKICAib3BhY2l0eSI6IDEuMCwKICAicmFkaXVzIjogNCwKICAic3Ryb2tlIjogdHJ1ZSwKICAid2VpZ2h0IjogMwp9CiAgICAgICAgICAgICAgICApCiAgICAgICAgICAgICAgICAuYWRkVG8obWFwX2IwZjgxMzNhNDZhMTQ4N2FhZDBjMTkxZWU0ZmYxZTMzKTsKICAgICAgICAgICAgCiAgICAKICAgICAgICAgICAgdmFyIHBvcHVwXzdkYmNhOGM2NWZiNjQ2OTRiZGQ2MTVmYjg2MmRjOTVlID0gTC5wb3B1cCh7bWF4V2lkdGg6ICcxMDAlJwogICAgICAgICAgICAKICAgICAgICAgICAgfSk7CgogICAgICAgICAgICAKICAgICAgICAgICAgICAgIHZhciBodG1sX2M3OTVjMTQzY2QyYjQ0MTRiMmI0NDVmZjkwZDc3YmEzID0gJChgPGRpdiBpZD0iaHRtbF9jNzk1YzE0M2NkMmI0NDE0YjJiNDQ1ZmY5MGQ3N2JhMyIgc3R5bGU9IndpZHRoOiAxMDAuMCU7IGhlaWdodDogMTAwLjAlOyI+RWFzdCBUb3JvbnRvPC9kaXY+YClbMF07CiAgICAgICAgICAgICAgICBwb3B1cF83ZGJjYThjNjVmYjY0Njk0YmRkNjE1ZmI4NjJkYzk1ZS5zZXRDb250ZW50KGh0bWxfYzc5NWMxNDNjZDJiNDQxNGIyYjQ0NWZmOTBkNzdiYTMpOwogICAgICAgICAgICAKCiAgICAgICAgICAgIGNpcmNsZV9tYXJrZXJfOTNjMTQ4ZTllYmY2NDlmYzhjYzc3ZDI3ODJiYzY5OTcuYmluZFBvcHVwKHBvcHVwXzdkYmNhOGM2NWZiNjQ2OTRiZGQ2MTVmYjg2MmRjOTVlKQogICAgICAgICAgICA7CgogICAgICAgICAgICAKICAgICAgICAKICAgIAogICAgICAgICAgICB2YXIgY2lyY2xlX21hcmtlcl84NTQyOGYzMDQyMTA0YWRlYWQ5MWRlMWFjZjcwZDM5NyA9IEwuY2lyY2xlTWFya2VyKAogICAgICAgICAgICAgICAgWzQzLjY0MDgxNTcsIC03OS4zODE3NTIyOTk5OTk5OV0sCiAgICAgICAgICAgICAgICB7CiAgImJ1YmJsaW5nTW91c2VFdmVudHMiOiB0cnVlLAogICJjb2xvciI6ICJibHVlIiwKICAiZGFzaEFycmF5IjogbnVsbCwKICAiZGFzaE9mZnNldCI6IG51bGwsCiAgImZpbGwiOiB0cnVlLAogICJmaWxsQ29sb3IiOiAiIzMxODZjYyIsCiAgImZpbGxPcGFjaXR5IjogMC43LAogICJmaWxsUnVsZSI6ICJldmVub2RkIiwKICAibGluZUNhcCI6ICJyb3VuZCIsCiAgImxpbmVKb2luIjogInJvdW5kIiwKICAib3BhY2l0eSI6IDEuMCwKICAicmFkaXVzIjogNCwKICAic3Ryb2tlIjogdHJ1ZSwKICAid2VpZ2h0IjogMwp9CiAgICAgICAgICAgICAgICApCiAgICAgICAgICAgICAgICAuYWRkVG8obWFwX2IwZjgxMzNhNDZhMTQ4N2FhZDBjMTkxZWU0ZmYxZTMzKTsKICAgICAgICAgICAgCiAgICAKICAgICAgICAgICAgdmFyIHBvcHVwXzM5N2NjNjg4ZGE1NjRmZmU4Nzk2ZThhNjhlZDNhNTFhID0gTC5wb3B1cCh7bWF4V2lkdGg6ICcxMDAlJwogICAgICAgICAgICAKICAgICAgICAgICAgfSk7CgogICAgICAgICAgICAKICAgICAgICAgICAgICAgIHZhciBodG1sXzhhNzgzOWJhMWFmMTRkZDRhOTBjMDNjNWJhZGRlYjdiID0gJChgPGRpdiBpZD0iaHRtbF84YTc4MzliYTFhZjE0ZGQ0YTkwYzAzYzViYWRkZWI3YiIgc3R5bGU9IndpZHRoOiAxMDAuMCU7IGhlaWdodDogMTAwLjAlOyI+SGFyYm91cmZyb250IEVhc3QsIFVuaW9uIFN0YXRpb24sIFRvcm9udG8gSXNsYW5kczwvZGl2PmApWzBdOwogICAgICAgICAgICAgICAgcG9wdXBfMzk3Y2M2ODhkYTU2NGZmZTg3OTZlOGE2OGVkM2E1MWEuc2V0Q29udGVudChodG1sXzhhNzgzOWJhMWFmMTRkZDRhOTBjMDNjNWJhZGRlYjdiKTsKICAgICAgICAgICAgCgogICAgICAgICAgICBjaXJjbGVfbWFya2VyXzg1NDI4ZjMwNDIxMDRhZGVhZDkxZGUxYWNmNzBkMzk3LmJpbmRQb3B1cChwb3B1cF8zOTdjYzY4OGRhNTY0ZmZlODc5NmU4YTY4ZWQzYTUxYSkKICAgICAgICAgICAgOwoKICAgICAgICAgICAgCiAgICAgICAgCiAgICAKICAgICAgICAgICAgdmFyIGNpcmNsZV9tYXJrZXJfN2Q0ZDMxMzFiODMzNDM1NDk1YzZmMjlhMTRhN2Y1MGYgPSBMLmNpcmNsZU1hcmtlcigKICAgICAgICAgICAgICAgIFs0My42NDc5MjY3MDAwMDAwMDYsIC03OS40MTk3NDk3XSwKICAgICAgICAgICAgICAgIHsKICAiYnViYmxpbmdNb3VzZUV2ZW50cyI6IHRydWUsCiAgImNvbG9yIjogImJsdWUiLAogICJkYXNoQXJyYXkiOiBudWxsLAogICJkYXNoT2Zmc2V0IjogbnVsbCwKICAiZmlsbCI6IHRydWUsCiAgImZpbGxDb2xvciI6ICIjMzE4NmNjIiwKICAiZmlsbE9wYWNpdHkiOiAwLjcsCiAgImZpbGxSdWxlIjogImV2ZW5vZGQiLAogICJsaW5lQ2FwIjogInJvdW5kIiwKICAibGluZUpvaW4iOiAicm91bmQiLAogICJvcGFjaXR5IjogMS4wLAogICJyYWRpdXMiOiA0LAogICJzdHJva2UiOiB0cnVlLAogICJ3ZWlnaHQiOiAzCn0KICAgICAgICAgICAgICAgICkKICAgICAgICAgICAgICAgIC5hZGRUbyhtYXBfYjBmODEzM2E0NmExNDg3YWFkMGMxOTFlZTRmZjFlMzMpOwogICAgICAgICAgICAKICAgIAogICAgICAgICAgICB2YXIgcG9wdXBfNWY4YjFkODI3MjhjNDVhZDg4ZGU0YTBjNjUwYjBiYWQgPSBMLnBvcHVwKHttYXhXaWR0aDogJzEwMCUnCiAgICAgICAgICAgIAogICAgICAgICAgICB9KTsKCiAgICAgICAgICAgIAogICAgICAgICAgICAgICAgdmFyIGh0bWxfNTlmN2ZiZDNhMzY1NDVhNjkwNzIxNmI0OGQwOTg4NjQgPSAkKGA8ZGl2IGlkPSJodG1sXzU5ZjdmYmQzYTM2NTQ1YTY5MDcyMTZiNDhkMDk4ODY0IiBzdHlsZT0id2lkdGg6IDEwMC4wJTsgaGVpZ2h0OiAxMDAuMCU7Ij5MaXR0bGUgUG9ydHVnYWwsIFRyaW5pdHk8L2Rpdj5gKVswXTsKICAgICAgICAgICAgICAgIHBvcHVwXzVmOGIxZDgyNzI4YzQ1YWQ4OGRlNGEwYzY1MGIwYmFkLnNldENvbnRlbnQoaHRtbF81OWY3ZmJkM2EzNjU0NWE2OTA3MjE2YjQ4ZDA5ODg2NCk7CiAgICAgICAgICAgIAoKICAgICAgICAgICAgY2lyY2xlX21hcmtlcl83ZDRkMzEzMWI4MzM0MzU0OTVjNmYyOWExNGE3ZjUwZi5iaW5kUG9wdXAocG9wdXBfNWY4YjFkODI3MjhjNDVhZDg4ZGU0YTBjNjUwYjBiYWQpCiAgICAgICAgICAgIDsKCiAgICAgICAgICAgIAogICAgICAgIAogICAgCiAgICAgICAgICAgIHZhciBjaXJjbGVfbWFya2VyX2E0NDI2MDcyOGZmMjQ3YWU4YzU2YTZkNjE1M2E5YzI1ID0gTC5jaXJjbGVNYXJrZXIoCiAgICAgICAgICAgICAgICBbNDMuNzI3OTI5MiwgLTc5LjI2MjAyOTQwMDAwMDAyXSwKICAgICAgICAgICAgICAgIHsKICAiYnViYmxpbmdNb3VzZUV2ZW50cyI6IHRydWUsCiAgImNvbG9yIjogImJsdWUiLAogICJkYXNoQXJyYXkiOiBudWxsLAogICJkYXNoT2Zmc2V0IjogbnVsbCwKICAiZmlsbCI6IHRydWUsCiAgImZpbGxDb2xvciI6ICIjMzE4NmNjIiwKICAiZmlsbE9wYWNpdHkiOiAwLjcsCiAgImZpbGxSdWxlIjogImV2ZW5vZGQiLAogICJsaW5lQ2FwIjogInJvdW5kIiwKICAibGluZUpvaW4iOiAicm91bmQiLAogICJvcGFjaXR5IjogMS4wLAogICJyYWRpdXMiOiA0LAogICJzdHJva2UiOiB0cnVlLAogICJ3ZWlnaHQiOiAzCn0KICAgICAgICAgICAgICAgICkKICAgICAgICAgICAgICAgIC5hZGRUbyhtYXBfYjBmODEzM2E0NmExNDg3YWFkMGMxOTFlZTRmZjFlMzMpOwogICAgICAgICAgICAKICAgIAogICAgICAgICAgICB2YXIgcG9wdXBfMmViN2UwYWQxYmE3NDJjOTk5YmQzZDcwZjc0YzhlMWMgPSBMLnBvcHVwKHttYXhXaWR0aDogJzEwMCUnCiAgICAgICAgICAgIAogICAgICAgICAgICB9KTsKCiAgICAgICAgICAgIAogICAgICAgICAgICAgICAgdmFyIGh0bWxfZjMwYTQxNmYxZDE4NGY1Mzg4ODIyM2ZiMGMyNTUxNzcgPSAkKGA8ZGl2IGlkPSJodG1sX2YzMGE0MTZmMWQxODRmNTM4ODgyMjNmYjBjMjU1MTc3IiBzdHlsZT0id2lkdGg6IDEwMC4wJTsgaGVpZ2h0OiAxMDAuMCU7Ij5LZW5uZWR5IFBhcmssIElvbnZpZXcsIEVhc3QgQmlyY2htb3VudCBQYXJrPC9kaXY+YClbMF07CiAgICAgICAgICAgICAgICBwb3B1cF8yZWI3ZTBhZDFiYTc0MmM5OTliZDNkNzBmNzRjOGUxYy5zZXRDb250ZW50KGh0bWxfZjMwYTQxNmYxZDE4NGY1Mzg4ODIyM2ZiMGMyNTUxNzcpOwogICAgICAgICAgICAKCiAgICAgICAgICAgIGNpcmNsZV9tYXJrZXJfYTQ0MjYwNzI4ZmYyNDdhZThjNTZhNmQ2MTUzYTljMjUuYmluZFBvcHVwKHBvcHVwXzJlYjdlMGFkMWJhNzQyYzk5OWJkM2Q3MGY3NGM4ZTFjKQogICAgICAgICAgICA7CgogICAgICAgICAgICAKICAgICAgICAKICAgIAogICAgICAgICAgICB2YXIgY2lyY2xlX21hcmtlcl83ZGUzNjA1Y2I4MTk0MTY3ODc0NTVkZmU4YjgzMDEwYiA9IEwuY2lyY2xlTWFya2VyKAogICAgICAgICAgICAgICAgWzQzLjc4Njk0NzMsIC03OS4zODU5NzVdLAogICAgICAgICAgICAgICAgewogICJidWJibGluZ01vdXNlRXZlbnRzIjogdHJ1ZSwKICAiY29sb3IiOiAiYmx1ZSIsCiAgImRhc2hBcnJheSI6IG51bGwsCiAgImRhc2hPZmZzZXQiOiBudWxsLAogICJmaWxsIjogdHJ1ZSwKICAiZmlsbENvbG9yIjogIiMzMTg2Y2MiLAogICJmaWxsT3BhY2l0eSI6IDAuNywKICAiZmlsbFJ1bGUiOiAiZXZlbm9kZCIsCiAgImxpbmVDYXAiOiAicm91bmQiLAogICJsaW5lSm9pbiI6ICJyb3VuZCIsCiAgIm9wYWNpdHkiOiAxLjAsCiAgInJhZGl1cyI6IDQsCiAgInN0cm9rZSI6IHRydWUsCiAgIndlaWdodCI6IDMKfQogICAgICAgICAgICAgICAgKQogICAgICAgICAgICAgICAgLmFkZFRvKG1hcF9iMGY4MTMzYTQ2YTE0ODdhYWQwYzE5MWVlNGZmMWUzMyk7CiAgICAgICAgICAgIAogICAgCiAgICAgICAgICAgIHZhciBwb3B1cF82ZThlMWMwMjBjOGI0MjI4ODNmMjE0MmMxN2RhMTNhMyA9IEwucG9wdXAoe21heFdpZHRoOiAnMTAwJScKICAgICAgICAgICAgCiAgICAgICAgICAgIH0pOwoKICAgICAgICAgICAgCiAgICAgICAgICAgICAgICB2YXIgaHRtbF9hNzBiNWFmMDVjYzM0YzBlYjY0MzUxMzZiMGI4ZmRlOCA9ICQoYDxkaXYgaWQ9Imh0bWxfYTcwYjVhZjA1Y2MzNGMwZWI2NDM1MTM2YjBiOGZkZTgiIHN0eWxlPSJ3aWR0aDogMTAwLjAlOyBoZWlnaHQ6IDEwMC4wJTsiPkJheXZpZXcgVmlsbGFnZTwvZGl2PmApWzBdOwogICAgICAgICAgICAgICAgcG9wdXBfNmU4ZTFjMDIwYzhiNDIyODgzZjIxNDJjMTdkYTEzYTMuc2V0Q29udGVudChodG1sX2E3MGI1YWYwNWNjMzRjMGViNjQzNTEzNmIwYjhmZGU4KTsKICAgICAgICAgICAgCgogICAgICAgICAgICBjaXJjbGVfbWFya2VyXzdkZTM2MDVjYjgxOTQxNjc4NzQ1NWRmZThiODMwMTBiLmJpbmRQb3B1cChwb3B1cF82ZThlMWMwMjBjOGI0MjI4ODNmMjE0MmMxN2RhMTNhMykKICAgICAgICAgICAgOwoKICAgICAgICAgICAgCiAgICAgICAgCiAgICAKICAgICAgICAgICAgdmFyIGNpcmNsZV9tYXJrZXJfOTM1YjlhMDgzYzk3NDQyYWI4YjFlYTc5YmZlMjUyODggPSBMLmNpcmNsZU1hcmtlcigKICAgICAgICAgICAgICAgIFs0My43Mzc0NzMyMDAwMDAwMDQsIC03OS40NjQ3NjMyOTk5OTk5OV0sCiAgICAgICAgICAgICAgICB7CiAgImJ1YmJsaW5nTW91c2VFdmVudHMiOiB0cnVlLAogICJjb2xvciI6ICJibHVlIiwKICAiZGFzaEFycmF5IjogbnVsbCwKICAiZGFzaE9mZnNldCI6IG51bGwsCiAgImZpbGwiOiB0cnVlLAogICJmaWxsQ29sb3IiOiAiIzMxODZjYyIsCiAgImZpbGxPcGFjaXR5IjogMC43LAogICJmaWxsUnVsZSI6ICJldmVub2RkIiwKICAibGluZUNhcCI6ICJyb3VuZCIsCiAgImxpbmVKb2luIjogInJvdW5kIiwKICAib3BhY2l0eSI6IDEuMCwKICAicmFkaXVzIjogNCwKICAic3Ryb2tlIjogdHJ1ZSwKICAid2VpZ2h0IjogMwp9CiAgICAgICAgICAgICAgICApCiAgICAgICAgICAgICAgICAuYWRkVG8obWFwX2IwZjgxMzNhNDZhMTQ4N2FhZDBjMTkxZWU0ZmYxZTMzKTsKICAgICAgICAgICAgCiAgICAKICAgICAgICAgICAgdmFyIHBvcHVwXzk2N2MyNWZiZGM3YzQyYzk4M2M0MWNhYTBkYjA3MThhID0gTC5wb3B1cCh7bWF4V2lkdGg6ICcxMDAlJwogICAgICAgICAgICAKICAgICAgICAgICAgfSk7CgogICAgICAgICAgICAKICAgICAgICAgICAgICAgIHZhciBodG1sXzNjOGEyZGMxMjBiMTQ0ZTc5YWRkZTBkZDY3YTYzYjNhID0gJChgPGRpdiBpZD0iaHRtbF8zYzhhMmRjMTIwYjE0NGU3OWFkZGUwZGQ2N2E2M2IzYSIgc3R5bGU9IndpZHRoOiAxMDAuMCU7IGhlaWdodDogMTAwLjAlOyI+RG93bnN2aWV3PC9kaXY+YClbMF07CiAgICAgICAgICAgICAgICBwb3B1cF85NjdjMjVmYmRjN2M0MmM5ODNjNDFjYWEwZGIwNzE4YS5zZXRDb250ZW50KGh0bWxfM2M4YTJkYzEyMGIxNDRlNzlhZGRlMGRkNjdhNjNiM2EpOwogICAgICAgICAgICAKCiAgICAgICAgICAgIGNpcmNsZV9tYXJrZXJfOTM1YjlhMDgzYzk3NDQyYWI4YjFlYTc5YmZlMjUyODguYmluZFBvcHVwKHBvcHVwXzk2N2MyNWZiZGM3YzQyYzk4M2M0MWNhYTBkYjA3MThhKQogICAgICAgICAgICA7CgogICAgICAgICAgICAKICAgICAgICAKICAgIAogICAgICAgICAgICB2YXIgY2lyY2xlX21hcmtlcl9kNWRlMWY2MTExMGI0MjlmODczYWQ1M2NkYjkyNTYyMiA9IEwuY2lyY2xlTWFya2VyKAogICAgICAgICAgICAgICAgWzQzLjY3OTU1NzEsIC03OS4zNTIxODhdLAogICAgICAgICAgICAgICAgewogICJidWJibGluZ01vdXNlRXZlbnRzIjogdHJ1ZSwKICAiY29sb3IiOiAiYmx1ZSIsCiAgImRhc2hBcnJheSI6IG51bGwsCiAgImRhc2hPZmZzZXQiOiBudWxsLAogICJmaWxsIjogdHJ1ZSwKICAiZmlsbENvbG9yIjogIiMzMTg2Y2MiLAogICJmaWxsT3BhY2l0eSI6IDAuNywKICAiZmlsbFJ1bGUiOiAiZXZlbm9kZCIsCiAgImxpbmVDYXAiOiAicm91bmQiLAogICJsaW5lSm9pbiI6ICJyb3VuZCIsCiAgIm9wYWNpdHkiOiAxLjAsCiAgInJhZGl1cyI6IDQsCiAgInN0cm9rZSI6IHRydWUsCiAgIndlaWdodCI6IDMKfQogICAgICAgICAgICAgICAgKQogICAgICAgICAgICAgICAgLmFkZFRvKG1hcF9iMGY4MTMzYTQ2YTE0ODdhYWQwYzE5MWVlNGZmMWUzMyk7CiAgICAgICAgICAgIAogICAgCiAgICAgICAgICAgIHZhciBwb3B1cF8zOTk0OTMxYWE5Mjg0Nzk1YjZkMmZkMTZlMjFiMDk1YyA9IEwucG9wdXAoe21heFdpZHRoOiAnMTAwJScKICAgICAgICAgICAgCiAgICAgICAgICAgIH0pOwoKICAgICAgICAgICAgCiAgICAgICAgICAgICAgICB2YXIgaHRtbF9lYjE0NWJlZTgwOTQ0NTRmYTlmNTFhMzM3NWUwMWIzOSA9ICQoYDxkaXYgaWQ9Imh0bWxfZWIxNDViZWU4MDk0NDU0ZmE5ZjUxYTMzNzVlMDFiMzkiIHN0eWxlPSJ3aWR0aDogMTAwLjAlOyBoZWlnaHQ6IDEwMC4wJTsiPlRoZSBEYW5mb3J0aCBXZXN0LCBSaXZlcmRhbGU8L2Rpdj5gKVswXTsKICAgICAgICAgICAgICAgIHBvcHVwXzM5OTQ5MzFhYTkyODQ3OTViNmQyZmQxNmUyMWIwOTVjLnNldENvbnRlbnQoaHRtbF9lYjE0NWJlZTgwOTQ0NTRmYTlmNTFhMzM3NWUwMWIzOSk7CiAgICAgICAgICAgIAoKICAgICAgICAgICAgY2lyY2xlX21hcmtlcl9kNWRlMWY2MTExMGI0MjlmODczYWQ1M2NkYjkyNTYyMi5iaW5kUG9wdXAocG9wdXBfMzk5NDkzMWFhOTI4NDc5NWI2ZDJmZDE2ZTIxYjA5NWMpCiAgICAgICAgICAgIDsKCiAgICAgICAgICAgIAogICAgICAgIAogICAgCiAgICAgICAgICAgIHZhciBjaXJjbGVfbWFya2VyXzc3OGQzYjg3NWE2MDRiYmI5NjBmN2JlOTk5ZGE0ZGMxID0gTC5jaXJjbGVNYXJrZXIoCiAgICAgICAgICAgICAgICBbNDMuNjQ3MTc2OCwgLTc5LjM4MTU3NjQwMDAwMDAxXSwKICAgICAgICAgICAgICAgIHsKICAiYnViYmxpbmdNb3VzZUV2ZW50cyI6IHRydWUsCiAgImNvbG9yIjogImJsdWUiLAogICJkYXNoQXJyYXkiOiBudWxsLAogICJkYXNoT2Zmc2V0IjogbnVsbCwKICAiZmlsbCI6IHRydWUsCiAgImZpbGxDb2xvciI6ICIjMzE4NmNjIiwKICAiZmlsbE9wYWNpdHkiOiAwLjcsCiAgImZpbGxSdWxlIjogImV2ZW5vZGQiLAogICJsaW5lQ2FwIjogInJvdW5kIiwKICAibGluZUpvaW4iOiAicm91bmQiLAogICJvcGFjaXR5IjogMS4wLAogICJyYWRpdXMiOiA0LAogICJzdHJva2UiOiB0cnVlLAogICJ3ZWlnaHQiOiAzCn0KICAgICAgICAgICAgICAgICkKICAgICAgICAgICAgICAgIC5hZGRUbyhtYXBfYjBmODEzM2E0NmExNDg3YWFkMGMxOTFlZTRmZjFlMzMpOwogICAgICAgICAgICAKICAgIAogICAgICAgICAgICB2YXIgcG9wdXBfMDI0YzE1YWVjYTQ5NDIwNzk1N2QzNmI2ODk5NGEzNTggPSBMLnBvcHVwKHttYXhXaWR0aDogJzEwMCUnCiAgICAgICAgICAgIAogICAgICAgICAgICB9KTsKCiAgICAgICAgICAgIAogICAgICAgICAgICAgICAgdmFyIGh0bWxfMmE0MTRhYjk3N2Q0NGYzYThmYTkzYzIzNWFiNDJhYTYgPSAkKGA8ZGl2IGlkPSJodG1sXzJhNDE0YWI5NzdkNDRmM2E4ZmE5M2MyMzVhYjQyYWE2IiBzdHlsZT0id2lkdGg6IDEwMC4wJTsgaGVpZ2h0OiAxMDAuMCU7Ij5Ub3JvbnRvIERvbWluaW9uIENlbnRyZSwgRGVzaWduIEV4Y2hhbmdlPC9kaXY+YClbMF07CiAgICAgICAgICAgICAgICBwb3B1cF8wMjRjMTVhZWNhNDk0MjA3OTU3ZDM2YjY4OTk0YTM1OC5zZXRDb250ZW50KGh0bWxfMmE0MTRhYjk3N2Q0NGYzYThmYTkzYzIzNWFiNDJhYTYpOwogICAgICAgICAgICAKCiAgICAgICAgICAgIGNpcmNsZV9tYXJrZXJfNzc4ZDNiODc1YTYwNGJiYjk2MGY3YmU5OTlkYTRkYzEuYmluZFBvcHVwKHBvcHVwXzAyNGMxNWFlY2E0OTQyMDc5NTdkMzZiNjg5OTRhMzU4KQogICAgICAgICAgICA7CgogICAgICAgICAgICAKICAgICAgICAKICAgIAogICAgICAgICAgICB2YXIgY2lyY2xlX21hcmtlcl83OTA3OGYyNWI1MjU0MmE0ODFhMDE2OWEzM2M4ZDI1YSA9IEwuY2lyY2xlTWFya2VyKAogICAgICAgICAgICAgICAgWzQzLjYzNjg0NzIsIC03OS40MjgxOTE0MDAwMDAwMl0sCiAgICAgICAgICAgICAgICB7CiAgImJ1YmJsaW5nTW91c2VFdmVudHMiOiB0cnVlLAogICJjb2xvciI6ICJibHVlIiwKICAiZGFzaEFycmF5IjogbnVsbCwKICAiZGFzaE9mZnNldCI6IG51bGwsCiAgImZpbGwiOiB0cnVlLAogICJmaWxsQ29sb3IiOiAiIzMxODZjYyIsCiAgImZpbGxPcGFjaXR5IjogMC43LAogICJmaWxsUnVsZSI6ICJldmVub2RkIiwKICAibGluZUNhcCI6ICJyb3VuZCIsCiAgImxpbmVKb2luIjogInJvdW5kIiwKICAib3BhY2l0eSI6IDEuMCwKICAicmFkaXVzIjogNCwKICAic3Ryb2tlIjogdHJ1ZSwKICAid2VpZ2h0IjogMwp9CiAgICAgICAgICAgICAgICApCiAgICAgICAgICAgICAgICAuYWRkVG8obWFwX2IwZjgxMzNhNDZhMTQ4N2FhZDBjMTkxZWU0ZmYxZTMzKTsKICAgICAgICAgICAgCiAgICAKICAgICAgICAgICAgdmFyIHBvcHVwX2I5NjM1MzIzNGRjZTQ4ZDhiODZkMDg1OTA2MDZlM2UxID0gTC5wb3B1cCh7bWF4V2lkdGg6ICcxMDAlJwogICAgICAgICAgICAKICAgICAgICAgICAgfSk7CgogICAgICAgICAgICAKICAgICAgICAgICAgICAgIHZhciBodG1sXzdkYWQ5ZjhkMGRlNDRmOWY4ODE5ZmVmYjI4MzJhNGE1ID0gJChgPGRpdiBpZD0iaHRtbF83ZGFkOWY4ZDBkZTQ0ZjlmODgxOWZlZmIyODMyYTRhNSIgc3R5bGU9IndpZHRoOiAxMDAuMCU7IGhlaWdodDogMTAwLjAlOyI+QnJvY2t0b24sIFBhcmtkYWxlIFZpbGxhZ2UsIEV4aGliaXRpb24gUGxhY2U8L2Rpdj5gKVswXTsKICAgICAgICAgICAgICAgIHBvcHVwX2I5NjM1MzIzNGRjZTQ4ZDhiODZkMDg1OTA2MDZlM2UxLnNldENvbnRlbnQoaHRtbF83ZGFkOWY4ZDBkZTQ0ZjlmODgxOWZlZmIyODMyYTRhNSk7CiAgICAgICAgICAgIAoKICAgICAgICAgICAgY2lyY2xlX21hcmtlcl83OTA3OGYyNWI1MjU0MmE0ODFhMDE2OWEzM2M4ZDI1YS5iaW5kUG9wdXAocG9wdXBfYjk2MzUzMjM0ZGNlNDhkOGI4NmQwODU5MDYwNmUzZTEpCiAgICAgICAgICAgIDsKCiAgICAgICAgICAgIAogICAgICAgIAogICAgCiAgICAgICAgICAgIHZhciBjaXJjbGVfbWFya2VyXzMzOThkMDI2NGQ2MzRhZmFhMjg1OTM0YTE3ZWIxZjE3ID0gTC5jaXJjbGVNYXJrZXIoCiAgICAgICAgICAgICAgICBbNDMuNzExMTExNzAwMDAwMDA0LCAtNzkuMjg0NTc3Ml0sCiAgICAgICAgICAgICAgICB7CiAgImJ1YmJsaW5nTW91c2VFdmVudHMiOiB0cnVlLAogICJjb2xvciI6ICJibHVlIiwKICAiZGFzaEFycmF5IjogbnVsbCwKICAiZGFzaE9mZnNldCI6IG51bGwsCiAgImZpbGwiOiB0cnVlLAogICJmaWxsQ29sb3IiOiAiIzMxODZjYyIsCiAgImZpbGxPcGFjaXR5IjogMC43LAogICJmaWxsUnVsZSI6ICJldmVub2RkIiwKICAibGluZUNhcCI6ICJyb3VuZCIsCiAgImxpbmVKb2luIjogInJvdW5kIiwKICAib3BhY2l0eSI6IDEuMCwKICAicmFkaXVzIjogNCwKICAic3Ryb2tlIjogdHJ1ZSwKICAid2VpZ2h0IjogMwp9CiAgICAgICAgICAgICAgICApCiAgICAgICAgICAgICAgICAuYWRkVG8obWFwX2IwZjgxMzNhNDZhMTQ4N2FhZDBjMTkxZWU0ZmYxZTMzKTsKICAgICAgICAgICAgCiAgICAKICAgICAgICAgICAgdmFyIHBvcHVwXzlmODAyODZmNWYyZjQ2ZGU4MDkxMTgyMmUwMTI4ODczID0gTC5wb3B1cCh7bWF4V2lkdGg6ICcxMDAlJwogICAgICAgICAgICAKICAgICAgICAgICAgfSk7CgogICAgICAgICAgICAKICAgICAgICAgICAgICAgIHZhciBodG1sXzJhYTJiMjgyMmNkNzQ0MzFhMmYwOTg3OTFhNmNmMWZiID0gJChgPGRpdiBpZD0iaHRtbF8yYWEyYjI4MjJjZDc0NDMxYTJmMDk4NzkxYTZjZjFmYiIgc3R5bGU9IndpZHRoOiAxMDAuMCU7IGhlaWdodDogMTAwLjAlOyI+R29sZGVuIE1pbGUsIENsYWlybGVhLCBPYWtyaWRnZTwvZGl2PmApWzBdOwogICAgICAgICAgICAgICAgcG9wdXBfOWY4MDI4NmY1ZjJmNDZkZTgwOTExODIyZTAxMjg4NzMuc2V0Q29udGVudChodG1sXzJhYTJiMjgyMmNkNzQ0MzFhMmYwOTg3OTFhNmNmMWZiKTsKICAgICAgICAgICAgCgogICAgICAgICAgICBjaXJjbGVfbWFya2VyXzMzOThkMDI2NGQ2MzRhZmFhMjg1OTM0YTE3ZWIxZjE3LmJpbmRQb3B1cChwb3B1cF85ZjgwMjg2ZjVmMmY0NmRlODA5MTE4MjJlMDEyODg3MykKICAgICAgICAgICAgOwoKICAgICAgICAgICAgCiAgICAgICAgCiAgICAKICAgICAgICAgICAgdmFyIGNpcmNsZV9tYXJrZXJfNmJhYzJmOTlmMTNmNDRlMWJjY2ZiYmIxNTI1N2FlMTMgPSBMLmNpcmNsZU1hcmtlcigKICAgICAgICAgICAgICAgIFs0My43NTc0OTAyLCAtNzkuMzc0NzE0MDk5OTk5OTldLAogICAgICAgICAgICAgICAgewogICJidWJibGluZ01vdXNlRXZlbnRzIjogdHJ1ZSwKICAiY29sb3IiOiAiYmx1ZSIsCiAgImRhc2hBcnJheSI6IG51bGwsCiAgImRhc2hPZmZzZXQiOiBudWxsLAogICJmaWxsIjogdHJ1ZSwKICAiZmlsbENvbG9yIjogIiMzMTg2Y2MiLAogICJmaWxsT3BhY2l0eSI6IDAuNywKICAiZmlsbFJ1bGUiOiAiZXZlbm9kZCIsCiAgImxpbmVDYXAiOiAicm91bmQiLAogICJsaW5lSm9pbiI6ICJyb3VuZCIsCiAgIm9wYWNpdHkiOiAxLjAsCiAgInJhZGl1cyI6IDQsCiAgInN0cm9rZSI6IHRydWUsCiAgIndlaWdodCI6IDMKfQogICAgICAgICAgICAgICAgKQogICAgICAgICAgICAgICAgLmFkZFRvKG1hcF9iMGY4MTMzYTQ2YTE0ODdhYWQwYzE5MWVlNGZmMWUzMyk7CiAgICAgICAgICAgIAogICAgCiAgICAgICAgICAgIHZhciBwb3B1cF84OTgwNjA5MWQ0Njk0OWU3YWI1ODcxY2QyYmJiNGM4YiA9IEwucG9wdXAoe21heFdpZHRoOiAnMTAwJScKICAgICAgICAgICAgCiAgICAgICAgICAgIH0pOwoKICAgICAgICAgICAgCiAgICAgICAgICAgICAgICB2YXIgaHRtbF85YjYxY2FlMmIzYmQ0YWRhOWJjYjk2Yjg0NjExZWMxOCA9ICQoYDxkaXYgaWQ9Imh0bWxfOWI2MWNhZTJiM2JkNGFkYTliY2I5NmI4NDYxMWVjMTgiIHN0eWxlPSJ3aWR0aDogMTAwLjAlOyBoZWlnaHQ6IDEwMC4wJTsiPllvcmsgTWlsbHMsIFNpbHZlciBIaWxsczwvZGl2PmApWzBdOwogICAgICAgICAgICAgICAgcG9wdXBfODk4MDYwOTFkNDY5NDllN2FiNTg3MWNkMmJiYjRjOGIuc2V0Q29udGVudChodG1sXzliNjFjYWUyYjNiZDRhZGE5YmNiOTZiODQ2MTFlYzE4KTsKICAgICAgICAgICAgCgogICAgICAgICAgICBjaXJjbGVfbWFya2VyXzZiYWMyZjk5ZjEzZjQ0ZTFiY2NmYmJiMTUyNTdhZTEzLmJpbmRQb3B1cChwb3B1cF84OTgwNjA5MWQ0Njk0OWU3YWI1ODcxY2QyYmJiNGM4YikKICAgICAgICAgICAgOwoKICAgICAgICAgICAgCiAgICAgICAgCiAgICAKICAgICAgICAgICAgdmFyIGNpcmNsZV9tYXJrZXJfY2RkYThjMzVhZWMwNDg4Yzg5MDAyZTJkODAzYzI1OWEgPSBMLmNpcmNsZU1hcmtlcigKICAgICAgICAgICAgICAgIFs0My43MzkwMTQ2LCAtNzkuNTA2OTQzNl0sCiAgICAgICAgICAgICAgICB7CiAgImJ1YmJsaW5nTW91c2VFdmVudHMiOiB0cnVlLAogICJjb2xvciI6ICJibHVlIiwKICAiZGFzaEFycmF5IjogbnVsbCwKICAiZGFzaE9mZnNldCI6IG51bGwsCiAgImZpbGwiOiB0cnVlLAogICJmaWxsQ29sb3IiOiAiIzMxODZjYyIsCiAgImZpbGxPcGFjaXR5IjogMC43LAogICJmaWxsUnVsZSI6ICJldmVub2RkIiwKICAibGluZUNhcCI6ICJyb3VuZCIsCiAgImxpbmVKb2luIjogInJvdW5kIiwKICAib3BhY2l0eSI6IDEuMCwKICAicmFkaXVzIjogNCwKICAic3Ryb2tlIjogdHJ1ZSwKICAid2VpZ2h0IjogMwp9CiAgICAgICAgICAgICAgICApCiAgICAgICAgICAgICAgICAuYWRkVG8obWFwX2IwZjgxMzNhNDZhMTQ4N2FhZDBjMTkxZWU0ZmYxZTMzKTsKICAgICAgICAgICAgCiAgICAKICAgICAgICAgICAgdmFyIHBvcHVwX2IyMDQ4OGJmOTIxZDRhMTk5NTg5NWJjMzNjZTBhYjk5ID0gTC5wb3B1cCh7bWF4V2lkdGg6ICcxMDAlJwogICAgICAgICAgICAKICAgICAgICAgICAgfSk7CgogICAgICAgICAgICAKICAgICAgICAgICAgICAgIHZhciBodG1sX2RiNjExMzE0YjI4YTQ3ZGE5ZTI0ZWEyMjM1ZjliMmVlID0gJChgPGRpdiBpZD0iaHRtbF9kYjYxMTMxNGIyOGE0N2RhOWUyNGVhMjIzNWY5YjJlZSIgc3R5bGU9IndpZHRoOiAxMDAuMCU7IGhlaWdodDogMTAwLjAlOyI+RG93bnN2aWV3PC9kaXY+YClbMF07CiAgICAgICAgICAgICAgICBwb3B1cF9iMjA0ODhiZjkyMWQ0YTE5OTU4OTViYzMzY2UwYWI5OS5zZXRDb250ZW50KGh0bWxfZGI2MTEzMTRiMjhhNDdkYTllMjRlYTIyMzVmOWIyZWUpOwogICAgICAgICAgICAKCiAgICAgICAgICAgIGNpcmNsZV9tYXJrZXJfY2RkYThjMzVhZWMwNDg4Yzg5MDAyZTJkODAzYzI1OWEuYmluZFBvcHVwKHBvcHVwX2IyMDQ4OGJmOTIxZDRhMTk5NTg5NWJjMzNjZTBhYjk5KQogICAgICAgICAgICA7CgogICAgICAgICAgICAKICAgICAgICAKICAgIAogICAgICAgICAgICB2YXIgY2lyY2xlX21hcmtlcl8yYTFmNWFiZjhkYjY0Mzc5OWQ5ZTM0ZWYyY2YxZmYxOSA9IEwuY2lyY2xlTWFya2VyKAogICAgICAgICAgICAgICAgWzQzLjY2ODk5ODUsIC03OS4zMTU1NzE1OTk5OTk5OF0sCiAgICAgICAgICAgICAgICB7CiAgImJ1YmJsaW5nTW91c2VFdmVudHMiOiB0cnVlLAogICJjb2xvciI6ICJibHVlIiwKICAiZGFzaEFycmF5IjogbnVsbCwKICAiZGFzaE9mZnNldCI6IG51bGwsCiAgImZpbGwiOiB0cnVlLAogICJmaWxsQ29sb3IiOiAiIzMxODZjYyIsCiAgImZpbGxPcGFjaXR5IjogMC43LAogICJmaWxsUnVsZSI6ICJldmVub2RkIiwKICAibGluZUNhcCI6ICJyb3VuZCIsCiAgImxpbmVKb2luIjogInJvdW5kIiwKICAib3BhY2l0eSI6IDEuMCwKICAicmFkaXVzIjogNCwKICAic3Ryb2tlIjogdHJ1ZSwKICAid2VpZ2h0IjogMwp9CiAgICAgICAgICAgICAgICApCiAgICAgICAgICAgICAgICAuYWRkVG8obWFwX2IwZjgxMzNhNDZhMTQ4N2FhZDBjMTkxZWU0ZmYxZTMzKTsKICAgICAgICAgICAgCiAgICAKICAgICAgICAgICAgdmFyIHBvcHVwXzg0NTdjYjcwNjUxZDRjMDU4NGU3MWViOWZiZWQxMDMzID0gTC5wb3B1cCh7bWF4V2lkdGg6ICcxMDAlJwogICAgICAgICAgICAKICAgICAgICAgICAgfSk7CgogICAgICAgICAgICAKICAgICAgICAgICAgICAgIHZhciBodG1sXzVjNDIzZWVhZDRmMDQ5MmRhMjllODA1ZjdkOGEwZjBhID0gJChgPGRpdiBpZD0iaHRtbF81YzQyM2VlYWQ0ZjA0OTJkYTI5ZTgwNWY3ZDhhMGYwYSIgc3R5bGU9IndpZHRoOiAxMDAuMCU7IGhlaWdodDogMTAwLjAlOyI+SW5kaWEgQmF6YWFyLCBUaGUgQmVhY2hlcyBXZXN0PC9kaXY+YClbMF07CiAgICAgICAgICAgICAgICBwb3B1cF84NDU3Y2I3MDY1MWQ0YzA1ODRlNzFlYjlmYmVkMTAzMy5zZXRDb250ZW50KGh0bWxfNWM0MjNlZWFkNGYwNDkyZGEyOWU4MDVmN2Q4YTBmMGEpOwogICAgICAgICAgICAKCiAgICAgICAgICAgIGNpcmNsZV9tYXJrZXJfMmExZjVhYmY4ZGI2NDM3OTlkOWUzNGVmMmNmMWZmMTkuYmluZFBvcHVwKHBvcHVwXzg0NTdjYjcwNjUxZDRjMDU4NGU3MWViOWZiZWQxMDMzKQogICAgICAgICAgICA7CgogICAgICAgICAgICAKICAgICAgICAKICAgIAogICAgICAgICAgICB2YXIgY2lyY2xlX21hcmtlcl81NGIwZTI4ZDU5NzU0NjQyOWMzZWE5NDU2ZGE3NDIwZiA9IEwuY2lyY2xlTWFya2VyKAogICAgICAgICAgICAgICAgWzQzLjY0ODE5ODUsIC03OS4zNzk4MTY5MDAwMDAwMV0sCiAgICAgICAgICAgICAgICB7CiAgImJ1YmJsaW5nTW91c2VFdmVudHMiOiB0cnVlLAogICJjb2xvciI6ICJibHVlIiwKICAiZGFzaEFycmF5IjogbnVsbCwKICAiZGFzaE9mZnNldCI6IG51bGwsCiAgImZpbGwiOiB0cnVlLAogICJmaWxsQ29sb3IiOiAiIzMxODZjYyIsCiAgImZpbGxPcGFjaXR5IjogMC43LAogICJmaWxsUnVsZSI6ICJldmVub2RkIiwKICAibGluZUNhcCI6ICJyb3VuZCIsCiAgImxpbmVKb2luIjogInJvdW5kIiwKICAib3BhY2l0eSI6IDEuMCwKICAicmFkaXVzIjogNCwKICAic3Ryb2tlIjogdHJ1ZSwKICAid2VpZ2h0IjogMwp9CiAgICAgICAgICAgICAgICApCiAgICAgICAgICAgICAgICAuYWRkVG8obWFwX2IwZjgxMzNhNDZhMTQ4N2FhZDBjMTkxZWU0ZmYxZTMzKTsKICAgICAgICAgICAgCiAgICAKICAgICAgICAgICAgdmFyIHBvcHVwXzBjNDg0ZDUxNzM4MjQ0ZWI5MWQzMTFiYjRiOTg4ZmExID0gTC5wb3B1cCh7bWF4V2lkdGg6ICcxMDAlJwogICAgICAgICAgICAKICAgICAgICAgICAgfSk7CgogICAgICAgICAgICAKICAgICAgICAgICAgICAgIHZhciBodG1sX2NhZmFiZjgxNjVhYzQyYTZhMGIwZDNlNDFiNmI0ZmU2ID0gJChgPGRpdiBpZD0iaHRtbF9jYWZhYmY4MTY1YWM0MmE2YTBiMGQzZTQxYjZiNGZlNiIgc3R5bGU9IndpZHRoOiAxMDAuMCU7IGhlaWdodDogMTAwLjAlOyI+Q29tbWVyY2UgQ291cnQsIFZpY3RvcmlhIEhvdGVsPC9kaXY+YClbMF07CiAgICAgICAgICAgICAgICBwb3B1cF8wYzQ4NGQ1MTczODI0NGViOTFkMzExYmI0Yjk4OGZhMS5zZXRDb250ZW50KGh0bWxfY2FmYWJmODE2NWFjNDJhNmEwYjBkM2U0MWI2YjRmZTYpOwogICAgICAgICAgICAKCiAgICAgICAgICAgIGNpcmNsZV9tYXJrZXJfNTRiMGUyOGQ1OTc1NDY0MjljM2VhOTQ1NmRhNzQyMGYuYmluZFBvcHVwKHBvcHVwXzBjNDg0ZDUxNzM4MjQ0ZWI5MWQzMTFiYjRiOTg4ZmExKQogICAgICAgICAgICA7CgogICAgICAgICAgICAKICAgICAgICAKICAgIAogICAgICAgICAgICB2YXIgY2lyY2xlX21hcmtlcl9hOGU5OGRmMDg3NTI0NjI5OGE0YjhmOTkzNjcwYjFmYSA9IEwuY2lyY2xlTWFya2VyKAogICAgICAgICAgICAgICAgWzQzLjcxMzc1NjIwMDAwMDAwNiwgLTc5LjQ5MDA3MzhdLAogICAgICAgICAgICAgICAgewogICJidWJibGluZ01vdXNlRXZlbnRzIjogdHJ1ZSwKICAiY29sb3IiOiAiYmx1ZSIsCiAgImRhc2hBcnJheSI6IG51bGwsCiAgImRhc2hPZmZzZXQiOiBudWxsLAogICJmaWxsIjogdHJ1ZSwKICAiZmlsbENvbG9yIjogIiMzMTg2Y2MiLAogICJmaWxsT3BhY2l0eSI6IDAuNywKICAiZmlsbFJ1bGUiOiAiZXZlbm9kZCIsCiAgImxpbmVDYXAiOiAicm91bmQiLAogICJsaW5lSm9pbiI6ICJyb3VuZCIsCiAgIm9wYWNpdHkiOiAxLjAsCiAgInJhZGl1cyI6IDQsCiAgInN0cm9rZSI6IHRydWUsCiAgIndlaWdodCI6IDMKfQogICAgICAgICAgICAgICAgKQogICAgICAgICAgICAgICAgLmFkZFRvKG1hcF9iMGY4MTMzYTQ2YTE0ODdhYWQwYzE5MWVlNGZmMWUzMyk7CiAgICAgICAgICAgIAogICAgCiAgICAgICAgICAgIHZhciBwb3B1cF9kYTY1MTM1NGZiMjI0ZGJjYjg3MDUzMjUwODM2ODNiMiA9IEwucG9wdXAoe21heFdpZHRoOiAnMTAwJScKICAgICAgICAgICAgCiAgICAgICAgICAgIH0pOwoKICAgICAgICAgICAgCiAgICAgICAgICAgICAgICB2YXIgaHRtbF81ZmIxNDkyMjc2MzY0NDI3YWQ3ODY0MDU3NmNmNjgzNCA9ICQoYDxkaXYgaWQ9Imh0bWxfNWZiMTQ5MjI3NjM2NDQyN2FkNzg2NDA1NzZjZjY4MzQiIHN0eWxlPSJ3aWR0aDogMTAwLjAlOyBoZWlnaHQ6IDEwMC4wJTsiPk5vcnRoIFBhcmssIE1hcGxlIExlYWYgUGFyaywgVXB3b29kIFBhcms8L2Rpdj5gKVswXTsKICAgICAgICAgICAgICAgIHBvcHVwX2RhNjUxMzU0ZmIyMjRkYmNiODcwNTMyNTA4MzY4M2IyLnNldENvbnRlbnQoaHRtbF81ZmIxNDkyMjc2MzY0NDI3YWQ3ODY0MDU3NmNmNjgzNCk7CiAgICAgICAgICAgIAoKICAgICAgICAgICAgY2lyY2xlX21hcmtlcl9hOGU5OGRmMDg3NTI0NjI5OGE0YjhmOTkzNjcwYjFmYS5iaW5kUG9wdXAocG9wdXBfZGE2NTEzNTRmYjIyNGRiY2I4NzA1MzI1MDgzNjgzYjIpCiAgICAgICAgICAgIDsKCiAgICAgICAgICAgIAogICAgICAgIAogICAgCiAgICAgICAgICAgIHZhciBjaXJjbGVfbWFya2VyXzcxYzIxYzdjM2NiMjQxNDJhNDkzOTk1ZGQzODcxZGM3ID0gTC5jaXJjbGVNYXJrZXIoCiAgICAgICAgICAgICAgICBbNDMuNzU2MzAzMywgLTc5LjU2NTk2MzI5OTk5OTk5XSwKICAgICAgICAgICAgICAgIHsKICAiYnViYmxpbmdNb3VzZUV2ZW50cyI6IHRydWUsCiAgImNvbG9yIjogImJsdWUiLAogICJkYXNoQXJyYXkiOiBudWxsLAogICJkYXNoT2Zmc2V0IjogbnVsbCwKICAiZmlsbCI6IHRydWUsCiAgImZpbGxDb2xvciI6ICIjMzE4NmNjIiwKICAiZmlsbE9wYWNpdHkiOiAwLjcsCiAgImZpbGxSdWxlIjogImV2ZW5vZGQiLAogICJsaW5lQ2FwIjogInJvdW5kIiwKICAibGluZUpvaW4iOiAicm91bmQiLAogICJvcGFjaXR5IjogMS4wLAogICJyYWRpdXMiOiA0LAogICJzdHJva2UiOiB0cnVlLAogICJ3ZWlnaHQiOiAzCn0KICAgICAgICAgICAgICAgICkKICAgICAgICAgICAgICAgIC5hZGRUbyhtYXBfYjBmODEzM2E0NmExNDg3YWFkMGMxOTFlZTRmZjFlMzMpOwogICAgICAgICAgICAKICAgIAogICAgICAgICAgICB2YXIgcG9wdXBfMmIzMjkzMWE3MDFjNDNjMTkwNjRlYTNkYThkYWVjMzkgPSBMLnBvcHVwKHttYXhXaWR0aDogJzEwMCUnCiAgICAgICAgICAgIAogICAgICAgICAgICB9KTsKCiAgICAgICAgICAgIAogICAgICAgICAgICAgICAgdmFyIGh0bWxfYzUxZTIzNTA5ZDA4NGJjMjk5ZGM3OTg4NjY2OWMzZWQgPSAkKGA8ZGl2IGlkPSJodG1sX2M1MWUyMzUwOWQwODRiYzI5OWRjNzk4ODY2NjljM2VkIiBzdHlsZT0id2lkdGg6IDEwMC4wJTsgaGVpZ2h0OiAxMDAuMCU7Ij5IdW1iZXIgU3VtbWl0PC9kaXY+YClbMF07CiAgICAgICAgICAgICAgICBwb3B1cF8yYjMyOTMxYTcwMWM0M2MxOTA2NGVhM2RhOGRhZWMzOS5zZXRDb250ZW50KGh0bWxfYzUxZTIzNTA5ZDA4NGJjMjk5ZGM3OTg4NjY2OWMzZWQpOwogICAgICAgICAgICAKCiAgICAgICAgICAgIGNpcmNsZV9tYXJrZXJfNzFjMjFjN2MzY2IyNDE0MmE0OTM5OTVkZDM4NzFkYzcuYmluZFBvcHVwKHBvcHVwXzJiMzI5MzFhNzAxYzQzYzE5MDY0ZWEzZGE4ZGFlYzM5KQogICAgICAgICAgICA7CgogICAgICAgICAgICAKICAgICAgICAKICAgIAogICAgICAgICAgICB2YXIgY2lyY2xlX21hcmtlcl9lMTc2ZTE4MTNiMmU0ODE5OThhODg3M2Q1NzY4ZDRmMiA9IEwuY2lyY2xlTWFya2VyKAogICAgICAgICAgICAgICAgWzQzLjcxNjMxNiwgLTc5LjIzOTQ3NjA5OTk5OTk5XSwKICAgICAgICAgICAgICAgIHsKICAiYnViYmxpbmdNb3VzZUV2ZW50cyI6IHRydWUsCiAgImNvbG9yIjogImJsdWUiLAogICJkYXNoQXJyYXkiOiBudWxsLAogICJkYXNoT2Zmc2V0IjogbnVsbCwKICAiZmlsbCI6IHRydWUsCiAgImZpbGxDb2xvciI6ICIjMzE4NmNjIiwKICAiZmlsbE9wYWNpdHkiOiAwLjcsCiAgImZpbGxSdWxlIjogImV2ZW5vZGQiLAogICJsaW5lQ2FwIjogInJvdW5kIiwKICAibGluZUpvaW4iOiAicm91bmQiLAogICJvcGFjaXR5IjogMS4wLAogICJyYWRpdXMiOiA0LAogICJzdHJva2UiOiB0cnVlLAogICJ3ZWlnaHQiOiAzCn0KICAgICAgICAgICAgICAgICkKICAgICAgICAgICAgICAgIC5hZGRUbyhtYXBfYjBmODEzM2E0NmExNDg3YWFkMGMxOTFlZTRmZjFlMzMpOwogICAgICAgICAgICAKICAgIAogICAgICAgICAgICB2YXIgcG9wdXBfODFjMWY5OTUzN2M1NDcyMzgyZmY1Mjk3NWRkM2ZjMGEgPSBMLnBvcHVwKHttYXhXaWR0aDogJzEwMCUnCiAgICAgICAgICAgIAogICAgICAgICAgICB9KTsKCiAgICAgICAgICAgIAogICAgICAgICAgICAgICAgdmFyIGh0bWxfOTJlMzI4MjFkOWY4NDI1YjlhZDdlMmM0YWM5NDFlZmMgPSAkKGA8ZGl2IGlkPSJodG1sXzkyZTMyODIxZDlmODQyNWI5YWQ3ZTJjNGFjOTQxZWZjIiBzdHlsZT0id2lkdGg6IDEwMC4wJTsgaGVpZ2h0OiAxMDAuMCU7Ij5DbGlmZnNpZGUsIENsaWZmY3Jlc3QsIFNjYXJib3JvdWdoIFZpbGxhZ2UgV2VzdDwvZGl2PmApWzBdOwogICAgICAgICAgICAgICAgcG9wdXBfODFjMWY5OTUzN2M1NDcyMzgyZmY1Mjk3NWRkM2ZjMGEuc2V0Q29udGVudChodG1sXzkyZTMyODIxZDlmODQyNWI5YWQ3ZTJjNGFjOTQxZWZjKTsKICAgICAgICAgICAgCgogICAgICAgICAgICBjaXJjbGVfbWFya2VyX2UxNzZlMTgxM2IyZTQ4MTk5OGE4ODczZDU3NjhkNGYyLmJpbmRQb3B1cChwb3B1cF84MWMxZjk5NTM3YzU0NzIzODJmZjUyOTc1ZGQzZmMwYSkKICAgICAgICAgICAgOwoKICAgICAgICAgICAgCiAgICAgICAgCiAgICAKICAgICAgICAgICAgdmFyIGNpcmNsZV9tYXJrZXJfODRhYmJmMWFhZDA0NGMyMzg2NjMzOGJjMDQxOTgyNjcgPSBMLmNpcmNsZU1hcmtlcigKICAgICAgICAgICAgICAgIFs0My43ODkwNTMsIC03OS40MDg0OTI3OTk5OTk5OV0sCiAgICAgICAgICAgICAgICB7CiAgImJ1YmJsaW5nTW91c2VFdmVudHMiOiB0cnVlLAogICJjb2xvciI6ICJibHVlIiwKICAiZGFzaEFycmF5IjogbnVsbCwKICAiZGFzaE9mZnNldCI6IG51bGwsCiAgImZpbGwiOiB0cnVlLAogICJmaWxsQ29sb3IiOiAiIzMxODZjYyIsCiAgImZpbGxPcGFjaXR5IjogMC43LAogICJmaWxsUnVsZSI6ICJldmVub2RkIiwKICAibGluZUNhcCI6ICJyb3VuZCIsCiAgImxpbmVKb2luIjogInJvdW5kIiwKICAib3BhY2l0eSI6IDEuMCwKICAicmFkaXVzIjogNCwKICAic3Ryb2tlIjogdHJ1ZSwKICAid2VpZ2h0IjogMwp9CiAgICAgICAgICAgICAgICApCiAgICAgICAgICAgICAgICAuYWRkVG8obWFwX2IwZjgxMzNhNDZhMTQ4N2FhZDBjMTkxZWU0ZmYxZTMzKTsKICAgICAgICAgICAgCiAgICAKICAgICAgICAgICAgdmFyIHBvcHVwX2E2NGYzOTJjNWExYjQ1NWFhOWY2YjBjNDZkZjdjNjQxID0gTC5wb3B1cCh7bWF4V2lkdGg6ICcxMDAlJwogICAgICAgICAgICAKICAgICAgICAgICAgfSk7CgogICAgICAgICAgICAKICAgICAgICAgICAgICAgIHZhciBodG1sXzJmZjk4MzZjNjI5MTRjMmVhY2NkNTExZmYwNmVjYmQyID0gJChgPGRpdiBpZD0iaHRtbF8yZmY5ODM2YzYyOTE0YzJlYWNjZDUxMWZmMDZlY2JkMiIgc3R5bGU9IndpZHRoOiAxMDAuMCU7IGhlaWdodDogMTAwLjAlOyI+V2lsbG93ZGFsZSwgTmV3dG9uYnJvb2s8L2Rpdj5gKVswXTsKICAgICAgICAgICAgICAgIHBvcHVwX2E2NGYzOTJjNWExYjQ1NWFhOWY2YjBjNDZkZjdjNjQxLnNldENvbnRlbnQoaHRtbF8yZmY5ODM2YzYyOTE0YzJlYWNjZDUxMWZmMDZlY2JkMik7CiAgICAgICAgICAgIAoKICAgICAgICAgICAgY2lyY2xlX21hcmtlcl84NGFiYmYxYWFkMDQ0YzIzODY2MzM4YmMwNDE5ODI2Ny5iaW5kUG9wdXAocG9wdXBfYTY0ZjM5MmM1YTFiNDU1YWE5ZjZiMGM0NmRmN2M2NDEpCiAgICAgICAgICAgIDsKCiAgICAgICAgICAgIAogICAgICAgIAogICAgCiAgICAgICAgICAgIHZhciBjaXJjbGVfbWFya2VyXzg2MGJlOGFlZTU5ZTRhMTFhODEzOGM4MjM5N2VlOGRmID0gTC5jaXJjbGVNYXJrZXIoCiAgICAgICAgICAgICAgICBbNDMuNzI4NDk2NCwgLTc5LjQ5NTY5NzQwMDAwMDAxXSwKICAgICAgICAgICAgICAgIHsKICAiYnViYmxpbmdNb3VzZUV2ZW50cyI6IHRydWUsCiAgImNvbG9yIjogImJsdWUiLAogICJkYXNoQXJyYXkiOiBudWxsLAogICJkYXNoT2Zmc2V0IjogbnVsbCwKICAiZmlsbCI6IHRydWUsCiAgImZpbGxDb2xvciI6ICIjMzE4NmNjIiwKICAiZmlsbE9wYWNpdHkiOiAwLjcsCiAgImZpbGxSdWxlIjogImV2ZW5vZGQiLAogICJsaW5lQ2FwIjogInJvdW5kIiwKICAibGluZUpvaW4iOiAicm91bmQiLAogICJvcGFjaXR5IjogMS4wLAogICJyYWRpdXMiOiA0LAogICJzdHJva2UiOiB0cnVlLAogICJ3ZWlnaHQiOiAzCn0KICAgICAgICAgICAgICAgICkKICAgICAgICAgICAgICAgIC5hZGRUbyhtYXBfYjBmODEzM2E0NmExNDg3YWFkMGMxOTFlZTRmZjFlMzMpOwogICAgICAgICAgICAKICAgIAogICAgICAgICAgICB2YXIgcG9wdXBfMGU5ZDgwNzRhMzg4NGQ5MmJjMjRkNWNiZDFhMThiZWYgPSBMLnBvcHVwKHttYXhXaWR0aDogJzEwMCUnCiAgICAgICAgICAgIAogICAgICAgICAgICB9KTsKCiAgICAgICAgICAgIAogICAgICAgICAgICAgICAgdmFyIGh0bWxfZmM2YTVhY2VlNzQ0NGNlN2EwMjEwYTM2NDE0YWExZjAgPSAkKGA8ZGl2IGlkPSJodG1sX2ZjNmE1YWNlZTc0NDRjZTdhMDIxMGEzNjQxNGFhMWYwIiBzdHlsZT0id2lkdGg6IDEwMC4wJTsgaGVpZ2h0OiAxMDAuMCU7Ij5Eb3duc3ZpZXc8L2Rpdj5gKVswXTsKICAgICAgICAgICAgICAgIHBvcHVwXzBlOWQ4MDc0YTM4ODRkOTJiYzI0ZDVjYmQxYTE4YmVmLnNldENvbnRlbnQoaHRtbF9mYzZhNWFjZWU3NDQ0Y2U3YTAyMTBhMzY0MTRhYTFmMCk7CiAgICAgICAgICAgIAoKICAgICAgICAgICAgY2lyY2xlX21hcmtlcl84NjBiZThhZWU1OWU0YTExYTgxMzhjODIzOTdlZThkZi5iaW5kUG9wdXAocG9wdXBfMGU5ZDgwNzRhMzg4NGQ5MmJjMjRkNWNiZDFhMThiZWYpCiAgICAgICAgICAgIDsKCiAgICAgICAgICAgIAogICAgICAgIAogICAgCiAgICAgICAgICAgIHZhciBjaXJjbGVfbWFya2VyXzhjMjc5NWJjNDQxYzRiMzZiOWQzZDRmYTI5NDhjYzc1ID0gTC5jaXJjbGVNYXJrZXIoCiAgICAgICAgICAgICAgICBbNDMuNjU5NTI1NSwgLTc5LjM0MDkyM10sCiAgICAgICAgICAgICAgICB7CiAgImJ1YmJsaW5nTW91c2VFdmVudHMiOiB0cnVlLAogICJjb2xvciI6ICJibHVlIiwKICAiZGFzaEFycmF5IjogbnVsbCwKICAiZGFzaE9mZnNldCI6IG51bGwsCiAgImZpbGwiOiB0cnVlLAogICJmaWxsQ29sb3IiOiAiIzMxODZjYyIsCiAgImZpbGxPcGFjaXR5IjogMC43LAogICJmaWxsUnVsZSI6ICJldmVub2RkIiwKICAibGluZUNhcCI6ICJyb3VuZCIsCiAgImxpbmVKb2luIjogInJvdW5kIiwKICAib3BhY2l0eSI6IDEuMCwKICAicmFkaXVzIjogNCwKICAic3Ryb2tlIjogdHJ1ZSwKICAid2VpZ2h0IjogMwp9CiAgICAgICAgICAgICAgICApCiAgICAgICAgICAgICAgICAuYWRkVG8obWFwX2IwZjgxMzNhNDZhMTQ4N2FhZDBjMTkxZWU0ZmYxZTMzKTsKICAgICAgICAgICAgCiAgICAKICAgICAgICAgICAgdmFyIHBvcHVwXzg4YjI1YmE3MzMwNzRmNDZiMDNhYTcwODIzYmJhMThhID0gTC5wb3B1cCh7bWF4V2lkdGg6ICcxMDAlJwogICAgICAgICAgICAKICAgICAgICAgICAgfSk7CgogICAgICAgICAgICAKICAgICAgICAgICAgICAgIHZhciBodG1sXzc1ZmFjZTQ2ZDBjZjRhYzFhOGNjYjNkNjhlNmI2NjgyID0gJChgPGRpdiBpZD0iaHRtbF83NWZhY2U0NmQwY2Y0YWMxYThjY2IzZDY4ZTZiNjY4MiIgc3R5bGU9IndpZHRoOiAxMDAuMCU7IGhlaWdodDogMTAwLjAlOyI+U3R1ZGlvIERpc3RyaWN0PC9kaXY+YClbMF07CiAgICAgICAgICAgICAgICBwb3B1cF84OGIyNWJhNzMzMDc0ZjQ2YjAzYWE3MDgyM2JiYTE4YS5zZXRDb250ZW50KGh0bWxfNzVmYWNlNDZkMGNmNGFjMWE4Y2NiM2Q2OGU2YjY2ODIpOwogICAgICAgICAgICAKCiAgICAgICAgICAgIGNpcmNsZV9tYXJrZXJfOGMyNzk1YmM0NDFjNGIzNmI5ZDNkNGZhMjk0OGNjNzUuYmluZFBvcHVwKHBvcHVwXzg4YjI1YmE3MzMwNzRmNDZiMDNhYTcwODIzYmJhMThhKQogICAgICAgICAgICA7CgogICAgICAgICAgICAKICAgICAgICAKICAgIAogICAgICAgICAgICB2YXIgY2lyY2xlX21hcmtlcl8zNDIyOWFkYjkzN2Q0Yzc0YWRhOGU5MTU2MDM1NThmZiA9IEwuY2lyY2xlTWFya2VyKAogICAgICAgICAgICAgICAgWzQzLjczMzI4MjUsIC03OS40MTk3NDk3XSwKICAgICAgICAgICAgICAgIHsKICAiYnViYmxpbmdNb3VzZUV2ZW50cyI6IHRydWUsCiAgImNvbG9yIjogImJsdWUiLAogICJkYXNoQXJyYXkiOiBudWxsLAogICJkYXNoT2Zmc2V0IjogbnVsbCwKICAiZmlsbCI6IHRydWUsCiAgImZpbGxDb2xvciI6ICIjMzE4NmNjIiwKICAiZmlsbE9wYWNpdHkiOiAwLjcsCiAgImZpbGxSdWxlIjogImV2ZW5vZGQiLAogICJsaW5lQ2FwIjogInJvdW5kIiwKICAibGluZUpvaW4iOiAicm91bmQiLAogICJvcGFjaXR5IjogMS4wLAogICJyYWRpdXMiOiA0LAogICJzdHJva2UiOiB0cnVlLAogICJ3ZWlnaHQiOiAzCn0KICAgICAgICAgICAgICAgICkKICAgICAgICAgICAgICAgIC5hZGRUbyhtYXBfYjBmODEzM2E0NmExNDg3YWFkMGMxOTFlZTRmZjFlMzMpOwogICAgICAgICAgICAKICAgIAogICAgICAgICAgICB2YXIgcG9wdXBfODk5YzY4ZWNkNGFkNGVmM2I0YmYwM2NjNGZjNzBjZTMgPSBMLnBvcHVwKHttYXhXaWR0aDogJzEwMCUnCiAgICAgICAgICAgIAogICAgICAgICAgICB9KTsKCiAgICAgICAgICAgIAogICAgICAgICAgICAgICAgdmFyIGh0bWxfYmFlODVhYjk0YTI4NDI3ZTkwMDY1NGM0ZjQxMjE4ZDggPSAkKGA8ZGl2IGlkPSJodG1sX2JhZTg1YWI5NGEyODQyN2U5MDA2NTRjNGY0MTIxOGQ4IiBzdHlsZT0id2lkdGg6IDEwMC4wJTsgaGVpZ2h0OiAxMDAuMCU7Ij5CZWRmb3JkIFBhcmssIExhd3JlbmNlIE1hbm9yIEVhc3Q8L2Rpdj5gKVswXTsKICAgICAgICAgICAgICAgIHBvcHVwXzg5OWM2OGVjZDRhZDRlZjNiNGJmMDNjYzRmYzcwY2UzLnNldENvbnRlbnQoaHRtbF9iYWU4NWFiOTRhMjg0MjdlOTAwNjU0YzRmNDEyMThkOCk7CiAgICAgICAgICAgIAoKICAgICAgICAgICAgY2lyY2xlX21hcmtlcl8zNDIyOWFkYjkzN2Q0Yzc0YWRhOGU5MTU2MDM1NThmZi5iaW5kUG9wdXAocG9wdXBfODk5YzY4ZWNkNGFkNGVmM2I0YmYwM2NjNGZjNzBjZTMpCiAgICAgICAgICAgIDsKCiAgICAgICAgICAgIAogICAgICAgIAogICAgCiAgICAgICAgICAgIHZhciBjaXJjbGVfbWFya2VyXzUyMDcyZjA1MmIwOTQ3Y2ZhM2Y3MDk0NDdhNDVlYTFhID0gTC5jaXJjbGVNYXJrZXIoCiAgICAgICAgICAgICAgICBbNDMuNjkxMTE1OCwgLTc5LjQ3NjAxMzI5OTk5OTk5XSwKICAgICAgICAgICAgICAgIHsKICAiYnViYmxpbmdNb3VzZUV2ZW50cyI6IHRydWUsCiAgImNvbG9yIjogImJsdWUiLAogICJkYXNoQXJyYXkiOiBudWxsLAogICJkYXNoT2Zmc2V0IjogbnVsbCwKICAiZmlsbCI6IHRydWUsCiAgImZpbGxDb2xvciI6ICIjMzE4NmNjIiwKICAiZmlsbE9wYWNpdHkiOiAwLjcsCiAgImZpbGxSdWxlIjogImV2ZW5vZGQiLAogICJsaW5lQ2FwIjogInJvdW5kIiwKICAibGluZUpvaW4iOiAicm91bmQiLAogICJvcGFjaXR5IjogMS4wLAogICJyYWRpdXMiOiA0LAogICJzdHJva2UiOiB0cnVlLAogICJ3ZWlnaHQiOiAzCn0KICAgICAgICAgICAgICAgICkKICAgICAgICAgICAgICAgIC5hZGRUbyhtYXBfYjBmODEzM2E0NmExNDg3YWFkMGMxOTFlZTRmZjFlMzMpOwogICAgICAgICAgICAKICAgIAogICAgICAgICAgICB2YXIgcG9wdXBfNjExOGRkY2I3MTM4NDFhZWFmODgwYWZkZmJlNTkzN2EgPSBMLnBvcHVwKHttYXhXaWR0aDogJzEwMCUnCiAgICAgICAgICAgIAogICAgICAgICAgICB9KTsKCiAgICAgICAgICAgIAogICAgICAgICAgICAgICAgdmFyIGh0bWxfY2MzYWU4NTRlMGViNGZlYmExMmJmN2EwOTViZTk5ZmYgPSAkKGA8ZGl2IGlkPSJodG1sX2NjM2FlODU0ZTBlYjRmZWJhMTJiZjdhMDk1YmU5OWZmIiBzdHlsZT0id2lkdGg6IDEwMC4wJTsgaGVpZ2h0OiAxMDAuMCU7Ij5EZWwgUmF5LCBNb3VudCBEZW5uaXMsIEtlZWxzZGFsZSBhbmQgU2lsdmVydGhvcm48L2Rpdj5gKVswXTsKICAgICAgICAgICAgICAgIHBvcHVwXzYxMThkZGNiNzEzODQxYWVhZjg4MGFmZGZiZTU5MzdhLnNldENvbnRlbnQoaHRtbF9jYzNhZTg1NGUwZWI0ZmViYTEyYmY3YTA5NWJlOTlmZik7CiAgICAgICAgICAgIAoKICAgICAgICAgICAgY2lyY2xlX21hcmtlcl81MjA3MmYwNTJiMDk0N2NmYTNmNzA5NDQ3YTQ1ZWExYS5iaW5kUG9wdXAocG9wdXBfNjExOGRkY2I3MTM4NDFhZWFmODgwYWZkZmJlNTkzN2EpCiAgICAgICAgICAgIDsKCiAgICAgICAgICAgIAogICAgICAgIAogICAgCiAgICAgICAgICAgIHZhciBjaXJjbGVfbWFya2VyXzRjZmJhZWQzMTQ3YTQ3MTQ4NDc5NzRjM2RhOTVjODA5ID0gTC5jaXJjbGVNYXJrZXIoCiAgICAgICAgICAgICAgICBbNDMuNzI0NzY1OSwgLTc5LjUzMjI0MjQwMDAwMDAyXSwKICAgICAgICAgICAgICAgIHsKICAiYnViYmxpbmdNb3VzZUV2ZW50cyI6IHRydWUsCiAgImNvbG9yIjogImJsdWUiLAogICJkYXNoQXJyYXkiOiBudWxsLAogICJkYXNoT2Zmc2V0IjogbnVsbCwKICAiZmlsbCI6IHRydWUsCiAgImZpbGxDb2xvciI6ICIjMzE4NmNjIiwKICAiZmlsbE9wYWNpdHkiOiAwLjcsCiAgImZpbGxSdWxlIjogImV2ZW5vZGQiLAogICJsaW5lQ2FwIjogInJvdW5kIiwKICAibGluZUpvaW4iOiAicm91bmQiLAogICJvcGFjaXR5IjogMS4wLAogICJyYWRpdXMiOiA0LAogICJzdHJva2UiOiB0cnVlLAogICJ3ZWlnaHQiOiAzCn0KICAgICAgICAgICAgICAgICkKICAgICAgICAgICAgICAgIC5hZGRUbyhtYXBfYjBmODEzM2E0NmExNDg3YWFkMGMxOTFlZTRmZjFlMzMpOwogICAgICAgICAgICAKICAgIAogICAgICAgICAgICB2YXIgcG9wdXBfZWU5NWFiNTE1NDJkNGMyNzg2NzIxNjczOTM0ODBjYTkgPSBMLnBvcHVwKHttYXhXaWR0aDogJzEwMCUnCiAgICAgICAgICAgIAogICAgICAgICAgICB9KTsKCiAgICAgICAgICAgIAogICAgICAgICAgICAgICAgdmFyIGh0bWxfNDNhZDZhYjU3YzRhNGRkODlmZTYyYmI2YjY2MGNiNzcgPSAkKGA8ZGl2IGlkPSJodG1sXzQzYWQ2YWI1N2M0YTRkZDg5ZmU2MmJiNmI2NjBjYjc3IiBzdHlsZT0id2lkdGg6IDEwMC4wJTsgaGVpZ2h0OiAxMDAuMCU7Ij5IdW1iZXJsZWEsIEVtZXJ5PC9kaXY+YClbMF07CiAgICAgICAgICAgICAgICBwb3B1cF9lZTk1YWI1MTU0MmQ0YzI3ODY3MjE2NzM5MzQ4MGNhOS5zZXRDb250ZW50KGh0bWxfNDNhZDZhYjU3YzRhNGRkODlmZTYyYmI2YjY2MGNiNzcpOwogICAgICAgICAgICAKCiAgICAgICAgICAgIGNpcmNsZV9tYXJrZXJfNGNmYmFlZDMxNDdhNDcxNDg0Nzk3NGMzZGE5NWM4MDkuYmluZFBvcHVwKHBvcHVwX2VlOTVhYjUxNTQyZDRjMjc4NjcyMTY3MzkzNDgwY2E5KQogICAgICAgICAgICA7CgogICAgICAgICAgICAKICAgICAgICAKICAgIAogICAgICAgICAgICB2YXIgY2lyY2xlX21hcmtlcl8zYTU4ZDNjYzhjODM0M2Y3YTc2NzUwM2NkM2MzMGJkOCA9IEwuY2lyY2xlTWFya2VyKAogICAgICAgICAgICAgICAgWzQzLjY5MjY1NzAwMDAwMDAwNCwgLTc5LjI2NDg0ODFdLAogICAgICAgICAgICAgICAgewogICJidWJibGluZ01vdXNlRXZlbnRzIjogdHJ1ZSwKICAiY29sb3IiOiAiYmx1ZSIsCiAgImRhc2hBcnJheSI6IG51bGwsCiAgImRhc2hPZmZzZXQiOiBudWxsLAogICJmaWxsIjogdHJ1ZSwKICAiZmlsbENvbG9yIjogIiMzMTg2Y2MiLAogICJmaWxsT3BhY2l0eSI6IDAuNywKICAiZmlsbFJ1bGUiOiAiZXZlbm9kZCIsCiAgImxpbmVDYXAiOiAicm91bmQiLAogICJsaW5lSm9pbiI6ICJyb3VuZCIsCiAgIm9wYWNpdHkiOiAxLjAsCiAgInJhZGl1cyI6IDQsCiAgInN0cm9rZSI6IHRydWUsCiAgIndlaWdodCI6IDMKfQogICAgICAgICAgICAgICAgKQogICAgICAgICAgICAgICAgLmFkZFRvKG1hcF9iMGY4MTMzYTQ2YTE0ODdhYWQwYzE5MWVlNGZmMWUzMyk7CiAgICAgICAgICAgIAogICAgCiAgICAgICAgICAgIHZhciBwb3B1cF9jZmJiOTM4ZDhlZDg0MjkyODRhNmZmZGJiMjJiOThkZSA9IEwucG9wdXAoe21heFdpZHRoOiAnMTAwJScKICAgICAgICAgICAgCiAgICAgICAgICAgIH0pOwoKICAgICAgICAgICAgCiAgICAgICAgICAgICAgICB2YXIgaHRtbF8wYTM0OGZjMzhjY2M0OTBmOWY5YmYyYTk1ZWM0MTY4NiA9ICQoYDxkaXYgaWQ9Imh0bWxfMGEzNDhmYzM4Y2NjNDkwZjlmOWJmMmE5NWVjNDE2ODYiIHN0eWxlPSJ3aWR0aDogMTAwLjAlOyBoZWlnaHQ6IDEwMC4wJTsiPkJpcmNoIENsaWZmLCBDbGlmZnNpZGUgV2VzdDwvZGl2PmApWzBdOwogICAgICAgICAgICAgICAgcG9wdXBfY2ZiYjkzOGQ4ZWQ4NDI5Mjg0YTZmZmRiYjIyYjk4ZGUuc2V0Q29udGVudChodG1sXzBhMzQ4ZmMzOGNjYzQ5MGY5ZjliZjJhOTVlYzQxNjg2KTsKICAgICAgICAgICAgCgogICAgICAgICAgICBjaXJjbGVfbWFya2VyXzNhNThkM2NjOGM4MzQzZjdhNzY3NTAzY2QzYzMwYmQ4LmJpbmRQb3B1cChwb3B1cF9jZmJiOTM4ZDhlZDg0MjkyODRhNmZmZGJiMjJiOThkZSkKICAgICAgICAgICAgOwoKICAgICAgICAgICAgCiAgICAgICAgCiAgICAKICAgICAgICAgICAgdmFyIGNpcmNsZV9tYXJrZXJfMDY0ZmNhYmQ5ODA3NDc0MGJmY2I0Mzc0YmMzZDczODUgPSBMLmNpcmNsZU1hcmtlcigKICAgICAgICAgICAgICAgIFs0My43NzAxMTk5LCAtNzkuNDA4NDkyNzk5OTk5OTldLAogICAgICAgICAgICAgICAgewogICJidWJibGluZ01vdXNlRXZlbnRzIjogdHJ1ZSwKICAiY29sb3IiOiAiYmx1ZSIsCiAgImRhc2hBcnJheSI6IG51bGwsCiAgImRhc2hPZmZzZXQiOiBudWxsLAogICJmaWxsIjogdHJ1ZSwKICAiZmlsbENvbG9yIjogIiMzMTg2Y2MiLAogICJmaWxsT3BhY2l0eSI6IDAuNywKICAiZmlsbFJ1bGUiOiAiZXZlbm9kZCIsCiAgImxpbmVDYXAiOiAicm91bmQiLAogICJsaW5lSm9pbiI6ICJyb3VuZCIsCiAgIm9wYWNpdHkiOiAxLjAsCiAgInJhZGl1cyI6IDQsCiAgInN0cm9rZSI6IHRydWUsCiAgIndlaWdodCI6IDMKfQogICAgICAgICAgICAgICAgKQogICAgICAgICAgICAgICAgLmFkZFRvKG1hcF9iMGY4MTMzYTQ2YTE0ODdhYWQwYzE5MWVlNGZmMWUzMyk7CiAgICAgICAgICAgIAogICAgCiAgICAgICAgICAgIHZhciBwb3B1cF8yNzFmZDU0ZmI4OWE0NWEwYjE4ZmMwYTdhOWI3OGVmZiA9IEwucG9wdXAoe21heFdpZHRoOiAnMTAwJScKICAgICAgICAgICAgCiAgICAgICAgICAgIH0pOwoKICAgICAgICAgICAgCiAgICAgICAgICAgICAgICB2YXIgaHRtbF83YzM3M2FjNTExMWM0ZDM0YTE3ODAwNjBkOGFlMGUzMSA9ICQoYDxkaXYgaWQ9Imh0bWxfN2MzNzNhYzUxMTFjNGQzNGExNzgwMDYwZDhhZTBlMzEiIHN0eWxlPSJ3aWR0aDogMTAwLjAlOyBoZWlnaHQ6IDEwMC4wJTsiPldpbGxvd2RhbGU8L2Rpdj5gKVswXTsKICAgICAgICAgICAgICAgIHBvcHVwXzI3MWZkNTRmYjg5YTQ1YTBiMThmYzBhN2E5Yjc4ZWZmLnNldENvbnRlbnQoaHRtbF83YzM3M2FjNTExMWM0ZDM0YTE3ODAwNjBkOGFlMGUzMSk7CiAgICAgICAgICAgIAoKICAgICAgICAgICAgY2lyY2xlX21hcmtlcl8wNjRmY2FiZDk4MDc0NzQwYmZjYjQzNzRiYzNkNzM4NS5iaW5kUG9wdXAocG9wdXBfMjcxZmQ1NGZiODlhNDVhMGIxOGZjMGE3YTliNzhlZmYpCiAgICAgICAgICAgIDsKCiAgICAgICAgICAgIAogICAgICAgIAogICAgCiAgICAgICAgICAgIHZhciBjaXJjbGVfbWFya2VyXzY1MGY5NjYxNjEzNTRiMDFiZWU1MGNmOWE4YTI4Zjg1ID0gTC5jaXJjbGVNYXJrZXIoCiAgICAgICAgICAgICAgICBbNDMuNzYxNjMxMywgLTc5LjUyMDk5OTQwMDAwMDAxXSwKICAgICAgICAgICAgICAgIHsKICAiYnViYmxpbmdNb3VzZUV2ZW50cyI6IHRydWUsCiAgImNvbG9yIjogImJsdWUiLAogICJkYXNoQXJyYXkiOiBudWxsLAogICJkYXNoT2Zmc2V0IjogbnVsbCwKICAiZmlsbCI6IHRydWUsCiAgImZpbGxDb2xvciI6ICIjMzE4NmNjIiwKICAiZmlsbE9wYWNpdHkiOiAwLjcsCiAgImZpbGxSdWxlIjogImV2ZW5vZGQiLAogICJsaW5lQ2FwIjogInJvdW5kIiwKICAibGluZUpvaW4iOiAicm91bmQiLAogICJvcGFjaXR5IjogMS4wLAogICJyYWRpdXMiOiA0LAogICJzdHJva2UiOiB0cnVlLAogICJ3ZWlnaHQiOiAzCn0KICAgICAgICAgICAgICAgICkKICAgICAgICAgICAgICAgIC5hZGRUbyhtYXBfYjBmODEzM2E0NmExNDg3YWFkMGMxOTFlZTRmZjFlMzMpOwogICAgICAgICAgICAKICAgIAogICAgICAgICAgICB2YXIgcG9wdXBfYmI3MDk3ZDg0ZTIwNDIwZjg4YjFiMDdjZDI0M2IwNDYgPSBMLnBvcHVwKHttYXhXaWR0aDogJzEwMCUnCiAgICAgICAgICAgIAogICAgICAgICAgICB9KTsKCiAgICAgICAgICAgIAogICAgICAgICAgICAgICAgdmFyIGh0bWxfZmE0ZmRmNGM3MTljNGNmZGIwYzliNjUxMWQ1YTNmZjYgPSAkKGA8ZGl2IGlkPSJodG1sX2ZhNGZkZjRjNzE5YzRjZmRiMGM5YjY1MTFkNWEzZmY2IiBzdHlsZT0id2lkdGg6IDEwMC4wJTsgaGVpZ2h0OiAxMDAuMCU7Ij5Eb3duc3ZpZXc8L2Rpdj5gKVswXTsKICAgICAgICAgICAgICAgIHBvcHVwX2JiNzA5N2Q4NGUyMDQyMGY4OGIxYjA3Y2QyNDNiMDQ2LnNldENvbnRlbnQoaHRtbF9mYTRmZGY0YzcxOWM0Y2ZkYjBjOWI2NTExZDVhM2ZmNik7CiAgICAgICAgICAgIAoKICAgICAgICAgICAgY2lyY2xlX21hcmtlcl82NTBmOTY2MTYxMzU0YjAxYmVlNTBjZjlhOGEyOGY4NS5iaW5kUG9wdXAocG9wdXBfYmI3MDk3ZDg0ZTIwNDIwZjg4YjFiMDdjZDI0M2IwNDYpCiAgICAgICAgICAgIDsKCiAgICAgICAgICAgIAogICAgICAgIAogICAgCiAgICAgICAgICAgIHZhciBjaXJjbGVfbWFya2VyXzcwNDU5ZWEwMDY2ODRiZTRhOTg2YTM0OGQ1MzQ4ZTUxID0gTC5jaXJjbGVNYXJrZXIoCiAgICAgICAgICAgICAgICBbNDMuNzI4MDIwNSwgLTc5LjM4ODc5MDFdLAogICAgICAgICAgICAgICAgewogICJidWJibGluZ01vdXNlRXZlbnRzIjogdHJ1ZSwKICAiY29sb3IiOiAiYmx1ZSIsCiAgImRhc2hBcnJheSI6IG51bGwsCiAgImRhc2hPZmZzZXQiOiBudWxsLAogICJmaWxsIjogdHJ1ZSwKICAiZmlsbENvbG9yIjogIiMzMTg2Y2MiLAogICJmaWxsT3BhY2l0eSI6IDAuNywKICAiZmlsbFJ1bGUiOiAiZXZlbm9kZCIsCiAgImxpbmVDYXAiOiAicm91bmQiLAogICJsaW5lSm9pbiI6ICJyb3VuZCIsCiAgIm9wYWNpdHkiOiAxLjAsCiAgInJhZGl1cyI6IDQsCiAgInN0cm9rZSI6IHRydWUsCiAgIndlaWdodCI6IDMKfQogICAgICAgICAgICAgICAgKQogICAgICAgICAgICAgICAgLmFkZFRvKG1hcF9iMGY4MTMzYTQ2YTE0ODdhYWQwYzE5MWVlNGZmMWUzMyk7CiAgICAgICAgICAgIAogICAgCiAgICAgICAgICAgIHZhciBwb3B1cF9jZGI0MGViMDVmY2E0MTEwODBiYzI4ZGI2ODJlNzM5YiA9IEwucG9wdXAoe21heFdpZHRoOiAnMTAwJScKICAgICAgICAgICAgCiAgICAgICAgICAgIH0pOwoKICAgICAgICAgICAgCiAgICAgICAgICAgICAgICB2YXIgaHRtbF8wNWU2M2RhZmNiMjg0NmYyYjFhMWE5MTE5OGZmMDUyZSA9ICQoYDxkaXYgaWQ9Imh0bWxfMDVlNjNkYWZjYjI4NDZmMmIxYTFhOTExOThmZjA1MmUiIHN0eWxlPSJ3aWR0aDogMTAwLjAlOyBoZWlnaHQ6IDEwMC4wJTsiPkxhd3JlbmNlIFBhcms8L2Rpdj5gKVswXTsKICAgICAgICAgICAgICAgIHBvcHVwX2NkYjQwZWIwNWZjYTQxMTA4MGJjMjhkYjY4MmU3MzliLnNldENvbnRlbnQoaHRtbF8wNWU2M2RhZmNiMjg0NmYyYjFhMWE5MTE5OGZmMDUyZSk7CiAgICAgICAgICAgIAoKICAgICAgICAgICAgY2lyY2xlX21hcmtlcl83MDQ1OWVhMDA2Njg0YmU0YTk4NmEzNDhkNTM0OGU1MS5iaW5kUG9wdXAocG9wdXBfY2RiNDBlYjA1ZmNhNDExMDgwYmMyOGRiNjgyZTczOWIpCiAgICAgICAgICAgIDsKCiAgICAgICAgICAgIAogICAgICAgIAogICAgCiAgICAgICAgICAgIHZhciBjaXJjbGVfbWFya2VyX2JmY2M3MGVkZTZlZjQxYWE5Y2JiZTdlOTM5NzZhZDU2ID0gTC5jaXJjbGVNYXJrZXIoCiAgICAgICAgICAgICAgICBbNDMuNzExNjk0OCwgLTc5LjQxNjkzNTU5OTk5OTk5XSwKICAgICAgICAgICAgICAgIHsKICAiYnViYmxpbmdNb3VzZUV2ZW50cyI6IHRydWUsCiAgImNvbG9yIjogImJsdWUiLAogICJkYXNoQXJyYXkiOiBudWxsLAogICJkYXNoT2Zmc2V0IjogbnVsbCwKICAiZmlsbCI6IHRydWUsCiAgImZpbGxDb2xvciI6ICIjMzE4NmNjIiwKICAiZmlsbE9wYWNpdHkiOiAwLjcsCiAgImZpbGxSdWxlIjogImV2ZW5vZGQiLAogICJsaW5lQ2FwIjogInJvdW5kIiwKICAibGluZUpvaW4iOiAicm91bmQiLAogICJvcGFjaXR5IjogMS4wLAogICJyYWRpdXMiOiA0LAogICJzdHJva2UiOiB0cnVlLAogICJ3ZWlnaHQiOiAzCn0KICAgICAgICAgICAgICAgICkKICAgICAgICAgICAgICAgIC5hZGRUbyhtYXBfYjBmODEzM2E0NmExNDg3YWFkMGMxOTFlZTRmZjFlMzMpOwogICAgICAgICAgICAKICAgIAogICAgICAgICAgICB2YXIgcG9wdXBfOTZlYjUwMmEwMWYzNDdhMDg1ZGY5MWJkNTIyODM4NmUgPSBMLnBvcHVwKHttYXhXaWR0aDogJzEwMCUnCiAgICAgICAgICAgIAogICAgICAgICAgICB9KTsKCiAgICAgICAgICAgIAogICAgICAgICAgICAgICAgdmFyIGh0bWxfNjI0NDgzNjFhZDcyNDhkNjlhZWU5ZmM5ODQzOWE2ZjMgPSAkKGA8ZGl2IGlkPSJodG1sXzYyNDQ4MzYxYWQ3MjQ4ZDY5YWVlOWZjOTg0MzlhNmYzIiBzdHlsZT0id2lkdGg6IDEwMC4wJTsgaGVpZ2h0OiAxMDAuMCU7Ij5Sb3NlbGF3bjwvZGl2PmApWzBdOwogICAgICAgICAgICAgICAgcG9wdXBfOTZlYjUwMmEwMWYzNDdhMDg1ZGY5MWJkNTIyODM4NmUuc2V0Q29udGVudChodG1sXzYyNDQ4MzYxYWQ3MjQ4ZDY5YWVlOWZjOTg0MzlhNmYzKTsKICAgICAgICAgICAgCgogICAgICAgICAgICBjaXJjbGVfbWFya2VyX2JmY2M3MGVkZTZlZjQxYWE5Y2JiZTdlOTM5NzZhZDU2LmJpbmRQb3B1cChwb3B1cF85NmViNTAyYTAxZjM0N2EwODVkZjkxYmQ1MjI4Mzg2ZSkKICAgICAgICAgICAgOwoKICAgICAgICAgICAgCiAgICAgICAgCiAgICAKICAgICAgICAgICAgdmFyIGNpcmNsZV9tYXJrZXJfODc2NDdjN2JkMzlmNDFkZDgxNmM4YTFkOGNhYzA0MzkgPSBMLmNpcmNsZU1hcmtlcigKICAgICAgICAgICAgICAgIFs0My42NzMxODUyOTk5OTk5OSwgLTc5LjQ4NzI2MTkwMDAwMDAxXSwKICAgICAgICAgICAgICAgIHsKICAiYnViYmxpbmdNb3VzZUV2ZW50cyI6IHRydWUsCiAgImNvbG9yIjogImJsdWUiLAogICJkYXNoQXJyYXkiOiBudWxsLAogICJkYXNoT2Zmc2V0IjogbnVsbCwKICAiZmlsbCI6IHRydWUsCiAgImZpbGxDb2xvciI6ICIjMzE4NmNjIiwKICAiZmlsbE9wYWNpdHkiOiAwLjcsCiAgImZpbGxSdWxlIjogImV2ZW5vZGQiLAogICJsaW5lQ2FwIjogInJvdW5kIiwKICAibGluZUpvaW4iOiAicm91bmQiLAogICJvcGFjaXR5IjogMS4wLAogICJyYWRpdXMiOiA0LAogICJzdHJva2UiOiB0cnVlLAogICJ3ZWlnaHQiOiAzCn0KICAgICAgICAgICAgICAgICkKICAgICAgICAgICAgICAgIC5hZGRUbyhtYXBfYjBmODEzM2E0NmExNDg3YWFkMGMxOTFlZTRmZjFlMzMpOwogICAgICAgICAgICAKICAgIAogICAgICAgICAgICB2YXIgcG9wdXBfYWYzMTAzMjkxNzJhNGIyOWFiYmNkZGJjZGY4ZThlYWQgPSBMLnBvcHVwKHttYXhXaWR0aDogJzEwMCUnCiAgICAgICAgICAgIAogICAgICAgICAgICB9KTsKCiAgICAgICAgICAgIAogICAgICAgICAgICAgICAgdmFyIGh0bWxfY2EwZDllYjYyMDAwNDY4M2FjNmMyZTIyYzM1NTU5MmEgPSAkKGA8ZGl2IGlkPSJodG1sX2NhMGQ5ZWI2MjAwMDQ2ODNhYzZjMmUyMmMzNTU1OTJhIiBzdHlsZT0id2lkdGg6IDEwMC4wJTsgaGVpZ2h0OiAxMDAuMCU7Ij5SdW5ueW1lZGUsIFRoZSBKdW5jdGlvbiBOb3J0aDwvZGl2PmApWzBdOwogICAgICAgICAgICAgICAgcG9wdXBfYWYzMTAzMjkxNzJhNGIyOWFiYmNkZGJjZGY4ZThlYWQuc2V0Q29udGVudChodG1sX2NhMGQ5ZWI2MjAwMDQ2ODNhYzZjMmUyMmMzNTU1OTJhKTsKICAgICAgICAgICAgCgogICAgICAgICAgICBjaXJjbGVfbWFya2VyXzg3NjQ3YzdiZDM5ZjQxZGQ4MTZjOGExZDhjYWMwNDM5LmJpbmRQb3B1cChwb3B1cF9hZjMxMDMyOTE3MmE0YjI5YWJiY2RkYmNkZjhlOGVhZCkKICAgICAgICAgICAgOwoKICAgICAgICAgICAgCiAgICAgICAgCiAgICAKICAgICAgICAgICAgdmFyIGNpcmNsZV9tYXJrZXJfMGM2Y2VhZTU1NTVhNGNkNzkyODVhZTA0MTZiYzc2MmIgPSBMLmNpcmNsZU1hcmtlcigKICAgICAgICAgICAgICAgIFs0My43MDY4NzYsIC03OS41MTgxODg0MDAwMDAwMV0sCiAgICAgICAgICAgICAgICB7CiAgImJ1YmJsaW5nTW91c2VFdmVudHMiOiB0cnVlLAogICJjb2xvciI6ICJibHVlIiwKICAiZGFzaEFycmF5IjogbnVsbCwKICAiZGFzaE9mZnNldCI6IG51bGwsCiAgImZpbGwiOiB0cnVlLAogICJmaWxsQ29sb3IiOiAiIzMxODZjYyIsCiAgImZpbGxPcGFjaXR5IjogMC43LAogICJmaWxsUnVsZSI6ICJldmVub2RkIiwKICAibGluZUNhcCI6ICJyb3VuZCIsCiAgImxpbmVKb2luIjogInJvdW5kIiwKICAib3BhY2l0eSI6IDEuMCwKICAicmFkaXVzIjogNCwKICAic3Ryb2tlIjogdHJ1ZSwKICAid2VpZ2h0IjogMwp9CiAgICAgICAgICAgICAgICApCiAgICAgICAgICAgICAgICAuYWRkVG8obWFwX2IwZjgxMzNhNDZhMTQ4N2FhZDBjMTkxZWU0ZmYxZTMzKTsKICAgICAgICAgICAgCiAgICAKICAgICAgICAgICAgdmFyIHBvcHVwXzg1YmNmNDFjYzg4OTQyYzQ5NzMxYzJiN2VkM2VmMGJkID0gTC5wb3B1cCh7bWF4V2lkdGg6ICcxMDAlJwogICAgICAgICAgICAKICAgICAgICAgICAgfSk7CgogICAgICAgICAgICAKICAgICAgICAgICAgICAgIHZhciBodG1sX2M4MTE2YjdjYmE5OTRkZTA4ZWM1Mzk3OGNjNTBlOTljID0gJChgPGRpdiBpZD0iaHRtbF9jODExNmI3Y2JhOTk0ZGUwOGVjNTM5NzhjYzUwZTk5YyIgc3R5bGU9IndpZHRoOiAxMDAuMCU7IGhlaWdodDogMTAwLjAlOyI+V2VzdG9uPC9kaXY+YClbMF07CiAgICAgICAgICAgICAgICBwb3B1cF84NWJjZjQxY2M4ODk0MmM0OTczMWMyYjdlZDNlZjBiZC5zZXRDb250ZW50KGh0bWxfYzgxMTZiN2NiYTk5NGRlMDhlYzUzOTc4Y2M1MGU5OWMpOwogICAgICAgICAgICAKCiAgICAgICAgICAgIGNpcmNsZV9tYXJrZXJfMGM2Y2VhZTU1NTVhNGNkNzkyODVhZTA0MTZiYzc2MmIuYmluZFBvcHVwKHBvcHVwXzg1YmNmNDFjYzg4OTQyYzQ5NzMxYzJiN2VkM2VmMGJkKQogICAgICAgICAgICA7CgogICAgICAgICAgICAKICAgICAgICAKICAgIAogICAgICAgICAgICB2YXIgY2lyY2xlX21hcmtlcl82NWQwN2NhOTgyOGY0NDg5YWVhMGFkOGFlZmY1MTY0NyA9IEwuY2lyY2xlTWFya2VyKAogICAgICAgICAgICAgICAgWzQzLjc1NzQwOTYsIC03OS4yNzMzMDQwMDAwMDAwMV0sCiAgICAgICAgICAgICAgICB7CiAgImJ1YmJsaW5nTW91c2VFdmVudHMiOiB0cnVlLAogICJjb2xvciI6ICJibHVlIiwKICAiZGFzaEFycmF5IjogbnVsbCwKICAiZGFzaE9mZnNldCI6IG51bGwsCiAgImZpbGwiOiB0cnVlLAogICJmaWxsQ29sb3IiOiAiIzMxODZjYyIsCiAgImZpbGxPcGFjaXR5IjogMC43LAogICJmaWxsUnVsZSI6ICJldmVub2RkIiwKICAibGluZUNhcCI6ICJyb3VuZCIsCiAgImxpbmVKb2luIjogInJvdW5kIiwKICAib3BhY2l0eSI6IDEuMCwKICAicmFkaXVzIjogNCwKICAic3Ryb2tlIjogdHJ1ZSwKICAid2VpZ2h0IjogMwp9CiAgICAgICAgICAgICAgICApCiAgICAgICAgICAgICAgICAuYWRkVG8obWFwX2IwZjgxMzNhNDZhMTQ4N2FhZDBjMTkxZWU0ZmYxZTMzKTsKICAgICAgICAgICAgCiAgICAKICAgICAgICAgICAgdmFyIHBvcHVwX2M1N2QxODAyYTg2ZTQzNTM4ZDlhN2I0N2M5Njc2Y2FlID0gTC5wb3B1cCh7bWF4V2lkdGg6ICcxMDAlJwogICAgICAgICAgICAKICAgICAgICAgICAgfSk7CgogICAgICAgICAgICAKICAgICAgICAgICAgICAgIHZhciBodG1sXzVjYjk0NDU5Nzg3MDQ0Y2FhZWFiMDNmOWI4NjRlZWI4ID0gJChgPGRpdiBpZD0iaHRtbF81Y2I5NDQ1OTc4NzA0NGNhYWVhYjAzZjliODY0ZWViOCIgc3R5bGU9IndpZHRoOiAxMDAuMCU7IGhlaWdodDogMTAwLjAlOyI+RG9yc2V0IFBhcmssIFdleGZvcmQgSGVpZ2h0cywgU2NhcmJvcm91Z2ggVG93biBDZW50cmU8L2Rpdj5gKVswXTsKICAgICAgICAgICAgICAgIHBvcHVwX2M1N2QxODAyYTg2ZTQzNTM4ZDlhN2I0N2M5Njc2Y2FlLnNldENvbnRlbnQoaHRtbF81Y2I5NDQ1OTc4NzA0NGNhYWVhYjAzZjliODY0ZWViOCk7CiAgICAgICAgICAgIAoKICAgICAgICAgICAgY2lyY2xlX21hcmtlcl82NWQwN2NhOTgyOGY0NDg5YWVhMGFkOGFlZmY1MTY0Ny5iaW5kUG9wdXAocG9wdXBfYzU3ZDE4MDJhODZlNDM1MzhkOWE3YjQ3Yzk2NzZjYWUpCiAgICAgICAgICAgIDsKCiAgICAgICAgICAgIAogICAgICAgIAogICAgCiAgICAgICAgICAgIHZhciBjaXJjbGVfbWFya2VyXzhmNDMwYjZiNDYyYjRmZjRiOTllMTM4M2FhODZlZmE5ID0gTC5jaXJjbGVNYXJrZXIoCiAgICAgICAgICAgICAgICBbNDMuNzUyNzU4Mjk5OTk5OTk2LCAtNzkuNDAwMDQ5M10sCiAgICAgICAgICAgICAgICB7CiAgImJ1YmJsaW5nTW91c2VFdmVudHMiOiB0cnVlLAogICJjb2xvciI6ICJibHVlIiwKICAiZGFzaEFycmF5IjogbnVsbCwKICAiZGFzaE9mZnNldCI6IG51bGwsCiAgImZpbGwiOiB0cnVlLAogICJmaWxsQ29sb3IiOiAiIzMxODZjYyIsCiAgImZpbGxPcGFjaXR5IjogMC43LAogICJmaWxsUnVsZSI6ICJldmVub2RkIiwKICAibGluZUNhcCI6ICJyb3VuZCIsCiAgImxpbmVKb2luIjogInJvdW5kIiwKICAib3BhY2l0eSI6IDEuMCwKICAicmFkaXVzIjogNCwKICAic3Ryb2tlIjogdHJ1ZSwKICAid2VpZ2h0IjogMwp9CiAgICAgICAgICAgICAgICApCiAgICAgICAgICAgICAgICAuYWRkVG8obWFwX2IwZjgxMzNhNDZhMTQ4N2FhZDBjMTkxZWU0ZmYxZTMzKTsKICAgICAgICAgICAgCiAgICAKICAgICAgICAgICAgdmFyIHBvcHVwX2U0OGI3YzljNTc3MDQyM2FhNzI5NTRhODIwNzk2Mjc0ID0gTC5wb3B1cCh7bWF4V2lkdGg6ICcxMDAlJwogICAgICAgICAgICAKICAgICAgICAgICAgfSk7CgogICAgICAgICAgICAKICAgICAgICAgICAgICAgIHZhciBodG1sX2Y0NTQ1MDkwZTM2MjRkNmI5MDQ2MTYwYjIzMjc1YTUzID0gJChgPGRpdiBpZD0iaHRtbF9mNDU0NTA5MGUzNjI0ZDZiOTA0NjE2MGIyMzI3NWE1MyIgc3R5bGU9IndpZHRoOiAxMDAuMCU7IGhlaWdodDogMTAwLjAlOyI+WW9yayBNaWxscyBXZXN0PC9kaXY+YClbMF07CiAgICAgICAgICAgICAgICBwb3B1cF9lNDhiN2M5YzU3NzA0MjNhYTcyOTU0YTgyMDc5NjI3NC5zZXRDb250ZW50KGh0bWxfZjQ1NDUwOTBlMzYyNGQ2YjkwNDYxNjBiMjMyNzVhNTMpOwogICAgICAgICAgICAKCiAgICAgICAgICAgIGNpcmNsZV9tYXJrZXJfOGY0MzBiNmI0NjJiNGZmNGI5OWUxMzgzYWE4NmVmYTkuYmluZFBvcHVwKHBvcHVwX2U0OGI3YzljNTc3MDQyM2FhNzI5NTRhODIwNzk2Mjc0KQogICAgICAgICAgICA7CgogICAgICAgICAgICAKICAgICAgICAKICAgIAogICAgICAgICAgICB2YXIgY2lyY2xlX21hcmtlcl8zMTE5MDBkYjRlNGY0MmZiODA4OWE5YjA1YTRjNzM4ZiA9IEwuY2lyY2xlTWFya2VyKAogICAgICAgICAgICAgICAgWzQzLjcxMjc1MTEsIC03OS4zOTAxOTc1XSwKICAgICAgICAgICAgICAgIHsKICAiYnViYmxpbmdNb3VzZUV2ZW50cyI6IHRydWUsCiAgImNvbG9yIjogImJsdWUiLAogICJkYXNoQXJyYXkiOiBudWxsLAogICJkYXNoT2Zmc2V0IjogbnVsbCwKICAiZmlsbCI6IHRydWUsCiAgImZpbGxDb2xvciI6ICIjMzE4NmNjIiwKICAiZmlsbE9wYWNpdHkiOiAwLjcsCiAgImZpbGxSdWxlIjogImV2ZW5vZGQiLAogICJsaW5lQ2FwIjogInJvdW5kIiwKICAibGluZUpvaW4iOiAicm91bmQiLAogICJvcGFjaXR5IjogMS4wLAogICJyYWRpdXMiOiA0LAogICJzdHJva2UiOiB0cnVlLAogICJ3ZWlnaHQiOiAzCn0KICAgICAgICAgICAgICAgICkKICAgICAgICAgICAgICAgIC5hZGRUbyhtYXBfYjBmODEzM2E0NmExNDg3YWFkMGMxOTFlZTRmZjFlMzMpOwogICAgICAgICAgICAKICAgIAogICAgICAgICAgICB2YXIgcG9wdXBfMTg0NDFhZWMwOGZhNDk5NGIyNTc1NmYxZGQ2YmI3ZTMgPSBMLnBvcHVwKHttYXhXaWR0aDogJzEwMCUnCiAgICAgICAgICAgIAogICAgICAgICAgICB9KTsKCiAgICAgICAgICAgIAogICAgICAgICAgICAgICAgdmFyIGh0bWxfZjYxYjY0MzJiNTlkNGRiMTk5YzMyMjY0NjRjN2FmOGUgPSAkKGA8ZGl2IGlkPSJodG1sX2Y2MWI2NDMyYjU5ZDRkYjE5OWMzMjI2NDY0YzdhZjhlIiBzdHlsZT0id2lkdGg6IDEwMC4wJTsgaGVpZ2h0OiAxMDAuMCU7Ij5EYXZpc3ZpbGxlIE5vcnRoPC9kaXY+YClbMF07CiAgICAgICAgICAgICAgICBwb3B1cF8xODQ0MWFlYzA4ZmE0OTk0YjI1NzU2ZjFkZDZiYjdlMy5zZXRDb250ZW50KGh0bWxfZjYxYjY0MzJiNTlkNGRiMTk5YzMyMjY0NjRjN2FmOGUpOwogICAgICAgICAgICAKCiAgICAgICAgICAgIGNpcmNsZV9tYXJrZXJfMzExOTAwZGI0ZTRmNDJmYjgwODlhOWIwNWE0YzczOGYuYmluZFBvcHVwKHBvcHVwXzE4NDQxYWVjMDhmYTQ5OTRiMjU3NTZmMWRkNmJiN2UzKQogICAgICAgICAgICA7CgogICAgICAgICAgICAKICAgICAgICAKICAgIAogICAgICAgICAgICB2YXIgY2lyY2xlX21hcmtlcl9hNTNiMDRhOGI3ZTA0MjI3YjI4NjE0MGY4NzdkN2M5NSA9IEwuY2lyY2xlTWFya2VyKAogICAgICAgICAgICAgICAgWzQzLjY5Njk0NzYsIC03OS40MTEzMDcyMDAwMDAwMV0sCiAgICAgICAgICAgICAgICB7CiAgImJ1YmJsaW5nTW91c2VFdmVudHMiOiB0cnVlLAogICJjb2xvciI6ICJibHVlIiwKICAiZGFzaEFycmF5IjogbnVsbCwKICAiZGFzaE9mZnNldCI6IG51bGwsCiAgImZpbGwiOiB0cnVlLAogICJmaWxsQ29sb3IiOiAiIzMxODZjYyIsCiAgImZpbGxPcGFjaXR5IjogMC43LAogICJmaWxsUnVsZSI6ICJldmVub2RkIiwKICAibGluZUNhcCI6ICJyb3VuZCIsCiAgImxpbmVKb2luIjogInJvdW5kIiwKICAib3BhY2l0eSI6IDEuMCwKICAicmFkaXVzIjogNCwKICAic3Ryb2tlIjogdHJ1ZSwKICAid2VpZ2h0IjogMwp9CiAgICAgICAgICAgICAgICApCiAgICAgICAgICAgICAgICAuYWRkVG8obWFwX2IwZjgxMzNhNDZhMTQ4N2FhZDBjMTkxZWU0ZmYxZTMzKTsKICAgICAgICAgICAgCiAgICAKICAgICAgICAgICAgdmFyIHBvcHVwX2M1MmJkODFmOTBhOTRjOTNiOTFjZWYyZGJjMTgwYzFhID0gTC5wb3B1cCh7bWF4V2lkdGg6ICcxMDAlJwogICAgICAgICAgICAKICAgICAgICAgICAgfSk7CgogICAgICAgICAgICAKICAgICAgICAgICAgICAgIHZhciBodG1sX2E1MzBkYzBmYjA0NjRhMmE5OTg4M2NhOTJkMmViODAyID0gJChgPGRpdiBpZD0iaHRtbF9hNTMwZGMwZmIwNDY0YTJhOTk4ODNjYTkyZDJlYjgwMiIgc3R5bGU9IndpZHRoOiAxMDAuMCU7IGhlaWdodDogMTAwLjAlOyI+Rm9yZXN0IEhpbGwgTm9ydGggJmFtcDsgV2VzdDwvZGl2PmApWzBdOwogICAgICAgICAgICAgICAgcG9wdXBfYzUyYmQ4MWY5MGE5NGM5M2I5MWNlZjJkYmMxODBjMWEuc2V0Q29udGVudChodG1sX2E1MzBkYzBmYjA0NjRhMmE5OTg4M2NhOTJkMmViODAyKTsKICAgICAgICAgICAgCgogICAgICAgICAgICBjaXJjbGVfbWFya2VyX2E1M2IwNGE4YjdlMDQyMjdiMjg2MTQwZjg3N2Q3Yzk1LmJpbmRQb3B1cChwb3B1cF9jNTJiZDgxZjkwYTk0YzkzYjkxY2VmMmRiYzE4MGMxYSkKICAgICAgICAgICAgOwoKICAgICAgICAgICAgCiAgICAgICAgCiAgICAKICAgICAgICAgICAgdmFyIGNpcmNsZV9tYXJrZXJfMTg4NDFhZTE5ODYwNDMwMjhjZWYwMzNjMWY0OGRlOTUgPSBMLmNpcmNsZU1hcmtlcigKICAgICAgICAgICAgICAgIFs0My42NjE2MDgzLCAtNzkuNDY0NzYzMjk5OTk5OTldLAogICAgICAgICAgICAgICAgewogICJidWJibGluZ01vdXNlRXZlbnRzIjogdHJ1ZSwKICAiY29sb3IiOiAiYmx1ZSIsCiAgImRhc2hBcnJheSI6IG51bGwsCiAgImRhc2hPZmZzZXQiOiBudWxsLAogICJmaWxsIjogdHJ1ZSwKICAiZmlsbENvbG9yIjogIiMzMTg2Y2MiLAogICJmaWxsT3BhY2l0eSI6IDAuNywKICAiZmlsbFJ1bGUiOiAiZXZlbm9kZCIsCiAgImxpbmVDYXAiOiAicm91bmQiLAogICJsaW5lSm9pbiI6ICJyb3VuZCIsCiAgIm9wYWNpdHkiOiAxLjAsCiAgInJhZGl1cyI6IDQsCiAgInN0cm9rZSI6IHRydWUsCiAgIndlaWdodCI6IDMKfQogICAgICAgICAgICAgICAgKQogICAgICAgICAgICAgICAgLmFkZFRvKG1hcF9iMGY4MTMzYTQ2YTE0ODdhYWQwYzE5MWVlNGZmMWUzMyk7CiAgICAgICAgICAgIAogICAgCiAgICAgICAgICAgIHZhciBwb3B1cF80MWIwOTZjZWVkZDE0ZTk3OTY0OTlmZTI3YzA2NWEyNCA9IEwucG9wdXAoe21heFdpZHRoOiAnMTAwJScKICAgICAgICAgICAgCiAgICAgICAgICAgIH0pOwoKICAgICAgICAgICAgCiAgICAgICAgICAgICAgICB2YXIgaHRtbF9iMjNjYzVmNmRkZDk0MzlmYTE2NmMzNzhjZmVlNWUwMSA9ICQoYDxkaXYgaWQ9Imh0bWxfYjIzY2M1ZjZkZGQ5NDM5ZmExNjZjMzc4Y2ZlZTVlMDEiIHN0eWxlPSJ3aWR0aDogMTAwLjAlOyBoZWlnaHQ6IDEwMC4wJTsiPkhpZ2ggUGFyaywgVGhlIEp1bmN0aW9uIFNvdXRoPC9kaXY+YClbMF07CiAgICAgICAgICAgICAgICBwb3B1cF80MWIwOTZjZWVkZDE0ZTk3OTY0OTlmZTI3YzA2NWEyNC5zZXRDb250ZW50KGh0bWxfYjIzY2M1ZjZkZGQ5NDM5ZmExNjZjMzc4Y2ZlZTVlMDEpOwogICAgICAgICAgICAKCiAgICAgICAgICAgIGNpcmNsZV9tYXJrZXJfMTg4NDFhZTE5ODYwNDMwMjhjZWYwMzNjMWY0OGRlOTUuYmluZFBvcHVwKHBvcHVwXzQxYjA5NmNlZWRkMTRlOTc5NjQ5OWZlMjdjMDY1YTI0KQogICAgICAgICAgICA7CgogICAgICAgICAgICAKICAgICAgICAKICAgIAogICAgICAgICAgICB2YXIgY2lyY2xlX21hcmtlcl9kMTQ1ZDllZWUxNzE0NThmYmY4MGZhNjFiNzVhNDU5MiA9IEwuY2lyY2xlTWFya2VyKAogICAgICAgICAgICAgICAgWzQzLjY5NjMxOSwgLTc5LjUzMjI0MjQwMDAwMDAyXSwKICAgICAgICAgICAgICAgIHsKICAiYnViYmxpbmdNb3VzZUV2ZW50cyI6IHRydWUsCiAgImNvbG9yIjogImJsdWUiLAogICJkYXNoQXJyYXkiOiBudWxsLAogICJkYXNoT2Zmc2V0IjogbnVsbCwKICAiZmlsbCI6IHRydWUsCiAgImZpbGxDb2xvciI6ICIjMzE4NmNjIiwKICAiZmlsbE9wYWNpdHkiOiAwLjcsCiAgImZpbGxSdWxlIjogImV2ZW5vZGQiLAogICJsaW5lQ2FwIjogInJvdW5kIiwKICAibGluZUpvaW4iOiAicm91bmQiLAogICJvcGFjaXR5IjogMS4wLAogICJyYWRpdXMiOiA0LAogICJzdHJva2UiOiB0cnVlLAogICJ3ZWlnaHQiOiAzCn0KICAgICAgICAgICAgICAgICkKICAgICAgICAgICAgICAgIC5hZGRUbyhtYXBfYjBmODEzM2E0NmExNDg3YWFkMGMxOTFlZTRmZjFlMzMpOwogICAgICAgICAgICAKICAgIAogICAgICAgICAgICB2YXIgcG9wdXBfZjE0NjE4OTIzMTUyNGRmMzljZDI3N2NlYzNiMzM5YzAgPSBMLnBvcHVwKHttYXhXaWR0aDogJzEwMCUnCiAgICAgICAgICAgIAogICAgICAgICAgICB9KTsKCiAgICAgICAgICAgIAogICAgICAgICAgICAgICAgdmFyIGh0bWxfYjFlNjFhYjIwYTlhNGMwMTk4MmEzOGQ1MjE5NjNhYzggPSAkKGA8ZGl2IGlkPSJodG1sX2IxZTYxYWIyMGE5YTRjMDE5ODJhMzhkNTIxOTYzYWM4IiBzdHlsZT0id2lkdGg6IDEwMC4wJTsgaGVpZ2h0OiAxMDAuMCU7Ij5XZXN0bW91bnQ8L2Rpdj5gKVswXTsKICAgICAgICAgICAgICAgIHBvcHVwX2YxNDYxODkyMzE1MjRkZjM5Y2QyNzdjZWMzYjMzOWMwLnNldENvbnRlbnQoaHRtbF9iMWU2MWFiMjBhOWE0YzAxOTgyYTM4ZDUyMTk2M2FjOCk7CiAgICAgICAgICAgIAoKICAgICAgICAgICAgY2lyY2xlX21hcmtlcl9kMTQ1ZDllZWUxNzE0NThmYmY4MGZhNjFiNzVhNDU5Mi5iaW5kUG9wdXAocG9wdXBfZjE0NjE4OTIzMTUyNGRmMzljZDI3N2NlYzNiMzM5YzApCiAgICAgICAgICAgIDsKCiAgICAgICAgICAgIAogICAgICAgIAogICAgCiAgICAgICAgICAgIHZhciBjaXJjbGVfbWFya2VyX2VjMGRhNDlhMGE0YzQxM2M4N2Q2Yzk1YTZjMmRmMTU4ID0gTC5jaXJjbGVNYXJrZXIoCiAgICAgICAgICAgICAgICBbNDMuNzUwMDcxNTAwMDAwMDA0LCAtNzkuMjk1ODQ5MV0sCiAgICAgICAgICAgICAgICB7CiAgImJ1YmJsaW5nTW91c2VFdmVudHMiOiB0cnVlLAogICJjb2xvciI6ICJibHVlIiwKICAiZGFzaEFycmF5IjogbnVsbCwKICAiZGFzaE9mZnNldCI6IG51bGwsCiAgImZpbGwiOiB0cnVlLAogICJmaWxsQ29sb3IiOiAiIzMxODZjYyIsCiAgImZpbGxPcGFjaXR5IjogMC43LAogICJmaWxsUnVsZSI6ICJldmVub2RkIiwKICAibGluZUNhcCI6ICJyb3VuZCIsCiAgImxpbmVKb2luIjogInJvdW5kIiwKICAib3BhY2l0eSI6IDEuMCwKICAicmFkaXVzIjogNCwKICAic3Ryb2tlIjogdHJ1ZSwKICAid2VpZ2h0IjogMwp9CiAgICAgICAgICAgICAgICApCiAgICAgICAgICAgICAgICAuYWRkVG8obWFwX2IwZjgxMzNhNDZhMTQ4N2FhZDBjMTkxZWU0ZmYxZTMzKTsKICAgICAgICAgICAgCiAgICAKICAgICAgICAgICAgdmFyIHBvcHVwXzdkZDBlM2ZmZWY1ZTRjMDA5NjVhMGY2MmQzM2ZkNjQxID0gTC5wb3B1cCh7bWF4V2lkdGg6ICcxMDAlJwogICAgICAgICAgICAKICAgICAgICAgICAgfSk7CgogICAgICAgICAgICAKICAgICAgICAgICAgICAgIHZhciBodG1sXzI2NjU2ZWZlNWMwOTRiMGE5MGRlNmI3YTMwMWFhY2QwID0gJChgPGRpdiBpZD0iaHRtbF8yNjY1NmVmZTVjMDk0YjBhOTBkZTZiN2EzMDFhYWNkMCIgc3R5bGU9IndpZHRoOiAxMDAuMCU7IGhlaWdodDogMTAwLjAlOyI+V2V4Zm9yZCwgTWFyeXZhbGU8L2Rpdj5gKVswXTsKICAgICAgICAgICAgICAgIHBvcHVwXzdkZDBlM2ZmZWY1ZTRjMDA5NjVhMGY2MmQzM2ZkNjQxLnNldENvbnRlbnQoaHRtbF8yNjY1NmVmZTVjMDk0YjBhOTBkZTZiN2EzMDFhYWNkMCk7CiAgICAgICAgICAgIAoKICAgICAgICAgICAgY2lyY2xlX21hcmtlcl9lYzBkYTQ5YTBhNGM0MTNjODdkNmM5NWE2YzJkZjE1OC5iaW5kUG9wdXAocG9wdXBfN2RkMGUzZmZlZjVlNGMwMDk2NWEwZjYyZDMzZmQ2NDEpCiAgICAgICAgICAgIDsKCiAgICAgICAgICAgIAogICAgICAgIAogICAgCiAgICAgICAgICAgIHZhciBjaXJjbGVfbWFya2VyXzhlODFhMTNjNDEzMTQ5NjhhNzM2MmRmMDM4YzY1YThjID0gTC5jaXJjbGVNYXJrZXIoCiAgICAgICAgICAgICAgICBbNDMuNzgyNzM2NCwgLTc5LjQ0MjI1OTNdLAogICAgICAgICAgICAgICAgewogICJidWJibGluZ01vdXNlRXZlbnRzIjogdHJ1ZSwKICAiY29sb3IiOiAiYmx1ZSIsCiAgImRhc2hBcnJheSI6IG51bGwsCiAgImRhc2hPZmZzZXQiOiBudWxsLAogICJmaWxsIjogdHJ1ZSwKICAiZmlsbENvbG9yIjogIiMzMTg2Y2MiLAogICJmaWxsT3BhY2l0eSI6IDAuNywKICAiZmlsbFJ1bGUiOiAiZXZlbm9kZCIsCiAgImxpbmVDYXAiOiAicm91bmQiLAogICJsaW5lSm9pbiI6ICJyb3VuZCIsCiAgIm9wYWNpdHkiOiAxLjAsCiAgInJhZGl1cyI6IDQsCiAgInN0cm9rZSI6IHRydWUsCiAgIndlaWdodCI6IDMKfQogICAgICAgICAgICAgICAgKQogICAgICAgICAgICAgICAgLmFkZFRvKG1hcF9iMGY4MTMzYTQ2YTE0ODdhYWQwYzE5MWVlNGZmMWUzMyk7CiAgICAgICAgICAgIAogICAgCiAgICAgICAgICAgIHZhciBwb3B1cF82ZTI4ZWRkMzlmNWI0YWRhYWE0YWMyMzgzNjczMTBhZSA9IEwucG9wdXAoe21heFdpZHRoOiAnMTAwJScKICAgICAgICAgICAgCiAgICAgICAgICAgIH0pOwoKICAgICAgICAgICAgCiAgICAgICAgICAgICAgICB2YXIgaHRtbF9mOGEyNzJmZWFmNzY0Mjg1YjI1MGNkNTdjOWU5ZTQzMSA9ICQoYDxkaXYgaWQ9Imh0bWxfZjhhMjcyZmVhZjc2NDI4NWIyNTBjZDU3YzllOWU0MzEiIHN0eWxlPSJ3aWR0aDogMTAwLjAlOyBoZWlnaHQ6IDEwMC4wJTsiPldpbGxvd2RhbGU8L2Rpdj5gKVswXTsKICAgICAgICAgICAgICAgIHBvcHVwXzZlMjhlZGQzOWY1YjRhZGFhYTRhYzIzODM2NzMxMGFlLnNldENvbnRlbnQoaHRtbF9mOGEyNzJmZWFmNzY0Mjg1YjI1MGNkNTdjOWU5ZTQzMSk7CiAgICAgICAgICAgIAoKICAgICAgICAgICAgY2lyY2xlX21hcmtlcl84ZTgxYTEzYzQxMzE0OTY4YTczNjJkZjAzOGM2NWE4Yy5iaW5kUG9wdXAocG9wdXBfNmUyOGVkZDM5ZjViNGFkYWFhNGFjMjM4MzY3MzEwYWUpCiAgICAgICAgICAgIDsKCiAgICAgICAgICAgIAogICAgICAgIAogICAgCiAgICAgICAgICAgIHZhciBjaXJjbGVfbWFya2VyXzdhMDQyZWMxMjM3OTRmZjJiMmI5YWFlMzk2Mzg0N2Q5ID0gTC5jaXJjbGVNYXJrZXIoCiAgICAgICAgICAgICAgICBbNDMuNzE1MzgzNCwgLTc5LjQwNTY3ODQwMDAwMDAxXSwKICAgICAgICAgICAgICAgIHsKICAiYnViYmxpbmdNb3VzZUV2ZW50cyI6IHRydWUsCiAgImNvbG9yIjogImJsdWUiLAogICJkYXNoQXJyYXkiOiBudWxsLAogICJkYXNoT2Zmc2V0IjogbnVsbCwKICAiZmlsbCI6IHRydWUsCiAgImZpbGxDb2xvciI6ICIjMzE4NmNjIiwKICAiZmlsbE9wYWNpdHkiOiAwLjcsCiAgImZpbGxSdWxlIjogImV2ZW5vZGQiLAogICJsaW5lQ2FwIjogInJvdW5kIiwKICAibGluZUpvaW4iOiAicm91bmQiLAogICJvcGFjaXR5IjogMS4wLAogICJyYWRpdXMiOiA0LAogICJzdHJva2UiOiB0cnVlLAogICJ3ZWlnaHQiOiAzCn0KICAgICAgICAgICAgICAgICkKICAgICAgICAgICAgICAgIC5hZGRUbyhtYXBfYjBmODEzM2E0NmExNDg3YWFkMGMxOTFlZTRmZjFlMzMpOwogICAgICAgICAgICAKICAgIAogICAgICAgICAgICB2YXIgcG9wdXBfYTMwYjUwN2U3MmE4NGQ2ZmIzNjRmMjNjMzUxOTQzMDggPSBMLnBvcHVwKHttYXhXaWR0aDogJzEwMCUnCiAgICAgICAgICAgIAogICAgICAgICAgICB9KTsKCiAgICAgICAgICAgIAogICAgICAgICAgICAgICAgdmFyIGh0bWxfMDBhN2EyMzczOTFjNDYxYjgyZWNkMDlkMTQyYmM5YWIgPSAkKGA8ZGl2IGlkPSJodG1sXzAwYTdhMjM3MzkxYzQ2MWI4MmVjZDA5ZDE0MmJjOWFiIiBzdHlsZT0id2lkdGg6IDEwMC4wJTsgaGVpZ2h0OiAxMDAuMCU7Ij5Ob3J0aCBUb3JvbnRvIFdlc3Q8L2Rpdj5gKVswXTsKICAgICAgICAgICAgICAgIHBvcHVwX2EzMGI1MDdlNzJhODRkNmZiMzY0ZjIzYzM1MTk0MzA4LnNldENvbnRlbnQoaHRtbF8wMGE3YTIzNzM5MWM0NjFiODJlY2QwOWQxNDJiYzlhYik7CiAgICAgICAgICAgIAoKICAgICAgICAgICAgY2lyY2xlX21hcmtlcl83YTA0MmVjMTIzNzk0ZmYyYjJiOWFhZTM5NjM4NDdkOS5iaW5kUG9wdXAocG9wdXBfYTMwYjUwN2U3MmE4NGQ2ZmIzNjRmMjNjMzUxOTQzMDgpCiAgICAgICAgICAgIDsKCiAgICAgICAgICAgIAogICAgICAgIAogICAgCiAgICAgICAgICAgIHZhciBjaXJjbGVfbWFya2VyXzBhMTJiZjIyODIzYTQ1NzY4ZGUwMTQwODk0YmNjMzc2ID0gTC5jaXJjbGVNYXJrZXIoCiAgICAgICAgICAgICAgICBbNDMuNjcyNzA5NywgLTc5LjQwNTY3ODQwMDAwMDAxXSwKICAgICAgICAgICAgICAgIHsKICAiYnViYmxpbmdNb3VzZUV2ZW50cyI6IHRydWUsCiAgImNvbG9yIjogImJsdWUiLAogICJkYXNoQXJyYXkiOiBudWxsLAogICJkYXNoT2Zmc2V0IjogbnVsbCwKICAiZmlsbCI6IHRydWUsCiAgImZpbGxDb2xvciI6ICIjMzE4NmNjIiwKICAiZmlsbE9wYWNpdHkiOiAwLjcsCiAgImZpbGxSdWxlIjogImV2ZW5vZGQiLAogICJsaW5lQ2FwIjogInJvdW5kIiwKICAibGluZUpvaW4iOiAicm91bmQiLAogICJvcGFjaXR5IjogMS4wLAogICJyYWRpdXMiOiA0LAogICJzdHJva2UiOiB0cnVlLAogICJ3ZWlnaHQiOiAzCn0KICAgICAgICAgICAgICAgICkKICAgICAgICAgICAgICAgIC5hZGRUbyhtYXBfYjBmODEzM2E0NmExNDg3YWFkMGMxOTFlZTRmZjFlMzMpOwogICAgICAgICAgICAKICAgIAogICAgICAgICAgICB2YXIgcG9wdXBfOGFlMTAyMmZkMmM1NDkyYWExYThmZGU0NGE4ZjU2OTkgPSBMLnBvcHVwKHttYXhXaWR0aDogJzEwMCUnCiAgICAgICAgICAgIAogICAgICAgICAgICB9KTsKCiAgICAgICAgICAgIAogICAgICAgICAgICAgICAgdmFyIGh0bWxfYjdhZjNkNzg0ZjFmNDlhZjg5MDE4Njk0OWY4OTNhZmIgPSAkKGA8ZGl2IGlkPSJodG1sX2I3YWYzZDc4NGYxZjQ5YWY4OTAxODY5NDlmODkzYWZiIiBzdHlsZT0id2lkdGg6IDEwMC4wJTsgaGVpZ2h0OiAxMDAuMCU7Ij5UaGUgQW5uZXgsIE5vcnRoIE1pZHRvd24sIFlvcmt2aWxsZTwvZGl2PmApWzBdOwogICAgICAgICAgICAgICAgcG9wdXBfOGFlMTAyMmZkMmM1NDkyYWExYThmZGU0NGE4ZjU2OTkuc2V0Q29udGVudChodG1sX2I3YWYzZDc4NGYxZjQ5YWY4OTAxODY5NDlmODkzYWZiKTsKICAgICAgICAgICAgCgogICAgICAgICAgICBjaXJjbGVfbWFya2VyXzBhMTJiZjIyODIzYTQ1NzY4ZGUwMTQwODk0YmNjMzc2LmJpbmRQb3B1cChwb3B1cF84YWUxMDIyZmQyYzU0OTJhYTFhOGZkZTQ0YThmNTY5OSkKICAgICAgICAgICAgOwoKICAgICAgICAgICAgCiAgICAgICAgCiAgICAKICAgICAgICAgICAgdmFyIGNpcmNsZV9tYXJrZXJfZDMyYjg3MGU5NGE0NDM4NjgyYTkxYTlkMmJhYTkyZjIgPSBMLmNpcmNsZU1hcmtlcigKICAgICAgICAgICAgICAgIFs0My42NDg5NTk3LCAtNzkuNDU2MzI1XSwKICAgICAgICAgICAgICAgIHsKICAiYnViYmxpbmdNb3VzZUV2ZW50cyI6IHRydWUsCiAgImNvbG9yIjogImJsdWUiLAogICJkYXNoQXJyYXkiOiBudWxsLAogICJkYXNoT2Zmc2V0IjogbnVsbCwKICAiZmlsbCI6IHRydWUsCiAgImZpbGxDb2xvciI6ICIjMzE4NmNjIiwKICAiZmlsbE9wYWNpdHkiOiAwLjcsCiAgImZpbGxSdWxlIjogImV2ZW5vZGQiLAogICJsaW5lQ2FwIjogInJvdW5kIiwKICAibGluZUpvaW4iOiAicm91bmQiLAogICJvcGFjaXR5IjogMS4wLAogICJyYWRpdXMiOiA0LAogICJzdHJva2UiOiB0cnVlLAogICJ3ZWlnaHQiOiAzCn0KICAgICAgICAgICAgICAgICkKICAgICAgICAgICAgICAgIC5hZGRUbyhtYXBfYjBmODEzM2E0NmExNDg3YWFkMGMxOTFlZTRmZjFlMzMpOwogICAgICAgICAgICAKICAgIAogICAgICAgICAgICB2YXIgcG9wdXBfNDlmN2ExZTZiZDc0NDQ1NjkzMDdhNjkwODcxMzFlYTYgPSBMLnBvcHVwKHttYXhXaWR0aDogJzEwMCUnCiAgICAgICAgICAgIAogICAgICAgICAgICB9KTsKCiAgICAgICAgICAgIAogICAgICAgICAgICAgICAgdmFyIGh0bWxfOGVjZTcxYjg3MTFlNDlhNDgxNGE1NGI5YmFjOTc0OTQgPSAkKGA8ZGl2IGlkPSJodG1sXzhlY2U3MWI4NzExZTQ5YTQ4MTRhNTRiOWJhYzk3NDk0IiBzdHlsZT0id2lkdGg6IDEwMC4wJTsgaGVpZ2h0OiAxMDAuMCU7Ij5QYXJrZGFsZSwgUm9uY2VzdmFsbGVzPC9kaXY+YClbMF07CiAgICAgICAgICAgICAgICBwb3B1cF80OWY3YTFlNmJkNzQ0NDU2OTMwN2E2OTA4NzEzMWVhNi5zZXRDb250ZW50KGh0bWxfOGVjZTcxYjg3MTFlNDlhNDgxNGE1NGI5YmFjOTc0OTQpOwogICAgICAgICAgICAKCiAgICAgICAgICAgIGNpcmNsZV9tYXJrZXJfZDMyYjg3MGU5NGE0NDM4NjgyYTkxYTlkMmJhYTkyZjIuYmluZFBvcHVwKHBvcHVwXzQ5ZjdhMWU2YmQ3NDQ0NTY5MzA3YTY5MDg3MTMxZWE2KQogICAgICAgICAgICA7CgogICAgICAgICAgICAKICAgICAgICAKICAgIAogICAgICAgICAgICB2YXIgY2lyY2xlX21hcmtlcl9kNzAxMDM0MGI4NmE0MWQ5OWVjOTBiMzk5NjA0N2FlOCA9IEwuY2lyY2xlTWFya2VyKAogICAgICAgICAgICAgICAgWzQzLjYzNjk2NTYsIC03OS42MTU4MTg5OTk5OTk5OV0sCiAgICAgICAgICAgICAgICB7CiAgImJ1YmJsaW5nTW91c2VFdmVudHMiOiB0cnVlLAogICJjb2xvciI6ICJibHVlIiwKICAiZGFzaEFycmF5IjogbnVsbCwKICAiZGFzaE9mZnNldCI6IG51bGwsCiAgImZpbGwiOiB0cnVlLAogICJmaWxsQ29sb3IiOiAiIzMxODZjYyIsCiAgImZpbGxPcGFjaXR5IjogMC43LAogICJmaWxsUnVsZSI6ICJldmVub2RkIiwKICAibGluZUNhcCI6ICJyb3VuZCIsCiAgImxpbmVKb2luIjogInJvdW5kIiwKICAib3BhY2l0eSI6IDEuMCwKICAicmFkaXVzIjogNCwKICAic3Ryb2tlIjogdHJ1ZSwKICAid2VpZ2h0IjogMwp9CiAgICAgICAgICAgICAgICApCiAgICAgICAgICAgICAgICAuYWRkVG8obWFwX2IwZjgxMzNhNDZhMTQ4N2FhZDBjMTkxZWU0ZmYxZTMzKTsKICAgICAgICAgICAgCiAgICAKICAgICAgICAgICAgdmFyIHBvcHVwXzVjZGRjODMzMGY4ZTRiZjViYzcyZDYwNmUwYThmNjlhID0gTC5wb3B1cCh7bWF4V2lkdGg6ICcxMDAlJwogICAgICAgICAgICAKICAgICAgICAgICAgfSk7CgogICAgICAgICAgICAKICAgICAgICAgICAgICAgIHZhciBodG1sX2EyMzhkYjk5MmZiODRkNzFhMWNlZDYwZDg2ZWFkOGQ2ID0gJChgPGRpdiBpZD0iaHRtbF9hMjM4ZGI5OTJmYjg0ZDcxYTFjZWQ2MGQ4NmVhZDhkNiIgc3R5bGU9IndpZHRoOiAxMDAuMCU7IGhlaWdodDogMTAwLjAlOyI+Q2FuYWRhIFBvc3QgR2F0ZXdheSBQcm9jZXNzaW5nIENlbnRyZTwvZGl2PmApWzBdOwogICAgICAgICAgICAgICAgcG9wdXBfNWNkZGM4MzMwZjhlNGJmNWJjNzJkNjA2ZTBhOGY2OWEuc2V0Q29udGVudChodG1sX2EyMzhkYjk5MmZiODRkNzFhMWNlZDYwZDg2ZWFkOGQ2KTsKICAgICAgICAgICAgCgogICAgICAgICAgICBjaXJjbGVfbWFya2VyX2Q3MDEwMzQwYjg2YTQxZDk5ZWM5MGIzOTk2MDQ3YWU4LmJpbmRQb3B1cChwb3B1cF81Y2RkYzgzMzBmOGU0YmY1YmM3MmQ2MDZlMGE4ZjY5YSkKICAgICAgICAgICAgOwoKICAgICAgICAgICAgCiAgICAgICAgCiAgICAKICAgICAgICAgICAgdmFyIGNpcmNsZV9tYXJrZXJfZTlhYzMyYzg4OGU5NDRmZGJlNzEzYTNhMGFjNDAyNzEgPSBMLmNpcmNsZU1hcmtlcigKICAgICAgICAgICAgICAgIFs0My42ODg5MDU0LCAtNzkuNTU0NzI0NDAwMDAwMDFdLAogICAgICAgICAgICAgICAgewogICJidWJibGluZ01vdXNlRXZlbnRzIjogdHJ1ZSwKICAiY29sb3IiOiAiYmx1ZSIsCiAgImRhc2hBcnJheSI6IG51bGwsCiAgImRhc2hPZmZzZXQiOiBudWxsLAogICJmaWxsIjogdHJ1ZSwKICAiZmlsbENvbG9yIjogIiMzMTg2Y2MiLAogICJmaWxsT3BhY2l0eSI6IDAuNywKICAiZmlsbFJ1bGUiOiAiZXZlbm9kZCIsCiAgImxpbmVDYXAiOiAicm91bmQiLAogICJsaW5lSm9pbiI6ICJyb3VuZCIsCiAgIm9wYWNpdHkiOiAxLjAsCiAgInJhZGl1cyI6IDQsCiAgInN0cm9rZSI6IHRydWUsCiAgIndlaWdodCI6IDMKfQogICAgICAgICAgICAgICAgKQogICAgICAgICAgICAgICAgLmFkZFRvKG1hcF9iMGY4MTMzYTQ2YTE0ODdhYWQwYzE5MWVlNGZmMWUzMyk7CiAgICAgICAgICAgIAogICAgCiAgICAgICAgICAgIHZhciBwb3B1cF9kODU2ZTdkODlkNDQ0M2VhOGI3MmU3NGYyYjNjMDgyZiA9IEwucG9wdXAoe21heFdpZHRoOiAnMTAwJScKICAgICAgICAgICAgCiAgICAgICAgICAgIH0pOwoKICAgICAgICAgICAgCiAgICAgICAgICAgICAgICB2YXIgaHRtbF9iZDk1NTAwMGExYjQ0YWNiYWQ0OGJiYjZiYjliZGQ5NSA9ICQoYDxkaXYgaWQ9Imh0bWxfYmQ5NTUwMDBhMWI0NGFjYmFkNDhiYmI2YmI5YmRkOTUiIHN0eWxlPSJ3aWR0aDogMTAwLjAlOyBoZWlnaHQ6IDEwMC4wJTsiPktpbmdzdmlldyBWaWxsYWdlLCBTdC4gUGhpbGxpcHMsIE1hcnRpbiBHcm92ZSBHYXJkZW5zLCBSaWNodmlldyBHYXJkZW5zPC9kaXY+YClbMF07CiAgICAgICAgICAgICAgICBwb3B1cF9kODU2ZTdkODlkNDQ0M2VhOGI3MmU3NGYyYjNjMDgyZi5zZXRDb250ZW50KGh0bWxfYmQ5NTUwMDBhMWI0NGFjYmFkNDhiYmI2YmI5YmRkOTUpOwogICAgICAgICAgICAKCiAgICAgICAgICAgIGNpcmNsZV9tYXJrZXJfZTlhYzMyYzg4OGU5NDRmZGJlNzEzYTNhMGFjNDAyNzEuYmluZFBvcHVwKHBvcHVwX2Q4NTZlN2Q4OWQ0NDQzZWE4YjcyZTc0ZjJiM2MwODJmKQogICAgICAgICAgICA7CgogICAgICAgICAgICAKICAgICAgICAKICAgIAogICAgICAgICAgICB2YXIgY2lyY2xlX21hcmtlcl8wNWJlNTAxYThhOGM0YTkyODM1NDAzODMzNTk4M2M1NyA9IEwuY2lyY2xlTWFya2VyKAogICAgICAgICAgICAgICAgWzQzLjc5NDIwMDMsIC03OS4yNjIwMjk0MDAwMDAwMl0sCiAgICAgICAgICAgICAgICB7CiAgImJ1YmJsaW5nTW91c2VFdmVudHMiOiB0cnVlLAogICJjb2xvciI6ICJibHVlIiwKICAiZGFzaEFycmF5IjogbnVsbCwKICAiZGFzaE9mZnNldCI6IG51bGwsCiAgImZpbGwiOiB0cnVlLAogICJmaWxsQ29sb3IiOiAiIzMxODZjYyIsCiAgImZpbGxPcGFjaXR5IjogMC43LAogICJmaWxsUnVsZSI6ICJldmVub2RkIiwKICAibGluZUNhcCI6ICJyb3VuZCIsCiAgImxpbmVKb2luIjogInJvdW5kIiwKICAib3BhY2l0eSI6IDEuMCwKICAicmFkaXVzIjogNCwKICAic3Ryb2tlIjogdHJ1ZSwKICAid2VpZ2h0IjogMwp9CiAgICAgICAgICAgICAgICApCiAgICAgICAgICAgICAgICAuYWRkVG8obWFwX2IwZjgxMzNhNDZhMTQ4N2FhZDBjMTkxZWU0ZmYxZTMzKTsKICAgICAgICAgICAgCiAgICAKICAgICAgICAgICAgdmFyIHBvcHVwXzkzZmRmMzAyMzcxZDRhM2I4MDI5OTJmZGIyMTVlYmFjID0gTC5wb3B1cCh7bWF4V2lkdGg6ICcxMDAlJwogICAgICAgICAgICAKICAgICAgICAgICAgfSk7CgogICAgICAgICAgICAKICAgICAgICAgICAgICAgIHZhciBodG1sXzAzYjFiOTMzMzQzMDQwZDVhNTg1MGE5NmQwMDk3ZWI2ID0gJChgPGRpdiBpZD0iaHRtbF8wM2IxYjkzMzM0MzA0MGQ1YTU4NTBhOTZkMDA5N2ViNiIgc3R5bGU9IndpZHRoOiAxMDAuMCU7IGhlaWdodDogMTAwLjAlOyI+QWdpbmNvdXJ0PC9kaXY+YClbMF07CiAgICAgICAgICAgICAgICBwb3B1cF85M2ZkZjMwMjM3MWQ0YTNiODAyOTkyZmRiMjE1ZWJhYy5zZXRDb250ZW50KGh0bWxfMDNiMWI5MzMzNDMwNDBkNWE1ODUwYTk2ZDAwOTdlYjYpOwogICAgICAgICAgICAKCiAgICAgICAgICAgIGNpcmNsZV9tYXJrZXJfMDViZTUwMWE4YThjNGE5MjgzNTQwMzgzMzU5ODNjNTcuYmluZFBvcHVwKHBvcHVwXzkzZmRmMzAyMzcxZDRhM2I4MDI5OTJmZGIyMTVlYmFjKQogICAgICAgICAgICA7CgogICAgICAgICAgICAKICAgICAgICAKICAgIAogICAgICAgICAgICB2YXIgY2lyY2xlX21hcmtlcl83ZmU3MzBkN2E5NzY0OTcwYjY3NzhiMzQ4MTFjMmRiZCA9IEwuY2lyY2xlTWFya2VyKAogICAgICAgICAgICAgICAgWzQzLjcwNDMyNDQsIC03OS4zODg3OTAxXSwKICAgICAgICAgICAgICAgIHsKICAiYnViYmxpbmdNb3VzZUV2ZW50cyI6IHRydWUsCiAgImNvbG9yIjogImJsdWUiLAogICJkYXNoQXJyYXkiOiBudWxsLAogICJkYXNoT2Zmc2V0IjogbnVsbCwKICAiZmlsbCI6IHRydWUsCiAgImZpbGxDb2xvciI6ICIjMzE4NmNjIiwKICAiZmlsbE9wYWNpdHkiOiAwLjcsCiAgImZpbGxSdWxlIjogImV2ZW5vZGQiLAogICJsaW5lQ2FwIjogInJvdW5kIiwKICAibGluZUpvaW4iOiAicm91bmQiLAogICJvcGFjaXR5IjogMS4wLAogICJyYWRpdXMiOiA0LAogICJzdHJva2UiOiB0cnVlLAogICJ3ZWlnaHQiOiAzCn0KICAgICAgICAgICAgICAgICkKICAgICAgICAgICAgICAgIC5hZGRUbyhtYXBfYjBmODEzM2E0NmExNDg3YWFkMGMxOTFlZTRmZjFlMzMpOwogICAgICAgICAgICAKICAgIAogICAgICAgICAgICB2YXIgcG9wdXBfMDAzMjViYjAwY2IzNGZhMWE0NzkwMzBlMWRjNjRmMWYgPSBMLnBvcHVwKHttYXhXaWR0aDogJzEwMCUnCiAgICAgICAgICAgIAogICAgICAgICAgICB9KTsKCiAgICAgICAgICAgIAogICAgICAgICAgICAgICAgdmFyIGh0bWxfMjg5MjIxNGM5YjQ3NDg1M2JiNjVmNzY1OWQ5OGZjY2UgPSAkKGA8ZGl2IGlkPSJodG1sXzI4OTIyMTRjOWI0NzQ4NTNiYjY1Zjc2NTlkOThmY2NlIiBzdHlsZT0id2lkdGg6IDEwMC4wJTsgaGVpZ2h0OiAxMDAuMCU7Ij5EYXZpc3ZpbGxlPC9kaXY+YClbMF07CiAgICAgICAgICAgICAgICBwb3B1cF8wMDMyNWJiMDBjYjM0ZmExYTQ3OTAzMGUxZGM2NGYxZi5zZXRDb250ZW50KGh0bWxfMjg5MjIxNGM5YjQ3NDg1M2JiNjVmNzY1OWQ5OGZjY2UpOwogICAgICAgICAgICAKCiAgICAgICAgICAgIGNpcmNsZV9tYXJrZXJfN2ZlNzMwZDdhOTc2NDk3MGI2Nzc4YjM0ODExYzJkYmQuYmluZFBvcHVwKHBvcHVwXzAwMzI1YmIwMGNiMzRmYTFhNDc5MDMwZTFkYzY0ZjFmKQogICAgICAgICAgICA7CgogICAgICAgICAgICAKICAgICAgICAKICAgIAogICAgICAgICAgICB2YXIgY2lyY2xlX21hcmtlcl9iYzA1MTE3N2ZjNzk0ZjBkOWZkMmQzZmQyMjgyMWMwNiA9IEwuY2lyY2xlTWFya2VyKAogICAgICAgICAgICAgICAgWzQzLjY2MjY5NTYsIC03OS40MDAwNDkzXSwKICAgICAgICAgICAgICAgIHsKICAiYnViYmxpbmdNb3VzZUV2ZW50cyI6IHRydWUsCiAgImNvbG9yIjogImJsdWUiLAogICJkYXNoQXJyYXkiOiBudWxsLAogICJkYXNoT2Zmc2V0IjogbnVsbCwKICAiZmlsbCI6IHRydWUsCiAgImZpbGxDb2xvciI6ICIjMzE4NmNjIiwKICAiZmlsbE9wYWNpdHkiOiAwLjcsCiAgImZpbGxSdWxlIjogImV2ZW5vZGQiLAogICJsaW5lQ2FwIjogInJvdW5kIiwKICAibGluZUpvaW4iOiAicm91bmQiLAogICJvcGFjaXR5IjogMS4wLAogICJyYWRpdXMiOiA0LAogICJzdHJva2UiOiB0cnVlLAogICJ3ZWlnaHQiOiAzCn0KICAgICAgICAgICAgICAgICkKICAgICAgICAgICAgICAgIC5hZGRUbyhtYXBfYjBmODEzM2E0NmExNDg3YWFkMGMxOTFlZTRmZjFlMzMpOwogICAgICAgICAgICAKICAgIAogICAgICAgICAgICB2YXIgcG9wdXBfZDNhZmViYTIxZTI3NDk5NDk4Yzk5ZGRlMDJjYWZkMjIgPSBMLnBvcHVwKHttYXhXaWR0aDogJzEwMCUnCiAgICAgICAgICAgIAogICAgICAgICAgICB9KTsKCiAgICAgICAgICAgIAogICAgICAgICAgICAgICAgdmFyIGh0bWxfNTgwMTJhYjhmMzc2NGQ1YmJlNTRjMzRhZDkzM2EzNzAgPSAkKGA8ZGl2IGlkPSJodG1sXzU4MDEyYWI4ZjM3NjRkNWJiZTU0YzM0YWQ5MzNhMzcwIiBzdHlsZT0id2lkdGg6IDEwMC4wJTsgaGVpZ2h0OiAxMDAuMCU7Ij5Vbml2ZXJzaXR5IG9mIFRvcm9udG8sIEhhcmJvcmQ8L2Rpdj5gKVswXTsKICAgICAgICAgICAgICAgIHBvcHVwX2QzYWZlYmEyMWUyNzQ5OTQ5OGM5OWRkZTAyY2FmZDIyLnNldENvbnRlbnQoaHRtbF81ODAxMmFiOGYzNzY0ZDViYmU1NGMzNGFkOTMzYTM3MCk7CiAgICAgICAgICAgIAoKICAgICAgICAgICAgY2lyY2xlX21hcmtlcl9iYzA1MTE3N2ZjNzk0ZjBkOWZkMmQzZmQyMjgyMWMwNi5iaW5kUG9wdXAocG9wdXBfZDNhZmViYTIxZTI3NDk5NDk4Yzk5ZGRlMDJjYWZkMjIpCiAgICAgICAgICAgIDsKCiAgICAgICAgICAgIAogICAgICAgIAogICAgCiAgICAgICAgICAgIHZhciBjaXJjbGVfbWFya2VyX2JkN2U4MTM3ZjBlZjRiZjc4MTE0MTY0MGZmYmZmNDRhID0gTC5jaXJjbGVNYXJrZXIoCiAgICAgICAgICAgICAgICBbNDMuNjUxNTcwNiwgLTc5LjQ4NDQ0OTldLAogICAgICAgICAgICAgICAgewogICJidWJibGluZ01vdXNlRXZlbnRzIjogdHJ1ZSwKICAiY29sb3IiOiAiYmx1ZSIsCiAgImRhc2hBcnJheSI6IG51bGwsCiAgImRhc2hPZmZzZXQiOiBudWxsLAogICJmaWxsIjogdHJ1ZSwKICAiZmlsbENvbG9yIjogIiMzMTg2Y2MiLAogICJmaWxsT3BhY2l0eSI6IDAuNywKICAiZmlsbFJ1bGUiOiAiZXZlbm9kZCIsCiAgImxpbmVDYXAiOiAicm91bmQiLAogICJsaW5lSm9pbiI6ICJyb3VuZCIsCiAgIm9wYWNpdHkiOiAxLjAsCiAgInJhZGl1cyI6IDQsCiAgInN0cm9rZSI6IHRydWUsCiAgIndlaWdodCI6IDMKfQogICAgICAgICAgICAgICAgKQogICAgICAgICAgICAgICAgLmFkZFRvKG1hcF9iMGY4MTMzYTQ2YTE0ODdhYWQwYzE5MWVlNGZmMWUzMyk7CiAgICAgICAgICAgIAogICAgCiAgICAgICAgICAgIHZhciBwb3B1cF83ODM2NGFjMmQ2ZWE0MjlmYWYwODRmOGY2MDYwMzA0OCA9IEwucG9wdXAoe21heFdpZHRoOiAnMTAwJScKICAgICAgICAgICAgCiAgICAgICAgICAgIH0pOwoKICAgICAgICAgICAgCiAgICAgICAgICAgICAgICB2YXIgaHRtbF9lM2Q2NmZiMTdiZTQ0ZWQ5YWVjZTYxMDM4OWU5Y2E5NSA9ICQoYDxkaXYgaWQ9Imh0bWxfZTNkNjZmYjE3YmU0NGVkOWFlY2U2MTAzODllOWNhOTUiIHN0eWxlPSJ3aWR0aDogMTAwLjAlOyBoZWlnaHQ6IDEwMC4wJTsiPlJ1bm55bWVkZSwgU3dhbnNlYTwvZGl2PmApWzBdOwogICAgICAgICAgICAgICAgcG9wdXBfNzgzNjRhYzJkNmVhNDI5ZmFmMDg0ZjhmNjA2MDMwNDguc2V0Q29udGVudChodG1sX2UzZDY2ZmIxN2JlNDRlZDlhZWNlNjEwMzg5ZTljYTk1KTsKICAgICAgICAgICAgCgogICAgICAgICAgICBjaXJjbGVfbWFya2VyX2JkN2U4MTM3ZjBlZjRiZjc4MTE0MTY0MGZmYmZmNDRhLmJpbmRQb3B1cChwb3B1cF83ODM2NGFjMmQ2ZWE0MjlmYWYwODRmOGY2MDYwMzA0OCkKICAgICAgICAgICAgOwoKICAgICAgICAgICAgCiAgICAgICAgCiAgICAKICAgICAgICAgICAgdmFyIGNpcmNsZV9tYXJrZXJfNzJlZDYzODg5MzU3NGNkNTkwY2ZmOGQ0NmY3NDZhMWMgPSBMLmNpcmNsZU1hcmtlcigKICAgICAgICAgICAgICAgIFs0My43ODE2Mzc1LCAtNzkuMzA0MzAyMV0sCiAgICAgICAgICAgICAgICB7CiAgImJ1YmJsaW5nTW91c2VFdmVudHMiOiB0cnVlLAogICJjb2xvciI6ICJibHVlIiwKICAiZGFzaEFycmF5IjogbnVsbCwKICAiZGFzaE9mZnNldCI6IG51bGwsCiAgImZpbGwiOiB0cnVlLAogICJmaWxsQ29sb3IiOiAiIzMxODZjYyIsCiAgImZpbGxPcGFjaXR5IjogMC43LAogICJmaWxsUnVsZSI6ICJldmVub2RkIiwKICAibGluZUNhcCI6ICJyb3VuZCIsCiAgImxpbmVKb2luIjogInJvdW5kIiwKICAib3BhY2l0eSI6IDEuMCwKICAicmFkaXVzIjogNCwKICAic3Ryb2tlIjogdHJ1ZSwKICAid2VpZ2h0IjogMwp9CiAgICAgICAgICAgICAgICApCiAgICAgICAgICAgICAgICAuYWRkVG8obWFwX2IwZjgxMzNhNDZhMTQ4N2FhZDBjMTkxZWU0ZmYxZTMzKTsKICAgICAgICAgICAgCiAgICAKICAgICAgICAgICAgdmFyIHBvcHVwXzAyOGExMDg2NzZlNjQ4M2FiOWQxNjEyMGNkNDBjYzdhID0gTC5wb3B1cCh7bWF4V2lkdGg6ICcxMDAlJwogICAgICAgICAgICAKICAgICAgICAgICAgfSk7CgogICAgICAgICAgICAKICAgICAgICAgICAgICAgIHZhciBodG1sXzRhMDkyNmJkYzk2MDRkZDU5Zjg3MGE4NTFlNTM5MGJkID0gJChgPGRpdiBpZD0iaHRtbF80YTA5MjZiZGM5NjA0ZGQ1OWY4NzBhODUxZTUzOTBiZCIgc3R5bGU9IndpZHRoOiAxMDAuMCU7IGhlaWdodDogMTAwLjAlOyI+Q2xhcmtzIENvcm5lcnMsIFRhbSBPJiMzOTtTaGFudGVyLCBTdWxsaXZhbjwvZGl2PmApWzBdOwogICAgICAgICAgICAgICAgcG9wdXBfMDI4YTEwODY3NmU2NDgzYWI5ZDE2MTIwY2Q0MGNjN2Euc2V0Q29udGVudChodG1sXzRhMDkyNmJkYzk2MDRkZDU5Zjg3MGE4NTFlNTM5MGJkKTsKICAgICAgICAgICAgCgogICAgICAgICAgICBjaXJjbGVfbWFya2VyXzcyZWQ2Mzg4OTM1NzRjZDU5MGNmZjhkNDZmNzQ2YTFjLmJpbmRQb3B1cChwb3B1cF8wMjhhMTA4Njc2ZTY0ODNhYjlkMTYxMjBjZDQwY2M3YSkKICAgICAgICAgICAgOwoKICAgICAgICAgICAgCiAgICAgICAgCiAgICAKICAgICAgICAgICAgdmFyIGNpcmNsZV9tYXJrZXJfZDk2NTIyNGVmNWI2NDE2OWFkMjkxMmY5NTJjN2EwMWMgPSBMLmNpcmNsZU1hcmtlcigKICAgICAgICAgICAgICAgIFs0My42ODk1NzQzLCAtNzkuMzgzMTU5OTAwMDAwMDFdLAogICAgICAgICAgICAgICAgewogICJidWJibGluZ01vdXNlRXZlbnRzIjogdHJ1ZSwKICAiY29sb3IiOiAiYmx1ZSIsCiAgImRhc2hBcnJheSI6IG51bGwsCiAgImRhc2hPZmZzZXQiOiBudWxsLAogICJmaWxsIjogdHJ1ZSwKICAiZmlsbENvbG9yIjogIiMzMTg2Y2MiLAogICJmaWxsT3BhY2l0eSI6IDAuNywKICAiZmlsbFJ1bGUiOiAiZXZlbm9kZCIsCiAgImxpbmVDYXAiOiAicm91bmQiLAogICJsaW5lSm9pbiI6ICJyb3VuZCIsCiAgIm9wYWNpdHkiOiAxLjAsCiAgInJhZGl1cyI6IDQsCiAgInN0cm9rZSI6IHRydWUsCiAgIndlaWdodCI6IDMKfQogICAgICAgICAgICAgICAgKQogICAgICAgICAgICAgICAgLmFkZFRvKG1hcF9iMGY4MTMzYTQ2YTE0ODdhYWQwYzE5MWVlNGZmMWUzMyk7CiAgICAgICAgICAgIAogICAgCiAgICAgICAgICAgIHZhciBwb3B1cF81YWU4YmJkOTIyZDE0ZDc4YTA1YzNkOTdhOTAwMmIxOSA9IEwucG9wdXAoe21heFdpZHRoOiAnMTAwJScKICAgICAgICAgICAgCiAgICAgICAgICAgIH0pOwoKICAgICAgICAgICAgCiAgICAgICAgICAgICAgICB2YXIgaHRtbF82ZmM4MzQ5MDIxY2M0N2U0OTY5MTU5MzU4ZWUxYWIwNyA9ICQoYDxkaXYgaWQ9Imh0bWxfNmZjODM0OTAyMWNjNDdlNDk2OTE1OTM1OGVlMWFiMDciIHN0eWxlPSJ3aWR0aDogMTAwLjAlOyBoZWlnaHQ6IDEwMC4wJTsiPk1vb3JlIFBhcmssIFN1bW1lcmhpbGwgRWFzdDwvZGl2PmApWzBdOwogICAgICAgICAgICAgICAgcG9wdXBfNWFlOGJiZDkyMmQxNGQ3OGEwNWMzZDk3YTkwMDJiMTkuc2V0Q29udGVudChodG1sXzZmYzgzNDkwMjFjYzQ3ZTQ5NjkxNTkzNThlZTFhYjA3KTsKICAgICAgICAgICAgCgogICAgICAgICAgICBjaXJjbGVfbWFya2VyX2Q5NjUyMjRlZjViNjQxNjlhZDI5MTJmOTUyYzdhMDFjLmJpbmRQb3B1cChwb3B1cF81YWU4YmJkOTIyZDE0ZDc4YTA1YzNkOTdhOTAwMmIxOSkKICAgICAgICAgICAgOwoKICAgICAgICAgICAgCiAgICAgICAgCiAgICAKICAgICAgICAgICAgdmFyIGNpcmNsZV9tYXJrZXJfMGNjYmNhNjBkZjE1NDUwYTkzODc0ZTQzZWViMGMwZDYgPSBMLmNpcmNsZU1hcmtlcigKICAgICAgICAgICAgICAgIFs0My42NTMyMDU3LCAtNzkuNDAwMDQ5M10sCiAgICAgICAgICAgICAgICB7CiAgImJ1YmJsaW5nTW91c2VFdmVudHMiOiB0cnVlLAogICJjb2xvciI6ICJibHVlIiwKICAiZGFzaEFycmF5IjogbnVsbCwKICAiZGFzaE9mZnNldCI6IG51bGwsCiAgImZpbGwiOiB0cnVlLAogICJmaWxsQ29sb3IiOiAiIzMxODZjYyIsCiAgImZpbGxPcGFjaXR5IjogMC43LAogICJmaWxsUnVsZSI6ICJldmVub2RkIiwKICAibGluZUNhcCI6ICJyb3VuZCIsCiAgImxpbmVKb2luIjogInJvdW5kIiwKICAib3BhY2l0eSI6IDEuMCwKICAicmFkaXVzIjogNCwKICAic3Ryb2tlIjogdHJ1ZSwKICAid2VpZ2h0IjogMwp9CiAgICAgICAgICAgICAgICApCiAgICAgICAgICAgICAgICAuYWRkVG8obWFwX2IwZjgxMzNhNDZhMTQ4N2FhZDBjMTkxZWU0ZmYxZTMzKTsKICAgICAgICAgICAgCiAgICAKICAgICAgICAgICAgdmFyIHBvcHVwXzRlNWI0MTU4Mjg2OTQzM2VhNDFhYmZmM2M4N2NiNjc3ID0gTC5wb3B1cCh7bWF4V2lkdGg6ICcxMDAlJwogICAgICAgICAgICAKICAgICAgICAgICAgfSk7CgogICAgICAgICAgICAKICAgICAgICAgICAgICAgIHZhciBodG1sX2ZlODE1Yzg4YTg5MjQwOGU5ZjA3NGNiODkyOGUxOGExID0gJChgPGRpdiBpZD0iaHRtbF9mZTgxNWM4OGE4OTI0MDhlOWYwNzRjYjg5MjhlMThhMSIgc3R5bGU9IndpZHRoOiAxMDAuMCU7IGhlaWdodDogMTAwLjAlOyI+S2Vuc2luZ3RvbiBNYXJrZXQsIENoaW5hdG93biwgR3JhbmdlIFBhcms8L2Rpdj5gKVswXTsKICAgICAgICAgICAgICAgIHBvcHVwXzRlNWI0MTU4Mjg2OTQzM2VhNDFhYmZmM2M4N2NiNjc3LnNldENvbnRlbnQoaHRtbF9mZTgxNWM4OGE4OTI0MDhlOWYwNzRjYjg5MjhlMThhMSk7CiAgICAgICAgICAgIAoKICAgICAgICAgICAgY2lyY2xlX21hcmtlcl8wY2NiY2E2MGRmMTU0NTBhOTM4NzRlNDNlZWIwYzBkNi5iaW5kUG9wdXAocG9wdXBfNGU1YjQxNTgyODY5NDMzZWE0MWFiZmYzYzg3Y2I2NzcpCiAgICAgICAgICAgIDsKCiAgICAgICAgICAgIAogICAgICAgIAogICAgCiAgICAgICAgICAgIHZhciBjaXJjbGVfbWFya2VyX2U0ZWIyYTM4NDQ5NjRiOTE5YWJiMDE5YTk3N2MzMTU1ID0gTC5jaXJjbGVNYXJrZXIoCiAgICAgICAgICAgICAgICBbNDMuODE1MjUyMiwgLTc5LjI4NDU3NzJdLAogICAgICAgICAgICAgICAgewogICJidWJibGluZ01vdXNlRXZlbnRzIjogdHJ1ZSwKICAiY29sb3IiOiAiYmx1ZSIsCiAgImRhc2hBcnJheSI6IG51bGwsCiAgImRhc2hPZmZzZXQiOiBudWxsLAogICJmaWxsIjogdHJ1ZSwKICAiZmlsbENvbG9yIjogIiMzMTg2Y2MiLAogICJmaWxsT3BhY2l0eSI6IDAuNywKICAiZmlsbFJ1bGUiOiAiZXZlbm9kZCIsCiAgImxpbmVDYXAiOiAicm91bmQiLAogICJsaW5lSm9pbiI6ICJyb3VuZCIsCiAgIm9wYWNpdHkiOiAxLjAsCiAgInJhZGl1cyI6IDQsCiAgInN0cm9rZSI6IHRydWUsCiAgIndlaWdodCI6IDMKfQogICAgICAgICAgICAgICAgKQogICAgICAgICAgICAgICAgLmFkZFRvKG1hcF9iMGY4MTMzYTQ2YTE0ODdhYWQwYzE5MWVlNGZmMWUzMyk7CiAgICAgICAgICAgIAogICAgCiAgICAgICAgICAgIHZhciBwb3B1cF8zZmRhZWUzOTA0OTU0MTZhYjI0ZWEyNmQ5MjI5YTY1MSA9IEwucG9wdXAoe21heFdpZHRoOiAnMTAwJScKICAgICAgICAgICAgCiAgICAgICAgICAgIH0pOwoKICAgICAgICAgICAgCiAgICAgICAgICAgICAgICB2YXIgaHRtbF82YjExNjg3Y2JmMmY0YzU5YWQzZTQ3MGJkNzVlNTlhNyA9ICQoYDxkaXYgaWQ9Imh0bWxfNmIxMTY4N2NiZjJmNGM1OWFkM2U0NzBiZDc1ZTU5YTciIHN0eWxlPSJ3aWR0aDogMTAwLjAlOyBoZWlnaHQ6IDEwMC4wJTsiPk1pbGxpa2VuLCBBZ2luY291cnQgTm9ydGgsIFN0ZWVsZXMgRWFzdCwgTCYjMzk7QW1vcmVhdXggRWFzdDwvZGl2PmApWzBdOwogICAgICAgICAgICAgICAgcG9wdXBfM2ZkYWVlMzkwNDk1NDE2YWIyNGVhMjZkOTIyOWE2NTEuc2V0Q29udGVudChodG1sXzZiMTE2ODdjYmYyZjRjNTlhZDNlNDcwYmQ3NWU1OWE3KTsKICAgICAgICAgICAgCgogICAgICAgICAgICBjaXJjbGVfbWFya2VyX2U0ZWIyYTM4NDQ5NjRiOTE5YWJiMDE5YTk3N2MzMTU1LmJpbmRQb3B1cChwb3B1cF8zZmRhZWUzOTA0OTU0MTZhYjI0ZWEyNmQ5MjI5YTY1MSkKICAgICAgICAgICAgOwoKICAgICAgICAgICAgCiAgICAgICAgCiAgICAKICAgICAgICAgICAgdmFyIGNpcmNsZV9tYXJrZXJfMDc2MWRmZjA0YzYzNDljNjk3MGQ5ZGMyMTBmOWE0MGYgPSBMLmNpcmNsZU1hcmtlcigKICAgICAgICAgICAgICAgIFs0My42ODY0MTIyOTk5OTk5OSwgLTc5LjQwMDA0OTNdLAogICAgICAgICAgICAgICAgewogICJidWJibGluZ01vdXNlRXZlbnRzIjogdHJ1ZSwKICAiY29sb3IiOiAiYmx1ZSIsCiAgImRhc2hBcnJheSI6IG51bGwsCiAgImRhc2hPZmZzZXQiOiBudWxsLAogICJmaWxsIjogdHJ1ZSwKICAiZmlsbENvbG9yIjogIiMzMTg2Y2MiLAogICJmaWxsT3BhY2l0eSI6IDAuNywKICAiZmlsbFJ1bGUiOiAiZXZlbm9kZCIsCiAgImxpbmVDYXAiOiAicm91bmQiLAogICJsaW5lSm9pbiI6ICJyb3VuZCIsCiAgIm9wYWNpdHkiOiAxLjAsCiAgInJhZGl1cyI6IDQsCiAgInN0cm9rZSI6IHRydWUsCiAgIndlaWdodCI6IDMKfQogICAgICAgICAgICAgICAgKQogICAgICAgICAgICAgICAgLmFkZFRvKG1hcF9iMGY4MTMzYTQ2YTE0ODdhYWQwYzE5MWVlNGZmMWUzMyk7CiAgICAgICAgICAgIAogICAgCiAgICAgICAgICAgIHZhciBwb3B1cF81NzBjNjZjODY3MDI0OTVkOWM2OGVhZjcxM2IwM2E2ZSA9IEwucG9wdXAoe21heFdpZHRoOiAnMTAwJScKICAgICAgICAgICAgCiAgICAgICAgICAgIH0pOwoKICAgICAgICAgICAgCiAgICAgICAgICAgICAgICB2YXIgaHRtbF85MzBlOTU3OGJkMGU0N2EwODA5MzFjNDNiODFlNDdkYiA9ICQoYDxkaXYgaWQ9Imh0bWxfOTMwZTk1NzhiZDBlNDdhMDgwOTMxYzQzYjgxZTQ3ZGIiIHN0eWxlPSJ3aWR0aDogMTAwLjAlOyBoZWlnaHQ6IDEwMC4wJTsiPlN1bW1lcmhpbGwgV2VzdCwgUmF0aG5lbGx5LCBTb3V0aCBIaWxsLCBGb3Jlc3QgSGlsbCBTRSwgRGVlciBQYXJrPC9kaXY+YClbMF07CiAgICAgICAgICAgICAgICBwb3B1cF81NzBjNjZjODY3MDI0OTVkOWM2OGVhZjcxM2IwM2E2ZS5zZXRDb250ZW50KGh0bWxfOTMwZTk1NzhiZDBlNDdhMDgwOTMxYzQzYjgxZTQ3ZGIpOwogICAgICAgICAgICAKCiAgICAgICAgICAgIGNpcmNsZV9tYXJrZXJfMDc2MWRmZjA0YzYzNDljNjk3MGQ5ZGMyMTBmOWE0MGYuYmluZFBvcHVwKHBvcHVwXzU3MGM2NmM4NjcwMjQ5NWQ5YzY4ZWFmNzEzYjAzYTZlKQogICAgICAgICAgICA7CgogICAgICAgICAgICAKICAgICAgICAKICAgIAogICAgICAgICAgICB2YXIgY2lyY2xlX21hcmtlcl8zMjc4NWYxZTgxYWU0YzJiYWQ3MGNiMGMxNzQyMWJmNCA9IEwuY2lyY2xlTWFya2VyKAogICAgICAgICAgICAgICAgWzQzLjYyODk0NjcsIC03OS4zOTQ0MTk5XSwKICAgICAgICAgICAgICAgIHsKICAiYnViYmxpbmdNb3VzZUV2ZW50cyI6IHRydWUsCiAgImNvbG9yIjogImJsdWUiLAogICJkYXNoQXJyYXkiOiBudWxsLAogICJkYXNoT2Zmc2V0IjogbnVsbCwKICAiZmlsbCI6IHRydWUsCiAgImZpbGxDb2xvciI6ICIjMzE4NmNjIiwKICAiZmlsbE9wYWNpdHkiOiAwLjcsCiAgImZpbGxSdWxlIjogImV2ZW5vZGQiLAogICJsaW5lQ2FwIjogInJvdW5kIiwKICAibGluZUpvaW4iOiAicm91bmQiLAogICJvcGFjaXR5IjogMS4wLAogICJyYWRpdXMiOiA0LAogICJzdHJva2UiOiB0cnVlLAogICJ3ZWlnaHQiOiAzCn0KICAgICAgICAgICAgICAgICkKICAgICAgICAgICAgICAgIC5hZGRUbyhtYXBfYjBmODEzM2E0NmExNDg3YWFkMGMxOTFlZTRmZjFlMzMpOwogICAgICAgICAgICAKICAgIAogICAgICAgICAgICB2YXIgcG9wdXBfMWUwOTg5NDc1YmU5NGVjMWJjZTIyNDVhMjFiZTY4OTggPSBMLnBvcHVwKHttYXhXaWR0aDogJzEwMCUnCiAgICAgICAgICAgIAogICAgICAgICAgICB9KTsKCiAgICAgICAgICAgIAogICAgICAgICAgICAgICAgdmFyIGh0bWxfZTc3YTA1MTE2NjM5NDZlY2ExMDc4MGQ3NjAyNGUxMDYgPSAkKGA8ZGl2IGlkPSJodG1sX2U3N2EwNTExNjYzOTQ2ZWNhMTA3ODBkNzYwMjRlMTA2IiBzdHlsZT0id2lkdGg6IDEwMC4wJTsgaGVpZ2h0OiAxMDAuMCU7Ij5DTiBUb3dlciwgS2luZyBhbmQgU3BhZGluYSwgUmFpbHdheSBMYW5kcywgSGFyYm91cmZyb250IFdlc3QsIEJhdGh1cnN0IFF1YXksIFNvdXRoIE5pYWdhcmEsIElzbGFuZCBhaXJwb3J0PC9kaXY+YClbMF07CiAgICAgICAgICAgICAgICBwb3B1cF8xZTA5ODk0NzViZTk0ZWMxYmNlMjI0NWEyMWJlNjg5OC5zZXRDb250ZW50KGh0bWxfZTc3YTA1MTE2NjM5NDZlY2ExMDc4MGQ3NjAyNGUxMDYpOwogICAgICAgICAgICAKCiAgICAgICAgICAgIGNpcmNsZV9tYXJrZXJfMzI3ODVmMWU4MWFlNGMyYmFkNzBjYjBjMTc0MjFiZjQuYmluZFBvcHVwKHBvcHVwXzFlMDk4OTQ3NWJlOTRlYzFiY2UyMjQ1YTIxYmU2ODk4KQogICAgICAgICAgICA7CgogICAgICAgICAgICAKICAgICAgICAKICAgIAogICAgICAgICAgICB2YXIgY2lyY2xlX21hcmtlcl9jZjA4NzI5YjE2ZDg0YzM4ODkxMzIxZDg5MTBmZTkyYiA9IEwuY2lyY2xlTWFya2VyKAogICAgICAgICAgICAgICAgWzQzLjYwNTY0NjYsIC03OS41MDEzMjA3MDAwMDAwMV0sCiAgICAgICAgICAgICAgICB7CiAgImJ1YmJsaW5nTW91c2VFdmVudHMiOiB0cnVlLAogICJjb2xvciI6ICJibHVlIiwKICAiZGFzaEFycmF5IjogbnVsbCwKICAiZGFzaE9mZnNldCI6IG51bGwsCiAgImZpbGwiOiB0cnVlLAogICJmaWxsQ29sb3IiOiAiIzMxODZjYyIsCiAgImZpbGxPcGFjaXR5IjogMC43LAogICJmaWxsUnVsZSI6ICJldmVub2RkIiwKICAibGluZUNhcCI6ICJyb3VuZCIsCiAgImxpbmVKb2luIjogInJvdW5kIiwKICAib3BhY2l0eSI6IDEuMCwKICAicmFkaXVzIjogNCwKICAic3Ryb2tlIjogdHJ1ZSwKICAid2VpZ2h0IjogMwp9CiAgICAgICAgICAgICAgICApCiAgICAgICAgICAgICAgICAuYWRkVG8obWFwX2IwZjgxMzNhNDZhMTQ4N2FhZDBjMTkxZWU0ZmYxZTMzKTsKICAgICAgICAgICAgCiAgICAKICAgICAgICAgICAgdmFyIHBvcHVwX2QyNGYyOWI5MTBhNTQyYTY5Y2Y0Y2JmNjQxMmVhYTdmID0gTC5wb3B1cCh7bWF4V2lkdGg6ICcxMDAlJwogICAgICAgICAgICAKICAgICAgICAgICAgfSk7CgogICAgICAgICAgICAKICAgICAgICAgICAgICAgIHZhciBodG1sXzhmMjYyYTE0OThlODQ5OTJhZmIzN2Q1MWU3MjBkMzAxID0gJChgPGRpdiBpZD0iaHRtbF84ZjI2MmExNDk4ZTg0OTkyYWZiMzdkNTFlNzIwZDMwMSIgc3R5bGU9IndpZHRoOiAxMDAuMCU7IGhlaWdodDogMTAwLjAlOyI+TmV3IFRvcm9udG8sIE1pbWljbyBTb3V0aCwgSHVtYmVyIEJheSBTaG9yZXM8L2Rpdj5gKVswXTsKICAgICAgICAgICAgICAgIHBvcHVwX2QyNGYyOWI5MTBhNTQyYTY5Y2Y0Y2JmNjQxMmVhYTdmLnNldENvbnRlbnQoaHRtbF84ZjI2MmExNDk4ZTg0OTkyYWZiMzdkNTFlNzIwZDMwMSk7CiAgICAgICAgICAgIAoKICAgICAgICAgICAgY2lyY2xlX21hcmtlcl9jZjA4NzI5YjE2ZDg0YzM4ODkxMzIxZDg5MTBmZTkyYi5iaW5kUG9wdXAocG9wdXBfZDI0ZjI5YjkxMGE1NDJhNjljZjRjYmY2NDEyZWFhN2YpCiAgICAgICAgICAgIDsKCiAgICAgICAgICAgIAogICAgICAgIAogICAgCiAgICAgICAgICAgIHZhciBjaXJjbGVfbWFya2VyX2IwMDZiZDNhYTI0NDRmMzU5MDNhZGM5NTczYzMwMGQ4ID0gTC5jaXJjbGVNYXJrZXIoCiAgICAgICAgICAgICAgICBbNDMuNzM5NDE2Mzk5OTk5OTk2LCAtNzkuNTg4NDM2OV0sCiAgICAgICAgICAgICAgICB7CiAgImJ1YmJsaW5nTW91c2VFdmVudHMiOiB0cnVlLAogICJjb2xvciI6ICJibHVlIiwKICAiZGFzaEFycmF5IjogbnVsbCwKICAiZGFzaE9mZnNldCI6IG51bGwsCiAgImZpbGwiOiB0cnVlLAogICJmaWxsQ29sb3IiOiAiIzMxODZjYyIsCiAgImZpbGxPcGFjaXR5IjogMC43LAogICJmaWxsUnVsZSI6ICJldmVub2RkIiwKICAibGluZUNhcCI6ICJyb3VuZCIsCiAgImxpbmVKb2luIjogInJvdW5kIiwKICAib3BhY2l0eSI6IDEuMCwKICAicmFkaXVzIjogNCwKICAic3Ryb2tlIjogdHJ1ZSwKICAid2VpZ2h0IjogMwp9CiAgICAgICAgICAgICAgICApCiAgICAgICAgICAgICAgICAuYWRkVG8obWFwX2IwZjgxMzNhNDZhMTQ4N2FhZDBjMTkxZWU0ZmYxZTMzKTsKICAgICAgICAgICAgCiAgICAKICAgICAgICAgICAgdmFyIHBvcHVwXzFjMmMwNDU4ZmI3MzRiNDA4OGUzMTM2NGNjMmJjZjQ2ID0gTC5wb3B1cCh7bWF4V2lkdGg6ICcxMDAlJwogICAgICAgICAgICAKICAgICAgICAgICAgfSk7CgogICAgICAgICAgICAKICAgICAgICAgICAgICAgIHZhciBodG1sX2YzODkzNDc4MDMzZTQ5YWY5MWMzYzlmNmU0ZDc5MTJiID0gJChgPGRpdiBpZD0iaHRtbF9mMzg5MzQ3ODAzM2U0OWFmOTFjM2M5ZjZlNGQ3OTEyYiIgc3R5bGU9IndpZHRoOiAxMDAuMCU7IGhlaWdodDogMTAwLjAlOyI+U291dGggU3RlZWxlcywgU2lsdmVyc3RvbmUsIEh1bWJlcmdhdGUsIEphbWVzdG93biwgTW91bnQgT2xpdmUsIEJlYXVtb25kIEhlaWdodHMsIFRoaXN0bGV0b3duLCBBbGJpb24gR2FyZGVuczwvZGl2PmApWzBdOwogICAgICAgICAgICAgICAgcG9wdXBfMWMyYzA0NThmYjczNGI0MDg4ZTMxMzY0Y2MyYmNmNDYuc2V0Q29udGVudChodG1sX2YzODkzNDc4MDMzZTQ5YWY5MWMzYzlmNmU0ZDc5MTJiKTsKICAgICAgICAgICAgCgogICAgICAgICAgICBjaXJjbGVfbWFya2VyX2IwMDZiZDNhYTI0NDRmMzU5MDNhZGM5NTczYzMwMGQ4LmJpbmRQb3B1cChwb3B1cF8xYzJjMDQ1OGZiNzM0YjQwODhlMzEzNjRjYzJiY2Y0NikKICAgICAgICAgICAgOwoKICAgICAgICAgICAgCiAgICAgICAgCiAgICAKICAgICAgICAgICAgdmFyIGNpcmNsZV9tYXJrZXJfYTk2ZjJkM2U5MzYyNDE0ZWFiZGFhZmFiNWNlMjc4NzAgPSBMLmNpcmNsZU1hcmtlcigKICAgICAgICAgICAgICAgIFs0My43OTk1MjUyMDAwMDAwMDUsIC03OS4zMTgzODg3XSwKICAgICAgICAgICAgICAgIHsKICAiYnViYmxpbmdNb3VzZUV2ZW50cyI6IHRydWUsCiAgImNvbG9yIjogImJsdWUiLAogICJkYXNoQXJyYXkiOiBudWxsLAogICJkYXNoT2Zmc2V0IjogbnVsbCwKICAiZmlsbCI6IHRydWUsCiAgImZpbGxDb2xvciI6ICIjMzE4NmNjIiwKICAiZmlsbE9wYWNpdHkiOiAwLjcsCiAgImZpbGxSdWxlIjogImV2ZW5vZGQiLAogICJsaW5lQ2FwIjogInJvdW5kIiwKICAibGluZUpvaW4iOiAicm91bmQiLAogICJvcGFjaXR5IjogMS4wLAogICJyYWRpdXMiOiA0LAogICJzdHJva2UiOiB0cnVlLAogICJ3ZWlnaHQiOiAzCn0KICAgICAgICAgICAgICAgICkKICAgICAgICAgICAgICAgIC5hZGRUbyhtYXBfYjBmODEzM2E0NmExNDg3YWFkMGMxOTFlZTRmZjFlMzMpOwogICAgICAgICAgICAKICAgIAogICAgICAgICAgICB2YXIgcG9wdXBfY2FmOGI5NGJjYzlmNDBiZTg1ZTUzN2ZlNDQwYTMzNTEgPSBMLnBvcHVwKHttYXhXaWR0aDogJzEwMCUnCiAgICAgICAgICAgIAogICAgICAgICAgICB9KTsKCiAgICAgICAgICAgIAogICAgICAgICAgICAgICAgdmFyIGh0bWxfODVhNWJhN2Y4YzU0NDgwYThkZDkyMGI4MTcyNjk5MDYgPSAkKGA8ZGl2IGlkPSJodG1sXzg1YTViYTdmOGM1NDQ4MGE4ZGQ5MjBiODE3MjY5OTA2IiBzdHlsZT0id2lkdGg6IDEwMC4wJTsgaGVpZ2h0OiAxMDAuMCU7Ij5TdGVlbGVzIFdlc3QsIEwmIzM5O0Ftb3JlYXV4IFdlc3Q8L2Rpdj5gKVswXTsKICAgICAgICAgICAgICAgIHBvcHVwX2NhZjhiOTRiY2M5ZjQwYmU4NWU1MzdmZTQ0MGEzMzUxLnNldENvbnRlbnQoaHRtbF84NWE1YmE3ZjhjNTQ0ODBhOGRkOTIwYjgxNzI2OTkwNik7CiAgICAgICAgICAgIAoKICAgICAgICAgICAgY2lyY2xlX21hcmtlcl9hOTZmMmQzZTkzNjI0MTRlYWJkYWFmYWI1Y2UyNzg3MC5iaW5kUG9wdXAocG9wdXBfY2FmOGI5NGJjYzlmNDBiZTg1ZTUzN2ZlNDQwYTMzNTEpCiAgICAgICAgICAgIDsKCiAgICAgICAgICAgIAogICAgICAgIAogICAgCiAgICAgICAgICAgIHZhciBjaXJjbGVfbWFya2VyXzlhNzI1YzhjNDdkZTQwODFhN2JmZjJlYTc0NjZiZTgyID0gTC5jaXJjbGVNYXJrZXIoCiAgICAgICAgICAgICAgICBbNDMuNjc5NTYyNiwgLTc5LjM3NzUyOTQwMDAwMDAxXSwKICAgICAgICAgICAgICAgIHsKICAiYnViYmxpbmdNb3VzZUV2ZW50cyI6IHRydWUsCiAgImNvbG9yIjogImJsdWUiLAogICJkYXNoQXJyYXkiOiBudWxsLAogICJkYXNoT2Zmc2V0IjogbnVsbCwKICAiZmlsbCI6IHRydWUsCiAgImZpbGxDb2xvciI6ICIjMzE4NmNjIiwKICAiZmlsbE9wYWNpdHkiOiAwLjcsCiAgImZpbGxSdWxlIjogImV2ZW5vZGQiLAogICJsaW5lQ2FwIjogInJvdW5kIiwKICAibGluZUpvaW4iOiAicm91bmQiLAogICJvcGFjaXR5IjogMS4wLAogICJyYWRpdXMiOiA0LAogICJzdHJva2UiOiB0cnVlLAogICJ3ZWlnaHQiOiAzCn0KICAgICAgICAgICAgICAgICkKICAgICAgICAgICAgICAgIC5hZGRUbyhtYXBfYjBmODEzM2E0NmExNDg3YWFkMGMxOTFlZTRmZjFlMzMpOwogICAgICAgICAgICAKICAgIAogICAgICAgICAgICB2YXIgcG9wdXBfZTY0ZWZmN2E3NjQ0NGNmNzgyMmQ4ZjU4N2Q0MmQwYjkgPSBMLnBvcHVwKHttYXhXaWR0aDogJzEwMCUnCiAgICAgICAgICAgIAogICAgICAgICAgICB9KTsKCiAgICAgICAgICAgIAogICAgICAgICAgICAgICAgdmFyIGh0bWxfOWU2ZGE0ZGFjNWViNGM5OWE2MzI4ZjViYzNmNGZlMTUgPSAkKGA8ZGl2IGlkPSJodG1sXzllNmRhNGRhYzVlYjRjOTlhNjMyOGY1YmMzZjRmZTE1IiBzdHlsZT0id2lkdGg6IDEwMC4wJTsgaGVpZ2h0OiAxMDAuMCU7Ij5Sb3NlZGFsZTwvZGl2PmApWzBdOwogICAgICAgICAgICAgICAgcG9wdXBfZTY0ZWZmN2E3NjQ0NGNmNzgyMmQ4ZjU4N2Q0MmQwYjkuc2V0Q29udGVudChodG1sXzllNmRhNGRhYzVlYjRjOTlhNjMyOGY1YmMzZjRmZTE1KTsKICAgICAgICAgICAgCgogICAgICAgICAgICBjaXJjbGVfbWFya2VyXzlhNzI1YzhjNDdkZTQwODFhN2JmZjJlYTc0NjZiZTgyLmJpbmRQb3B1cChwb3B1cF9lNjRlZmY3YTc2NDQ0Y2Y3ODIyZDhmNTg3ZDQyZDBiOSkKICAgICAgICAgICAgOwoKICAgICAgICAgICAgCiAgICAgICAgCiAgICAKICAgICAgICAgICAgdmFyIGNpcmNsZV9tYXJrZXJfYmMwNmY1ZDkzN2RiNGRjY2EwMTFiMmM5YTc3Yzg5NzggPSBMLmNpcmNsZU1hcmtlcigKICAgICAgICAgICAgICAgIFs0My42NDY0MzUyLCAtNzkuMzc0ODQ1OTk5OTk5OTldLAogICAgICAgICAgICAgICAgewogICJidWJibGluZ01vdXNlRXZlbnRzIjogdHJ1ZSwKICAiY29sb3IiOiAiYmx1ZSIsCiAgImRhc2hBcnJheSI6IG51bGwsCiAgImRhc2hPZmZzZXQiOiBudWxsLAogICJmaWxsIjogdHJ1ZSwKICAiZmlsbENvbG9yIjogIiMzMTg2Y2MiLAogICJmaWxsT3BhY2l0eSI6IDAuNywKICAiZmlsbFJ1bGUiOiAiZXZlbm9kZCIsCiAgImxpbmVDYXAiOiAicm91bmQiLAogICJsaW5lSm9pbiI6ICJyb3VuZCIsCiAgIm9wYWNpdHkiOiAxLjAsCiAgInJhZGl1cyI6IDQsCiAgInN0cm9rZSI6IHRydWUsCiAgIndlaWdodCI6IDMKfQogICAgICAgICAgICAgICAgKQogICAgICAgICAgICAgICAgLmFkZFRvKG1hcF9iMGY4MTMzYTQ2YTE0ODdhYWQwYzE5MWVlNGZmMWUzMyk7CiAgICAgICAgICAgIAogICAgCiAgICAgICAgICAgIHZhciBwb3B1cF85NzIwMjkyYjI3N2I0OWQwOTZhZDRhODkwMDA0YWVmZCA9IEwucG9wdXAoe21heFdpZHRoOiAnMTAwJScKICAgICAgICAgICAgCiAgICAgICAgICAgIH0pOwoKICAgICAgICAgICAgCiAgICAgICAgICAgICAgICB2YXIgaHRtbF81ZmExOTVjYzhiOWM0MTk4OGJmNTZjMzU4Y2ZkNmYzOCA9ICQoYDxkaXYgaWQ9Imh0bWxfNWZhMTk1Y2M4YjljNDE5ODhiZjU2YzM1OGNmZDZmMzgiIHN0eWxlPSJ3aWR0aDogMTAwLjAlOyBoZWlnaHQ6IDEwMC4wJTsiPlN0biBBIFBPIEJveGVzPC9kaXY+YClbMF07CiAgICAgICAgICAgICAgICBwb3B1cF85NzIwMjkyYjI3N2I0OWQwOTZhZDRhODkwMDA0YWVmZC5zZXRDb250ZW50KGh0bWxfNWZhMTk1Y2M4YjljNDE5ODhiZjU2YzM1OGNmZDZmMzgpOwogICAgICAgICAgICAKCiAgICAgICAgICAgIGNpcmNsZV9tYXJrZXJfYmMwNmY1ZDkzN2RiNGRjY2EwMTFiMmM5YTc3Yzg5NzguYmluZFBvcHVwKHBvcHVwXzk3MjAyOTJiMjc3YjQ5ZDA5NmFkNGE4OTAwMDRhZWZkKQogICAgICAgICAgICA7CgogICAgICAgICAgICAKICAgICAgICAKICAgIAogICAgICAgICAgICB2YXIgY2lyY2xlX21hcmtlcl82Y2I4YmE3YWI2NTY0MDEyOGVlNTE1MTliZjE0YTQ4MCA9IEwuY2lyY2xlTWFya2VyKAogICAgICAgICAgICAgICAgWzQzLjYwMjQxMzcwMDAwMDAxLCAtNzkuNTQzNDg0MDk5OTk5OTldLAogICAgICAgICAgICAgICAgewogICJidWJibGluZ01vdXNlRXZlbnRzIjogdHJ1ZSwKICAiY29sb3IiOiAiYmx1ZSIsCiAgImRhc2hBcnJheSI6IG51bGwsCiAgImRhc2hPZmZzZXQiOiBudWxsLAogICJmaWxsIjogdHJ1ZSwKICAiZmlsbENvbG9yIjogIiMzMTg2Y2MiLAogICJmaWxsT3BhY2l0eSI6IDAuNywKICAiZmlsbFJ1bGUiOiAiZXZlbm9kZCIsCiAgImxpbmVDYXAiOiAicm91bmQiLAogICJsaW5lSm9pbiI6ICJyb3VuZCIsCiAgIm9wYWNpdHkiOiAxLjAsCiAgInJhZGl1cyI6IDQsCiAgInN0cm9rZSI6IHRydWUsCiAgIndlaWdodCI6IDMKfQogICAgICAgICAgICAgICAgKQogICAgICAgICAgICAgICAgLmFkZFRvKG1hcF9iMGY4MTMzYTQ2YTE0ODdhYWQwYzE5MWVlNGZmMWUzMyk7CiAgICAgICAgICAgIAogICAgCiAgICAgICAgICAgIHZhciBwb3B1cF8wYTliMjdkOGJhODE0MjE0OTQ1OTgwZjUzOWY0Y2UzZiA9IEwucG9wdXAoe21heFdpZHRoOiAnMTAwJScKICAgICAgICAgICAgCiAgICAgICAgICAgIH0pOwoKICAgICAgICAgICAgCiAgICAgICAgICAgICAgICB2YXIgaHRtbF9jMjllYWFhNzE4NTU0YWEyODI4YjQyMGEyMzMzNGJmNSA9ICQoYDxkaXYgaWQ9Imh0bWxfYzI5ZWFhYTcxODU1NGFhMjgyOGI0MjBhMjMzMzRiZjUiIHN0eWxlPSJ3aWR0aDogMTAwLjAlOyBoZWlnaHQ6IDEwMC4wJTsiPkFsZGVyd29vZCwgTG9uZyBCcmFuY2g8L2Rpdj5gKVswXTsKICAgICAgICAgICAgICAgIHBvcHVwXzBhOWIyN2Q4YmE4MTQyMTQ5NDU5ODBmNTM5ZjRjZTNmLnNldENvbnRlbnQoaHRtbF9jMjllYWFhNzE4NTU0YWEyODI4YjQyMGEyMzMzNGJmNSk7CiAgICAgICAgICAgIAoKICAgICAgICAgICAgY2lyY2xlX21hcmtlcl82Y2I4YmE3YWI2NTY0MDEyOGVlNTE1MTliZjE0YTQ4MC5iaW5kUG9wdXAocG9wdXBfMGE5YjI3ZDhiYTgxNDIxNDk0NTk4MGY1MzlmNGNlM2YpCiAgICAgICAgICAgIDsKCiAgICAgICAgICAgIAogICAgICAgIAogICAgCiAgICAgICAgICAgIHZhciBjaXJjbGVfbWFya2VyXzUzYzdmYjNlNjZlMzRlN2NhYzVlY2RmOGNhMDAyYTBjID0gTC5jaXJjbGVNYXJrZXIoCiAgICAgICAgICAgICAgICBbNDMuNzA2NzQ4Mjk5OTk5OTk0LCAtNzkuNTk0MDU0NF0sCiAgICAgICAgICAgICAgICB7CiAgImJ1YmJsaW5nTW91c2VFdmVudHMiOiB0cnVlLAogICJjb2xvciI6ICJibHVlIiwKICAiZGFzaEFycmF5IjogbnVsbCwKICAiZGFzaE9mZnNldCI6IG51bGwsCiAgImZpbGwiOiB0cnVlLAogICJmaWxsQ29sb3IiOiAiIzMxODZjYyIsCiAgImZpbGxPcGFjaXR5IjogMC43LAogICJmaWxsUnVsZSI6ICJldmVub2RkIiwKICAibGluZUNhcCI6ICJyb3VuZCIsCiAgImxpbmVKb2luIjogInJvdW5kIiwKICAib3BhY2l0eSI6IDEuMCwKICAicmFkaXVzIjogNCwKICAic3Ryb2tlIjogdHJ1ZSwKICAid2VpZ2h0IjogMwp9CiAgICAgICAgICAgICAgICApCiAgICAgICAgICAgICAgICAuYWRkVG8obWFwX2IwZjgxMzNhNDZhMTQ4N2FhZDBjMTkxZWU0ZmYxZTMzKTsKICAgICAgICAgICAgCiAgICAKICAgICAgICAgICAgdmFyIHBvcHVwXzI2MTdjYmIyOTI3MDRlY2E4NzM5Zjk1N2E5MTdjNGI3ID0gTC5wb3B1cCh7bWF4V2lkdGg6ICcxMDAlJwogICAgICAgICAgICAKICAgICAgICAgICAgfSk7CgogICAgICAgICAgICAKICAgICAgICAgICAgICAgIHZhciBodG1sXzhmMWRiN2I4YmM1ODQ5NWQ4NjlmOTZlNzAxM2FjZDdmID0gJChgPGRpdiBpZD0iaHRtbF84ZjFkYjdiOGJjNTg0OTVkODY5Zjk2ZTcwMTNhY2Q3ZiIgc3R5bGU9IndpZHRoOiAxMDAuMCU7IGhlaWdodDogMTAwLjAlOyI+Tm9ydGh3ZXN0PC9kaXY+YClbMF07CiAgICAgICAgICAgICAgICBwb3B1cF8yNjE3Y2JiMjkyNzA0ZWNhODczOWY5NTdhOTE3YzRiNy5zZXRDb250ZW50KGh0bWxfOGYxZGI3YjhiYzU4NDk1ZDg2OWY5NmU3MDEzYWNkN2YpOwogICAgICAgICAgICAKCiAgICAgICAgICAgIGNpcmNsZV9tYXJrZXJfNTNjN2ZiM2U2NmUzNGU3Y2FjNWVjZGY4Y2EwMDJhMGMuYmluZFBvcHVwKHBvcHVwXzI2MTdjYmIyOTI3MDRlY2E4NzM5Zjk1N2E5MTdjNGI3KQogICAgICAgICAgICA7CgogICAgICAgICAgICAKICAgICAgICAKICAgIAogICAgICAgICAgICB2YXIgY2lyY2xlX21hcmtlcl80YTgwOGY4YjQwZGQ0ZmMwYTQxYmNiNWJhYzZhMzJmZSA9IEwuY2lyY2xlTWFya2VyKAogICAgICAgICAgICAgICAgWzQzLjgzNjEyNDcwMDAwMDAwNiwgLTc5LjIwNTYzNjA5OTk5OTk5XSwKICAgICAgICAgICAgICAgIHsKICAiYnViYmxpbmdNb3VzZUV2ZW50cyI6IHRydWUsCiAgImNvbG9yIjogImJsdWUiLAogICJkYXNoQXJyYXkiOiBudWxsLAogICJkYXNoT2Zmc2V0IjogbnVsbCwKICAiZmlsbCI6IHRydWUsCiAgImZpbGxDb2xvciI6ICIjMzE4NmNjIiwKICAiZmlsbE9wYWNpdHkiOiAwLjcsCiAgImZpbGxSdWxlIjogImV2ZW5vZGQiLAogICJsaW5lQ2FwIjogInJvdW5kIiwKICAibGluZUpvaW4iOiAicm91bmQiLAogICJvcGFjaXR5IjogMS4wLAogICJyYWRpdXMiOiA0LAogICJzdHJva2UiOiB0cnVlLAogICJ3ZWlnaHQiOiAzCn0KICAgICAgICAgICAgICAgICkKICAgICAgICAgICAgICAgIC5hZGRUbyhtYXBfYjBmODEzM2E0NmExNDg3YWFkMGMxOTFlZTRmZjFlMzMpOwogICAgICAgICAgICAKICAgIAogICAgICAgICAgICB2YXIgcG9wdXBfN2RmMTAzYzhlMGVmNDNkNGJiYzMyMzg2NzhmMWQ1ZWQgPSBMLnBvcHVwKHttYXhXaWR0aDogJzEwMCUnCiAgICAgICAgICAgIAogICAgICAgICAgICB9KTsKCiAgICAgICAgICAgIAogICAgICAgICAgICAgICAgdmFyIGh0bWxfZTFhM2MwMTEzOTllNGZlZGJiMzkyYzI2M2Y1MjFjMWIgPSAkKGA8ZGl2IGlkPSJodG1sX2UxYTNjMDExMzk5ZTRmZWRiYjM5MmMyNjNmNTIxYzFiIiBzdHlsZT0id2lkdGg6IDEwMC4wJTsgaGVpZ2h0OiAxMDAuMCU7Ij5VcHBlciBSb3VnZTwvZGl2PmApWzBdOwogICAgICAgICAgICAgICAgcG9wdXBfN2RmMTAzYzhlMGVmNDNkNGJiYzMyMzg2NzhmMWQ1ZWQuc2V0Q29udGVudChodG1sX2UxYTNjMDExMzk5ZTRmZWRiYjM5MmMyNjNmNTIxYzFiKTsKICAgICAgICAgICAgCgogICAgICAgICAgICBjaXJjbGVfbWFya2VyXzRhODA4ZjhiNDBkZDRmYzBhNDFiY2I1YmFjNmEzMmZlLmJpbmRQb3B1cChwb3B1cF83ZGYxMDNjOGUwZWY0M2Q0YmJjMzIzODY3OGYxZDVlZCkKICAgICAgICAgICAgOwoKICAgICAgICAgICAgCiAgICAgICAgCiAgICAKICAgICAgICAgICAgdmFyIGNpcmNsZV9tYXJrZXJfODdmOTVkODBlODg3NDI2YWJlZjU4MTEyNWJkMjdlOTMgPSBMLmNpcmNsZU1hcmtlcigKICAgICAgICAgICAgICAgIFs0My42Njc5NjcsIC03OS4zNjc2NzUzXSwKICAgICAgICAgICAgICAgIHsKICAiYnViYmxpbmdNb3VzZUV2ZW50cyI6IHRydWUsCiAgImNvbG9yIjogImJsdWUiLAogICJkYXNoQXJyYXkiOiBudWxsLAogICJkYXNoT2Zmc2V0IjogbnVsbCwKICAiZmlsbCI6IHRydWUsCiAgImZpbGxDb2xvciI6ICIjMzE4NmNjIiwKICAiZmlsbE9wYWNpdHkiOiAwLjcsCiAgImZpbGxSdWxlIjogImV2ZW5vZGQiLAogICJsaW5lQ2FwIjogInJvdW5kIiwKICAibGluZUpvaW4iOiAicm91bmQiLAogICJvcGFjaXR5IjogMS4wLAogICJyYWRpdXMiOiA0LAogICJzdHJva2UiOiB0cnVlLAogICJ3ZWlnaHQiOiAzCn0KICAgICAgICAgICAgICAgICkKICAgICAgICAgICAgICAgIC5hZGRUbyhtYXBfYjBmODEzM2E0NmExNDg3YWFkMGMxOTFlZTRmZjFlMzMpOwogICAgICAgICAgICAKICAgIAogICAgICAgICAgICB2YXIgcG9wdXBfYWM5MTg5MDI5ODRmNDNkYmFkZmRkNjI5ZjA4ZDIxZjUgPSBMLnBvcHVwKHttYXhXaWR0aDogJzEwMCUnCiAgICAgICAgICAgIAogICAgICAgICAgICB9KTsKCiAgICAgICAgICAgIAogICAgICAgICAgICAgICAgdmFyIGh0bWxfNWFiYTY0YjU3ZWFiNDZiZTg0MzU0ZWI1ZTMzN2U0NzcgPSAkKGA8ZGl2IGlkPSJodG1sXzVhYmE2NGI1N2VhYjQ2YmU4NDM1NGViNWUzMzdlNDc3IiBzdHlsZT0id2lkdGg6IDEwMC4wJTsgaGVpZ2h0OiAxMDAuMCU7Ij5TdC4gSmFtZXMgVG93biwgQ2FiYmFnZXRvd248L2Rpdj5gKVswXTsKICAgICAgICAgICAgICAgIHBvcHVwX2FjOTE4OTAyOTg0ZjQzZGJhZGZkZDYyOWYwOGQyMWY1LnNldENvbnRlbnQoaHRtbF81YWJhNjRiNTdlYWI0NmJlODQzNTRlYjVlMzM3ZTQ3Nyk7CiAgICAgICAgICAgIAoKICAgICAgICAgICAgY2lyY2xlX21hcmtlcl84N2Y5NWQ4MGU4ODc0MjZhYmVmNTgxMTI1YmQyN2U5My5iaW5kUG9wdXAocG9wdXBfYWM5MTg5MDI5ODRmNDNkYmFkZmRkNjI5ZjA4ZDIxZjUpCiAgICAgICAgICAgIDsKCiAgICAgICAgICAgIAogICAgICAgIAogICAgCiAgICAgICAgICAgIHZhciBjaXJjbGVfbWFya2VyXzVhZmE1NWI5ZmZlNjRiNTdhMmEzODRkN2NkYzY5ZWQ3ID0gTC5jaXJjbGVNYXJrZXIoCiAgICAgICAgICAgICAgICBbNDMuNjQ4NDI5MiwgLTc5LjM4MjI4MDJdLAogICAgICAgICAgICAgICAgewogICJidWJibGluZ01vdXNlRXZlbnRzIjogdHJ1ZSwKICAiY29sb3IiOiAiYmx1ZSIsCiAgImRhc2hBcnJheSI6IG51bGwsCiAgImRhc2hPZmZzZXQiOiBudWxsLAogICJmaWxsIjogdHJ1ZSwKICAiZmlsbENvbG9yIjogIiMzMTg2Y2MiLAogICJmaWxsT3BhY2l0eSI6IDAuNywKICAiZmlsbFJ1bGUiOiAiZXZlbm9kZCIsCiAgImxpbmVDYXAiOiAicm91bmQiLAogICJsaW5lSm9pbiI6ICJyb3VuZCIsCiAgIm9wYWNpdHkiOiAxLjAsCiAgInJhZGl1cyI6IDQsCiAgInN0cm9rZSI6IHRydWUsCiAgIndlaWdodCI6IDMKfQogICAgICAgICAgICAgICAgKQogICAgICAgICAgICAgICAgLmFkZFRvKG1hcF9iMGY4MTMzYTQ2YTE0ODdhYWQwYzE5MWVlNGZmMWUzMyk7CiAgICAgICAgICAgIAogICAgCiAgICAgICAgICAgIHZhciBwb3B1cF8xNDQ1MDc2MzYyZWM0MDFmYmUzY2RhYTMwOTY5MDY1OSA9IEwucG9wdXAoe21heFdpZHRoOiAnMTAwJScKICAgICAgICAgICAgCiAgICAgICAgICAgIH0pOwoKICAgICAgICAgICAgCiAgICAgICAgICAgICAgICB2YXIgaHRtbF8wYmJiN2NjOWNmZjI0N2QyODcwZWVlOTkxMzFjODU4YSA9ICQoYDxkaXYgaWQ9Imh0bWxfMGJiYjdjYzljZmYyNDdkMjg3MGVlZTk5MTMxYzg1OGEiIHN0eWxlPSJ3aWR0aDogMTAwLjAlOyBoZWlnaHQ6IDEwMC4wJTsiPkZpcnN0IENhbmFkaWFuIFBsYWNlLCBVbmRlcmdyb3VuZCBjaXR5PC9kaXY+YClbMF07CiAgICAgICAgICAgICAgICBwb3B1cF8xNDQ1MDc2MzYyZWM0MDFmYmUzY2RhYTMwOTY5MDY1OS5zZXRDb250ZW50KGh0bWxfMGJiYjdjYzljZmYyNDdkMjg3MGVlZTk5MTMxYzg1OGEpOwogICAgICAgICAgICAKCiAgICAgICAgICAgIGNpcmNsZV9tYXJrZXJfNWFmYTU1YjlmZmU2NGI1N2EyYTM4NGQ3Y2RjNjllZDcuYmluZFBvcHVwKHBvcHVwXzE0NDUwNzYzNjJlYzQwMWZiZTNjZGFhMzA5NjkwNjU5KQogICAgICAgICAgICA7CgogICAgICAgICAgICAKICAgICAgICAKICAgIAogICAgICAgICAgICB2YXIgY2lyY2xlX21hcmtlcl82MjE2ZjI0ODVhMjU0ZDFkOTM3MDRhNmM1MjMwZDNhNCA9IEwuY2lyY2xlTWFya2VyKAogICAgICAgICAgICAgICAgWzQzLjY1MzY1MzYwMDAwMDAwNSwgLTc5LjUwNjk0MzZdLAogICAgICAgICAgICAgICAgewogICJidWJibGluZ01vdXNlRXZlbnRzIjogdHJ1ZSwKICAiY29sb3IiOiAiYmx1ZSIsCiAgImRhc2hBcnJheSI6IG51bGwsCiAgImRhc2hPZmZzZXQiOiBudWxsLAogICJmaWxsIjogdHJ1ZSwKICAiZmlsbENvbG9yIjogIiMzMTg2Y2MiLAogICJmaWxsT3BhY2l0eSI6IDAuNywKICAiZmlsbFJ1bGUiOiAiZXZlbm9kZCIsCiAgImxpbmVDYXAiOiAicm91bmQiLAogICJsaW5lSm9pbiI6ICJyb3VuZCIsCiAgIm9wYWNpdHkiOiAxLjAsCiAgInJhZGl1cyI6IDQsCiAgInN0cm9rZSI6IHRydWUsCiAgIndlaWdodCI6IDMKfQogICAgICAgICAgICAgICAgKQogICAgICAgICAgICAgICAgLmFkZFRvKG1hcF9iMGY4MTMzYTQ2YTE0ODdhYWQwYzE5MWVlNGZmMWUzMyk7CiAgICAgICAgICAgIAogICAgCiAgICAgICAgICAgIHZhciBwb3B1cF83MTRjMWE1ZmNhM2Y0N2QyOTYzYmY2Y2FlNTFhNzA2MiA9IEwucG9wdXAoe21heFdpZHRoOiAnMTAwJScKICAgICAgICAgICAgCiAgICAgICAgICAgIH0pOwoKICAgICAgICAgICAgCiAgICAgICAgICAgICAgICB2YXIgaHRtbF83YWQ1YzdiMDc2Mzk0MGU1OTEyZjU5MzIxNjY3NzRjNiA9ICQoYDxkaXYgaWQ9Imh0bWxfN2FkNWM3YjA3NjM5NDBlNTkxMmY1OTMyMTY2Nzc0YzYiIHN0eWxlPSJ3aWR0aDogMTAwLjAlOyBoZWlnaHQ6IDEwMC4wJTsiPlRoZSBLaW5nc3dheSwgTW9udGdvbWVyeSBSb2FkLCBPbGQgTWlsbCBOb3J0aDwvZGl2PmApWzBdOwogICAgICAgICAgICAgICAgcG9wdXBfNzE0YzFhNWZjYTNmNDdkMjk2M2JmNmNhZTUxYTcwNjIuc2V0Q29udGVudChodG1sXzdhZDVjN2IwNzYzOTQwZTU5MTJmNTkzMjE2Njc3NGM2KTsKICAgICAgICAgICAgCgogICAgICAgICAgICBjaXJjbGVfbWFya2VyXzYyMTZmMjQ4NWEyNTRkMWQ5MzcwNGE2YzUyMzBkM2E0LmJpbmRQb3B1cChwb3B1cF83MTRjMWE1ZmNhM2Y0N2QyOTYzYmY2Y2FlNTFhNzA2MikKICAgICAgICAgICAgOwoKICAgICAgICAgICAgCiAgICAgICAgCiAgICAKICAgICAgICAgICAgdmFyIGNpcmNsZV9tYXJrZXJfNWU2ZDFiMzRjOGFlNDE4OTk2N2U2MjFiYzdhNDkwNTMgPSBMLmNpcmNsZU1hcmtlcigKICAgICAgICAgICAgICAgIFs0My42NjU4NTk5LCAtNzkuMzgzMTU5OTAwMDAwMDFdLAogICAgICAgICAgICAgICAgewogICJidWJibGluZ01vdXNlRXZlbnRzIjogdHJ1ZSwKICAiY29sb3IiOiAiYmx1ZSIsCiAgImRhc2hBcnJheSI6IG51bGwsCiAgImRhc2hPZmZzZXQiOiBudWxsLAogICJmaWxsIjogdHJ1ZSwKICAiZmlsbENvbG9yIjogIiMzMTg2Y2MiLAogICJmaWxsT3BhY2l0eSI6IDAuNywKICAiZmlsbFJ1bGUiOiAiZXZlbm9kZCIsCiAgImxpbmVDYXAiOiAicm91bmQiLAogICJsaW5lSm9pbiI6ICJyb3VuZCIsCiAgIm9wYWNpdHkiOiAxLjAsCiAgInJhZGl1cyI6IDQsCiAgInN0cm9rZSI6IHRydWUsCiAgIndlaWdodCI6IDMKfQogICAgICAgICAgICAgICAgKQogICAgICAgICAgICAgICAgLmFkZFRvKG1hcF9iMGY4MTMzYTQ2YTE0ODdhYWQwYzE5MWVlNGZmMWUzMyk7CiAgICAgICAgICAgIAogICAgCiAgICAgICAgICAgIHZhciBwb3B1cF9jMzhjMjY5OWFiNDA0YjNkYmEyOTI0YzEyM2UzM2RiNSA9IEwucG9wdXAoe21heFdpZHRoOiAnMTAwJScKICAgICAgICAgICAgCiAgICAgICAgICAgIH0pOwoKICAgICAgICAgICAgCiAgICAgICAgICAgICAgICB2YXIgaHRtbF8yYjZhZjQzMzAzMTk0MjFiOGI1MGE3ODY4MThmZWZjYiA9ICQoYDxkaXYgaWQ9Imh0bWxfMmI2YWY0MzMwMzE5NDIxYjhiNTBhNzg2ODE4ZmVmY2IiIHN0eWxlPSJ3aWR0aDogMTAwLjAlOyBoZWlnaHQ6IDEwMC4wJTsiPkNodXJjaCBhbmQgV2VsbGVzbGV5PC9kaXY+YClbMF07CiAgICAgICAgICAgICAgICBwb3B1cF9jMzhjMjY5OWFiNDA0YjNkYmEyOTI0YzEyM2UzM2RiNS5zZXRDb250ZW50KGh0bWxfMmI2YWY0MzMwMzE5NDIxYjhiNTBhNzg2ODE4ZmVmY2IpOwogICAgICAgICAgICAKCiAgICAgICAgICAgIGNpcmNsZV9tYXJrZXJfNWU2ZDFiMzRjOGFlNDE4OTk2N2U2MjFiYzdhNDkwNTMuYmluZFBvcHVwKHBvcHVwX2MzOGMyNjk5YWI0MDRiM2RiYTI5MjRjMTIzZTMzZGI1KQogICAgICAgICAgICA7CgogICAgICAgICAgICAKICAgICAgICAKICAgIAogICAgICAgICAgICB2YXIgY2lyY2xlX21hcmtlcl9iNTQ0ZDk4NDExNzY0ZDhlODJkMjFjOWVhMzE1YzI2ZiA9IEwuY2lyY2xlTWFya2VyKAogICAgICAgICAgICAgICAgWzQzLjY2Mjc0MzksIC03OS4zMjE1NThdLAogICAgICAgICAgICAgICAgewogICJidWJibGluZ01vdXNlRXZlbnRzIjogdHJ1ZSwKICAiY29sb3IiOiAiYmx1ZSIsCiAgImRhc2hBcnJheSI6IG51bGwsCiAgImRhc2hPZmZzZXQiOiBudWxsLAogICJmaWxsIjogdHJ1ZSwKICAiZmlsbENvbG9yIjogIiMzMTg2Y2MiLAogICJmaWxsT3BhY2l0eSI6IDAuNywKICAiZmlsbFJ1bGUiOiAiZXZlbm9kZCIsCiAgImxpbmVDYXAiOiAicm91bmQiLAogICJsaW5lSm9pbiI6ICJyb3VuZCIsCiAgIm9wYWNpdHkiOiAxLjAsCiAgInJhZGl1cyI6IDQsCiAgInN0cm9rZSI6IHRydWUsCiAgIndlaWdodCI6IDMKfQogICAgICAgICAgICAgICAgKQogICAgICAgICAgICAgICAgLmFkZFRvKG1hcF9iMGY4MTMzYTQ2YTE0ODdhYWQwYzE5MWVlNGZmMWUzMyk7CiAgICAgICAgICAgIAogICAgCiAgICAgICAgICAgIHZhciBwb3B1cF82Yjk4YTJhODIzMTI0NzdjYjZkNjEyZjA5NmJhYjZlMiA9IEwucG9wdXAoe21heFdpZHRoOiAnMTAwJScKICAgICAgICAgICAgCiAgICAgICAgICAgIH0pOwoKICAgICAgICAgICAgCiAgICAgICAgICAgICAgICB2YXIgaHRtbF9lMTFmZDAwZjkzNGQ0YTk3YWNiZTI4ZjBmMThmNmYzZCA9ICQoYDxkaXYgaWQ9Imh0bWxfZTExZmQwMGY5MzRkNGE5N2FjYmUyOGYwZjE4ZjZmM2QiIHN0eWxlPSJ3aWR0aDogMTAwLjAlOyBoZWlnaHQ6IDEwMC4wJTsiPkJ1c2luZXNzIHJlcGx5IG1haWwgUHJvY2Vzc2luZyBDZW50cmU8L2Rpdj5gKVswXTsKICAgICAgICAgICAgICAgIHBvcHVwXzZiOThhMmE4MjMxMjQ3N2NiNmQ2MTJmMDk2YmFiNmUyLnNldENvbnRlbnQoaHRtbF9lMTFmZDAwZjkzNGQ0YTk3YWNiZTI4ZjBmMThmNmYzZCk7CiAgICAgICAgICAgIAoKICAgICAgICAgICAgY2lyY2xlX21hcmtlcl9iNTQ0ZDk4NDExNzY0ZDhlODJkMjFjOWVhMzE1YzI2Zi5iaW5kUG9wdXAocG9wdXBfNmI5OGEyYTgyMzEyNDc3Y2I2ZDYxMmYwOTZiYWI2ZTIpCiAgICAgICAgICAgIDsKCiAgICAgICAgICAgIAogICAgICAgIAogICAgCiAgICAgICAgICAgIHZhciBjaXJjbGVfbWFya2VyXzg3NTI2ODc2OGRiZDRiODZhMGIyNWQ2NDAyN2NkZmQyID0gTC5jaXJjbGVNYXJrZXIoCiAgICAgICAgICAgICAgICBbNDMuNjM2MjU3OSwgLTc5LjQ5ODUwOTA5OTk5OTk5XSwKICAgICAgICAgICAgICAgIHsKICAiYnViYmxpbmdNb3VzZUV2ZW50cyI6IHRydWUsCiAgImNvbG9yIjogImJsdWUiLAogICJkYXNoQXJyYXkiOiBudWxsLAogICJkYXNoT2Zmc2V0IjogbnVsbCwKICAiZmlsbCI6IHRydWUsCiAgImZpbGxDb2xvciI6ICIjMzE4NmNjIiwKICAiZmlsbE9wYWNpdHkiOiAwLjcsCiAgImZpbGxSdWxlIjogImV2ZW5vZGQiLAogICJsaW5lQ2FwIjogInJvdW5kIiwKICAibGluZUpvaW4iOiAicm91bmQiLAogICJvcGFjaXR5IjogMS4wLAogICJyYWRpdXMiOiA0LAogICJzdHJva2UiOiB0cnVlLAogICJ3ZWlnaHQiOiAzCn0KICAgICAgICAgICAgICAgICkKICAgICAgICAgICAgICAgIC5hZGRUbyhtYXBfYjBmODEzM2E0NmExNDg3YWFkMGMxOTFlZTRmZjFlMzMpOwogICAgICAgICAgICAKICAgIAogICAgICAgICAgICB2YXIgcG9wdXBfN2IwYWYyNzg5YWQxNDcyZTkzYzc5NGQzNTI1MTRiMzUgPSBMLnBvcHVwKHttYXhXaWR0aDogJzEwMCUnCiAgICAgICAgICAgIAogICAgICAgICAgICB9KTsKCiAgICAgICAgICAgIAogICAgICAgICAgICAgICAgdmFyIGh0bWxfOTIzNmFlZGM3MzE1NGUxNDk3ZGQ3NzUzOTJlYTRkYzUgPSAkKGA8ZGl2IGlkPSJodG1sXzkyMzZhZWRjNzMxNTRlMTQ5N2RkNzc1MzkyZWE0ZGM1IiBzdHlsZT0id2lkdGg6IDEwMC4wJTsgaGVpZ2h0OiAxMDAuMCU7Ij5PbGQgTWlsbCBTb3V0aCwgS2luZyYjMzk7cyBNaWxsIFBhcmssIFN1bm55bGVhLCBIdW1iZXIgQmF5LCBNaW1pY28gTkUsIFRoZSBRdWVlbnN3YXkgRWFzdCwgUm95YWwgWW9yayBTb3V0aCBFYXN0LCBLaW5nc3dheSBQYXJrIFNvdXRoIEVhc3Q8L2Rpdj5gKVswXTsKICAgICAgICAgICAgICAgIHBvcHVwXzdiMGFmMjc4OWFkMTQ3MmU5M2M3OTRkMzUyNTE0YjM1LnNldENvbnRlbnQoaHRtbF85MjM2YWVkYzczMTU0ZTE0OTdkZDc3NTM5MmVhNGRjNSk7CiAgICAgICAgICAgIAoKICAgICAgICAgICAgY2lyY2xlX21hcmtlcl84NzUyNjg3NjhkYmQ0Yjg2YTBiMjVkNjQwMjdjZGZkMi5iaW5kUG9wdXAocG9wdXBfN2IwYWYyNzg5YWQxNDcyZTkzYzc5NGQzNTI1MTRiMzUpCiAgICAgICAgICAgIDsKCiAgICAgICAgICAgIAogICAgICAgIAogICAgCiAgICAgICAgICAgIHZhciBjaXJjbGVfbWFya2VyXzBlOWU4YjY0NjVhNTRkYWU5ZTdkMDMwYTI5MGI4MGVmID0gTC5jaXJjbGVNYXJrZXIoCiAgICAgICAgICAgICAgICBbNDMuNjI4ODQwOCwgLTc5LjUyMDk5OTQwMDAwMDAxXSwKICAgICAgICAgICAgICAgIHsKICAiYnViYmxpbmdNb3VzZUV2ZW50cyI6IHRydWUsCiAgImNvbG9yIjogImJsdWUiLAogICJkYXNoQXJyYXkiOiBudWxsLAogICJkYXNoT2Zmc2V0IjogbnVsbCwKICAiZmlsbCI6IHRydWUsCiAgImZpbGxDb2xvciI6ICIjMzE4NmNjIiwKICAiZmlsbE9wYWNpdHkiOiAwLjcsCiAgImZpbGxSdWxlIjogImV2ZW5vZGQiLAogICJsaW5lQ2FwIjogInJvdW5kIiwKICAibGluZUpvaW4iOiAicm91bmQiLAogICJvcGFjaXR5IjogMS4wLAogICJyYWRpdXMiOiA0LAogICJzdHJva2UiOiB0cnVlLAogICJ3ZWlnaHQiOiAzCn0KICAgICAgICAgICAgICAgICkKICAgICAgICAgICAgICAgIC5hZGRUbyhtYXBfYjBmODEzM2E0NmExNDg3YWFkMGMxOTFlZTRmZjFlMzMpOwogICAgICAgICAgICAKICAgIAogICAgICAgICAgICB2YXIgcG9wdXBfYWQ4NDNjYmY5ZTAxNGQ4NWExZjE4NWMxMTY2MWNjZWMgPSBMLnBvcHVwKHttYXhXaWR0aDogJzEwMCUnCiAgICAgICAgICAgIAogICAgICAgICAgICB9KTsKCiAgICAgICAgICAgIAogICAgICAgICAgICAgICAgdmFyIGh0bWxfOTBlNzM0MmZkNDI3NGQxOTgzYWM1MGZkY2VkMjM0Y2YgPSAkKGA8ZGl2IGlkPSJodG1sXzkwZTczNDJmZDQyNzRkMTk4M2FjNTBmZGNlZDIzNGNmIiBzdHlsZT0id2lkdGg6IDEwMC4wJTsgaGVpZ2h0OiAxMDAuMCU7Ij5NaW1pY28gTlcsIFRoZSBRdWVlbnN3YXkgV2VzdCwgU291dGggb2YgQmxvb3IsIEtpbmdzd2F5IFBhcmsgU291dGggV2VzdCwgUm95YWwgWW9yayBTb3V0aCBXZXN0PC9kaXY+YClbMF07CiAgICAgICAgICAgICAgICBwb3B1cF9hZDg0M2NiZjllMDE0ZDg1YTFmMTg1YzExNjYxY2NlYy5zZXRDb250ZW50KGh0bWxfOTBlNzM0MmZkNDI3NGQxOTgzYWM1MGZkY2VkMjM0Y2YpOwogICAgICAgICAgICAKCiAgICAgICAgICAgIGNpcmNsZV9tYXJrZXJfMGU5ZThiNjQ2NWE1NGRhZTllN2QwMzBhMjkwYjgwZWYuYmluZFBvcHVwKHBvcHVwX2FkODQzY2JmOWUwMTRkODVhMWYxODVjMTE2NjFjY2VjKQogICAgICAgICAgICA7CgogICAgICAgICAgICAKICAgICAgICAKPC9zY3JpcHQ+ onload=\"this.contentDocument.open();this.contentDocument.write(atob(this.getAttribute('data-html')));this.contentDocument.close();\" allowfullscreen webkitallowfullscreen mozallowfullscreen></iframe></div></div>"
            ],
            "text/plain": [
              "<folium.folium.Map at 0x7f9c4dac4668>"
            ]
          },
          "metadata": {
            "tags": []
          },
          "execution_count": 10
        }
      ]
    },
    {
      "cell_type": "code",
      "metadata": {
        "id": "zQmTzVyYyA5z",
        "colab_type": "code",
        "colab": {}
      },
      "source": [
        ""
      ],
      "execution_count": 0,
      "outputs": []
    },
    {
      "cell_type": "code",
      "metadata": {
        "id": "lG3IPwCMwo_b",
        "colab_type": "code",
        "colab": {}
      },
      "source": [
        "#API credentials\n",
        "CLIENT_ID = 'NTXIJ3HWNEVHIVHIWFVKN1ODFIGJUOYC3ZNQRKFFQM5NJKLU' # Foursquare ID\n",
        "CLIENT_SECRET = 'JNBOIMLHNUYZMYEHABL1UNGWORK0QZNLPR2AG3B24UGG1EB5' # Foursquare Secret\n",
        "VERSION = '20180605'\n",
        "RADIUS = 500\n",
        "LIMIT= 70"
      ],
      "execution_count": 0,
      "outputs": []
    },
    {
      "cell_type": "code",
      "metadata": {
        "id": "Y0qWppy_XNBs",
        "colab_type": "code",
        "colab": {}
      },
      "source": [
        "#Function to query the foursquare api and return venues within 500m radius of each postal code and their category\n",
        "def getNearbyVenues(names, latitudes, longitudes, radius=500) :\n",
        "\n",
        "  venues_list = []\n",
        "  for name,lat,lng in zip(names,latitudes,longitudes) :\n",
        "    #print(name)\n",
        "    url= 'https://api.foursquare.com/v2/venues/explore?client_id={}&client_secret={}&v={}&ll={},{}&radius={}&limit={}'.format(CLIENT_ID,\n",
        "                                                                                                                              CLIENT_SECRET,\n",
        "                                                                                                                              VERSION,\n",
        "                                                                                                                              lat,\n",
        "                                                                                                                              lng,\n",
        "                                                                                                                              radius,\n",
        "                                                                                                                              LIMIT)\n",
        "    \n",
        "    results= requests.get(url).json()[\"response\"]['groups'][0]['items']\n",
        "    venues_list.append([(name,\n",
        "                         lat,\n",
        "                         lng,\n",
        "                         v['venue']['name'],\n",
        "                         v['venue']['location']['lat'],\n",
        "                         v['venue']['location']['lng'],\n",
        "                         v['venue']['categories'][0]['name']) for v in results])\n",
        "    nearby_venues= pd.DataFrame([Item for venue_list in venues_list for Item in venue_list])\n",
        "    nearby_venues.columns = ['Neighborhood', \n",
        "                  'Neighborhood Latitude', \n",
        "                  'Neighborhood Longitude', \n",
        "                  'Venue', \n",
        "                  'Venue Latitude', \n",
        "                  'Venue Longitude', \n",
        "                  'Venue Category']\n",
        "\n",
        "                  \n",
        "  return(nearby_venues)"
      ],
      "execution_count": 0,
      "outputs": []
    },
    {
      "cell_type": "code",
      "metadata": {
        "id": "z9hzLEfTZUtP",
        "colab_type": "code",
        "outputId": "8fb1612e-07cb-4094-db4d-230d8c89d775",
        "colab": {
          "base_uri": "https://localhost:8080/",
          "height": 34
        }
      },
      "source": [
        "toronto_venues= getNearbyVenues(df['Neighborhood'],\n",
        "                                df['Latitude'],\n",
        "                                df['Longitude'])\n",
        "toronto_venues.shape"
      ],
      "execution_count": 13,
      "outputs": [
        {
          "output_type": "execute_result",
          "data": {
            "text/plain": [
              "(1908, 7)"
            ]
          },
          "metadata": {
            "tags": []
          },
          "execution_count": 13
        }
      ]
    },
    {
      "cell_type": "code",
      "metadata": {
        "id": "_RdjEBs2Zju9",
        "colab_type": "code",
        "outputId": "208dc6dd-58c0-4d46-a2cb-206c865020ef",
        "colab": {
          "base_uri": "https://localhost:8080/",
          "height": 204
        }
      },
      "source": [
        "toronto_venues.head()"
      ],
      "execution_count": 14,
      "outputs": [
        {
          "output_type": "execute_result",
          "data": {
            "text/html": [
              "<div>\n",
              "<style scoped>\n",
              "    .dataframe tbody tr th:only-of-type {\n",
              "        vertical-align: middle;\n",
              "    }\n",
              "\n",
              "    .dataframe tbody tr th {\n",
              "        vertical-align: top;\n",
              "    }\n",
              "\n",
              "    .dataframe thead th {\n",
              "        text-align: right;\n",
              "    }\n",
              "</style>\n",
              "<table border=\"1\" class=\"dataframe\">\n",
              "  <thead>\n",
              "    <tr style=\"text-align: right;\">\n",
              "      <th></th>\n",
              "      <th>Neighborhood</th>\n",
              "      <th>Neighborhood Latitude</th>\n",
              "      <th>Neighborhood Longitude</th>\n",
              "      <th>Venue</th>\n",
              "      <th>Venue Latitude</th>\n",
              "      <th>Venue Longitude</th>\n",
              "      <th>Venue Category</th>\n",
              "    </tr>\n",
              "  </thead>\n",
              "  <tbody>\n",
              "    <tr>\n",
              "      <th>0</th>\n",
              "      <td>Parkwoods</td>\n",
              "      <td>43.753259</td>\n",
              "      <td>-79.329656</td>\n",
              "      <td>Brookbanks Park</td>\n",
              "      <td>43.751976</td>\n",
              "      <td>-79.332140</td>\n",
              "      <td>Park</td>\n",
              "    </tr>\n",
              "    <tr>\n",
              "      <th>1</th>\n",
              "      <td>Parkwoods</td>\n",
              "      <td>43.753259</td>\n",
              "      <td>-79.329656</td>\n",
              "      <td>Variety Store</td>\n",
              "      <td>43.751974</td>\n",
              "      <td>-79.333114</td>\n",
              "      <td>Food &amp; Drink Shop</td>\n",
              "    </tr>\n",
              "    <tr>\n",
              "      <th>2</th>\n",
              "      <td>Victoria Village</td>\n",
              "      <td>43.725882</td>\n",
              "      <td>-79.315572</td>\n",
              "      <td>Victoria Village Arena</td>\n",
              "      <td>43.723481</td>\n",
              "      <td>-79.315635</td>\n",
              "      <td>Hockey Arena</td>\n",
              "    </tr>\n",
              "    <tr>\n",
              "      <th>3</th>\n",
              "      <td>Victoria Village</td>\n",
              "      <td>43.725882</td>\n",
              "      <td>-79.315572</td>\n",
              "      <td>Tim Hortons</td>\n",
              "      <td>43.725517</td>\n",
              "      <td>-79.313103</td>\n",
              "      <td>Coffee Shop</td>\n",
              "    </tr>\n",
              "    <tr>\n",
              "      <th>4</th>\n",
              "      <td>Victoria Village</td>\n",
              "      <td>43.725882</td>\n",
              "      <td>-79.315572</td>\n",
              "      <td>Portugril</td>\n",
              "      <td>43.725819</td>\n",
              "      <td>-79.312785</td>\n",
              "      <td>Portuguese Restaurant</td>\n",
              "    </tr>\n",
              "  </tbody>\n",
              "</table>\n",
              "</div>"
            ],
            "text/plain": [
              "       Neighborhood  ...         Venue Category\n",
              "0         Parkwoods  ...                   Park\n",
              "1         Parkwoods  ...      Food & Drink Shop\n",
              "2  Victoria Village  ...           Hockey Arena\n",
              "3  Victoria Village  ...            Coffee Shop\n",
              "4  Victoria Village  ...  Portuguese Restaurant\n",
              "\n",
              "[5 rows x 7 columns]"
            ]
          },
          "metadata": {
            "tags": []
          },
          "execution_count": 14
        }
      ]
    },
    {
      "cell_type": "code",
      "metadata": {
        "id": "-oIzHVNPSRxc",
        "colab_type": "code",
        "colab": {}
      },
      "source": [
        "\n",
        "tor= toronto_venues[['Neighborhood','Venue Category']]\n"
      ],
      "execution_count": 0,
      "outputs": []
    },
    {
      "cell_type": "code",
      "metadata": {
        "id": "prfzPOTVYDcs",
        "colab_type": "code",
        "colab": {
          "base_uri": "https://localhost:8080/",
          "height": 289
        },
        "outputId": "3b3f5126-73da-46b6-ed83-821c3454097a"
      },
      "source": [
        "for i in tor['Venue Category'] :\n",
        "  if 'Restaurant' in i :\n",
        "    tor['Venue Category'].replace({i:'Restaurant'},inplace=True) \n",
        "tor.head()   "
      ],
      "execution_count": 17,
      "outputs": [
        {
          "output_type": "stream",
          "text": [
            "/usr/local/lib/python3.6/dist-packages/pandas/core/generic.py:6746: SettingWithCopyWarning: \n",
            "A value is trying to be set on a copy of a slice from a DataFrame\n",
            "\n",
            "See the caveats in the documentation: https://pandas.pydata.org/pandas-docs/stable/user_guide/indexing.html#returning-a-view-versus-a-copy\n",
            "  self._update_inplace(new_data)\n"
          ],
          "name": "stderr"
        },
        {
          "output_type": "execute_result",
          "data": {
            "text/html": [
              "<div>\n",
              "<style scoped>\n",
              "    .dataframe tbody tr th:only-of-type {\n",
              "        vertical-align: middle;\n",
              "    }\n",
              "\n",
              "    .dataframe tbody tr th {\n",
              "        vertical-align: top;\n",
              "    }\n",
              "\n",
              "    .dataframe thead th {\n",
              "        text-align: right;\n",
              "    }\n",
              "</style>\n",
              "<table border=\"1\" class=\"dataframe\">\n",
              "  <thead>\n",
              "    <tr style=\"text-align: right;\">\n",
              "      <th></th>\n",
              "      <th>Neighborhood</th>\n",
              "      <th>Venue Category</th>\n",
              "    </tr>\n",
              "  </thead>\n",
              "  <tbody>\n",
              "    <tr>\n",
              "      <th>0</th>\n",
              "      <td>Parkwoods</td>\n",
              "      <td>Park</td>\n",
              "    </tr>\n",
              "    <tr>\n",
              "      <th>1</th>\n",
              "      <td>Parkwoods</td>\n",
              "      <td>Food &amp; Drink Shop</td>\n",
              "    </tr>\n",
              "    <tr>\n",
              "      <th>2</th>\n",
              "      <td>Victoria Village</td>\n",
              "      <td>Hockey Arena</td>\n",
              "    </tr>\n",
              "    <tr>\n",
              "      <th>3</th>\n",
              "      <td>Victoria Village</td>\n",
              "      <td>Coffee Shop</td>\n",
              "    </tr>\n",
              "    <tr>\n",
              "      <th>4</th>\n",
              "      <td>Victoria Village</td>\n",
              "      <td>Restaurant</td>\n",
              "    </tr>\n",
              "  </tbody>\n",
              "</table>\n",
              "</div>"
            ],
            "text/plain": [
              "       Neighborhood     Venue Category\n",
              "0         Parkwoods               Park\n",
              "1         Parkwoods  Food & Drink Shop\n",
              "2  Victoria Village       Hockey Arena\n",
              "3  Victoria Village        Coffee Shop\n",
              "4  Victoria Village         Restaurant"
            ]
          },
          "metadata": {
            "tags": []
          },
          "execution_count": 17
        }
      ]
    },
    {
      "cell_type": "code",
      "metadata": {
        "id": "oCFxVpkEYpSb",
        "colab_type": "code",
        "colab": {
          "base_uri": "https://localhost:8080/",
          "height": 221
        },
        "outputId": "f96b256d-ea4b-4af9-bfef-0c2bb0285cdd"
      },
      "source": [
        "tor['Venue Category'].value_counts()"
      ],
      "execution_count": 18,
      "outputs": [
        {
          "output_type": "execute_result",
          "data": {
            "text/plain": [
              "Restaurant               431\n",
              "Coffee Shop              146\n",
              "Café                      97\n",
              "Park                      50\n",
              "Pizza Place               45\n",
              "                        ... \n",
              "Golf Course                1\n",
              "Market                     1\n",
              "College Arts Building      1\n",
              "Skate Park                 1\n",
              "Church                     1\n",
              "Name: Venue Category, Length: 219, dtype: int64"
            ]
          },
          "metadata": {
            "tags": []
          },
          "execution_count": 18
        }
      ]
    },
    {
      "cell_type": "code",
      "metadata": {
        "id": "omS7NJp8x4ks",
        "colab_type": "code",
        "colab": {}
      },
      "source": [
        "torr_hot = pd.get_dummies(tor[['Venue Category']], prefix=\"\", prefix_sep=\"\")\n",
        "#torr_hot['Neighborhood'] = toronto_venues['Neighborhood']"
      ],
      "execution_count": 0,
      "outputs": []
    },
    {
      "cell_type": "code",
      "metadata": {
        "id": "Su6wRTn6FX8u",
        "colab_type": "code",
        "colab": {}
      },
      "source": [
        "#torr_hot= toronto_venues.loc[toronto_venues['Venue Category'].str.contains('Restaurant')]"
      ],
      "execution_count": 0,
      "outputs": []
    },
    {
      "cell_type": "code",
      "metadata": {
        "id": "v5Jf7N3kdsoF",
        "colab_type": "code",
        "colab": {
          "base_uri": "https://localhost:8080/",
          "height": 287
        },
        "outputId": "c1bbb046-1b56-4a02-d9fe-661cbb34ff3a"
      },
      "source": [
        "tor_hot = pd.get_dummies(toronto_venues[['Venue Category']], prefix=\"\", prefix_sep=\"\")\n",
        "tor_hot['Neighborhood'] = toronto_venues['Neighborhood']\n",
        "tor_hot.head()\n"
      ],
      "execution_count": 25,
      "outputs": [
        {
          "output_type": "execute_result",
          "data": {
            "text/html": [
              "<div>\n",
              "<style scoped>\n",
              "    .dataframe tbody tr th:only-of-type {\n",
              "        vertical-align: middle;\n",
              "    }\n",
              "\n",
              "    .dataframe tbody tr th {\n",
              "        vertical-align: top;\n",
              "    }\n",
              "\n",
              "    .dataframe thead th {\n",
              "        text-align: right;\n",
              "    }\n",
              "</style>\n",
              "<table border=\"1\" class=\"dataframe\">\n",
              "  <thead>\n",
              "    <tr style=\"text-align: right;\">\n",
              "      <th></th>\n",
              "      <th>Accessories Store</th>\n",
              "      <th>Afghan Restaurant</th>\n",
              "      <th>Airport</th>\n",
              "      <th>Airport Food Court</th>\n",
              "      <th>Airport Gate</th>\n",
              "      <th>Airport Lounge</th>\n",
              "      <th>Airport Service</th>\n",
              "      <th>Airport Terminal</th>\n",
              "      <th>American Restaurant</th>\n",
              "      <th>Antique Shop</th>\n",
              "      <th>Aquarium</th>\n",
              "      <th>Art Gallery</th>\n",
              "      <th>Art Museum</th>\n",
              "      <th>Arts &amp; Crafts Store</th>\n",
              "      <th>Asian Restaurant</th>\n",
              "      <th>Athletics &amp; Sports</th>\n",
              "      <th>Auto Garage</th>\n",
              "      <th>Auto Workshop</th>\n",
              "      <th>BBQ Joint</th>\n",
              "      <th>Baby Store</th>\n",
              "      <th>Bagel Shop</th>\n",
              "      <th>Bakery</th>\n",
              "      <th>Bank</th>\n",
              "      <th>Bar</th>\n",
              "      <th>Baseball Field</th>\n",
              "      <th>Baseball Stadium</th>\n",
              "      <th>Basketball Stadium</th>\n",
              "      <th>Beach</th>\n",
              "      <th>Bed &amp; Breakfast</th>\n",
              "      <th>Beer Bar</th>\n",
              "      <th>Beer Store</th>\n",
              "      <th>Belgian Restaurant</th>\n",
              "      <th>Bike Shop</th>\n",
              "      <th>Bistro</th>\n",
              "      <th>Board Shop</th>\n",
              "      <th>Boat or Ferry</th>\n",
              "      <th>Bookstore</th>\n",
              "      <th>Boutique</th>\n",
              "      <th>Brazilian Restaurant</th>\n",
              "      <th>Breakfast Spot</th>\n",
              "      <th>...</th>\n",
              "      <th>Skating Rink</th>\n",
              "      <th>Smoke Shop</th>\n",
              "      <th>Smoothie Shop</th>\n",
              "      <th>Snack Place</th>\n",
              "      <th>Soccer Field</th>\n",
              "      <th>Social Club</th>\n",
              "      <th>Spa</th>\n",
              "      <th>Speakeasy</th>\n",
              "      <th>Sporting Goods Shop</th>\n",
              "      <th>Sports Bar</th>\n",
              "      <th>Stadium</th>\n",
              "      <th>Stationery Store</th>\n",
              "      <th>Steakhouse</th>\n",
              "      <th>Strip Club</th>\n",
              "      <th>Supermarket</th>\n",
              "      <th>Supplement Shop</th>\n",
              "      <th>Sushi Restaurant</th>\n",
              "      <th>Swim School</th>\n",
              "      <th>Tailor Shop</th>\n",
              "      <th>Taiwanese Restaurant</th>\n",
              "      <th>Tanning Salon</th>\n",
              "      <th>Tea Room</th>\n",
              "      <th>Tennis Court</th>\n",
              "      <th>Thai Restaurant</th>\n",
              "      <th>Theater</th>\n",
              "      <th>Theme Restaurant</th>\n",
              "      <th>Toy / Game Store</th>\n",
              "      <th>Trail</th>\n",
              "      <th>Train Station</th>\n",
              "      <th>Turkish Restaurant</th>\n",
              "      <th>Vegetarian / Vegan Restaurant</th>\n",
              "      <th>Video Game Store</th>\n",
              "      <th>Video Store</th>\n",
              "      <th>Vietnamese Restaurant</th>\n",
              "      <th>Warehouse Store</th>\n",
              "      <th>Wine Bar</th>\n",
              "      <th>Wine Shop</th>\n",
              "      <th>Wings Joint</th>\n",
              "      <th>Women's Store</th>\n",
              "      <th>Yoga Studio</th>\n",
              "    </tr>\n",
              "  </thead>\n",
              "  <tbody>\n",
              "    <tr>\n",
              "      <th>0</th>\n",
              "      <td>0</td>\n",
              "      <td>0</td>\n",
              "      <td>0</td>\n",
              "      <td>0</td>\n",
              "      <td>0</td>\n",
              "      <td>0</td>\n",
              "      <td>0</td>\n",
              "      <td>0</td>\n",
              "      <td>0</td>\n",
              "      <td>0</td>\n",
              "      <td>0</td>\n",
              "      <td>0</td>\n",
              "      <td>0</td>\n",
              "      <td>0</td>\n",
              "      <td>0</td>\n",
              "      <td>0</td>\n",
              "      <td>0</td>\n",
              "      <td>0</td>\n",
              "      <td>0</td>\n",
              "      <td>0</td>\n",
              "      <td>0</td>\n",
              "      <td>0</td>\n",
              "      <td>0</td>\n",
              "      <td>0</td>\n",
              "      <td>0</td>\n",
              "      <td>0</td>\n",
              "      <td>0</td>\n",
              "      <td>0</td>\n",
              "      <td>0</td>\n",
              "      <td>0</td>\n",
              "      <td>0</td>\n",
              "      <td>0</td>\n",
              "      <td>0</td>\n",
              "      <td>0</td>\n",
              "      <td>0</td>\n",
              "      <td>0</td>\n",
              "      <td>0</td>\n",
              "      <td>0</td>\n",
              "      <td>0</td>\n",
              "      <td>0</td>\n",
              "      <td>...</td>\n",
              "      <td>0</td>\n",
              "      <td>0</td>\n",
              "      <td>0</td>\n",
              "      <td>0</td>\n",
              "      <td>0</td>\n",
              "      <td>0</td>\n",
              "      <td>0</td>\n",
              "      <td>0</td>\n",
              "      <td>0</td>\n",
              "      <td>0</td>\n",
              "      <td>0</td>\n",
              "      <td>0</td>\n",
              "      <td>0</td>\n",
              "      <td>0</td>\n",
              "      <td>0</td>\n",
              "      <td>0</td>\n",
              "      <td>0</td>\n",
              "      <td>0</td>\n",
              "      <td>0</td>\n",
              "      <td>0</td>\n",
              "      <td>0</td>\n",
              "      <td>0</td>\n",
              "      <td>0</td>\n",
              "      <td>0</td>\n",
              "      <td>0</td>\n",
              "      <td>0</td>\n",
              "      <td>0</td>\n",
              "      <td>0</td>\n",
              "      <td>0</td>\n",
              "      <td>0</td>\n",
              "      <td>0</td>\n",
              "      <td>0</td>\n",
              "      <td>0</td>\n",
              "      <td>0</td>\n",
              "      <td>0</td>\n",
              "      <td>0</td>\n",
              "      <td>0</td>\n",
              "      <td>0</td>\n",
              "      <td>0</td>\n",
              "      <td>0</td>\n",
              "    </tr>\n",
              "    <tr>\n",
              "      <th>1</th>\n",
              "      <td>0</td>\n",
              "      <td>0</td>\n",
              "      <td>0</td>\n",
              "      <td>0</td>\n",
              "      <td>0</td>\n",
              "      <td>0</td>\n",
              "      <td>0</td>\n",
              "      <td>0</td>\n",
              "      <td>0</td>\n",
              "      <td>0</td>\n",
              "      <td>0</td>\n",
              "      <td>0</td>\n",
              "      <td>0</td>\n",
              "      <td>0</td>\n",
              "      <td>0</td>\n",
              "      <td>0</td>\n",
              "      <td>0</td>\n",
              "      <td>0</td>\n",
              "      <td>0</td>\n",
              "      <td>0</td>\n",
              "      <td>0</td>\n",
              "      <td>0</td>\n",
              "      <td>0</td>\n",
              "      <td>0</td>\n",
              "      <td>0</td>\n",
              "      <td>0</td>\n",
              "      <td>0</td>\n",
              "      <td>0</td>\n",
              "      <td>0</td>\n",
              "      <td>0</td>\n",
              "      <td>0</td>\n",
              "      <td>0</td>\n",
              "      <td>0</td>\n",
              "      <td>0</td>\n",
              "      <td>0</td>\n",
              "      <td>0</td>\n",
              "      <td>0</td>\n",
              "      <td>0</td>\n",
              "      <td>0</td>\n",
              "      <td>0</td>\n",
              "      <td>...</td>\n",
              "      <td>0</td>\n",
              "      <td>0</td>\n",
              "      <td>0</td>\n",
              "      <td>0</td>\n",
              "      <td>0</td>\n",
              "      <td>0</td>\n",
              "      <td>0</td>\n",
              "      <td>0</td>\n",
              "      <td>0</td>\n",
              "      <td>0</td>\n",
              "      <td>0</td>\n",
              "      <td>0</td>\n",
              "      <td>0</td>\n",
              "      <td>0</td>\n",
              "      <td>0</td>\n",
              "      <td>0</td>\n",
              "      <td>0</td>\n",
              "      <td>0</td>\n",
              "      <td>0</td>\n",
              "      <td>0</td>\n",
              "      <td>0</td>\n",
              "      <td>0</td>\n",
              "      <td>0</td>\n",
              "      <td>0</td>\n",
              "      <td>0</td>\n",
              "      <td>0</td>\n",
              "      <td>0</td>\n",
              "      <td>0</td>\n",
              "      <td>0</td>\n",
              "      <td>0</td>\n",
              "      <td>0</td>\n",
              "      <td>0</td>\n",
              "      <td>0</td>\n",
              "      <td>0</td>\n",
              "      <td>0</td>\n",
              "      <td>0</td>\n",
              "      <td>0</td>\n",
              "      <td>0</td>\n",
              "      <td>0</td>\n",
              "      <td>0</td>\n",
              "    </tr>\n",
              "    <tr>\n",
              "      <th>2</th>\n",
              "      <td>0</td>\n",
              "      <td>0</td>\n",
              "      <td>0</td>\n",
              "      <td>0</td>\n",
              "      <td>0</td>\n",
              "      <td>0</td>\n",
              "      <td>0</td>\n",
              "      <td>0</td>\n",
              "      <td>0</td>\n",
              "      <td>0</td>\n",
              "      <td>0</td>\n",
              "      <td>0</td>\n",
              "      <td>0</td>\n",
              "      <td>0</td>\n",
              "      <td>0</td>\n",
              "      <td>0</td>\n",
              "      <td>0</td>\n",
              "      <td>0</td>\n",
              "      <td>0</td>\n",
              "      <td>0</td>\n",
              "      <td>0</td>\n",
              "      <td>0</td>\n",
              "      <td>0</td>\n",
              "      <td>0</td>\n",
              "      <td>0</td>\n",
              "      <td>0</td>\n",
              "      <td>0</td>\n",
              "      <td>0</td>\n",
              "      <td>0</td>\n",
              "      <td>0</td>\n",
              "      <td>0</td>\n",
              "      <td>0</td>\n",
              "      <td>0</td>\n",
              "      <td>0</td>\n",
              "      <td>0</td>\n",
              "      <td>0</td>\n",
              "      <td>0</td>\n",
              "      <td>0</td>\n",
              "      <td>0</td>\n",
              "      <td>0</td>\n",
              "      <td>...</td>\n",
              "      <td>0</td>\n",
              "      <td>0</td>\n",
              "      <td>0</td>\n",
              "      <td>0</td>\n",
              "      <td>0</td>\n",
              "      <td>0</td>\n",
              "      <td>0</td>\n",
              "      <td>0</td>\n",
              "      <td>0</td>\n",
              "      <td>0</td>\n",
              "      <td>0</td>\n",
              "      <td>0</td>\n",
              "      <td>0</td>\n",
              "      <td>0</td>\n",
              "      <td>0</td>\n",
              "      <td>0</td>\n",
              "      <td>0</td>\n",
              "      <td>0</td>\n",
              "      <td>0</td>\n",
              "      <td>0</td>\n",
              "      <td>0</td>\n",
              "      <td>0</td>\n",
              "      <td>0</td>\n",
              "      <td>0</td>\n",
              "      <td>0</td>\n",
              "      <td>0</td>\n",
              "      <td>0</td>\n",
              "      <td>0</td>\n",
              "      <td>0</td>\n",
              "      <td>0</td>\n",
              "      <td>0</td>\n",
              "      <td>0</td>\n",
              "      <td>0</td>\n",
              "      <td>0</td>\n",
              "      <td>0</td>\n",
              "      <td>0</td>\n",
              "      <td>0</td>\n",
              "      <td>0</td>\n",
              "      <td>0</td>\n",
              "      <td>0</td>\n",
              "    </tr>\n",
              "    <tr>\n",
              "      <th>3</th>\n",
              "      <td>0</td>\n",
              "      <td>0</td>\n",
              "      <td>0</td>\n",
              "      <td>0</td>\n",
              "      <td>0</td>\n",
              "      <td>0</td>\n",
              "      <td>0</td>\n",
              "      <td>0</td>\n",
              "      <td>0</td>\n",
              "      <td>0</td>\n",
              "      <td>0</td>\n",
              "      <td>0</td>\n",
              "      <td>0</td>\n",
              "      <td>0</td>\n",
              "      <td>0</td>\n",
              "      <td>0</td>\n",
              "      <td>0</td>\n",
              "      <td>0</td>\n",
              "      <td>0</td>\n",
              "      <td>0</td>\n",
              "      <td>0</td>\n",
              "      <td>0</td>\n",
              "      <td>0</td>\n",
              "      <td>0</td>\n",
              "      <td>0</td>\n",
              "      <td>0</td>\n",
              "      <td>0</td>\n",
              "      <td>0</td>\n",
              "      <td>0</td>\n",
              "      <td>0</td>\n",
              "      <td>0</td>\n",
              "      <td>0</td>\n",
              "      <td>0</td>\n",
              "      <td>0</td>\n",
              "      <td>0</td>\n",
              "      <td>0</td>\n",
              "      <td>0</td>\n",
              "      <td>0</td>\n",
              "      <td>0</td>\n",
              "      <td>0</td>\n",
              "      <td>...</td>\n",
              "      <td>0</td>\n",
              "      <td>0</td>\n",
              "      <td>0</td>\n",
              "      <td>0</td>\n",
              "      <td>0</td>\n",
              "      <td>0</td>\n",
              "      <td>0</td>\n",
              "      <td>0</td>\n",
              "      <td>0</td>\n",
              "      <td>0</td>\n",
              "      <td>0</td>\n",
              "      <td>0</td>\n",
              "      <td>0</td>\n",
              "      <td>0</td>\n",
              "      <td>0</td>\n",
              "      <td>0</td>\n",
              "      <td>0</td>\n",
              "      <td>0</td>\n",
              "      <td>0</td>\n",
              "      <td>0</td>\n",
              "      <td>0</td>\n",
              "      <td>0</td>\n",
              "      <td>0</td>\n",
              "      <td>0</td>\n",
              "      <td>0</td>\n",
              "      <td>0</td>\n",
              "      <td>0</td>\n",
              "      <td>0</td>\n",
              "      <td>0</td>\n",
              "      <td>0</td>\n",
              "      <td>0</td>\n",
              "      <td>0</td>\n",
              "      <td>0</td>\n",
              "      <td>0</td>\n",
              "      <td>0</td>\n",
              "      <td>0</td>\n",
              "      <td>0</td>\n",
              "      <td>0</td>\n",
              "      <td>0</td>\n",
              "      <td>0</td>\n",
              "    </tr>\n",
              "    <tr>\n",
              "      <th>4</th>\n",
              "      <td>0</td>\n",
              "      <td>0</td>\n",
              "      <td>0</td>\n",
              "      <td>0</td>\n",
              "      <td>0</td>\n",
              "      <td>0</td>\n",
              "      <td>0</td>\n",
              "      <td>0</td>\n",
              "      <td>0</td>\n",
              "      <td>0</td>\n",
              "      <td>0</td>\n",
              "      <td>0</td>\n",
              "      <td>0</td>\n",
              "      <td>0</td>\n",
              "      <td>0</td>\n",
              "      <td>0</td>\n",
              "      <td>0</td>\n",
              "      <td>0</td>\n",
              "      <td>0</td>\n",
              "      <td>0</td>\n",
              "      <td>0</td>\n",
              "      <td>0</td>\n",
              "      <td>0</td>\n",
              "      <td>0</td>\n",
              "      <td>0</td>\n",
              "      <td>0</td>\n",
              "      <td>0</td>\n",
              "      <td>0</td>\n",
              "      <td>0</td>\n",
              "      <td>0</td>\n",
              "      <td>0</td>\n",
              "      <td>0</td>\n",
              "      <td>0</td>\n",
              "      <td>0</td>\n",
              "      <td>0</td>\n",
              "      <td>0</td>\n",
              "      <td>0</td>\n",
              "      <td>0</td>\n",
              "      <td>0</td>\n",
              "      <td>0</td>\n",
              "      <td>...</td>\n",
              "      <td>0</td>\n",
              "      <td>0</td>\n",
              "      <td>0</td>\n",
              "      <td>0</td>\n",
              "      <td>0</td>\n",
              "      <td>0</td>\n",
              "      <td>0</td>\n",
              "      <td>0</td>\n",
              "      <td>0</td>\n",
              "      <td>0</td>\n",
              "      <td>0</td>\n",
              "      <td>0</td>\n",
              "      <td>0</td>\n",
              "      <td>0</td>\n",
              "      <td>0</td>\n",
              "      <td>0</td>\n",
              "      <td>0</td>\n",
              "      <td>0</td>\n",
              "      <td>0</td>\n",
              "      <td>0</td>\n",
              "      <td>0</td>\n",
              "      <td>0</td>\n",
              "      <td>0</td>\n",
              "      <td>0</td>\n",
              "      <td>0</td>\n",
              "      <td>0</td>\n",
              "      <td>0</td>\n",
              "      <td>0</td>\n",
              "      <td>0</td>\n",
              "      <td>0</td>\n",
              "      <td>0</td>\n",
              "      <td>0</td>\n",
              "      <td>0</td>\n",
              "      <td>0</td>\n",
              "      <td>0</td>\n",
              "      <td>0</td>\n",
              "      <td>0</td>\n",
              "      <td>0</td>\n",
              "      <td>0</td>\n",
              "      <td>0</td>\n",
              "    </tr>\n",
              "  </tbody>\n",
              "</table>\n",
              "<p>5 rows × 265 columns</p>\n",
              "</div>"
            ],
            "text/plain": [
              "   Accessories Store  Afghan Restaurant  ...  Women's Store  Yoga Studio\n",
              "0                  0                  0  ...              0            0\n",
              "1                  0                  0  ...              0            0\n",
              "2                  0                  0  ...              0            0\n",
              "3                  0                  0  ...              0            0\n",
              "4                  0                  0  ...              0            0\n",
              "\n",
              "[5 rows x 265 columns]"
            ]
          },
          "metadata": {
            "tags": []
          },
          "execution_count": 25
        }
      ]
    },
    {
      "cell_type": "code",
      "metadata": {
        "id": "XomIEFPNeNbk",
        "colab_type": "code",
        "colab": {}
      },
      "source": [
        "col_list_rest = list(torr_hot)\n",
        "col_list = list(tor_hot)\n",
        "col_list.remove('Neighborhood')\n",
        "\n",
        "tor_hot['Total Restaurants'] = tor_hot[col_list_rest].sum(axis=1) \n",
        "tor_hot['Total Venues'] = tor_hot[col_list].sum(axis=1)"
      ],
      "execution_count": 0,
      "outputs": []
    },
    {
      "cell_type": "code",
      "metadata": {
        "id": "NrbOMhD6yN2c",
        "colab_type": "code",
        "colab": {}
      },
      "source": [
        "tor_hot.loc[tor_hot['Total Venues']==2]"
      ],
      "execution_count": 0,
      "outputs": []
    },
    {
      "cell_type": "code",
      "metadata": {
        "id": "oX5jab_D8Cmo",
        "colab_type": "code",
        "colab": {
          "base_uri": "https://localhost:8080/",
          "height": 204
        },
        "outputId": "e8e76868-23a6-4991-d218-bec99351ac25"
      },
      "source": [
        "tor_hot.drop(tor_hot.columns.difference(['Neighborhood', 'Total Venues', 'Total Restaurants']),1 , inplace=True)\n",
        "tor_hot.head()"
      ],
      "execution_count": 27,
      "outputs": [
        {
          "output_type": "execute_result",
          "data": {
            "text/html": [
              "<div>\n",
              "<style scoped>\n",
              "    .dataframe tbody tr th:only-of-type {\n",
              "        vertical-align: middle;\n",
              "    }\n",
              "\n",
              "    .dataframe tbody tr th {\n",
              "        vertical-align: top;\n",
              "    }\n",
              "\n",
              "    .dataframe thead th {\n",
              "        text-align: right;\n",
              "    }\n",
              "</style>\n",
              "<table border=\"1\" class=\"dataframe\">\n",
              "  <thead>\n",
              "    <tr style=\"text-align: right;\">\n",
              "      <th></th>\n",
              "      <th>Neighborhood</th>\n",
              "      <th>Total Restaurants</th>\n",
              "      <th>Total Venues</th>\n",
              "    </tr>\n",
              "  </thead>\n",
              "  <tbody>\n",
              "    <tr>\n",
              "      <th>0</th>\n",
              "      <td>Parkwoods</td>\n",
              "      <td>1</td>\n",
              "      <td>1</td>\n",
              "    </tr>\n",
              "    <tr>\n",
              "      <th>1</th>\n",
              "      <td>Parkwoods</td>\n",
              "      <td>1</td>\n",
              "      <td>1</td>\n",
              "    </tr>\n",
              "    <tr>\n",
              "      <th>2</th>\n",
              "      <td>Victoria Village</td>\n",
              "      <td>1</td>\n",
              "      <td>1</td>\n",
              "    </tr>\n",
              "    <tr>\n",
              "      <th>3</th>\n",
              "      <td>Victoria Village</td>\n",
              "      <td>1</td>\n",
              "      <td>1</td>\n",
              "    </tr>\n",
              "    <tr>\n",
              "      <th>4</th>\n",
              "      <td>Victoria Village</td>\n",
              "      <td>0</td>\n",
              "      <td>1</td>\n",
              "    </tr>\n",
              "  </tbody>\n",
              "</table>\n",
              "</div>"
            ],
            "text/plain": [
              "       Neighborhood  Total Restaurants  Total Venues\n",
              "0         Parkwoods                  1             1\n",
              "1         Parkwoods                  1             1\n",
              "2  Victoria Village                  1             1\n",
              "3  Victoria Village                  1             1\n",
              "4  Victoria Village                  0             1"
            ]
          },
          "metadata": {
            "tags": []
          },
          "execution_count": 27
        }
      ]
    },
    {
      "cell_type": "code",
      "metadata": {
        "id": "P2PX8YJI8SDe",
        "colab_type": "code",
        "colab": {
          "base_uri": "https://localhost:8080/",
          "height": 204
        },
        "outputId": "dd1c4a1a-7c43-4407-c42c-f2d86861e504"
      },
      "source": [
        "Toronto_table= tor_hot.groupby('Neighborhood').sum().reset_index()\n",
        "Toronto_table.head()"
      ],
      "execution_count": 28,
      "outputs": [
        {
          "output_type": "execute_result",
          "data": {
            "text/html": [
              "<div>\n",
              "<style scoped>\n",
              "    .dataframe tbody tr th:only-of-type {\n",
              "        vertical-align: middle;\n",
              "    }\n",
              "\n",
              "    .dataframe tbody tr th {\n",
              "        vertical-align: top;\n",
              "    }\n",
              "\n",
              "    .dataframe thead th {\n",
              "        text-align: right;\n",
              "    }\n",
              "</style>\n",
              "<table border=\"1\" class=\"dataframe\">\n",
              "  <thead>\n",
              "    <tr style=\"text-align: right;\">\n",
              "      <th></th>\n",
              "      <th>Neighborhood</th>\n",
              "      <th>Total Restaurants</th>\n",
              "      <th>Total Venues</th>\n",
              "    </tr>\n",
              "  </thead>\n",
              "  <tbody>\n",
              "    <tr>\n",
              "      <th>0</th>\n",
              "      <td>Agincourt</td>\n",
              "      <td>2</td>\n",
              "      <td>3</td>\n",
              "    </tr>\n",
              "    <tr>\n",
              "      <th>1</th>\n",
              "      <td>Alderwood, Long Branch</td>\n",
              "      <td>8</td>\n",
              "      <td>8</td>\n",
              "    </tr>\n",
              "    <tr>\n",
              "      <th>2</th>\n",
              "      <td>Bathurst Manor, Wilson Heights, Downsview North</td>\n",
              "      <td>18</td>\n",
              "      <td>20</td>\n",
              "    </tr>\n",
              "    <tr>\n",
              "      <th>3</th>\n",
              "      <td>Bayview Village</td>\n",
              "      <td>2</td>\n",
              "      <td>4</td>\n",
              "    </tr>\n",
              "    <tr>\n",
              "      <th>4</th>\n",
              "      <td>Bedford Park, Lawrence Manor East</td>\n",
              "      <td>14</td>\n",
              "      <td>23</td>\n",
              "    </tr>\n",
              "  </tbody>\n",
              "</table>\n",
              "</div>"
            ],
            "text/plain": [
              "                                      Neighborhood  ...  Total Venues\n",
              "0                                        Agincourt  ...             3\n",
              "1                           Alderwood, Long Branch  ...             8\n",
              "2  Bathurst Manor, Wilson Heights, Downsview North  ...            20\n",
              "3                                  Bayview Village  ...             4\n",
              "4                Bedford Park, Lawrence Manor East  ...            23\n",
              "\n",
              "[5 rows x 3 columns]"
            ]
          },
          "metadata": {
            "tags": []
          },
          "execution_count": 28
        }
      ]
    },
    {
      "cell_type": "code",
      "metadata": {
        "id": "zH__NwXtoxU9",
        "colab_type": "code",
        "colab": {
          "base_uri": "https://localhost:8080/",
          "height": 204
        },
        "outputId": "ea6a266a-1098-4ba7-ae7d-1d5b31179861"
      },
      "source": [
        "table_sorted_des = Toronto_table.sort_values('Total Venues', ascending=False)\n",
        "table_sorted_des.head()"
      ],
      "execution_count": 29,
      "outputs": [
        {
          "output_type": "execute_result",
          "data": {
            "text/html": [
              "<div>\n",
              "<style scoped>\n",
              "    .dataframe tbody tr th:only-of-type {\n",
              "        vertical-align: middle;\n",
              "    }\n",
              "\n",
              "    .dataframe tbody tr th {\n",
              "        vertical-align: top;\n",
              "    }\n",
              "\n",
              "    .dataframe thead th {\n",
              "        text-align: right;\n",
              "    }\n",
              "</style>\n",
              "<table border=\"1\" class=\"dataframe\">\n",
              "  <thead>\n",
              "    <tr style=\"text-align: right;\">\n",
              "      <th></th>\n",
              "      <th>Neighborhood</th>\n",
              "      <th>Total Restaurants</th>\n",
              "      <th>Total Venues</th>\n",
              "    </tr>\n",
              "  </thead>\n",
              "  <tbody>\n",
              "    <tr>\n",
              "      <th>83</th>\n",
              "      <td>Toronto Dominion Centre, Design Exchange</td>\n",
              "      <td>56</td>\n",
              "      <td>70</td>\n",
              "    </tr>\n",
              "    <tr>\n",
              "      <th>18</th>\n",
              "      <td>Commerce Court, Victoria Hotel</td>\n",
              "      <td>56</td>\n",
              "      <td>70</td>\n",
              "    </tr>\n",
              "    <tr>\n",
              "      <th>75</th>\n",
              "      <td>Stn A PO Boxes</td>\n",
              "      <td>58</td>\n",
              "      <td>70</td>\n",
              "    </tr>\n",
              "    <tr>\n",
              "      <th>29</th>\n",
              "      <td>First Canadian Place, Underground city</td>\n",
              "      <td>53</td>\n",
              "      <td>70</td>\n",
              "    </tr>\n",
              "    <tr>\n",
              "      <th>72</th>\n",
              "      <td>St. James Town</td>\n",
              "      <td>53</td>\n",
              "      <td>70</td>\n",
              "    </tr>\n",
              "  </tbody>\n",
              "</table>\n",
              "</div>"
            ],
            "text/plain": [
              "                                Neighborhood  Total Restaurants  Total Venues\n",
              "83  Toronto Dominion Centre, Design Exchange                 56            70\n",
              "18            Commerce Court, Victoria Hotel                 56            70\n",
              "75                            Stn A PO Boxes                 58            70\n",
              "29    First Canadian Place, Underground city                 53            70\n",
              "72                            St. James Town                 53            70"
            ]
          },
          "metadata": {
            "tags": []
          },
          "execution_count": 29
        }
      ]
    },
    {
      "cell_type": "code",
      "metadata": {
        "id": "I8MjuJIEC3Rw",
        "colab_type": "code",
        "colab": {
          "base_uri": "https://localhost:8080/",
          "height": 266
        },
        "outputId": "104aec8b-3771-455d-db38-e6bce3e57c7c"
      },
      "source": [
        "most_ven= Toronto_table.loc[Toronto_table['Total Venues']==70]\n",
        "most_ven"
      ],
      "execution_count": 30,
      "outputs": [
        {
          "output_type": "execute_result",
          "data": {
            "text/html": [
              "<div>\n",
              "<style scoped>\n",
              "    .dataframe tbody tr th:only-of-type {\n",
              "        vertical-align: middle;\n",
              "    }\n",
              "\n",
              "    .dataframe tbody tr th {\n",
              "        vertical-align: top;\n",
              "    }\n",
              "\n",
              "    .dataframe thead th {\n",
              "        text-align: right;\n",
              "    }\n",
              "</style>\n",
              "<table border=\"1\" class=\"dataframe\">\n",
              "  <thead>\n",
              "    <tr style=\"text-align: right;\">\n",
              "      <th></th>\n",
              "      <th>Neighborhood</th>\n",
              "      <th>Total Restaurants</th>\n",
              "      <th>Total Venues</th>\n",
              "    </tr>\n",
              "  </thead>\n",
              "  <tbody>\n",
              "    <tr>\n",
              "      <th>15</th>\n",
              "      <td>Church and Wellesley</td>\n",
              "      <td>50</td>\n",
              "      <td>70</td>\n",
              "    </tr>\n",
              "    <tr>\n",
              "      <th>18</th>\n",
              "      <td>Commerce Court, Victoria Hotel</td>\n",
              "      <td>56</td>\n",
              "      <td>70</td>\n",
              "    </tr>\n",
              "    <tr>\n",
              "      <th>29</th>\n",
              "      <td>First Canadian Place, Underground city</td>\n",
              "      <td>53</td>\n",
              "      <td>70</td>\n",
              "    </tr>\n",
              "    <tr>\n",
              "      <th>31</th>\n",
              "      <td>Garden District, Ryerson</td>\n",
              "      <td>52</td>\n",
              "      <td>70</td>\n",
              "    </tr>\n",
              "    <tr>\n",
              "      <th>72</th>\n",
              "      <td>St. James Town</td>\n",
              "      <td>53</td>\n",
              "      <td>70</td>\n",
              "    </tr>\n",
              "    <tr>\n",
              "      <th>75</th>\n",
              "      <td>Stn A PO Boxes</td>\n",
              "      <td>58</td>\n",
              "      <td>70</td>\n",
              "    </tr>\n",
              "    <tr>\n",
              "      <th>83</th>\n",
              "      <td>Toronto Dominion Centre, Design Exchange</td>\n",
              "      <td>56</td>\n",
              "      <td>70</td>\n",
              "    </tr>\n",
              "  </tbody>\n",
              "</table>\n",
              "</div>"
            ],
            "text/plain": [
              "                                Neighborhood  Total Restaurants  Total Venues\n",
              "15                      Church and Wellesley                 50            70\n",
              "18            Commerce Court, Victoria Hotel                 56            70\n",
              "29    First Canadian Place, Underground city                 53            70\n",
              "31                  Garden District, Ryerson                 52            70\n",
              "72                            St. James Town                 53            70\n",
              "75                            Stn A PO Boxes                 58            70\n",
              "83  Toronto Dominion Centre, Design Exchange                 56            70"
            ]
          },
          "metadata": {
            "tags": []
          },
          "execution_count": 30
        }
      ]
    },
    {
      "cell_type": "code",
      "metadata": {
        "id": "bebxVvY-p13F",
        "colab_type": "code",
        "colab": {
          "base_uri": "https://localhost:8080/",
          "height": 204
        },
        "outputId": "9963982b-b3d9-4e1d-80d2-23ccd3e38271"
      },
      "source": [
        "table_sorted_des = Toronto_table.sort_values('Total Restaurants', ascending=False)\n",
        "table_sorted_des.head()"
      ],
      "execution_count": 31,
      "outputs": [
        {
          "output_type": "execute_result",
          "data": {
            "text/html": [
              "<div>\n",
              "<style scoped>\n",
              "    .dataframe tbody tr th:only-of-type {\n",
              "        vertical-align: middle;\n",
              "    }\n",
              "\n",
              "    .dataframe tbody tr th {\n",
              "        vertical-align: top;\n",
              "    }\n",
              "\n",
              "    .dataframe thead th {\n",
              "        text-align: right;\n",
              "    }\n",
              "</style>\n",
              "<table border=\"1\" class=\"dataframe\">\n",
              "  <thead>\n",
              "    <tr style=\"text-align: right;\">\n",
              "      <th></th>\n",
              "      <th>Neighborhood</th>\n",
              "      <th>Total Restaurants</th>\n",
              "      <th>Total Venues</th>\n",
              "    </tr>\n",
              "  </thead>\n",
              "  <tbody>\n",
              "    <tr>\n",
              "      <th>35</th>\n",
              "      <td>Harbourfront East, Union Station, Toronto Islands</td>\n",
              "      <td>61</td>\n",
              "      <td>69</td>\n",
              "    </tr>\n",
              "    <tr>\n",
              "      <th>75</th>\n",
              "      <td>Stn A PO Boxes</td>\n",
              "      <td>58</td>\n",
              "      <td>70</td>\n",
              "    </tr>\n",
              "    <tr>\n",
              "      <th>28</th>\n",
              "      <td>Fairview, Henry Farm, Oriole</td>\n",
              "      <td>57</td>\n",
              "      <td>67</td>\n",
              "    </tr>\n",
              "    <tr>\n",
              "      <th>18</th>\n",
              "      <td>Commerce Court, Victoria Hotel</td>\n",
              "      <td>56</td>\n",
              "      <td>70</td>\n",
              "    </tr>\n",
              "    <tr>\n",
              "      <th>83</th>\n",
              "      <td>Toronto Dominion Centre, Design Exchange</td>\n",
              "      <td>56</td>\n",
              "      <td>70</td>\n",
              "    </tr>\n",
              "  </tbody>\n",
              "</table>\n",
              "</div>"
            ],
            "text/plain": [
              "                                         Neighborhood  ...  Total Venues\n",
              "35  Harbourfront East, Union Station, Toronto Islands  ...            69\n",
              "75                                     Stn A PO Boxes  ...            70\n",
              "28                       Fairview, Henry Farm, Oriole  ...            67\n",
              "18                     Commerce Court, Victoria Hotel  ...            70\n",
              "83           Toronto Dominion Centre, Design Exchange  ...            70\n",
              "\n",
              "[5 rows x 3 columns]"
            ]
          },
          "metadata": {
            "tags": []
          },
          "execution_count": 31
        }
      ]
    },
    {
      "cell_type": "code",
      "metadata": {
        "id": "kWdLlFhNUNG_",
        "colab_type": "code",
        "colab": {
          "base_uri": "https://localhost:8080/",
          "height": 204
        },
        "outputId": "64d768ba-e585-4e06-b3bd-81cadc00d4ff"
      },
      "source": [
        "table_sorted_ven = Toronto_table.sort_values('Total Venues', ascending=False)\n",
        "table_sorted_ven.head()"
      ],
      "execution_count": 32,
      "outputs": [
        {
          "output_type": "execute_result",
          "data": {
            "text/html": [
              "<div>\n",
              "<style scoped>\n",
              "    .dataframe tbody tr th:only-of-type {\n",
              "        vertical-align: middle;\n",
              "    }\n",
              "\n",
              "    .dataframe tbody tr th {\n",
              "        vertical-align: top;\n",
              "    }\n",
              "\n",
              "    .dataframe thead th {\n",
              "        text-align: right;\n",
              "    }\n",
              "</style>\n",
              "<table border=\"1\" class=\"dataframe\">\n",
              "  <thead>\n",
              "    <tr style=\"text-align: right;\">\n",
              "      <th></th>\n",
              "      <th>Neighborhood</th>\n",
              "      <th>Total Restaurants</th>\n",
              "      <th>Total Venues</th>\n",
              "    </tr>\n",
              "  </thead>\n",
              "  <tbody>\n",
              "    <tr>\n",
              "      <th>83</th>\n",
              "      <td>Toronto Dominion Centre, Design Exchange</td>\n",
              "      <td>56</td>\n",
              "      <td>70</td>\n",
              "    </tr>\n",
              "    <tr>\n",
              "      <th>18</th>\n",
              "      <td>Commerce Court, Victoria Hotel</td>\n",
              "      <td>56</td>\n",
              "      <td>70</td>\n",
              "    </tr>\n",
              "    <tr>\n",
              "      <th>75</th>\n",
              "      <td>Stn A PO Boxes</td>\n",
              "      <td>58</td>\n",
              "      <td>70</td>\n",
              "    </tr>\n",
              "    <tr>\n",
              "      <th>29</th>\n",
              "      <td>First Canadian Place, Underground city</td>\n",
              "      <td>53</td>\n",
              "      <td>70</td>\n",
              "    </tr>\n",
              "    <tr>\n",
              "      <th>72</th>\n",
              "      <td>St. James Town</td>\n",
              "      <td>53</td>\n",
              "      <td>70</td>\n",
              "    </tr>\n",
              "  </tbody>\n",
              "</table>\n",
              "</div>"
            ],
            "text/plain": [
              "                                Neighborhood  Total Restaurants  Total Venues\n",
              "83  Toronto Dominion Centre, Design Exchange                 56            70\n",
              "18            Commerce Court, Victoria Hotel                 56            70\n",
              "75                            Stn A PO Boxes                 58            70\n",
              "29    First Canadian Place, Underground city                 53            70\n",
              "72                            St. James Town                 53            70"
            ]
          },
          "metadata": {
            "tags": []
          },
          "execution_count": 32
        }
      ]
    },
    {
      "cell_type": "code",
      "metadata": {
        "id": "dMu0ar2hsaHJ",
        "colab_type": "code",
        "colab": {
          "base_uri": "https://localhost:8080/",
          "height": 235
        },
        "outputId": "0ef0f726-270e-4529-b01e-ea91651dd25d"
      },
      "source": [
        "most_res = Toronto_table.loc[Toronto_table['Total Restaurants']>=53]\n",
        "most_res= most_res.set_index(['Neighborhood'])\n",
        "most_res.head()"
      ],
      "execution_count": 33,
      "outputs": [
        {
          "output_type": "execute_result",
          "data": {
            "text/html": [
              "<div>\n",
              "<style scoped>\n",
              "    .dataframe tbody tr th:only-of-type {\n",
              "        vertical-align: middle;\n",
              "    }\n",
              "\n",
              "    .dataframe tbody tr th {\n",
              "        vertical-align: top;\n",
              "    }\n",
              "\n",
              "    .dataframe thead th {\n",
              "        text-align: right;\n",
              "    }\n",
              "</style>\n",
              "<table border=\"1\" class=\"dataframe\">\n",
              "  <thead>\n",
              "    <tr style=\"text-align: right;\">\n",
              "      <th></th>\n",
              "      <th>Total Restaurants</th>\n",
              "      <th>Total Venues</th>\n",
              "    </tr>\n",
              "    <tr>\n",
              "      <th>Neighborhood</th>\n",
              "      <th></th>\n",
              "      <th></th>\n",
              "    </tr>\n",
              "  </thead>\n",
              "  <tbody>\n",
              "    <tr>\n",
              "      <th>Commerce Court, Victoria Hotel</th>\n",
              "      <td>56</td>\n",
              "      <td>70</td>\n",
              "    </tr>\n",
              "    <tr>\n",
              "      <th>Fairview, Henry Farm, Oriole</th>\n",
              "      <td>57</td>\n",
              "      <td>67</td>\n",
              "    </tr>\n",
              "    <tr>\n",
              "      <th>First Canadian Place, Underground city</th>\n",
              "      <td>53</td>\n",
              "      <td>70</td>\n",
              "    </tr>\n",
              "    <tr>\n",
              "      <th>Harbourfront East, Union Station, Toronto Islands</th>\n",
              "      <td>61</td>\n",
              "      <td>69</td>\n",
              "    </tr>\n",
              "    <tr>\n",
              "      <th>St. James Town</th>\n",
              "      <td>53</td>\n",
              "      <td>70</td>\n",
              "    </tr>\n",
              "  </tbody>\n",
              "</table>\n",
              "</div>"
            ],
            "text/plain": [
              "                                                   Total Restaurants  Total Venues\n",
              "Neighborhood                                                                      \n",
              "Commerce Court, Victoria Hotel                                    56            70\n",
              "Fairview, Henry Farm, Oriole                                      57            67\n",
              "First Canadian Place, Underground city                            53            70\n",
              "Harbourfront East, Union Station, Toronto Islands                 61            69\n",
              "St. James Town                                                    53            70"
            ]
          },
          "metadata": {
            "tags": []
          },
          "execution_count": 33
        }
      ]
    },
    {
      "cell_type": "code",
      "metadata": {
        "id": "sO9LzdWts0aB",
        "colab_type": "code",
        "colab": {
          "base_uri": "https://localhost:8080/",
          "height": 354
        },
        "outputId": "5f548a09-79c2-4811-eaf5-15f7ab7e87f8"
      },
      "source": [
        "import matplotlib.pyplot as plot\n",
        "most_res.plot.barh(rot=40, title=\"number of restaurants vs venues\")\n",
        "plot.show(block=True)"
      ],
      "execution_count": 34,
      "outputs": [
        {
          "output_type": "display_data",
          "data": {
            "image/png": "[encoded data removed]",
            "text/plain": [
              "<Figure size 432x288 with 1 Axes>"
            ]
          },
          "metadata": {
            "tags": [],
            "needs_background": "light"
          }
        }
      ]
    },
    {
      "cell_type": "code",
      "metadata": {
        "id": "0wAmpYsIcLm0",
        "colab_type": "code",
        "colab": {}
      },
      "source": [
        "most_res =most_res.reset_index()"
      ],
      "execution_count": 0,
      "outputs": []
    },
    {
      "cell_type": "code",
      "metadata": {
        "id": "fp5V_Si1wYyk",
        "colab_type": "code",
        "colab": {
          "base_uri": "https://localhost:8080/",
          "height": 204
        },
        "outputId": "df4be954-3fa6-4575-99fa-52e1360f0a86"
      },
      "source": [
        "lat_res = toronto_venues.set_index('Neighborhood')['Neighborhood Latitude'].to_dict()\n",
        "lng_res= toronto_venues.set_index('Neighborhood')['Neighborhood Longitude'].to_dict()\n",
        "most_res['Latitude'] = most_res['Neighborhood'].map(lat_res)\n",
        "most_res['Longitude'] = most_res['Neighborhood'].map(lng_res)\n",
        "\n",
        "most_res.head()"
      ],
      "execution_count": 36,
      "outputs": [
        {
          "output_type": "execute_result",
          "data": {
            "text/html": [
              "<div>\n",
              "<style scoped>\n",
              "    .dataframe tbody tr th:only-of-type {\n",
              "        vertical-align: middle;\n",
              "    }\n",
              "\n",
              "    .dataframe tbody tr th {\n",
              "        vertical-align: top;\n",
              "    }\n",
              "\n",
              "    .dataframe thead th {\n",
              "        text-align: right;\n",
              "    }\n",
              "</style>\n",
              "<table border=\"1\" class=\"dataframe\">\n",
              "  <thead>\n",
              "    <tr style=\"text-align: right;\">\n",
              "      <th></th>\n",
              "      <th>Neighborhood</th>\n",
              "      <th>Total Restaurants</th>\n",
              "      <th>Total Venues</th>\n",
              "      <th>Latitude</th>\n",
              "      <th>Longitude</th>\n",
              "    </tr>\n",
              "  </thead>\n",
              "  <tbody>\n",
              "    <tr>\n",
              "      <th>0</th>\n",
              "      <td>Commerce Court, Victoria Hotel</td>\n",
              "      <td>56</td>\n",
              "      <td>70</td>\n",
              "      <td>43.648198</td>\n",
              "      <td>-79.379817</td>\n",
              "    </tr>\n",
              "    <tr>\n",
              "      <th>1</th>\n",
              "      <td>Fairview, Henry Farm, Oriole</td>\n",
              "      <td>57</td>\n",
              "      <td>67</td>\n",
              "      <td>43.778517</td>\n",
              "      <td>-79.346556</td>\n",
              "    </tr>\n",
              "    <tr>\n",
              "      <th>2</th>\n",
              "      <td>First Canadian Place, Underground city</td>\n",
              "      <td>53</td>\n",
              "      <td>70</td>\n",
              "      <td>43.648429</td>\n",
              "      <td>-79.382280</td>\n",
              "    </tr>\n",
              "    <tr>\n",
              "      <th>3</th>\n",
              "      <td>Harbourfront East, Union Station, Toronto Islands</td>\n",
              "      <td>61</td>\n",
              "      <td>69</td>\n",
              "      <td>43.640816</td>\n",
              "      <td>-79.381752</td>\n",
              "    </tr>\n",
              "    <tr>\n",
              "      <th>4</th>\n",
              "      <td>St. James Town</td>\n",
              "      <td>53</td>\n",
              "      <td>70</td>\n",
              "      <td>43.651494</td>\n",
              "      <td>-79.375418</td>\n",
              "    </tr>\n",
              "  </tbody>\n",
              "</table>\n",
              "</div>"
            ],
            "text/plain": [
              "                                        Neighborhood  ...  Longitude\n",
              "0                     Commerce Court, Victoria Hotel  ... -79.379817\n",
              "1                       Fairview, Henry Farm, Oriole  ... -79.346556\n",
              "2             First Canadian Place, Underground city  ... -79.382280\n",
              "3  Harbourfront East, Union Station, Toronto Islands  ... -79.381752\n",
              "4                                     St. James Town  ... -79.375418\n",
              "\n",
              "[5 rows x 5 columns]"
            ]
          },
          "metadata": {
            "tags": []
          },
          "execution_count": 36
        }
      ]
    },
    {
      "cell_type": "code",
      "metadata": {
        "id": "_YHQfZ3wcsoa",
        "colab_type": "code",
        "colab": {
          "base_uri": "https://localhost:8080/",
          "height": 763
        },
        "outputId": "ccaa8c46-9ebe-46ad-e8bb-4226ac0566f6"
      },
      "source": [
        "res_map = folium.Map(location=[43.6534817,-79.3839347], zoom_start=11)\n",
        "for lat, lng, name in zip(most_res['Latitude'], most_res['Longitude'], most_res['Neighborhood']):\n",
        "  label = folium.Popup(name, parse_html=True)\n",
        "  folium.CircleMarker([lat,lng],\n",
        "                popup= label,\n",
        "                radius=10,\n",
        "                color='green').add_to(res_map)\n",
        "                \n",
        "res_map                "
      ],
      "execution_count": 37,
      "outputs": [
        {
          "output_type": "execute_result",
          "data": {
            "text/html": [
              "<div style=\"width:100%;\"><div style=\"position:relative;width:100%;height:0;padding-bottom:60%;\"><span style=\"color:#565656\">Make this Notebook Trusted to load map: File -> Trust Notebook</span><iframe src=\"about:blank\" style=\"position:absolute;width:100%;height:100%;left:0;top:0;border:none !important;\" data-html=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 onload=\"this.contentDocument.open();this.contentDocument.write(atob(this.getAttribute('data-html')));this.contentDocument.close();\" allowfullscreen webkitallowfullscreen mozallowfullscreen></iframe></div></div>"
            ],
            "text/plain": [
              "<folium.folium.Map at 0x7f9c492cc278>"
            ]
          },
          "metadata": {
            "tags": []
          },
          "execution_count": 37
        }
      ]
    },
    {
      "cell_type": "code",
      "metadata": {
        "id": "j5lHBEf8j4Eu",
        "colab_type": "code",
        "colab": {
          "base_uri": "https://localhost:8080/",
          "height": 102
        },
        "outputId": "0f4d7a8b-56f1-4c2c-a541-6df7174fe75b"
      },
      "source": [
        "from sklearn.cluster import KMeans \n",
        "no_of_clusters = 3\n",
        "res_val = Toronto_table[['Total Restaurants', 'Total Venues']].values\n",
        "Toronto_clusters = KMeans(n_clusters= no_of_clusters, random_state=0).fit(res_val)\n",
        "Toronto_clusters.labels_"
      ],
      "execution_count": 39,
      "outputs": [
        {
          "output_type": "execute_result",
          "data": {
            "text/plain": [
              "array([2, 2, 0, 2, 0, 1, 2, 0, 0, 0, 2, 2, 2, 1, 0, 1, 2, 2, 1, 0, 2, 2,\n",
              "       0, 2, 0, 0, 2, 2, 1, 1, 2, 1, 2, 2, 2, 1, 0, 2, 2, 2, 2, 0, 2, 1,\n",
              "       2, 2, 2, 0, 0, 2, 2, 2, 2, 2, 2, 0, 2, 2, 2, 2, 2, 2, 0, 1, 1, 2,\n",
              "       2, 2, 0, 2, 2, 2, 1, 0, 2, 1, 0, 0, 0, 2, 0, 2, 0, 1, 0, 2, 2, 2,\n",
              "       2, 0, 2, 2, 2], dtype=int32)"
            ]
          },
          "metadata": {
            "tags": []
          },
          "execution_count": 39
        }
      ]
    },
    {
      "cell_type": "code",
      "metadata": {
        "id": "tF898Gow6yYp",
        "colab_type": "code",
        "colab": {}
      },
      "source": [
        "Toronto_backup = Toronto_table"
      ],
      "execution_count": 0,
      "outputs": []
    },
    {
      "cell_type": "code",
      "metadata": {
        "id": "UT9AcQVf4m-P",
        "colab_type": "code",
        "colab": {
          "base_uri": "https://localhost:8080/",
          "height": 204
        },
        "outputId": "60e56143-c099-4f6e-e456-f4d0c66b454d"
      },
      "source": [
        "Toronto_table.insert(0, 'Cluster Labels', Toronto_clusters.labels_)\n",
        "Toronto_table.head()"
      ],
      "execution_count": 45,
      "outputs": [
        {
          "output_type": "execute_result",
          "data": {
            "text/html": [
              "<div>\n",
              "<style scoped>\n",
              "    .dataframe tbody tr th:only-of-type {\n",
              "        vertical-align: middle;\n",
              "    }\n",
              "\n",
              "    .dataframe tbody tr th {\n",
              "        vertical-align: top;\n",
              "    }\n",
              "\n",
              "    .dataframe thead th {\n",
              "        text-align: right;\n",
              "    }\n",
              "</style>\n",
              "<table border=\"1\" class=\"dataframe\">\n",
              "  <thead>\n",
              "    <tr style=\"text-align: right;\">\n",
              "      <th></th>\n",
              "      <th>Cluster Labels</th>\n",
              "      <th>Neighborhood</th>\n",
              "      <th>Total Restaurants</th>\n",
              "      <th>Total Venues</th>\n",
              "    </tr>\n",
              "  </thead>\n",
              "  <tbody>\n",
              "    <tr>\n",
              "      <th>0</th>\n",
              "      <td>2</td>\n",
              "      <td>Agincourt</td>\n",
              "      <td>2</td>\n",
              "      <td>3</td>\n",
              "    </tr>\n",
              "    <tr>\n",
              "      <th>1</th>\n",
              "      <td>2</td>\n",
              "      <td>Alderwood, Long Branch</td>\n",
              "      <td>8</td>\n",
              "      <td>8</td>\n",
              "    </tr>\n",
              "    <tr>\n",
              "      <th>2</th>\n",
              "      <td>0</td>\n",
              "      <td>Bathurst Manor, Wilson Heights, Downsview North</td>\n",
              "      <td>18</td>\n",
              "      <td>20</td>\n",
              "    </tr>\n",
              "    <tr>\n",
              "      <th>3</th>\n",
              "      <td>2</td>\n",
              "      <td>Bayview Village</td>\n",
              "      <td>2</td>\n",
              "      <td>4</td>\n",
              "    </tr>\n",
              "    <tr>\n",
              "      <th>4</th>\n",
              "      <td>0</td>\n",
              "      <td>Bedford Park, Lawrence Manor East</td>\n",
              "      <td>14</td>\n",
              "      <td>23</td>\n",
              "    </tr>\n",
              "  </tbody>\n",
              "</table>\n",
              "</div>"
            ],
            "text/plain": [
              "   Cluster Labels  ... Total Venues\n",
              "0               2  ...            3\n",
              "1               2  ...            8\n",
              "2               0  ...           20\n",
              "3               2  ...            4\n",
              "4               0  ...           23\n",
              "\n",
              "[5 rows x 4 columns]"
            ]
          },
          "metadata": {
            "tags": []
          },
          "execution_count": 45
        }
      ]
    },
    {
      "cell_type": "code",
      "metadata": {
        "id": "fGn3ktWyLQNI",
        "colab_type": "code",
        "colab": {
          "base_uri": "https://localhost:8080/",
          "height": 204
        },
        "outputId": "3c5a05c9-f202-4d72-e571-56685c52dd4e"
      },
      "source": [
        "lat_res = toronto_venues.set_index('Neighborhood')['Neighborhood Latitude'].to_dict()\n",
        "lng_res= toronto_venues.set_index('Neighborhood')['Neighborhood Longitude'].to_dict()\n",
        "Toronto_table['Latitude'] = Toronto_table['Neighborhood'].map(lat_res)\n",
        "Toronto_table['Longitude'] = Toronto_table['Neighborhood'].map(lng_res)\n",
        "\n",
        "Toronto_table.head()"
      ],
      "execution_count": 47,
      "outputs": [
        {
          "output_type": "execute_result",
          "data": {
            "text/html": [
              "<div>\n",
              "<style scoped>\n",
              "    .dataframe tbody tr th:only-of-type {\n",
              "        vertical-align: middle;\n",
              "    }\n",
              "\n",
              "    .dataframe tbody tr th {\n",
              "        vertical-align: top;\n",
              "    }\n",
              "\n",
              "    .dataframe thead th {\n",
              "        text-align: right;\n",
              "    }\n",
              "</style>\n",
              "<table border=\"1\" class=\"dataframe\">\n",
              "  <thead>\n",
              "    <tr style=\"text-align: right;\">\n",
              "      <th></th>\n",
              "      <th>Cluster Labels</th>\n",
              "      <th>Neighborhood</th>\n",
              "      <th>Total Restaurants</th>\n",
              "      <th>Total Venues</th>\n",
              "      <th>Latitude</th>\n",
              "      <th>Longitude</th>\n",
              "    </tr>\n",
              "  </thead>\n",
              "  <tbody>\n",
              "    <tr>\n",
              "      <th>0</th>\n",
              "      <td>2</td>\n",
              "      <td>Agincourt</td>\n",
              "      <td>2</td>\n",
              "      <td>3</td>\n",
              "      <td>43.794200</td>\n",
              "      <td>-79.262029</td>\n",
              "    </tr>\n",
              "    <tr>\n",
              "      <th>1</th>\n",
              "      <td>2</td>\n",
              "      <td>Alderwood, Long Branch</td>\n",
              "      <td>8</td>\n",
              "      <td>8</td>\n",
              "      <td>43.602414</td>\n",
              "      <td>-79.543484</td>\n",
              "    </tr>\n",
              "    <tr>\n",
              "      <th>2</th>\n",
              "      <td>0</td>\n",
              "      <td>Bathurst Manor, Wilson Heights, Downsview North</td>\n",
              "      <td>18</td>\n",
              "      <td>20</td>\n",
              "      <td>43.754328</td>\n",
              "      <td>-79.442259</td>\n",
              "    </tr>\n",
              "    <tr>\n",
              "      <th>3</th>\n",
              "      <td>2</td>\n",
              "      <td>Bayview Village</td>\n",
              "      <td>2</td>\n",
              "      <td>4</td>\n",
              "      <td>43.786947</td>\n",
              "      <td>-79.385975</td>\n",
              "    </tr>\n",
              "    <tr>\n",
              "      <th>4</th>\n",
              "      <td>0</td>\n",
              "      <td>Bedford Park, Lawrence Manor East</td>\n",
              "      <td>14</td>\n",
              "      <td>23</td>\n",
              "      <td>43.733283</td>\n",
              "      <td>-79.419750</td>\n",
              "    </tr>\n",
              "  </tbody>\n",
              "</table>\n",
              "</div>"
            ],
            "text/plain": [
              "   Cluster Labels  ...  Longitude\n",
              "0               2  ... -79.262029\n",
              "1               2  ... -79.543484\n",
              "2               0  ... -79.442259\n",
              "3               2  ... -79.385975\n",
              "4               0  ... -79.419750\n",
              "\n",
              "[5 rows x 6 columns]"
            ]
          },
          "metadata": {
            "tags": []
          },
          "execution_count": 47
        }
      ]
    },
    {
      "cell_type": "code",
      "metadata": {
        "id": "wPNezl1G6qWI",
        "colab_type": "code",
        "colab": {
          "base_uri": "https://localhost:8080/",
          "height": 763
        },
        "outputId": "912319cc-9919-4968-a726-0583231ee6ef"
      },
      "source": [
        "import matplotlib.cm as cm\n",
        "import matplotlib.colors as colors\n",
        "cluster_map = folium.Map(location=[43.6534817,-79.3839347], zoom_start=11)\n",
        "\n",
        "#setting the color schemes for clusters\n",
        "x= np.arange(no_of_clusters)\n",
        "ys = [i + x + (i*x)**2 for i in range(no_of_clusters)]\n",
        "colors_array = cm.rainbow(np.linspace(0, 1, len(ys)))\n",
        "rainbow = [colors.rgb2hex(i) for i in colors_array]\n",
        "\n",
        "for lat, lon, poi, cluster in zip(Toronto_table['Latitude'], Toronto_table['Longitude'], Toronto_table['Neighborhood'], Toronto_table['Cluster Labels']):\n",
        "    label = folium.Popup(str(poi) + ' Cluster ' + str(cluster), parse_html=True)\n",
        "    folium.CircleMarker(\n",
        "        [lat, lon],\n",
        "        radius=5,\n",
        "        popup=label,\n",
        "        color=rainbow[cluster-1],\n",
        "        fill=True,\n",
        "        fill_color=rainbow[cluster-1],\n",
        "        fill_opacity=0.7).add_to(cluster_map)\n",
        "       \n",
        "cluster_map\n",
        "\n",
        "\n"
      ],
      "execution_count": 49,
      "outputs": [
        {
          "output_type": "execute_result",
          "data": {
            "text/html": [
              "<div style=\"width:100%;\"><div style=\"position:relative;width:100%;height:0;padding-bottom:60%;\"><span style=\"color:#565656\">Make this Notebook Trusted to load map: File -> Trust Notebook</span><iframe src=\"about:blank\" style=\"position:absolute;width:100%;height:100%;left:0;top:0;border:none !important;\" data-html=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 onload=\"this.contentDocument.open();this.contentDocument.write(atob(this.getAttribute('data-html')));this.contentDocument.close();\" allowfullscreen webkitallowfullscreen mozallowfullscreen></iframe></div></div>"
            ],
            "text/plain": [
              "<folium.folium.Map at 0x7f9c398c0cf8>"
            ]
          },
          "metadata": {
            "tags": []
          },
          "execution_count": 49
        }
      ]
    },
    {
      "cell_type": "code",
      "metadata": {
        "id": "p-Dv9HQrIs-g",
        "colab_type": "code",
        "colab": {
          "base_uri": "https://localhost:8080/",
          "height": 153
        },
        "outputId": "2d8c11ca-89be-4dd2-cdba-aca061fc7e1c"
      },
      "source": [
        "most_res['Neighborhood']"
      ],
      "execution_count": 50,
      "outputs": [
        {
          "output_type": "execute_result",
          "data": {
            "text/plain": [
              "0                       Commerce Court, Victoria Hotel\n",
              "1                         Fairview, Henry Farm, Oriole\n",
              "2               First Canadian Place, Underground city\n",
              "3    Harbourfront East, Union Station, Toronto Islands\n",
              "4                                       St. James Town\n",
              "5                                       Stn A PO Boxes\n",
              "6             Toronto Dominion Centre, Design Exchange\n",
              "Name: Neighborhood, dtype: object"
            ]
          },
          "metadata": {
            "tags": []
          },
          "execution_count": 50
        }
      ]
    },
    {
      "cell_type": "code",
      "metadata": {
        "id": "9P4BAzdpYMHG",
        "colab_type": "code",
        "colab": {}
      },
      "source": [
        ""
      ],
      "execution_count": 0,
      "outputs": []
    }
  ]
}