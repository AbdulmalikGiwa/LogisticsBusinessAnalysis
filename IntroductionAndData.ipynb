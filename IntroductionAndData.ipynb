{
  "nbformat": 4,
  "nbformat_minor": 0,
  "metadata": {
    "colab": {
      "name": "IntroductionAndData.ipynb",
      "provenance": [],
      "collapsed_sections": [],
      "authorship_tag": "ABX9TyNjvBya8L8jYzEkdVhD34LB",
      "include_colab_link": true
    },
    "kernelspec": {
      "name": "python3",
      "display_name": "Python 3"
    }
  },
  "cells": [
    {
      "cell_type": "markdown",
      "metadata": {
        "id": "view-in-github",
        "colab_type": "text"
      },
      "source": [
        "<a href=\"https://colab.research.google.com/github/AbdulmalikGiwa/LogisticsBusinessAnalysis/blob/master/IntroductionAndData.ipynb\" target=\"_parent\"><img src=\"https://colab.research.google.com/assets/colab-badge.svg\" alt=\"Open In Colab\"/></a>"
      ]
    },
    {
      "cell_type": "markdown",
      "metadata": {
        "id": "L3GxpqJ1_Ozh",
        "colab_type": "text"
      },
      "source": [
        "# Background/Problem Description\n",
        "\n",
        "\n",
        "\n",
        "\n"
      ]
    },
    {
      "cell_type": "markdown",
      "metadata": {
        "id": "Uctsvzsy8vNN",
        "colab_type": "text"
      },
      "source": [
        "A logistics company with numerous branches located in different states of the U.S.A is looking to expand to Canada and plans on starting the expansion with a few neighborhoods in Toronto, the company's main business model/strategy is setting up small outlets in neighborhoods and providing delivery services for businesses at relatively low prices, for each of its outlet the deliveries are limited to consumers within that region and hence the very low prices are feasible. The company needs to get an insight and understand the individual prospect of each neighborhood within a region in order to know which of these neighborhoods would the best fit for their business as regards the types of outlets within each neighborhood and the potential demand for the type of services that are offered by the company. The questions to be answered are :\n",
        "\n",
        "\n",
        "1.   What are the neighborhoods that have businesses most likely to be in demand of our services?\n",
        "2.   Do we have any competition within these neighborhoods?\n",
        "3.   Are there any outlets within these neighborhoods that may cause inconveniencies for us or affect our ease of operation? \n",
        "4.   Which neighborhood is the best fit in each region for our business considering all the questions above?"
      ]
    },
    {
      "cell_type": "markdown",
      "metadata": {
        "id": "hv5mp5u6-33w",
        "colab_type": "text"
      },
      "source": [
        "# Data Section"
      ]
    },
    {
      "cell_type": "markdown",
      "metadata": {
        "id": "vuo9Q-1Q-_zT",
        "colab_type": "text"
      },
      "source": [
        "This is a breakdown of the data to be used in this analysis and how the data would be used. Foursquare API is a location data provider and can be used to get data on every venue/outlet within a given geolocation and the category to which the venue belongs to. The location in question for this analysis is Toronto which is the provincial capital of Ontario and the most populous city in canada. The following is a more detailed explanation:\n",
        "\n",
        "\n",
        "\n",
        "\n",
        "\n",
        "*   Neighborhoods in Toronto: A list of every neighborhood in Toronto will be obtained, either by scraping a wikipedia page or from the google dataset search.\n",
        "*   Neighborhood geographic coordinate: A list of the corresponding longitude and latitude values of each neighborhood\n",
        "*   Venues: The Foursquare API returns a list of venues within a specified radius of a given location( All neighborhoods in Toronto,Ontario in this case). A data column on every venue within 500m of each neighborhood is obtained\n",
        "*   Venues Category: The category for each venue returned is also returned from the Foursquare API.\n",
        "\n",
        "A clustering algorithm will be applied on the neighborhoods and they will be in clusters with respect the categories of the venues within each of the neighborhoods. Each of the clusters will be examined with proper visualization tools and attempts will be made to see which of these clusters best fits the business needs of the company, if a conclusion cannot still be derived from the visual analysis then I'll proceed to use other neighborhoods outside Toronto that the company has recorded huge success in from it's previous operations in th U.S.A as a basis to build the company's profile for a recommender system using certain personal justifiable discretion to create ratings.\n",
        "Within the process, each neighborhood will be properly explored to check for competitions around and to provide information of possible competitions around each neighborhood to the company. A further analysis may include using data from the toronto police to know the crime rate in every neighborhood.  \n",
        "\n"
      ]
    }
  ]
}