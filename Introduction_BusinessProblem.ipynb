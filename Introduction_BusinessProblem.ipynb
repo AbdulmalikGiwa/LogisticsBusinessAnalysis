{
  "nbformat": 4,
  "nbformat_minor": 0,
  "metadata": {
    "colab": {
      "name": "Introduction/BusinessProblem.ipynb",
      "provenance": [],
      "authorship_tag": "ABX9TyPvR5KK2+bnrTxWOn0v0iNN",
      "include_colab_link": true
    },
    "kernelspec": {
      "name": "python3",
      "display_name": "Python 3"
    }
  },
  "cells": [
    {
      "cell_type": "markdown",
      "metadata": {
        "id": "view-in-github",
        "colab_type": "text"
      },
      "source": [
        "<a href=\"https://colab.research.google.com/github/AbdulmalikGiwa/LogisticsBusinessAnalysis/blob/master/Introduction_BusinessProblem.ipynb\" target=\"_parent\"><img src=\"https://colab.research.google.com/assets/colab-badge.svg\" alt=\"Open In Colab\"/></a>"
      ]
    },
    {
      "cell_type": "markdown",
      "metadata": {
        "id": "L3GxpqJ1_Ozh",
        "colab_type": "text"
      },
      "source": [
        "# Background/Problem Description\n",
        "\n",
        "\n",
        "\n",
        "\n"
      ]
    },
    {
      "cell_type": "markdown",
      "metadata": {
        "id": "Uctsvzsy8vNN",
        "colab_type": "text"
      },
      "source": [
        "A logistics company with numerous branches located in different states of the U.S.A is looking to expand to Canada and plans on starting the expansion with a few neighborhoods in Toronto, the company's main business model/strategy is setting up small outlets in neighborhoods and providing delivery services for businesses at relatively low prices, for each of its outlet the deliveries are limited to consumers within that region and hence the very low prices are feasible. The company needs to get an insight and understand the individual prospect of each neighborhood within a region in order to know which of these neighborhoods would the best fit for their business as regards the types of outlets within each neighborhood and the potential demand for the type of services that are offered by the company. The questions to be answered are :\n",
        "\n",
        "\n",
        "1.   What are the neighborhoods that have businesses most likely to be in demand of our services?\n",
        "2.   Do we have any competition within these neighborhoods?\n",
        "3.   Are there any outlets within these neighborhoods that may cause inconveniencies for us or affect our ease of operation? \n",
        "4.   Which neighborhood is the best fit in each region for our business considering all the questions above?"
      ]
    }
  ]
}